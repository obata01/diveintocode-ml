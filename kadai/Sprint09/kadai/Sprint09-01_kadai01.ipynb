{
 "cells": [
  {
   "cell_type": "markdown",
   "metadata": {
    "colab_type": "text",
    "id": "htjVrSowRvE3"
   },
   "source": [
    "# Sprint 深層学習スクラッチ ニューラルネットワーク"
   ]
  },
  {
   "cell_type": "markdown",
   "metadata": {
    "colab_type": "text",
    "id": "BBVzu6mMRvE6"
   },
   "source": [
    "## 1.このSprintについて\n",
    "\n",
    "### Sprintの目的\n",
    "スクラッチを通してニューラルネットワークの基礎を理解する\n",
    "画像データの扱い方を知る\n",
    "\n",
    "### どのように学ぶか\n",
    "スクラッチで単純なニューラルネットワークを実装した後、学習と検証を行なっていきます。"
   ]
  },
  {
   "cell_type": "code",
   "execution_count": 102,
   "metadata": {
    "colab": {},
    "colab_type": "code",
    "executionInfo": {
     "elapsed": 444,
     "status": "ok",
     "timestamp": 1598844965818,
     "user": {
      "displayName": "yoshimasa obata",
      "photoUrl": "",
      "userId": "05376502897348058331"
     },
     "user_tz": -540
    },
    "id": "yLYUcHh1Ug6B"
   },
   "outputs": [],
   "source": [
    "# ライブラリインポート\n",
    "import numpy as np\n",
    "import matplotlib.pyplot as plt\n",
    "import pandas as pd\n",
    "import seaborn as sns\n",
    "from sklearn import metrics \n",
    "%matplotlib inline"
   ]
  },
  {
   "cell_type": "markdown",
   "metadata": {
    "colab_type": "text",
    "id": "6TfC6335RvE_"
   },
   "source": [
    "## 2.MNISTデータセット\n",
    "\n",
    "ニューラルネットワークスクラッチの検証にはMNISTデータセットを使用します。各種ライブラリやサイトからダウンロードできますが、ここでは深層学習フレームワークのKerasを用います。以下のコードを実行すればデータセットをダウンロードし、展開まで行えます。\n",
    "\n",
    "\n",
    "《データセットをダウンロードするコード》\n",
    "\n",
    "```\n",
    "from keras.datasets import mnist\n",
    "(X_train, y_train), (X_test, y_test) = mnist.load_data()\n",
    "```\n",
    "\n",
    "《MNISTとは？》\n",
    "\n",
    "\n",
    "画像分類のための定番データセットで、手書き数字認識を行います。このデータセットには訓練用6万枚、テスト用1万枚の28×28ピクセルの白黒画像、およびそれらが0〜9のどの数字であるかというラベルが含まれています。\n",
    "\n",
    "\n",
    "《画像データとは？》\n",
    "\n",
    "\n",
    "デジタル画像は点の集合で、これをピクセルと呼びます。一般的に白黒画像であればピクセルには0〜255の値が含まれます。一方、カラー画像であればR（赤）、G（緑）、B（青）それぞれに対応する0〜255の値が含まれます。機械学習をする上では、この0〜255の値一つひとつが特徴量として扱われます。0〜255は符号なしの8ビット整数で表せる範囲になるため、NumPyであれば「uint8」型の変数として保持できます。\n",
    "\n"
   ]
  },
  {
   "cell_type": "code",
   "execution_count": 291,
   "metadata": {
    "colab": {},
    "colab_type": "code",
    "executionInfo": {
     "elapsed": 632,
     "status": "ok",
     "timestamp": 1598852107362,
     "user": {
      "displayName": "yoshimasa obata",
      "photoUrl": "",
      "userId": "05376502897348058331"
     },
     "user_tz": -540
    },
    "id": "YBcIqUSeRvFD"
   },
   "outputs": [],
   "source": [
    "from keras.datasets import mnist\n",
    "(X_train, y_train), (X_test, y_test) = mnist.load_data()"
   ]
  },
  {
   "cell_type": "code",
   "execution_count": 290,
   "metadata": {
    "colab": {},
    "colab_type": "code",
    "executionInfo": {
     "elapsed": 434,
     "status": "ok",
     "timestamp": 1598852105046,
     "user": {
      "displayName": "yoshimasa obata",
      "photoUrl": "",
      "userId": "05376502897348058331"
     },
     "user_tz": -540
    },
    "id": "RsVKUDaG4rB5"
   },
   "outputs": [],
   "source": [
    "# テスト実行用\n",
    "# X_train = X_train[:2000, :].copy()\n",
    "# y_train = y_train[:2000].copy()"
   ]
  },
  {
   "cell_type": "markdown",
   "metadata": {
    "colab_type": "text",
    "id": "pxk48VOFRvFT"
   },
   "source": [
    "### データセットの確認\n",
    "どういったデータなのかを見てみます。\n",
    "\n",
    "\n",
    "《サンプルコード》\n",
    "\n",
    "```\n",
    "print(X_train.shape) # (60000, 28, 28)\n",
    "print(X_test.shape) # (10000, 28, 28)\n",
    "print(X_train[0].dtype) # uint8\n",
    "print(X_train[0])\n",
    "```\n",
    "\n",
    "各データは28×28ピクセルの白黒画像です。"
   ]
  },
  {
   "cell_type": "code",
   "execution_count": 292,
   "metadata": {
    "colab": {
     "base_uri": "https://localhost:8080/",
     "height": 1000
    },
    "colab_type": "code",
    "executionInfo": {
     "elapsed": 497,
     "status": "ok",
     "timestamp": 1598852121392,
     "user": {
      "displayName": "yoshimasa obata",
      "photoUrl": "",
      "userId": "05376502897348058331"
     },
     "user_tz": -540
    },
    "id": "i0_R5i9KSM6D",
    "outputId": "bbc264a9-4063-4731-92a6-aae646dcd07f"
   },
   "outputs": [
    {
     "name": "stdout",
     "output_type": "stream",
     "text": [
      "(60000, 28, 28)\n",
      "(10000, 28, 28)\n",
      "uint8\n",
      "[[  0   0   0   0   0   0   0   0   0   0   0   0   0   0   0   0   0   0\n",
      "    0   0   0   0   0   0   0   0   0   0]\n",
      " [  0   0   0   0   0   0   0   0   0   0   0   0   0   0   0   0   0   0\n",
      "    0   0   0   0   0   0   0   0   0   0]\n",
      " [  0   0   0   0   0   0   0   0   0   0   0   0   0   0   0   0   0   0\n",
      "    0   0   0   0   0   0   0   0   0   0]\n",
      " [  0   0   0   0   0   0   0   0   0   0   0   0   0   0   0   0   0   0\n",
      "    0   0   0   0   0   0   0   0   0   0]\n",
      " [  0   0   0   0   0   0   0   0   0   0   0   0   0   0   0   0   0   0\n",
      "    0   0   0   0   0   0   0   0   0   0]\n",
      " [  0   0   0   0   0   0   0   0   0   0   0   0   3  18  18  18 126 136\n",
      "  175  26 166 255 247 127   0   0   0   0]\n",
      " [  0   0   0   0   0   0   0   0  30  36  94 154 170 253 253 253 253 253\n",
      "  225 172 253 242 195  64   0   0   0   0]\n",
      " [  0   0   0   0   0   0   0  49 238 253 253 253 253 253 253 253 253 251\n",
      "   93  82  82  56  39   0   0   0   0   0]\n",
      " [  0   0   0   0   0   0   0  18 219 253 253 253 253 253 198 182 247 241\n",
      "    0   0   0   0   0   0   0   0   0   0]\n",
      " [  0   0   0   0   0   0   0   0  80 156 107 253 253 205  11   0  43 154\n",
      "    0   0   0   0   0   0   0   0   0   0]\n",
      " [  0   0   0   0   0   0   0   0   0  14   1 154 253  90   0   0   0   0\n",
      "    0   0   0   0   0   0   0   0   0   0]\n",
      " [  0   0   0   0   0   0   0   0   0   0   0 139 253 190   2   0   0   0\n",
      "    0   0   0   0   0   0   0   0   0   0]\n",
      " [  0   0   0   0   0   0   0   0   0   0   0  11 190 253  70   0   0   0\n",
      "    0   0   0   0   0   0   0   0   0   0]\n",
      " [  0   0   0   0   0   0   0   0   0   0   0   0  35 241 225 160 108   1\n",
      "    0   0   0   0   0   0   0   0   0   0]\n",
      " [  0   0   0   0   0   0   0   0   0   0   0   0   0  81 240 253 253 119\n",
      "   25   0   0   0   0   0   0   0   0   0]\n",
      " [  0   0   0   0   0   0   0   0   0   0   0   0   0   0  45 186 253 253\n",
      "  150  27   0   0   0   0   0   0   0   0]\n",
      " [  0   0   0   0   0   0   0   0   0   0   0   0   0   0   0  16  93 252\n",
      "  253 187   0   0   0   0   0   0   0   0]\n",
      " [  0   0   0   0   0   0   0   0   0   0   0   0   0   0   0   0   0 249\n",
      "  253 249  64   0   0   0   0   0   0   0]\n",
      " [  0   0   0   0   0   0   0   0   0   0   0   0   0   0  46 130 183 253\n",
      "  253 207   2   0   0   0   0   0   0   0]\n",
      " [  0   0   0   0   0   0   0   0   0   0   0   0  39 148 229 253 253 253\n",
      "  250 182   0   0   0   0   0   0   0   0]\n",
      " [  0   0   0   0   0   0   0   0   0   0  24 114 221 253 253 253 253 201\n",
      "   78   0   0   0   0   0   0   0   0   0]\n",
      " [  0   0   0   0   0   0   0   0  23  66 213 253 253 253 253 198  81   2\n",
      "    0   0   0   0   0   0   0   0   0   0]\n",
      " [  0   0   0   0   0   0  18 171 219 253 253 253 253 195  80   9   0   0\n",
      "    0   0   0   0   0   0   0   0   0   0]\n",
      " [  0   0   0   0  55 172 226 253 253 253 253 244 133  11   0   0   0   0\n",
      "    0   0   0   0   0   0   0   0   0   0]\n",
      " [  0   0   0   0 136 253 253 253 212 135 132  16   0   0   0   0   0   0\n",
      "    0   0   0   0   0   0   0   0   0   0]\n",
      " [  0   0   0   0   0   0   0   0   0   0   0   0   0   0   0   0   0   0\n",
      "    0   0   0   0   0   0   0   0   0   0]\n",
      " [  0   0   0   0   0   0   0   0   0   0   0   0   0   0   0   0   0   0\n",
      "    0   0   0   0   0   0   0   0   0   0]\n",
      " [  0   0   0   0   0   0   0   0   0   0   0   0   0   0   0   0   0   0\n",
      "    0   0   0   0   0   0   0   0   0   0]]\n"
     ]
    }
   ],
   "source": [
    "print(X_train.shape) # (60000, 28, 28)\n",
    "print(X_test.shape) # (10000, 28, 28)\n",
    "print(X_train[0].dtype) # uint8\n",
    "print(X_train[0])"
   ]
  },
  {
   "cell_type": "markdown",
   "metadata": {
    "colab_type": "text",
    "id": "tXB2bwkERvFV"
   },
   "source": [
    "### 平滑化\n",
    "(1, 28, 28)の各画像を、(1, 784)に変換します。これまで学んできた機械学習手法や、今回扱う全結合層のみのニューラルネットワークではこの形で扱います。全てのピクセルが一列になっていることを、 平滑化（flatten） してあるという風に表現します。\n",
    "\n",
    "\n",
    "《サンプルコード》\n",
    "```\n",
    "X_train = X_train.reshape(-1, 784)\n",
    "X_test = X_test.reshape(-1, 784)\n",
    "```\n",
    "\n",
    "《補足》\n",
    "\n",
    "\n",
    "ここまで機械学習を学んでくる中で、特徴量の数を「次元」と呼んできました。その視点ではMNISTは784次元のデータです。一方で、NumPyのshapeが(784,)の状態を1次元配列とも呼びます。画像としての縦横の情報を持つ（28, 28)の状態であれば、2次元配列です。この視点では2次元のデータです。さらに、もしもカラー画像であれば(28, 28, 3)ということになり、3次元配列です。先ほどの視点では3次元のデータになります。しかし、白黒でもカラーでも平面画像であり、立体データではないという視点で、2次元のデータです。画像データを扱う際にはこのように「次元」という言葉が複数の意味合いで使われることに注意してください。"
   ]
  },
  {
   "cell_type": "code",
   "execution_count": 293,
   "metadata": {
    "colab": {},
    "colab_type": "code",
    "executionInfo": {
     "elapsed": 520,
     "status": "ok",
     "timestamp": 1598852122665,
     "user": {
      "displayName": "yoshimasa obata",
      "photoUrl": "",
      "userId": "05376502897348058331"
     },
     "user_tz": -540
    },
    "id": "4bhrjrD-S-Ns"
   },
   "outputs": [],
   "source": [
    "X_train = X_train.reshape(-1, 784)\n",
    "X_test = X_test.reshape(-1, 784)"
   ]
  },
  {
   "cell_type": "code",
   "execution_count": 294,
   "metadata": {
    "colab": {
     "base_uri": "https://localhost:8080/",
     "height": 34
    },
    "colab_type": "code",
    "executionInfo": {
     "elapsed": 443,
     "status": "ok",
     "timestamp": 1598852122978,
     "user": {
      "displayName": "yoshimasa obata",
      "photoUrl": "",
      "userId": "05376502897348058331"
     },
     "user_tz": -540
    },
    "id": "PgQejpO1kO9A",
    "outputId": "a92a3409-7b3e-4872-8dd7-2706db838283"
   },
   "outputs": [
    {
     "data": {
      "text/plain": [
       "(60000, 784)"
      ]
     },
     "execution_count": 294,
     "metadata": {
      "tags": []
     },
     "output_type": "execute_result"
    }
   ],
   "source": [
    "X_train.shape"
   ]
  },
  {
   "cell_type": "markdown",
   "metadata": {
    "colab_type": "text",
    "id": "TG7GR_seRvFX"
   },
   "source": [
    "### 画像データの可視化\n",
    "画像データを可視化します。plt.imshowに渡します。\n",
    "\n",
    "《サンプルコード》\n",
    "```\n",
    "import matplotlib.pyplot as plt\n",
    "%matplotlib inline\n",
    "index = 0\n",
    "image = X_train[index].reshape(28,28)\n",
    "# X_train[index]: (784,)\n",
    "# image: (28, 28)\n",
    "plt.imshow(image, 'gray')\n",
    "plt.title('label : {}'.format(y_train[index]))\n",
    "plt.show()\n",
    "```\n",
    "\n",
    "numpy.reshape — NumPy v1.17 Manual\n",
    "\n",
    "\n",
    "matplotlib.pyplot.imshow — Matplotlib 3.1.1 documentation\n"
   ]
  },
  {
   "cell_type": "code",
   "execution_count": 295,
   "metadata": {
    "colab": {
     "base_uri": "https://localhost:8080/",
     "height": 281
    },
    "colab_type": "code",
    "executionInfo": {
     "elapsed": 931,
     "status": "ok",
     "timestamp": 1598852124181,
     "user": {
      "displayName": "yoshimasa obata",
      "photoUrl": "",
      "userId": "05376502897348058331"
     },
     "user_tz": -540
    },
    "id": "t4uxczGyUO_d",
    "outputId": "fe238da2-01da-4a54-a6fd-3bea4d04f2e9"
   },
   "outputs": [
    {
     "data": {
      "image/png": "[encoded data removed]",
      "text/plain": [
       "<Figure size 432x288 with 1 Axes>"
      ]
     },
     "metadata": {
      "needs_background": "light",
      "tags": []
     },
     "output_type": "display_data"
    }
   ],
   "source": [
    "import matplotlib.pyplot as plt\n",
    "%matplotlib inline\n",
    "index = 0\n",
    "image = X_train[index].reshape(28,28)\n",
    "# X_train[index]: (784,)\n",
    "# image: (28, 28)\n",
    "plt.imshow(image, 'gray')\n",
    "plt.title('label : {}'.format(y_train[index]))\n",
    "plt.show()"
   ]
  },
  {
   "cell_type": "markdown",
   "metadata": {
    "colab_type": "text",
    "id": "PBr_nYN3RvFZ"
   },
   "source": [
    "### 《発展的話題》\n",
    "\n",
    "画像データは符号なし8ビット整数のuint8型で保持されることが一般的ですが、plt.imshowはより自由な配列を画像として表示することが可能です。例えば、以下のようにマイナスの値を持ったfloat64型の浮動小数点であってもエラーにはならないし、先ほどと全く同じ風に表示されます。\n",
    "\n",
    "```\n",
    "index = 0\n",
    "image = X_train[index].reshape(28,28)\n",
    "image = image.astype(np.float) # float型に変換\n",
    "image -= 105.35 # 意図的に負の小数値を作り出してみる\n",
    "plt.imshow(image, 'gray')\n",
    "plt.title('label : {}'.format(y_train[index]))\n",
    "plt.show()\n",
    "print(image) # 値を確認\n",
    "```\n",
    "\n",
    "これは、自動的に値を0〜255の整数に変換して処理するように作られているからです。uint8型であっても最小値が0、最大値が255でない場合には色合いがおかしくなります。それを防ぐためには次のように引数を入れてください。\n",
    "\n",
    "```\n",
    "plt.imshow(image, 'gray', vmin = 0, vmax = 255)\n",
    "```\n",
    "\n",
    "画像関係のライブラリではこの自動的なスケーリングが思わぬ結果を生むことがあるので、新しいメソッドを使うときには確認しておきましょう。\n",
    "\n"
   ]
  },
  {
   "cell_type": "code",
   "execution_count": 296,
   "metadata": {
    "colab": {
     "base_uri": "https://localhost:8080/",
     "height": 1000
    },
    "colab_type": "code",
    "executionInfo": {
     "elapsed": 1341,
     "status": "ok",
     "timestamp": 1598852125374,
     "user": {
      "displayName": "yoshimasa obata",
      "photoUrl": "",
      "userId": "05376502897348058331"
     },
     "user_tz": -540
    },
    "id": "NkObheEjUaOe",
    "outputId": "37a271a5-a787-48ee-cf29-bffa146c0319"
   },
   "outputs": [
    {
     "data": {
      "image/png": "[encoded data removed]",
      "text/plain": [
       "<Figure size 432x288 with 1 Axes>"
      ]
     },
     "metadata": {
      "needs_background": "light",
      "tags": []
     },
     "output_type": "display_data"
    },
    {
     "name": "stdout",
     "output_type": "stream",
     "text": [
      "[[-105.35 -105.35 -105.35 -105.35 -105.35 -105.35 -105.35 -105.35 -105.35\n",
      "  -105.35 -105.35 -105.35 -105.35 -105.35 -105.35 -105.35 -105.35 -105.35\n",
      "  -105.35 -105.35 -105.35 -105.35 -105.35 -105.35 -105.35 -105.35 -105.35\n",
      "  -105.35]\n",
      " [-105.35 -105.35 -105.35 -105.35 -105.35 -105.35 -105.35 -105.35 -105.35\n",
      "  -105.35 -105.35 -105.35 -105.35 -105.35 -105.35 -105.35 -105.35 -105.35\n",
      "  -105.35 -105.35 -105.35 -105.35 -105.35 -105.35 -105.35 -105.35 -105.35\n",
      "  -105.35]\n",
      " [-105.35 -105.35 -105.35 -105.35 -105.35 -105.35 -105.35 -105.35 -105.35\n",
      "  -105.35 -105.35 -105.35 -105.35 -105.35 -105.35 -105.35 -105.35 -105.35\n",
      "  -105.35 -105.35 -105.35 -105.35 -105.35 -105.35 -105.35 -105.35 -105.35\n",
      "  -105.35]\n",
      " [-105.35 -105.35 -105.35 -105.35 -105.35 -105.35 -105.35 -105.35 -105.35\n",
      "  -105.35 -105.35 -105.35 -105.35 -105.35 -105.35 -105.35 -105.35 -105.35\n",
      "  -105.35 -105.35 -105.35 -105.35 -105.35 -105.35 -105.35 -105.35 -105.35\n",
      "  -105.35]\n",
      " [-105.35 -105.35 -105.35 -105.35 -105.35 -105.35 -105.35 -105.35 -105.35\n",
      "  -105.35 -105.35 -105.35 -105.35 -105.35 -105.35 -105.35 -105.35 -105.35\n",
      "  -105.35 -105.35 -105.35 -105.35 -105.35 -105.35 -105.35 -105.35 -105.35\n",
      "  -105.35]\n",
      " [-105.35 -105.35 -105.35 -105.35 -105.35 -105.35 -105.35 -105.35 -105.35\n",
      "  -105.35 -105.35 -105.35 -102.35  -87.35  -87.35  -87.35   20.65   30.65\n",
      "    69.65  -79.35   60.65  149.65  141.65   21.65 -105.35 -105.35 -105.35\n",
      "  -105.35]\n",
      " [-105.35 -105.35 -105.35 -105.35 -105.35 -105.35 -105.35 -105.35  -75.35\n",
      "   -69.35  -11.35   48.65   64.65  147.65  147.65  147.65  147.65  147.65\n",
      "   119.65   66.65  147.65  136.65   89.65  -41.35 -105.35 -105.35 -105.35\n",
      "  -105.35]\n",
      " [-105.35 -105.35 -105.35 -105.35 -105.35 -105.35 -105.35  -56.35  132.65\n",
      "   147.65  147.65  147.65  147.65  147.65  147.65  147.65  147.65  145.65\n",
      "   -12.35  -23.35  -23.35  -49.35  -66.35 -105.35 -105.35 -105.35 -105.35\n",
      "  -105.35]\n",
      " [-105.35 -105.35 -105.35 -105.35 -105.35 -105.35 -105.35  -87.35  113.65\n",
      "   147.65  147.65  147.65  147.65  147.65   92.65   76.65  141.65  135.65\n",
      "  -105.35 -105.35 -105.35 -105.35 -105.35 -105.35 -105.35 -105.35 -105.35\n",
      "  -105.35]\n",
      " [-105.35 -105.35 -105.35 -105.35 -105.35 -105.35 -105.35 -105.35  -25.35\n",
      "    50.65    1.65  147.65  147.65   99.65  -94.35 -105.35  -62.35   48.65\n",
      "  -105.35 -105.35 -105.35 -105.35 -105.35 -105.35 -105.35 -105.35 -105.35\n",
      "  -105.35]\n",
      " [-105.35 -105.35 -105.35 -105.35 -105.35 -105.35 -105.35 -105.35 -105.35\n",
      "   -91.35 -104.35   48.65  147.65  -15.35 -105.35 -105.35 -105.35 -105.35\n",
      "  -105.35 -105.35 -105.35 -105.35 -105.35 -105.35 -105.35 -105.35 -105.35\n",
      "  -105.35]\n",
      " [-105.35 -105.35 -105.35 -105.35 -105.35 -105.35 -105.35 -105.35 -105.35\n",
      "  -105.35 -105.35   33.65  147.65   84.65 -103.35 -105.35 -105.35 -105.35\n",
      "  -105.35 -105.35 -105.35 -105.35 -105.35 -105.35 -105.35 -105.35 -105.35\n",
      "  -105.35]\n",
      " [-105.35 -105.35 -105.35 -105.35 -105.35 -105.35 -105.35 -105.35 -105.35\n",
      "  -105.35 -105.35  -94.35   84.65  147.65  -35.35 -105.35 -105.35 -105.35\n",
      "  -105.35 -105.35 -105.35 -105.35 -105.35 -105.35 -105.35 -105.35 -105.35\n",
      "  -105.35]\n",
      " [-105.35 -105.35 -105.35 -105.35 -105.35 -105.35 -105.35 -105.35 -105.35\n",
      "  -105.35 -105.35 -105.35  -70.35  135.65  119.65   54.65    2.65 -104.35\n",
      "  -105.35 -105.35 -105.35 -105.35 -105.35 -105.35 -105.35 -105.35 -105.35\n",
      "  -105.35]\n",
      " [-105.35 -105.35 -105.35 -105.35 -105.35 -105.35 -105.35 -105.35 -105.35\n",
      "  -105.35 -105.35 -105.35 -105.35  -24.35  134.65  147.65  147.65   13.65\n",
      "   -80.35 -105.35 -105.35 -105.35 -105.35 -105.35 -105.35 -105.35 -105.35\n",
      "  -105.35]\n",
      " [-105.35 -105.35 -105.35 -105.35 -105.35 -105.35 -105.35 -105.35 -105.35\n",
      "  -105.35 -105.35 -105.35 -105.35 -105.35  -60.35   80.65  147.65  147.65\n",
      "    44.65  -78.35 -105.35 -105.35 -105.35 -105.35 -105.35 -105.35 -105.35\n",
      "  -105.35]\n",
      " [-105.35 -105.35 -105.35 -105.35 -105.35 -105.35 -105.35 -105.35 -105.35\n",
      "  -105.35 -105.35 -105.35 -105.35 -105.35 -105.35  -89.35  -12.35  146.65\n",
      "   147.65   81.65 -105.35 -105.35 -105.35 -105.35 -105.35 -105.35 -105.35\n",
      "  -105.35]\n",
      " [-105.35 -105.35 -105.35 -105.35 -105.35 -105.35 -105.35 -105.35 -105.35\n",
      "  -105.35 -105.35 -105.35 -105.35 -105.35 -105.35 -105.35 -105.35  143.65\n",
      "   147.65  143.65  -41.35 -105.35 -105.35 -105.35 -105.35 -105.35 -105.35\n",
      "  -105.35]\n",
      " [-105.35 -105.35 -105.35 -105.35 -105.35 -105.35 -105.35 -105.35 -105.35\n",
      "  -105.35 -105.35 -105.35 -105.35 -105.35  -59.35   24.65   77.65  147.65\n",
      "   147.65  101.65 -103.35 -105.35 -105.35 -105.35 -105.35 -105.35 -105.35\n",
      "  -105.35]\n",
      " [-105.35 -105.35 -105.35 -105.35 -105.35 -105.35 -105.35 -105.35 -105.35\n",
      "  -105.35 -105.35 -105.35  -66.35   42.65  123.65  147.65  147.65  147.65\n",
      "   144.65   76.65 -105.35 -105.35 -105.35 -105.35 -105.35 -105.35 -105.35\n",
      "  -105.35]\n",
      " [-105.35 -105.35 -105.35 -105.35 -105.35 -105.35 -105.35 -105.35 -105.35\n",
      "  -105.35  -81.35    8.65  115.65  147.65  147.65  147.65  147.65   95.65\n",
      "   -27.35 -105.35 -105.35 -105.35 -105.35 -105.35 -105.35 -105.35 -105.35\n",
      "  -105.35]\n",
      " [-105.35 -105.35 -105.35 -105.35 -105.35 -105.35 -105.35 -105.35  -82.35\n",
      "   -39.35  107.65  147.65  147.65  147.65  147.65   92.65  -24.35 -103.35\n",
      "  -105.35 -105.35 -105.35 -105.35 -105.35 -105.35 -105.35 -105.35 -105.35\n",
      "  -105.35]\n",
      " [-105.35 -105.35 -105.35 -105.35 -105.35 -105.35  -87.35   65.65  113.65\n",
      "   147.65  147.65  147.65  147.65   89.65  -25.35  -96.35 -105.35 -105.35\n",
      "  -105.35 -105.35 -105.35 -105.35 -105.35 -105.35 -105.35 -105.35 -105.35\n",
      "  -105.35]\n",
      " [-105.35 -105.35 -105.35 -105.35  -50.35   66.65  120.65  147.65  147.65\n",
      "   147.65  147.65  138.65   27.65  -94.35 -105.35 -105.35 -105.35 -105.35\n",
      "  -105.35 -105.35 -105.35 -105.35 -105.35 -105.35 -105.35 -105.35 -105.35\n",
      "  -105.35]\n",
      " [-105.35 -105.35 -105.35 -105.35   30.65  147.65  147.65  147.65  106.65\n",
      "    29.65   26.65  -89.35 -105.35 -105.35 -105.35 -105.35 -105.35 -105.35\n",
      "  -105.35 -105.35 -105.35 -105.35 -105.35 -105.35 -105.35 -105.35 -105.35\n",
      "  -105.35]\n",
      " [-105.35 -105.35 -105.35 -105.35 -105.35 -105.35 -105.35 -105.35 -105.35\n",
      "  -105.35 -105.35 -105.35 -105.35 -105.35 -105.35 -105.35 -105.35 -105.35\n",
      "  -105.35 -105.35 -105.35 -105.35 -105.35 -105.35 -105.35 -105.35 -105.35\n",
      "  -105.35]\n",
      " [-105.35 -105.35 -105.35 -105.35 -105.35 -105.35 -105.35 -105.35 -105.35\n",
      "  -105.35 -105.35 -105.35 -105.35 -105.35 -105.35 -105.35 -105.35 -105.35\n",
      "  -105.35 -105.35 -105.35 -105.35 -105.35 -105.35 -105.35 -105.35 -105.35\n",
      "  -105.35]\n",
      " [-105.35 -105.35 -105.35 -105.35 -105.35 -105.35 -105.35 -105.35 -105.35\n",
      "  -105.35 -105.35 -105.35 -105.35 -105.35 -105.35 -105.35 -105.35 -105.35\n",
      "  -105.35 -105.35 -105.35 -105.35 -105.35 -105.35 -105.35 -105.35 -105.35\n",
      "  -105.35]]\n"
     ]
    }
   ],
   "source": [
    "index = 0\n",
    "image = X_train[index].reshape(28,28)\n",
    "image = image.astype(np.float) # float型に変換\n",
    "image -= 105.35 # 意図的に負の小数値を作り出してみる\n",
    "plt.imshow(image, 'gray')\n",
    "plt.title('label : {}'.format(y_train[index]))\n",
    "plt.show()\n",
    "print(image) # 値を確認"
   ]
  },
  {
   "cell_type": "code",
   "execution_count": 297,
   "metadata": {
    "colab": {
     "base_uri": "https://localhost:8080/",
     "height": 282
    },
    "colab_type": "code",
    "executionInfo": {
     "elapsed": 993,
     "status": "ok",
     "timestamp": 1598852125380,
     "user": {
      "displayName": "yoshimasa obata",
      "photoUrl": "",
      "userId": "05376502897348058331"
     },
     "user_tz": -540
    },
    "id": "5NeNpG82U9nv",
    "outputId": "f6f18e03-cfaa-44b8-ee3a-915be85eb38e"
   },
   "outputs": [
    {
     "data": {
      "text/plain": [
       "<matplotlib.image.AxesImage at 0x7f385f04a5c0>"
      ]
     },
     "execution_count": 297,
     "metadata": {
      "tags": []
     },
     "output_type": "execute_result"
    },
    {
     "data": {
      "image/png": "[encoded data removed]",
      "text/plain": [
       "<Figure size 432x288 with 1 Axes>"
      ]
     },
     "metadata": {
      "needs_background": "light",
      "tags": []
     },
     "output_type": "display_data"
    }
   ],
   "source": [
    "plt.imshow(image, 'gray', vmin = 0, vmax = 255)"
   ]
  },
  {
   "cell_type": "markdown",
   "metadata": {
    "colab_type": "text",
    "id": "n26RpC1hRvFb"
   },
   "source": [
    "### 前処理\n",
    "画像は0から255のuint8型で表されますが、機械学習をする上では0から1のfloat型で扱うことになります。以下のコードで変換可能です。\n",
    "\n",
    "\n",
    "《サンプルコード》\n",
    "\n",
    "```\n",
    "X_train = X_train.astype(np.float)\n",
    "X_test = X_test.astype(np.float)\n",
    "X_train /= 255\n",
    "X_test /= 255\n",
    "print(X_train.max()) # 1.0\n",
    "print(X_train.min()) # 0.0\n",
    "```\n",
    "\n",
    "また、正解ラベルは0から9の整数ですが、ニューラルネットワークで多クラス分類を行う際には one-hot表現 に変換します。scikit-learnのOneHotEncoderを使用したコードが以下です。このone-hot表現による値はそのラベルである確率を示していることになるため、float型で扱います。\n",
    "\n",
    "《サンプルコード》\n",
    "\n",
    "```\n",
    "from sklearn.preprocessing import OneHotEncoder\n",
    "enc = OneHotEncoder(handle_unknown='ignore', sparse=False)\n",
    "y_train_one_hot = enc.fit_transform(y_train[:, np.newaxis])\n",
    "y_test_one_hot = enc.transform(y_test[:, np.newaxis])\n",
    "print(y_train.shape) # (60000,)\n",
    "print(y_train_one_hot.shape) # (60000, 10)\n",
    "print(y_train_one_hot.dtype) # float64\n",
    "```\n",
    "\n",
    "sklearn.preprocessing.OneHotEncoder — scikit-learn 0.21.3 documentation\n",
    "\n",
    "\n",
    "さらに、訓練データ6万枚の内2割を検証データとして分割してください。訓練データが48000枚、検証データが12000枚となります。\n",
    "\n",
    "\n",
    "《サンプルコード》\n",
    "\n",
    "```\n",
    "X_train, X_val, y_train, y_val = train_test_split(X_train, y_train, test_size=0.2)\n",
    "print(X_train.shape) # (48000, 784)\n",
    "print(X_val.shape) # (12000, 784)\n",
    "```"
   ]
  },
  {
   "cell_type": "code",
   "execution_count": 298,
   "metadata": {
    "colab": {
     "base_uri": "https://localhost:8080/",
     "height": 51
    },
    "colab_type": "code",
    "executionInfo": {
     "elapsed": 568,
     "status": "ok",
     "timestamp": 1598852125612,
     "user": {
      "displayName": "yoshimasa obata",
      "photoUrl": "",
      "userId": "05376502897348058331"
     },
     "user_tz": -540
    },
    "id": "gqCWauaKVTKi",
    "outputId": "18fbdb82-7e71-4e31-c3b7-7c9bfbda517e"
   },
   "outputs": [
    {
     "name": "stdout",
     "output_type": "stream",
     "text": [
      "1.0\n",
      "0.0\n"
     ]
    }
   ],
   "source": [
    "X_train = X_train.astype(np.float)\n",
    "X_test = X_test.astype(np.float)\n",
    "X_train /= 255\n",
    "X_test /= 255\n",
    "print(X_train.max()) # 1.0\n",
    "print(X_train.min()) # 0.0"
   ]
  },
  {
   "cell_type": "markdown",
   "metadata": {
    "colab_type": "text",
    "id": "_iRhxPzFRvFg"
   },
   "source": [
    "## 3.ニューラルネットワークスクラッチ\n",
    "\n",
    "ニューラルネットワークのクラスをスクラッチで作成していきます。NumPyなど最低限のライブラリのみを使いアルゴリズムを実装していきます。\n",
    "\n",
    "\n",
    "今回は多クラス分類を行う3層のニューラルネットワークを作成します。層の数などは固定した上でニューラルネットワークの基本を学びます。次のSprintで層を自由に変えられる設計にしていきます。\n",
    "\n",
    "\n",
    "以下に雛形を用意してあります。このScratchSimpleNeuralNetrowkClassifierクラスにコードを書き加えていってください。\n",
    "\n",
    "\n",
    "《雛形》\n",
    "\n",
    "```\n",
    "class ScratchSimpleNeuralNetrowkClassifier():\n",
    "    \"\"\"\n",
    "    シンプルな三層ニューラルネットワーク分類器\n",
    "\n",
    "    Parameters\n",
    "    ----------\n",
    "\n",
    "    Attributes\n",
    "    ----------\n",
    "    \"\"\"\n",
    "    def __init__(self, verbose = True):\n",
    "        self.verbose = verbose\n",
    "        pass\n",
    "    def fit(self, X, y, X_val=None, y_val=None):\n",
    "        \"\"\"\n",
    "        ニューラルネットワーク分類器を学習する。\n",
    "\n",
    "        Parameters\n",
    "        ----------\n",
    "        X : 次の形のndarray, shape (n_samples, n_features)\n",
    "            訓練データの特徴量\n",
    "        y : 次の形のndarray, shape (n_samples, )\n",
    "            訓練データの正解値\n",
    "        X_val : 次の形のndarray, shape (n_samples, n_features)\n",
    "            検証データの特徴量\n",
    "        y_val : 次の形のndarray, shape (n_samples, )\n",
    "            検証データの正解値\n",
    "        \"\"\"\n",
    "        if self.verbose:\n",
    "            #verboseをTrueにした際は学習過程などを出力する\n",
    "            print()\n",
    "        pass\n",
    "    def predict(self, X):\n",
    "        \"\"\"\n",
    "        ニューラルネットワーク分類器を使い推定する。\n",
    "\n",
    "        Parameters\n",
    "        ----------\n",
    "        X : 次の形のndarray, shape (n_samples, n_features)\n",
    "            サンプル\n",
    "\n",
    "        Returns\n",
    "        -------\n",
    "            次の形のndarray, shape (n_samples, 1)\n",
    "            推定結果\n",
    "        \"\"\"\n",
    "        pass\n",
    "        return\n",
    "```"
   ]
  },
  {
   "cell_type": "markdown",
   "metadata": {
    "colab_type": "text",
    "id": "qsTQXRqnRvFh"
   },
   "source": [
    "### ミニバッチ処理\n",
    "これまでの機械学習スクラッチでは、全てのサンプルを一度に計算していました。しかし、ニューラルネットワークではデータを分割して入力する 確率的勾配降下法 が一般的です。分割した際のひとかたまりを ミニバッチ 、そのサンプル数を バッチサイズ と呼びます。\n",
    "\n",
    "\n",
    "今回はバッチサイズを20とします。今回使う訓練データは48000枚ですから、48000÷20で2400回の更新を繰り返すことになります。ニューラルネットワークではこれを2400回 イテレーション（iteration） すると呼びます。訓練データを一度全て見ると1回の エポック（epoch） が終わったことになります。このエポックを複数回繰り返し、学習が完了します。\n",
    "\n",
    "\n",
    "これを実現するための簡素なイテレータを用意しました。for文で呼び出すと、ミニバッチを取得できます。\n",
    "\n",
    "\n",
    "《コード》\n",
    "\n",
    "```\n",
    "class GetMiniBatch:\n",
    "    \"\"\"\n",
    "    ミニバッチを取得するイテレータ\n",
    "\n",
    "    Parameters\n",
    "    ----------\n",
    "    X : 次の形のndarray, shape (n_samples, n_features)\n",
    "      訓練データ\n",
    "    y : 次の形のndarray, shape (n_samples, 1)\n",
    "      正解値\n",
    "    batch_size : int\n",
    "      バッチサイズ\n",
    "    seed : int\n",
    "      NumPyの乱数のシード\n",
    "    \"\"\"\n",
    "    def __init__(self, X, y, batch_size = 20, seed=0):\n",
    "        self.batch_size = batch_size\n",
    "        np.random.seed(seed)\n",
    "        shuffle_index = np.random.permutation(np.arange(X.shape[0]))\n",
    "        self._X = X[shuffle_index]\n",
    "        self._y = y[shuffle_index]\n",
    "        self._stop = np.ceil(X.shape[0]/self.batch_size).astype(np.int)\n",
    "    def __len__(self):\n",
    "        return self._stop\n",
    "    def __getitem__(self,item):\n",
    "        p0 = item*self.batch_size\n",
    "        p1 = item*self.batch_size + self.batch_size\n",
    "        return self._X[p0:p1], self._y[p0:p1]        \n",
    "    def __iter__(self):\n",
    "        self._counter = 0\n",
    "        return self\n",
    "    def __next__(self):\n",
    "        if self._counter >= self._stop:\n",
    "            raise StopIteration()\n",
    "        p0 = self._counter*self.batch_size\n",
    "        p1 = self._counter*self.batch_size + self.batch_size\n",
    "        self._counter += 1\n",
    "        return self._X[p0:p1], self._y[p0:p1]\n",
    "```\n",
    "\n",
    "このクラスをインスタンス化し、for文を使うことでミニバッチが取り出せます。\n",
    "\n",
    "\n",
    "```\n",
    "get_mini_batch = GetMiniBatch(X_train, y_train, batch_size=20)\n",
    "print(len(get_mini_batch)) # 2400\n",
    "print(get_mini_batch[5]) # 5番目のミニバッチが取得できる\n",
    "for mini_X_train, mini_y_train in get_mini_batch:\n",
    "    # このfor文内でミニバッチが使える\n",
    "    pass\n",
    "\n",
    "```\n",
    "\n",
    "__getitem__や__next__は__init__と同じ特殊メソッドの一種です。\n"
   ]
  },
  {
   "cell_type": "markdown",
   "metadata": {
    "colab_type": "text",
    "id": "Z2cg93qZRvFj"
   },
   "source": [
    "### 学習\n",
    "ニューラルネットワークの学習はフォワードプロパゲーションとバックプロパゲションの繰り返しになります。\n"
   ]
  },
  {
   "cell_type": "markdown",
   "metadata": {
    "colab_type": "text",
    "id": "9m6sKQFyV1ka"
   },
   "source": [
    "## 【まとめ】最終コード"
   ]
  },
  {
   "cell_type": "code",
   "execution_count": 299,
   "metadata": {
    "colab": {},
    "colab_type": "code",
    "executionInfo": {
     "elapsed": 602,
     "status": "ok",
     "timestamp": 1598852127264,
     "user": {
      "displayName": "yoshimasa obata",
      "photoUrl": "",
      "userId": "05376502897348058331"
     },
     "user_tz": -540
    },
    "id": "YiLoQLx0Vwgn"
   },
   "outputs": [],
   "source": [
    "class ScratchSimpleNeuralNetrowkClassifier():\n",
    "    \"\"\"\n",
    "    シンプルな三層ニューラルネットワーク分類器\n",
    " \n",
    "    Parameters\n",
    "    ----------\n",
    "    sigma : float\n",
    "      シグマの値\n",
    "    lr : float\n",
    "      学習率\n",
    "    epoch : int\n",
    "      エポック数\n",
    "    verbose : bool\n",
    "      学習過程表示・非表示\n",
    "    interval : int\n",
    "      学習過程の表示間隔\n",
    " \n",
    "    Attributes\n",
    "    ----------\n",
    "    \"\"\"\n",
    "    def __init__(self, sigma=0.01, lr=0.01, epoch=3, verbose=True, interval=1):\n",
    "        self.sigma = sigma\n",
    "        self.lr = lr\n",
    "        self.epoch = epoch\n",
    "        self.verbose = verbose\n",
    "        self.interval = interval\n",
    "        pass\n",
    "    \n",
    "    def fit(self, X, y, X_val=None, y_val=None):\n",
    "        \"\"\"\n",
    "        ニューラルネットワーク分類器を学習する。\n",
    " \n",
    "        Parameters\n",
    "        ----------\n",
    "        X : 次の形のndarray, shape (n_samples, n_features)\n",
    "            訓練データの特徴量\n",
    "        y : 次の形のndarray, shape (n_samples, )\n",
    "            訓練データの正解値\n",
    "        X_val : 次の形のndarray, shape (n_samples, n_features)\n",
    "            検証データの特徴量\n",
    "        y_val : 次の形のndarray, shape (n_samples, )\n",
    "            検証データの正解値\n",
    "        \"\"\"\n",
    "        # 検証データの有無\n",
    "        self.is_val = False\n",
    "        if np.all(X_val != None) and np.all(y_val != None):\n",
    "            self.is_val = True\n",
    "\n",
    "        # 形状・各層のノード数\n",
    "        self.n_samples = X.shape[0]\n",
    "        self.n_features = X.shape[1]\n",
    "        self.inputLayer_nodes = self.n_features\n",
    "        self.middleLayer1_nodes = 400\n",
    "        self.middleLayer2_nodes = 200\n",
    "        self.outputLayer_nodes = 10\n",
    "\n",
    "        # 誤差格納用\n",
    "        self.loss = []\n",
    "        self.val_loss = []\n",
    "\n",
    "        # 各層のインスタンス生成\n",
    "        self.middleLayer1 = MiddleLayer(n_features=self.inputLayer_nodes, n_nodes=self.middleLayer1_nodes, sigma=self.sigma, lr=self.lr)\n",
    "        self.middleLayer2 = MiddleLayer(n_features=self.middleLayer1_nodes, n_nodes=self.middleLayer2_nodes, sigma=self.sigma, lr=self.lr)\n",
    "        self.outputLayer = OutputLayer(n_features=self.middleLayer2_nodes, n_nodes=self.outputLayer_nodes, sigma=self.sigma, lr=self.lr)\n",
    "\n",
    "        # yラベルデータをone-hotへ変換\n",
    "        y = self._y_one_hot(y)\n",
    "        if self.is_val:\n",
    "            y_val = self._y_one_hot(y_val)\n",
    "\n",
    "        # ミニバッチのインスタンス生成\n",
    "        getMiniBatch = GetMiniBatch(X, y, batch_size=20, seed=0)\n",
    "\n",
    "        # 損失の初期値算出\n",
    "        self._get_loss(X, y, X_val, y_val)\n",
    "\n",
    "        for epoch in range(self.epoch):\n",
    "            for mini_X, mini_y in getMiniBatch:\n",
    "                # フォワードプロパゲーション\n",
    "                self._forward_propagation(mini_X)\n",
    "\n",
    "                # バックプロパゲーション\n",
    "                self._back_propagation(mini_X, mini_y)\n",
    "\n",
    "            # 誤差算出\n",
    "            self._get_loss(X, y, X_val, y_val)\n",
    "\n",
    "            # 学習過程表示\n",
    "            if self.verbose and epoch % self.interval == 0:\n",
    "                self._print_loss(epoch)\n",
    "\n",
    "\n",
    "\n",
    "    def predict(self, X):\n",
    "        \"\"\"\n",
    "        ニューラルネットワーク分類器を使い推定する。\n",
    " \n",
    "        Parameters\n",
    "        ----------\n",
    "        X : 次の形のndarray, shape (n_samples, n_features)\n",
    "            サンプル\n",
    " \n",
    "        Returns\n",
    "        -------\n",
    "            次の形のndarray, shape (n_samples, 1)\n",
    "            推定結果\n",
    "        \"\"\"\n",
    "        # 推定\n",
    "        self._forward_propagation(X)\n",
    "        pred = np.argmax(self.outputLayer.z, axis=1)\n",
    "        return pred\n",
    "\n",
    "    def _y_one_hot(self, y):\n",
    "        \"\"\"\n",
    "        yラベルをone-hot化する処理\n",
    "        \"\"\"\n",
    "        y_onehot = np.zeros([len(y), self.outputLayer_nodes])\n",
    "        for i, yk in enumerate(y):\n",
    "            y_onehot[i,yk] = 1\n",
    "        return y_onehot\n",
    "\n",
    "\n",
    "    def _cross_entropy_loss(self, y, z):\n",
    "        \"\"\"\n",
    "        クロスエントロピー誤差\n",
    "        \"\"\"\n",
    "        batch_size = z.shape[0]\n",
    "        delta = 1e-7\n",
    "        loss = - np.sum(y * np.log(z + delta)) / batch_size\n",
    "        return loss\n",
    "\n",
    "\n",
    "    def _forward_propagation(self, X):\n",
    "        \"\"\"\n",
    "        フォワードプロパゲーション\n",
    "        \"\"\"\n",
    "        # 学習済みの順伝播処理\n",
    "        try:\n",
    "            self.middleLayer1.forward(X, self.middleLayer1.active_func)\n",
    "            self.middleLayer2.forward(self.middleLayer1.z, self.middleLayer2.active_func)\n",
    "            self.outputLayer.forward(self.middleLayer2.z, self.outputLayer.active_func)\n",
    "        # 学習時の順伝播処理\n",
    "        except:\n",
    "            self.middleLayer1.forward(X)\n",
    "            self.middleLayer2.forward(self.middleLayer1.z)\n",
    "            self.outputLayer.forward(self.middleLayer2.z, active_func='softmax')\n",
    "\n",
    "\n",
    "    def _back_propagation(self, X, y):\n",
    "        \"\"\"\n",
    "        バックプロパゲーション\n",
    "        \"\"\"\n",
    "        self.outputLayer.backward(self.middleLayer2.z, y)\n",
    "        self.middleLayer2.backward(self.outputLayer.w_grad, self.outputLayer.b_grad, self.outputLayer.z_grad, self.middleLayer1.z)\n",
    "        self.middleLayer1.backward(self.middleLayer2.w_grad, self.middleLayer2.b_grad, self.middleLayer2.z_grad, X)\n",
    "\n",
    "\n",
    "    def _get_loss(self, X, y, X_val=None, y_val=None):\n",
    "        \"\"\"\n",
    "        損失計算処理\n",
    "        \"\"\"\n",
    "        self._forward_propagation(X)\n",
    "        self.loss.append(self._cross_entropy_loss(y, self.outputLayer.z))\n",
    "        if self.is_val:\n",
    "            self._forward_propagation(X_val)\n",
    "            self.val_loss.append(self._cross_entropy_loss(y_val, self.outputLayer.z))\n",
    "\n",
    "\n",
    "    def _print_loss(self, epoch):\n",
    "        \"\"\"\n",
    "        学習過程表示用\n",
    "        \"\"\"\n",
    "        print('[INFO] epoch : {} / {}'.format(epoch+1, self.epoch))\n",
    "        print('       Loss(train): {}'.format(self.loss[-1]))\n",
    "        print('       Loss(test) : {}'.format(self.loss[-1]))"
   ]
  },
  {
   "cell_type": "code",
   "execution_count": 300,
   "metadata": {
    "colab": {},
    "colab_type": "code",
    "executionInfo": {
     "elapsed": 518,
     "status": "ok",
     "timestamp": 1598852127551,
     "user": {
      "displayName": "yoshimasa obata",
      "photoUrl": "",
      "userId": "05376502897348058331"
     },
     "user_tz": -540
    },
    "id": "ALnX-e-wXTpY"
   },
   "outputs": [],
   "source": [
    "class BaseLayer:\n",
    "    \"\"\"\n",
    "    中間層クラス・出力層クラスの共通処理\n",
    "    \"\"\"\n",
    "    def __init__(self, n_features, n_nodes=400, sigma=0.01, lr=0.01):\n",
    "        self.n_features = n_features\n",
    "        self.n_nodes = n_nodes\n",
    "        self.sigma = sigma   # ガウス分布の標準偏差\n",
    "        self.lr = lr\n",
    "        self.w = sigma * np.random.randn(self.n_features, self.n_nodes)\n",
    "        self.b = sigma * np.random.randn(1, self.n_nodes)\n",
    "\n",
    "    def forward(self, X, active_func='tanh'):\n",
    "        self.active_func = active_func\n",
    "        self.a = X @ self.w + self.b\n",
    "\n",
    "        # 活性化関数\n",
    "        if self.active_func == 'sigmoid':\n",
    "            self.z = 1 / (1 - np.exp(-self.a))\n",
    "        elif self.active_func == 'tanh':\n",
    "            self.z = np.tanh(self.a)\n",
    "        elif self.active_func == 'softmax':\n",
    "            self.a -= np.max(self.a)   # オーバーフロー対策\n",
    "            self.z = np.exp(self.a) / np.sum(np.exp(self.a), axis=1).reshape(-1, 1)\n",
    "        elif self.active_func == 'ReLU':\n",
    "            self.z = np.where(self.a < 0, 0, self.a)"
   ]
  },
  {
   "cell_type": "code",
   "execution_count": 301,
   "metadata": {
    "colab": {},
    "colab_type": "code",
    "executionInfo": {
     "elapsed": 871,
     "status": "ok",
     "timestamp": 1598852128264,
     "user": {
      "displayName": "yoshimasa obata",
      "photoUrl": "",
      "userId": "05376502897348058331"
     },
     "user_tz": -540
    },
    "id": "JR5xo32JY9ex"
   },
   "outputs": [],
   "source": [
    "class MiddleLayer(BaseLayer):\n",
    "    \"\"\"\n",
    "    中間層の処理\n",
    "    \"\"\"\n",
    "    def backward(self, w_grad, b_grad, z_grad, before_z):\n",
    "        if self.active_func == 'sigmoid':\n",
    "            self.a_grad = before_z * ((1 - self.z) * self.z)\n",
    "        elif self.active_func == 'tanh':\n",
    "            self.a_grad = z_grad * (1 - self.z**2)\n",
    "        elif self.active_func == 'softmax':\n",
    "            pass\n",
    "        elif self.active_func == 'ReLU':\n",
    "            pass\n",
    "\n",
    "        self.b_grad = np.sum(self.a_grad)\n",
    "        self.w_grad = before_z.T @ self.a_grad\n",
    "        self.z_grad = self.a_grad @ self.w.T\n",
    "\n",
    "        # w,bの更新\n",
    "        self.w -= self.lr * self.w_grad\n",
    "        self.b -= self.lr * self.b_grad"
   ]
  },
  {
   "cell_type": "code",
   "execution_count": 302,
   "metadata": {
    "colab": {},
    "colab_type": "code",
    "executionInfo": {
     "elapsed": 729,
     "status": "ok",
     "timestamp": 1598852128515,
     "user": {
      "displayName": "yoshimasa obata",
      "photoUrl": "",
      "userId": "05376502897348058331"
     },
     "user_tz": -540
    },
    "id": "p16IZZXlY9iK"
   },
   "outputs": [],
   "source": [
    "class OutputLayer(BaseLayer):\n",
    "    \"\"\"\n",
    "    出力層の処理\n",
    "    \"\"\"\n",
    "    def backward(self, before_z, y):\n",
    "        if self.active_func == 'sigmoid':\n",
    "            pass\n",
    "        elif self.active_func == 'tanh':\n",
    "            pass\n",
    "        elif self.active_func == 'softmax':\n",
    "            self.a_grad = self.z - y\n",
    "            self.w_grad = before_z.T @ self.a_grad\n",
    "            self.b_grad = np.sum(self.a_grad, axis=0)\n",
    "            self.z_grad = self.a_grad @ self.w.T\n",
    "\n",
    "            # w,bの更新\n",
    "            self.w -= self.lr * self.w_grad\n",
    "            self.b -= self.lr * self.b_grad\n",
    "        elif self.active_func == 'ReLU':\n",
    "            pass"
   ]
  },
  {
   "cell_type": "code",
   "execution_count": 303,
   "metadata": {
    "colab": {},
    "colab_type": "code",
    "executionInfo": {
     "elapsed": 558,
     "status": "ok",
     "timestamp": 1598852128715,
     "user": {
      "displayName": "yoshimasa obata",
      "photoUrl": "",
      "userId": "05376502897348058331"
     },
     "user_tz": -540
    },
    "id": "5P3VQz9AaBEY"
   },
   "outputs": [],
   "source": [
    "class GetMiniBatch:\n",
    "    \"\"\"\n",
    "    ミニバッチを取得するイテレータ\n",
    " \n",
    "    Parameters\n",
    "    ----------\n",
    "    X : 次の形のndarray, shape (n_samples, n_features)\n",
    "      訓練データ\n",
    "    y : 次の形のndarray, shape (n_samples, 1)\n",
    "      正解値\n",
    "    batch_size : int\n",
    "      バッチサイズ\n",
    "    seed : int\n",
    "      NumPyの乱数のシード\n",
    "    \"\"\"\n",
    "    def __init__(self, X, y, batch_size = 20, seed=0):\n",
    "        self.batch_size = batch_size\n",
    "        np.random.seed(seed)\n",
    "        shuffle_index = np.random.permutation(np.arange(X.shape[0]))\n",
    "        self._X = X[shuffle_index]\n",
    "        self._y = y[shuffle_index]\n",
    "        self._stop = np.ceil(X.shape[0]/self.batch_size).astype(np.int)\n",
    "    def __len__(self):\n",
    "        return self._stop\n",
    "    def __getitem__(self,item):\n",
    "        p0 = item*self.batch_size\n",
    "        p1 = item*self.batch_size + self.batch_size\n",
    "        return self._X[p0:p1], self._y[p0:p1]        \n",
    "    def __iter__(self):\n",
    "        self._counter = 0\n",
    "        return self\n",
    "    def __next__(self):\n",
    "        if self._counter >= self._stop:\n",
    "            raise StopIteration()\n",
    "        p0 = self._counter*self.batch_size\n",
    "        p1 = self._counter*self.batch_size + self.batch_size\n",
    "        self._counter += 1\n",
    "        return self._X[p0:p1], self._y[p0:p1]"
   ]
  },
  {
   "cell_type": "markdown",
   "metadata": {
    "colab_type": "text",
    "id": "zDkZL4cTRvFl"
   },
   "source": [
    "## 【問題1】重みの初期値を決めるコードの作成\n",
    "ニューラルネットワークの各層の重みの初期値を決めるコードを作成してください。\n",
    "\n",
    "\n",
    "重みの初期値は様々な方法が提案されていますが、今回はガウス分布による単純な初期化を行います。バイアスに関しても同様です。\n",
    "\n",
    "\n",
    "以下のコードを参考にしてください。標準偏差の値sigmaはハイパーパラメータです。発展的な重みの初期化方法については次のSprintで扱います。\n",
    "\n",
    "\n",
    "《サンプルコード》\n",
    "\n",
    "```\n",
    "n_features = 784\n",
    "n_nodes1 = 400\n",
    "sigma = 0.01 # ガウス分布の標準偏差\n",
    "W1 = sigma * np.random.randn(n_features, n_nodes1)\n",
    "# W1: (784, 400)\n",
    "```\n",
    "\n",
    "numpy.random.randn — NumPy v1.15 Manual"
   ]
  },
  {
   "cell_type": "markdown",
   "metadata": {
    "colab_type": "text",
    "id": "WWl6Z0fHRvFo"
   },
   "source": [
    "## 【問題2】フォワードプロパゲーションの実装\n",
    "三層のニューラルネットワークの フォワードプロパゲーション を作成してください。以下の説明ではノード数は1層目は400、2層目は200としますが、変更しても構いません。\n",
    "\n",
    "\n",
    "各層の数式を以下に示します。今回はそれぞれの記号が表す配列が、実装上どのようなndarrayのshapeになるかを併記してあります。\n",
    "\n",
    "```\n",
    "batch_size = 20 # バッチサイズ\n",
    "n_features = 784 # 特徴量の数\n",
    "n_nodes1 = 400 # 1層目のノード数\n",
    "n_nodes2 = 200 # 2層目のノード数\n",
    "n_output = 10 # 出力のクラス数（3層目のノード数）\n",
    "```"
   ]
  },
  {
   "cell_type": "markdown",
   "metadata": {
    "colab_type": "text",
    "id": "Dkj-VuSmRvFp"
   },
   "source": [
    "「1層目」\n",
    "\n",
    "\n",
    "A\n",
    "1\n",
    "=\n",
    "X\n",
    "⋅\n",
    "W\n",
    "1\n",
    "+\n",
    "B\n",
    "1\n",
    "\n",
    "X\n",
    " : 特徴量ベクトル (batch_size, n_features)\n",
    "\n",
    "\n",
    "W\n",
    "1\n",
    " : 1層目の重み (n_features, n_nodes1)\n",
    "\n",
    "\n",
    "B\n",
    "1\n",
    " : 1層目のバイアス (n_nodes1,)\n",
    "\n",
    "\n",
    "A\n",
    "1\n",
    " : 出力 (batch_size, n_nodes1)\n",
    "\n",
    "\n",
    "「1層目の活性化関数」\n",
    "\n",
    "\n",
    "Z\n",
    "1\n",
    "=\n",
    "f\n",
    "(\n",
    "A\n",
    "1\n",
    ")\n",
    "\n",
    "f\n",
    "(\n",
    ")\n",
    " : 活性化関数\n",
    "\n",
    "\n",
    "Z\n",
    "1\n",
    " 出力 (batch_size, n_nodes1)\n",
    "\n",
    "\n",
    "「2層目」\n",
    "\n",
    "\n",
    "A\n",
    "2\n",
    "=\n",
    "Z\n",
    "1\n",
    "⋅\n",
    "W\n",
    "2\n",
    "+\n",
    "B\n",
    "2\n",
    "\n",
    "W\n",
    "2\n",
    " : 2層目の重み (n_nodes1, n_nodes2)\n",
    "\n",
    "\n",
    "B\n",
    "2\n",
    " : 2層目のバイアス (n_nodes2,)\n",
    "\n",
    "\n",
    "A\n",
    "2\n",
    " : 出力 (batch_size, n_nodes2)\n",
    "\n",
    "\n",
    "「2層目の活性化関数」\n",
    "\n",
    "\n",
    "Z\n",
    "2\n",
    "=\n",
    "f\n",
    "(\n",
    "A\n",
    "2\n",
    ")\n",
    "\n",
    "f\n",
    "(\n",
    ")\n",
    " : 活性化関数\n",
    "\n",
    "\n",
    "Z\n",
    "2\n",
    " 出力 (batch_size, n_nodes2)\n",
    "\n",
    "\n",
    "「3層目（出力層）」\n",
    "\n",
    "\n",
    "A\n",
    "3\n",
    "=\n",
    "Z\n",
    "2\n",
    "⋅\n",
    "W\n",
    "3\n",
    "+\n",
    "B\n",
    "3\n",
    "\n",
    "W\n",
    "3\n",
    " : 3層目の重み (n_nodes2, n_output)\n",
    "\n",
    "\n",
    "B\n",
    "3\n",
    " : 3層目のバイアス (n_output,)\n",
    "\n",
    "\n",
    "A\n",
    "3\n",
    " : 出力 (batch_size, n_output)\n",
    "\n",
    "\n",
    "「3層目の活性化関数」\n",
    "\n",
    "\n",
    "Z\n",
    "3\n",
    "=\n",
    "s\n",
    "o\n",
    "f\n",
    "t\n",
    "m\n",
    "a\n",
    "x\n",
    "(\n",
    "A\n",
    "3\n",
    ")\n",
    "\n",
    "s\n",
    "o\n",
    "f\n",
    "t\n",
    "m\n",
    "a\n",
    "x\n",
    "(\n",
    ")\n",
    " : ソフトマックス関数\n",
    "\n",
    "\n",
    "Z\n",
    "3\n",
    " 出力 (batch_size, n_output)\n",
    "\n",
    "\n",
    "Z\n",
    "3\n",
    " は各ラベル（0〜9）に対する確率の配列である。"
   ]
  },
  {
   "cell_type": "markdown",
   "metadata": {
    "colab_type": "text",
    "id": "RB9sRhd-RvFw"
   },
   "source": [
    "### 活性化関数（フォワードプロバゲーション）\n",
    "活性化関数を作成し、フォワードプロパゲーションの中で使用します。切り替えられるように実装することを推奨しますが、片方でも構いません。\n",
    "\n",
    "\n",
    "「シグモイド関数」\n",
    "\n",
    "$$\n",
    "  f(Z) = sigmoid(A \n",
    "  = \\frac{1}{1 + exp(-A)}\n",
    "$$\n",
    "\n",
    "指数関数 \n",
    "e\n",
    "x\n",
    "p\n",
    "(\n",
    "−\n",
    "A\n",
    ")\n",
    " の計算はnp.expを使用してください。\n",
    "\n",
    "\n",
    "numpy.exp — NumPy v1.15 Manual\n",
    "\n",
    "\n",
    "「ハイパボリックタンジェント関数」\n",
    "\n",
    "\n",
    "次の数式で表されますが、np.tanhひとつで実現できます。\n",
    "\n",
    "$$\n",
    "  f(Z) =\n",
    "  tanh(A) =\n",
    "  \\frac{exp(a) - exp(a)}{exp(a) + exp(a)}\n",
    "$$\n",
    "\n",
    "numpy.tanh — NumPy v1.15 Manual\n",
    "\n",
    "\n",
    "＊現在ではこれらの代わりにReLUと呼ばれる活性化関数が一般的です。次のSprintで扱います。"
   ]
  },
  {
   "cell_type": "markdown",
   "metadata": {
    "colab_type": "text",
    "id": "dk_Lzo5CRvF0"
   },
   "source": [
    "### ソフトマックス関数\n",
    "ソフトマックス関数を作成し、フォワードプロパゲーションの中で使用します。これも活性化関数の一種ですが、多クラス分類の出力層で使われる特性上、区別して扱われることが多いです。\n",
    "\n",
    "\n",
    "次の数式です。\n",
    "\n",
    "$$\n",
    "  Z_{3_k} = \n",
    "  \\frac{exp(A_{3_k})}{\\sum_{i=1}^{n_c}exp(A_{3_i})}\n",
    "$$\n",
    "\n",
    "Z\n",
    "3\n",
    "k\n",
    " : \n",
    "k\n",
    " 番目のクラスの確率ベクトル (batch_size,)\n",
    "\n",
    "\n",
    "A\n",
    "3\n",
    "k\n",
    " : \n",
    "k\n",
    " 番目のクラスにあたる前の層からのベクトル (batch_size,)\n",
    "\n",
    "\n",
    "n\n",
    "c\n",
    " : クラスの数、n_output。今回のMNISTでは10。\n",
    "\n",
    "\n",
    "分母は全てのクラスに相当する値を指数関数に通した上で足し合わせたものです。その中で、分子に \n",
    "k\n",
    " 番目のクラスを持ってくることで、 \n",
    "k\n",
    " 番目のクラスである確率が求まります。\n",
    "\n",
    "\n",
    "これを10クラス分計算し、合わせたものが \n",
    "Z\n",
    "3\n",
    " です。\n",
    "\n"
   ]
  },
  {
   "cell_type": "markdown",
   "metadata": {
    "colab_type": "text",
    "id": "1YJ7UM5MRvF1"
   },
   "source": [
    "## 【問題3】交差エントロピー誤差の実装\n",
    "目的関数（損失関数）を作成します。\n",
    "\n",
    "\n",
    "多クラス分類の目的関数である交差エントロピー誤差 \n",
    "L\n",
    " は次の数式です。\n",
    "\n",
    "$$\n",
    "  L = \\frac{1}{n_b}\\sum_{j}^{n_b}\\sum_{k}^{n_c} y_{jk}log(z3_{jk})\n",
    "$$\n",
    "\n",
    "y\n",
    "i\n",
    "j\n",
    " : \n",
    "j\n",
    " 番目のサンプルの \n",
    "k\n",
    " 番目のクラスの正解ラベル（one-hot表現で0か1のスカラー）\n",
    "\n",
    "\n",
    "z\n",
    "3\n",
    "i\n",
    "j\n",
    " : \n",
    "j\n",
    " 番目のサンプルの \n",
    "k\n",
    " 番目のクラスの確率（スカラー）\n",
    "\n",
    "\n",
    "n\n",
    "b\n",
    " : バッチサイズ、batch_size\n",
    "\n",
    "\n",
    "n\n",
    "c\n",
    " : クラスの数、n_output（今回のMNISTでは10）\n",
    "\n",
    "\n",
    "サンプル1つあたりの誤差が求まります。\n"
   ]
  },
  {
   "cell_type": "markdown",
   "metadata": {
    "colab_type": "text",
    "id": "_Ss1jv_KRvF3"
   },
   "source": [
    "## 【問題4】バックプロパゲーションの実装\n",
    "三層のニューラルネットワークのバックプロパゲーションを作成してください。確率的勾配降下法を行う部分です。\n",
    "\n",
    "\n",
    "数式を以下に示します。\n",
    "\n",
    "\n",
    "まず、i層目の重みとバイアスの更新式です。 \n",
    "W\n",
    "i\n",
    " と \n",
    "B\n",
    "i\n",
    " に対し、更新後の \n",
    "W\n",
    "′\n",
    "i\n",
    " と \n",
    "B\n",
    "′\n",
    "i\n",
    " は次の数式で求められます。\n",
    " \n",
    "$$\n",
    "  W_i^{'} = W_i - \\alpha\\frac{\\partial L}{\\partial W_i}\n",
    "  B_i^{'} = B_i - \\alpha\\frac{\\partial L}{\\partial B_i}\n",
    "$$\n",
    "\n",
    "α\n",
    " : 学習率（層ごとに変えることも可能だが、基本的には全て同じとする）\n",
    "\n",
    "\n",
    "∂\n",
    "L\n",
    "∂\n",
    "W\n",
    "i\n",
    " : \n",
    "W\n",
    "i\n",
    " に関する損失 \n",
    "L\n",
    " の勾配\n",
    "\n",
    "\n",
    "∂\n",
    "L\n",
    "∂\n",
    "B\n",
    "i\n",
    " : \n",
    "B\n",
    "i\n",
    " に関する損失 \n",
    "L\n",
    " の勾配\n",
    "\n",
    "\n",
    "＊この勾配はミニバッチのサンプル数分の合計または平均を考えます。ここでは合計を計算します。\n",
    "\n",
    "\n",
    "この更新方法はSprint3線形回帰やsprint4ロジスティック回帰における最急降下法と同様です。より効果的な更新方法が知られており、それは次のSprintで扱います。\n",
    "\n",
    "\n",
    "勾配 \n",
    "∂\n",
    "L\n",
    "∂\n",
    "W\n",
    "i\n",
    " や \n",
    "∂\n",
    "L\n",
    "∂\n",
    "B\n",
    "i\n",
    " を求めるために、バックプロパゲーションを行います。以下の数式です。ハイパボリックタンジェント関数を使用した例を載せました。シグモイド関数の場合の数式はその後ろにあります。\n",
    "\n",
    "\n",
    "「3層目」\n",
    "$$\n",
    "\\frac{\\partial L}{\\partial A_3} = Z_{3} - Y\\\\\n",
    "\\frac{\\partial L}{\\partial B_3} = \\sum_{j}^{n_b}\\frac{\\partial L}{\\partial A_{3\\_j}}\\\\\n",
    "\\frac{\\partial L}{\\partial W_3} = Z_{2}^{T}\\cdot \\frac{\\partial L}{\\partial A_3}\\\\\n",
    "\\frac{\\partial L}{\\partial Z_2} = \\frac{\\partial L}{\\partial A_3} \\cdot W_3^T\n",
    "$$\n",
    "\n",
    "$\\frac{\\partial L}{\\partial A_3}$  : \n",
    "A\n",
    "3\n",
    " に関する損失 \n",
    "L\n",
    " の勾配 (batch_size, n_output)\n",
    " \n",
    " ∂\n",
    "L\n",
    "∂\n",
    "B\n",
    "3\n",
    " : \n",
    "B\n",
    "3\n",
    " に関する損失 \n",
    "L\n",
    " の勾配 (n_output,)\n",
    "\n",
    "\n",
    "∂\n",
    "L\n",
    "∂\n",
    "W\n",
    "3\n",
    " : \n",
    "W\n",
    "3\n",
    " に関する損失 \n",
    "L\n",
    " の勾配 (n_nodes2, n_output)\n",
    "\n",
    "\n",
    "∂\n",
    "L\n",
    "∂\n",
    "Z\n",
    "2\n",
    " : \n",
    "Z\n",
    "2\n",
    " に関する損失 \n",
    "L\n",
    " の勾配 (batch_size, n_nodes2)\n",
    "\n",
    "\n",
    "Z\n",
    "3\n",
    " : ソフトマックス関数の出力 (batch_size, n_nodes2)\n",
    "\n",
    "\n",
    "Y\n",
    " : 正解ラベル (batch_size, n_output)\n",
    "\n",
    "\n",
    "Z\n",
    "2\n",
    " : 2層目の活性化関数の出力 (batch_size, n_nodes2)\n",
    "\n",
    "\n",
    "W\n",
    "3\n",
    " : 3層目の重み (n_nodes2, n_output)"
   ]
  },
  {
   "cell_type": "markdown",
   "metadata": {
    "colab_type": "text",
    "id": "DwvvXN1MRvF5"
   },
   "source": [
    "「2層目」\n",
    "\n",
    "$$\n",
    "\\frac{\\partial L}{\\partial A_2} = \\frac{\\partial L}{\\partial Z_2} \\odot \\{1-tanh^2(A_{2})\\}\\\\\n",
    "\\frac{\\partial L}{\\partial B_2} = \\sum_{j}^{n_b}\\frac{\\partial L}{\\partial A_{2\\_j}}\\\\\n",
    "\\frac{\\partial L}{\\partial W_2} = Z_{1}^T \\cdot \\frac{\\partial L}{\\partial A_2}\\\\\n",
    "\\frac{\\partial L}{\\partial Z_1} = \\frac{\\partial L}{\\partial A_2} \\cdot W_2^T\n",
    "$$\n",
    "\n",
    "∂\n",
    "L\n",
    "∂\n",
    "A\n",
    "2\n",
    " : \n",
    "A\n",
    "2\n",
    " に関する損失 \n",
    "L\n",
    " の勾配 (batch_size, n_nodes2)\n",
    "\n",
    "\n",
    "∂\n",
    "L\n",
    "∂\n",
    "A\n",
    "2\n",
    "j\n",
    " : j番目のサンプルの\n",
    "A\n",
    "2\n",
    " に関する損失 \n",
    "L\n",
    " の勾配 (n_nodes2,)\n",
    "\n",
    "\n",
    "∂\n",
    "L\n",
    "∂\n",
    "B\n",
    "2\n",
    " : \n",
    "B\n",
    "2\n",
    " に関する損失 \n",
    "L\n",
    " の勾配 (n_output,)\n",
    "\n",
    "\n",
    "∂\n",
    "L\n",
    "∂\n",
    "W\n",
    "2\n",
    " : \n",
    "W\n",
    "2\n",
    " に関する損失 \n",
    "L\n",
    " の勾配 (n_nodes1, n_nodes2)\n",
    "\n",
    "\n",
    "∂\n",
    "L\n",
    "∂\n",
    "Z\n",
    "2\n",
    " : \n",
    "Z\n",
    "2\n",
    " に関する損失 \n",
    "L\n",
    " の勾配 (batch_size, n_nodes2)\n",
    "\n",
    "\n",
    "A\n",
    "2\n",
    " : 2層目の出力 (batch_size, n_nodes2)\n",
    "\n",
    "\n",
    "Z\n",
    "1\n",
    " : 1層目の活性化関数の出力 (batch_size, n_nodes1)\n",
    "\n",
    "\n",
    "W\n",
    "2\n",
    " : 2層目の重み (n_nodes1, n_nodes2)"
   ]
  },
  {
   "cell_type": "markdown",
   "metadata": {
    "colab_type": "text",
    "id": "EIWJcVCURvF6"
   },
   "source": [
    "「1層目」\n",
    "\n",
    "\n",
    "$$\n",
    "\\frac{\\partial L}{\\partial A_1} = \\frac{\\partial L}{\\partial Z_1} \\odot \\{1-tanh^2(A_{1})\\}\\\\\n",
    "\\frac{\\partial L}{\\partial B_1} = \\sum_{j}^{n_b}\\frac{\\partial L}{\\partial A_{1\\_j}}\\\\\n",
    "\\frac{\\partial L}{\\partial W_1} = X^T \\cdot \\frac{\\partial L}{\\partial A_1}\\\\\n",
    "$$\n",
    "\n",
    "∂\n",
    "L\n",
    "∂\n",
    "A\n",
    "1\n",
    "  : \n",
    "A\n",
    "1\n",
    " に関する損失 \n",
    "L\n",
    " の勾配 (batch_size, n_nodes1)\n",
    "\n",
    "\n",
    "∂\n",
    "L\n",
    "∂\n",
    "A\n",
    "1\n",
    "j\n",
    " : j番目のサンプルの\n",
    "A\n",
    "1\n",
    " に関する損失 \n",
    "L\n",
    " の勾配 (n_nodes1,)\n",
    "\n",
    "\n",
    "∂\n",
    "L\n",
    "∂\n",
    "B\n",
    "1\n",
    " : \n",
    "B\n",
    "1\n",
    " に関する損失 \n",
    "L\n",
    " の勾配 (n_output,)\n",
    "\n",
    "\n",
    "∂\n",
    "L\n",
    "∂\n",
    "W\n",
    "1\n",
    " : \n",
    "W\n",
    "1\n",
    " に関する損失 \n",
    "L\n",
    " の勾配 (n_features, n_nodes1)\n",
    "\n",
    "\n",
    "∂\n",
    "L\n",
    "∂\n",
    "Z\n",
    "1\n",
    " : \n",
    "Z\n",
    "1\n",
    " に関する損失 \n",
    "L\n",
    " の勾配 (batch_size, n_nodes1)\n",
    "\n",
    "\n",
    "A\n",
    "1\n",
    " : 1層目の出力 (batch_size, n_nodes1)\n",
    "\n",
    "\n",
    "X\n",
    " : 特徴量ベクトル (batch_size, n_features)\n",
    "\n",
    "\n",
    "W\n",
    "1\n",
    " : 1層目の重み (n_features, n_nodes1)"
   ]
  },
  {
   "cell_type": "markdown",
   "metadata": {
    "colab_type": "text",
    "id": "1FC3fIjEMFG_"
   },
   "source": [
    "《補足》\n",
    "\n",
    "\n",
    "活性化関数にシグモイド関数を使用した場合は、次のようになります。\n",
    "\n",
    "$$\n",
    "\\frac{\\partial L}{\\partial A_2} = \\frac{\\partial L}{\\partial Z_2} \\odot  \\{1-sigmoid(A_{2})\\}sigmoid(A_{2})\n",
    "\\\\\n",
    "\\frac{\\partial L}{\\partial A_1} = \\frac{\\partial L}{\\partial Z_1} \\odot  \\{1-sigmoid(A_{1})\\}sigmoid(A_{1})\n",
    "$$"
   ]
  },
  {
   "cell_type": "markdown",
   "metadata": {
    "colab_type": "text",
    "id": "qO0J3XJIk_rI"
   },
   "source": [
    "## 【問題5】推定\n",
    "推定を行うメソッドを作成してください。\n",
    "\n",
    "\n",
    "フォワードプロパゲーションによって出力された10個の確率の中で、最も高いものはどれかを判定します。\n",
    "\n"
   ]
  },
  {
   "cell_type": "code",
   "execution_count": 304,
   "metadata": {
    "colab": {
     "base_uri": "https://localhost:8080/",
     "height": 527
    },
    "colab_type": "code",
    "executionInfo": {
     "elapsed": 164996,
     "status": "ok",
     "timestamp": 1598852297297,
     "user": {
      "displayName": "yoshimasa obata",
      "photoUrl": "",
      "userId": "05376502897348058331"
     },
     "user_tz": -540
    },
    "id": "TJqF4T6_pBqu",
    "outputId": "b3e5c0b6-6c1e-484c-c5a4-a982cfefc7a5"
   },
   "outputs": [
    {
     "name": "stdout",
     "output_type": "stream",
     "text": [
      "[INFO] epoch : 1 / 10\n",
      "       Loss(train): 0.17625694292558772\n",
      "       Loss(test) : 0.17625694292558772\n",
      "[INFO] epoch : 2 / 10\n",
      "       Loss(train): 0.10055377971913466\n",
      "       Loss(test) : 0.10055377971913466\n",
      "[INFO] epoch : 3 / 10\n",
      "       Loss(train): 0.07381350736262071\n",
      "       Loss(test) : 0.07381350736262071\n",
      "[INFO] epoch : 4 / 10\n",
      "       Loss(train): 0.05950245772087824\n",
      "       Loss(test) : 0.05950245772087824\n",
      "[INFO] epoch : 5 / 10\n",
      "       Loss(train): 0.041080069127813826\n",
      "       Loss(test) : 0.041080069127813826\n",
      "[INFO] epoch : 6 / 10\n",
      "       Loss(train): 0.03443426264307193\n",
      "       Loss(test) : 0.03443426264307193\n",
      "[INFO] epoch : 7 / 10\n",
      "       Loss(train): 0.024843422549846512\n",
      "       Loss(test) : 0.024843422549846512\n",
      "[INFO] epoch : 8 / 10\n",
      "       Loss(train): 0.019085704550295894\n",
      "       Loss(test) : 0.019085704550295894\n",
      "[INFO] epoch : 9 / 10\n",
      "       Loss(train): 0.015177971624896496\n",
      "       Loss(test) : 0.015177971624896496\n",
      "[INFO] epoch : 10 / 10\n",
      "       Loss(train): 0.012906681733292789\n",
      "       Loss(test) : 0.012906681733292789\n"
     ]
    }
   ],
   "source": [
    "snn = ScratchSimpleNeuralNetrowkClassifier(sigma=0.01, lr=0.01, epoch=10, verbose=True, interval=1)\n",
    "snn.fit(X_train, y_train, X_test, y_test)"
   ]
  },
  {
   "cell_type": "code",
   "execution_count": 305,
   "metadata": {
    "colab": {
     "base_uri": "https://localhost:8080/",
     "height": 34
    },
    "colab_type": "code",
    "executionInfo": {
     "elapsed": 166155,
     "status": "ok",
     "timestamp": 1598852298755,
     "user": {
      "displayName": "yoshimasa obata",
      "photoUrl": "",
      "userId": "05376502897348058331"
     },
     "user_tz": -540
    },
    "id": "WkzPoj_PRvGM",
    "outputId": "cd406542-38e3-4136-d9b1-ff1c25608fe6"
   },
   "outputs": [
    {
     "data": {
      "text/plain": [
       "array([5, 0, 4, ..., 5, 6, 8])"
      ]
     },
     "execution_count": 305,
     "metadata": {
      "tags": []
     },
     "output_type": "execute_result"
    }
   ],
   "source": [
    "y_pred_train = snn.predict(X_train)\n",
    "y_pred_train"
   ]
  },
  {
   "cell_type": "code",
   "execution_count": 306,
   "metadata": {
    "colab": {
     "base_uri": "https://localhost:8080/",
     "height": 34
    },
    "colab_type": "code",
    "executionInfo": {
     "elapsed": 166030,
     "status": "ok",
     "timestamp": 1598852298981,
     "user": {
      "displayName": "yoshimasa obata",
      "photoUrl": "",
      "userId": "05376502897348058331"
     },
     "user_tz": -540
    },
    "id": "nJKVRjYrl-Wd",
    "outputId": "5aeee00b-f4fb-4cdd-818f-1a10ec2a1ad3"
   },
   "outputs": [
    {
     "data": {
      "text/plain": [
       "array([7, 2, 1, ..., 4, 5, 6])"
      ]
     },
     "execution_count": 306,
     "metadata": {
      "tags": []
     },
     "output_type": "execute_result"
    }
   ],
   "source": [
    "y_pred = snn.predict(X_test)\n",
    "y_pred"
   ]
  },
  {
   "cell_type": "markdown",
   "metadata": {
    "colab_type": "text",
    "id": "LJmrdbo6lXkt"
   },
   "source": [
    "## 【問題6】学習と推定\n",
    "MNISTのデータを学習・推定し、Accuracyを計算してください。"
   ]
  },
  {
   "cell_type": "code",
   "execution_count": 307,
   "metadata": {
    "colab": {
     "base_uri": "https://localhost:8080/",
     "height": 34
    },
    "colab_type": "code",
    "executionInfo": {
     "elapsed": 165351,
     "status": "ok",
     "timestamp": 1598852298982,
     "user": {
      "displayName": "yoshimasa obata",
      "photoUrl": "",
      "userId": "05376502897348058331"
     },
     "user_tz": -540
    },
    "id": "ur7TLBYeRvGV",
    "outputId": "93b4e8a8-1771-4454-8689-e4882c6a2c4b"
   },
   "outputs": [
    {
     "data": {
      "text/plain": [
       "0.9957333333333334"
      ]
     },
     "execution_count": 307,
     "metadata": {
      "tags": []
     },
     "output_type": "execute_result"
    }
   ],
   "source": [
    "score = metrics.accuracy_score(y_train, y_pred_train)\n",
    "score"
   ]
  },
  {
   "cell_type": "code",
   "execution_count": 308,
   "metadata": {
    "colab": {
     "base_uri": "https://localhost:8080/",
     "height": 34
    },
    "colab_type": "code",
    "executionInfo": {
     "elapsed": 164996,
     "status": "ok",
     "timestamp": 1598852298983,
     "user": {
      "displayName": "yoshimasa obata",
      "photoUrl": "",
      "userId": "05376502897348058331"
     },
     "user_tz": -540
    },
    "id": "sHXYL8nMRvGi",
    "outputId": "3db69935-47e8-477f-c128-21e6c61c84ac"
   },
   "outputs": [
    {
     "data": {
      "text/plain": [
       "0.9779"
      ]
     },
     "execution_count": 308,
     "metadata": {
      "tags": []
     },
     "output_type": "execute_result"
    }
   ],
   "source": [
    "score_train = metrics.accuracy_score(y_test, y_pred)\n",
    "score_train"
   ]
  },
  {
   "cell_type": "markdown",
   "metadata": {
    "colab_type": "text",
    "id": "AgreDZG0mRJy"
   },
   "source": [
    "## 【問題7】学習曲線のプロット\n",
    "学習曲線をプロットしてください。\n",
    "\n",
    "ニューラルネットワークは過学習が発生しやすいため、学習曲線の確認が重要です。訓練データと検証データに対するエポックごとの損失（交差エントロピー誤差）を記録できるようにする必要があります。"
   ]
  },
  {
   "cell_type": "code",
   "execution_count": 309,
   "metadata": {
    "colab": {
     "base_uri": "https://localhost:8080/",
     "height": 279
    },
    "colab_type": "code",
    "executionInfo": {
     "elapsed": 164666,
     "status": "ok",
     "timestamp": 1598852299311,
     "user": {
      "displayName": "yoshimasa obata",
      "photoUrl": "",
      "userId": "05376502897348058331"
     },
     "user_tz": -540
    },
    "id": "S4zSyl30RvGz",
    "outputId": "67d233fb-5177-46e7-895e-141c25d28bf1"
   },
   "outputs": [
    {
     "data": {
      "image/png": "[encoded data removed]",
      "text/plain": [
       "<Figure size 432x288 with 1 Axes>"
      ]
     },
     "metadata": {
      "needs_background": "light",
      "tags": []
     },
     "output_type": "display_data"
    }
   ],
   "source": [
    "plt.plot(snn.loss)\n",
    "plt.plot(snn.val_loss)\n",
    "plt.xlabel('epoch')\n",
    "plt.ylabel('cross entropy loss')\n",
    "plt.grid(True)\n",
    "plt.show()"
   ]
  },
  {
   "cell_type": "markdown",
   "metadata": {
    "colab_type": "text",
    "id": "SEgHpEVZ_fHT"
   },
   "source": [
    "## 【問題8】（アドバンス課題）誤分類の確認\n",
    "誤分類した画像はどのようなものだったかを確認してください。推定値を用意し、以下のコードを実行してください。\n",
    "\n",
    "```\n",
    "\"\"\"\n",
    "語分類結果を並べて表示する。画像の上の表示は「推定結果/正解」である。\n",
    "\n",
    "Parameters:\n",
    "----------\n",
    "y_pred : 推定値のndarray (n_samples,)\n",
    "y_val : 検証データの正解ラベル(n_samples,)\n",
    "X_val : 検証データの特徴量（n_samples, n_features)\n",
    "\"\"\"\n",
    "import numpy as np\n",
    "import matplotlib.pyplot as plt\n",
    "num = 36 # いくつ表示するか\n",
    "true_false = y_pred==y_val\n",
    "false_list = np.where(true_false==False)[0].astype(np.int)\n",
    "if false_list.shape[0] < num:\n",
    "    num = false_list.shape[0]\n",
    "fig = plt.figure(figsize=(6, 6))\n",
    "fig.subplots_adjust(left=0, right=0.8,  bottom=0, top=0.8, hspace=1, wspace=0.5)\n",
    "for i in range(num):\n",
    "    ax = fig.add_subplot(6, 6, i + 1, xticks=[], yticks=[])\n",
    "    ax.set_title(\"{} / {}\".format(y_pred[false_list[i]],y_val[false_list[i]]))\n",
    "    ax.imshow(X_val.reshape(-1,28,28)[false_list[i]], cmap='gray')\n",
    "```"
   ]
  },
  {
   "cell_type": "code",
   "execution_count": 310,
   "metadata": {
    "colab": {},
    "colab_type": "code",
    "executionInfo": {
     "elapsed": 163095,
     "status": "ok",
     "timestamp": 1598852299314,
     "user": {
      "displayName": "yoshimasa obata",
      "photoUrl": "",
      "userId": "05376502897348058331"
     },
     "user_tz": -540
    },
    "id": "bCw_8jBARvHK"
   },
   "outputs": [],
   "source": [
    "def miss_check(X_val, y_val, y_pred):\n",
    "    num = 36 # いくつ表示するか\n",
    "    true_false = y_pred==y_val\n",
    "    false_list = np.where(true_false==False)[0].astype(np.int)\n",
    "    if false_list.shape[0] < num:\n",
    "        num = false_list.shape[0]\n",
    "    fig = plt.figure(figsize=(6, 6))\n",
    "    fig.subplots_adjust(left=0, right=0.8,  bottom=0, top=0.8, hspace=1, wspace=0.5)\n",
    "    for i in range(num):\n",
    "        ax = fig.add_subplot(6, 6, i + 1, xticks=[], yticks=[])\n",
    "        ax.set_title(\"{} / {}\".format(y_pred[false_list[i]],y_val[false_list[i]]))\n",
    "        ax.imshow(X_val.reshape(-1,28,28)[false_list[i]], cmap='gray')"
   ]
  },
  {
   "cell_type": "code",
   "execution_count": 311,
   "metadata": {
    "colab": {
     "base_uri": "https://localhost:8080/",
     "height": 396
    },
    "colab_type": "code",
    "executionInfo": {
     "elapsed": 163671,
     "status": "ok",
     "timestamp": 1598852300754,
     "user": {
      "displayName": "yoshimasa obata",
      "photoUrl": "",
      "userId": "05376502897348058331"
     },
     "user_tz": -540
    },
    "id": "0Nrfr8osRvHS",
    "outputId": "3da8a329-3a8e-41a2-e32c-f8c8a17f0402"
   },
   "outputs": [
    {
     "data": {
      "image/png": "[encoded data removed]",
      "text/plain": [
       "<Figure size 432x432 with 36 Axes>"
      ]
     },
     "metadata": {
      "tags": []
     },
     "output_type": "display_data"
    }
   ],
   "source": [
    "miss_check(X_test, y_test, y_pred)"
   ]
  }
 ],
 "metadata": {
  "accelerator": "TPU",
  "colab": {
   "collapsed_sections": [],
   "machine_shape": "hm",
   "name": "Sprint09-01_kadai01.ipynb",
   "provenance": [],
   "toc_visible": true
  },
  "kernelspec": {
   "display_name": "Python 3",
   "language": "python",
   "name": "python3"
  },
  "language_info": {
   "codemirror_mode": {
    "name": "ipython",
    "version": 3
   },
   "file_extension": ".py",
   "mimetype": "text/x-python",
   "name": "python",
   "nbconvert_exporter": "python",
   "pygments_lexer": "ipython3",
   "version": "3.8.3"
  }
 },
 "nbformat": 4,
 "nbformat_minor": 4
}
