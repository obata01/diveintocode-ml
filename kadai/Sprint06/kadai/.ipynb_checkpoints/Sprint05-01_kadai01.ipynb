{
 "cells": [
  {
   "cell_type": "markdown",
   "metadata": {},
   "source": [
    "# Sprint 機械学習スクラッチ SVM"
   ]
  },
  {
   "cell_type": "markdown",
   "metadata": {},
   "source": [
    "## Sprintの目的\n",
    "- スクラッチを通してSVMを理解する\n",
    "- 線形モデルと異なる手法に触れる\n",
    "\n",
    "## どのように学ぶか\n",
    "- スクラッチでSVMを実装した後、学習と検証を行なっていきます。"
   ]
  },
  {
   "cell_type": "markdown",
   "metadata": {},
   "source": [
    "## 2.SVMスクラッチ\n",
    "\n",
    "分類のためのサポートベクターマシン（SVM、サポートベクトルマシン）のクラスをスクラッチで作成していきます。NumPyなど最低限のライブラリのみを使いアルゴリズムを実装していきます。\n",
    "\n",
    "\n",
    "SVMには学習時に分類の間違いを認めるソフトマージンSVMと、認めないハードマージンSVMがありますが、ここでは実装が単純なハードマージンSVMを扱います。\n",
    "\n",
    "\n",
    "以下に雛形を用意してあります。このScratchSVMClassifierクラスにコードを書き加えていってください。\n"
   ]
  },
  {
   "cell_type": "markdown",
   "metadata": {},
   "source": [
    "### 雛形\n",
    "\n",
    "```\n",
    "class ScratchSVMClassifier():\n",
    "    \"\"\"\n",
    "    SVM分類器のスクラッチ実装\n",
    "\n",
    "    Parameters\n",
    "    ----------\n",
    "    num_iter : int\n",
    "      イテレーション数\n",
    "    lr : float\n",
    "      学習率\n",
    "    kernel : str\n",
    "      カーネルの種類。線形カーネル（linear）か多項式カーネル（polly）\n",
    "    threshold : float\n",
    "      サポートベクターを選ぶための閾値\n",
    "    verbose : bool\n",
    "      学習過程を出力する場合はTrue\n",
    "\n",
    "    Attributes\n",
    "    ----------\n",
    "    self.n_support_vectors : int\n",
    "      サポートベクターの数\n",
    "    self.index_support_vectors : 次の形のndarray, shape (n_support_vectors,)\n",
    "      サポートベクターのインデックス\n",
    "    self.X_sv :  次の形のndarray, shape(n_support_vectors, n_features)\n",
    "      サポートベクターの特徴量\n",
    "    self.lam_sv :  次の形のndarray, shape(n_support_vectors, 1)\n",
    "      サポートベクターの未定乗数\n",
    "    self.y_sv :  次の形のndarray, shape(n_support_vectors, 1)\n",
    "      サポートベクターのラベル\n",
    "\n",
    "    \"\"\"\n",
    "    def __init__(self, num_iter, lr, kernel='linear', threshold=1e-5, verbose=False):\n",
    "        # ハイパーパラメータを属性として記録\n",
    "        self.iter = num_iter\n",
    "        self.lr = lr\n",
    "        self.kernel = kernel\n",
    "        self.threshold = threshold\n",
    "        self.verbose = verbose\n",
    "    def fit(self, X, y, X_val=None, y_val=None):\n",
    "        \"\"\"\n",
    "        SVM分類器を学習する。検証データが入力された場合はそれに対する精度もイテレーションごとに計算する。\n",
    "\n",
    "        Parameters\n",
    "        ----------\n",
    "        X : 次の形のndarray, shape (n_samples, n_features)\n",
    "            訓練データの特徴量\n",
    "        y : 次の形のndarray, shape (n_samples, )\n",
    "            訓練データの正解値\n",
    "        X_val : 次の形のndarray, shape (n_samples, n_features)\n",
    "            検証データの特徴量\n",
    "        y_val : 次の形のndarray, shape (n_samples, )\n",
    "            検証データの正解値\n",
    "        \"\"\"\n",
    "        if self.verbose:\n",
    "            #verboseをTrueにした際は学習過程を出力\n",
    "            print()\n",
    "        pass\n",
    "    def predict(self, X):\n",
    "        \"\"\"\n",
    "        SVM分類器を使いラベルを推定する。\n",
    "\n",
    "        Parameters\n",
    "        ----------\n",
    "        X : 次の形のndarray, shape (n_samples, n_features)\n",
    "            サンプル\n",
    "\n",
    "        Returns\n",
    "        -------\n",
    "            次の形のndarray, shape (n_samples, 1)\n",
    "            SVM分類器による推定結果\n",
    "        \"\"\"\n",
    "        pass\n",
    "        return\n",
    "```"
   ]
  },
  {
   "cell_type": "code",
   "execution_count": 1,
   "metadata": {},
   "outputs": [],
   "source": [
    "# ライブラリインポート\n",
    "import numpy as np\n",
    "import pandas as pd\n",
    "import matplotlib.pyplot as plt\n",
    "import seaborn as sns\n",
    "from sklearn.svm import SVC\n",
    "from sklearn import metrics\n",
    "from sklearn.model_selection import train_test_split\n",
    "from matplotlib.colors import ListedColormap\n",
    "import matplotlib.patches as mpatches\n",
    "from sklearn.datasets import load_iris\n",
    "%matplotlib inline"
   ]
  },
  {
   "cell_type": "markdown",
   "metadata": {},
   "source": [
    "## 【まとめ】最終コード"
   ]
  },
  {
   "cell_type": "code",
   "execution_count": 129,
   "metadata": {},
   "outputs": [],
   "source": [
    "class ScratchSVMClassifier():\n",
    "    \"\"\"\n",
    "    SVM分類器のスクラッチ実装\n",
    "\n",
    "    Parameters\n",
    "    ----------\n",
    "    num_iter : int\n",
    "      イテレーション数\n",
    "    lr : float\n",
    "      学習率\n",
    "    kernel : str\n",
    "      カーネルの種類。線形カーネル（linear）か多項式カーネル（polly）\n",
    "    threshold : float\n",
    "      サポートベクターを選ぶための閾値\n",
    "    verbose : bool\n",
    "      学習過程を出力する場合はTrue\n",
    "\n",
    "    Attributes\n",
    "    ----------\n",
    "    self.n_support_vectors : int\n",
    "      サポートベクターの数\n",
    "    self.index_support_vectors : 次の形のndarray, shape (n_support_vectors,)\n",
    "      サポートベクターのインデックス\n",
    "    self.X_sv :  次の形のndarray, shape(n_support_vectors, n_features)\n",
    "      サポートベクターの特徴量\n",
    "    self.lam_sv :  次の形のndarray, shape(n_support_vectors, 1)\n",
    "      サポートベクターの未定乗数\n",
    "    self.y_sv :  次の形のndarray, shape(n_support_vectors, 1)\n",
    "      サポートベクターのラベル\n",
    "\n",
    "    \"\"\"\n",
    "    def __init__(self, num_iter, lr=0.1, kernel='linear', threshold=1e-5, verbose=False, params={'g':1.0, 't':0.0, 'd':1.0}, q=0, verbose_filter=1):\n",
    "        # ハイパーパラメータを属性として記録\n",
    "        self.iter = num_iter\n",
    "        self.lr = lr\n",
    "        self.kernel = kernel\n",
    "        self.threshold = threshold\n",
    "        self.verbose = verbose\n",
    "        \n",
    "        if self.kernel == 'polly':\n",
    "            self.p_gamma = params['g']\n",
    "            self.p_theta = params['t']\n",
    "            self.p_d = params['d']\n",
    "        \n",
    "        # 課題提出用\n",
    "        self.q = q\n",
    "        self.verbose_filter = verbose_filter\n",
    "        \n",
    "        \n",
    "    def fit(self, X, y, X_val=None, y_val=None):\n",
    "        \"\"\"\n",
    "        SVM分類器を学習する。検証データが入力された場合はそれに対する精度もイテレーションごとに計算する。\n",
    "\n",
    "        Parameters\n",
    "        ----------\n",
    "        X : 次の形のndarray, shape (n_samples, n_features)\n",
    "            訓練データの特徴量\n",
    "        y : 次の形のndarray, shape (n_samples, )\n",
    "            訓練データの正解値\n",
    "        X_val : 次の形のndarray, shape (n_samples, n_features)\n",
    "            検証データの特徴量\n",
    "        y_val : 次の形のndarray, shape (n_samples, )\n",
    "            検証データの正解値\n",
    "        \"\"\"\n",
    "        # インスタンス変数\n",
    "        self.X_samples = X.shape[0]         # Xの行数\n",
    "        self.X_featurs = X.shape[1]         # Xの列数\n",
    "        self.lag_lambda = None             # ラグランジュ乗数ラムダの初期化\n",
    "        self.support_vector = None         # サポートベクター\n",
    "        self.support_vector_lambda = None  # サポートベクターのラグランジュ乗数\n",
    "        self.support_vector_y = None       # サポートベクターのyラベル\n",
    "        self.loop_count = 0\n",
    "        \n",
    "        # yの値を置換\n",
    "        y = self._y_change(y)\n",
    "        \n",
    "        \n",
    "        # メイン処理\n",
    "        for i in range(self.iter):\n",
    "            self.loop_count = i\n",
    "            # 問題1 - ラグランジュ未定乗数法\n",
    "            self.lag_lambda = self._lagrange_multiplier(X, y)\n",
    "            \n",
    "            # 問題2 - サポートベクターの決定・保持\n",
    "            self._support_vector(X, y, self.lag_lambda)\n",
    "        \n",
    "        \n",
    "            # デバッグ\n",
    "            if self.verbose and self.loop_count % self.verbose_filter == 0:\n",
    "                #verboseをTrueにした際は学習過程を出力\n",
    "                print('Loop count : {} \\n Support vector num: {}'.format(self.loop_count, len(self.support_vector)))\n",
    "            pass\n",
    "    \n",
    "\n",
    "    \n",
    "    # yの値を-1,1へ置換する処理\n",
    "    def _y_change(self, y):\n",
    "        \"\"\"\n",
    "        yの値を-1,1へ置換\n",
    "        \"\"\"\n",
    "        self.y_max = y.max()\n",
    "        self.y_min = y.min()\n",
    "        y = np.where(y == self.y_max, 1, -1)\n",
    "        return y\n",
    "    \n",
    "\n",
    "    \n",
    "    \n",
    "    # 問題1 ラグランジュ乗数の計算\n",
    "    def _lagrange_multiplier(self, X, y):\n",
    "        \"\"\"\n",
    "        ラグランジュ未定乗数法\n",
    "        \"\"\"\n",
    "        # パラメータの初期値設定\n",
    "        if np.any(self.lag_lambda == None):\n",
    "            np.random.seed(0)\n",
    "            self.lag_lambda = np.random.rand(self.X_samples)[:, np.newaxis]\n",
    "            \n",
    "        # ラグランジュの未定乗数法による最急降下\n",
    "        new_lambda = self.lag_lambda + self.lr * (1 - np.sum(self.lag_lambda.T * y * y.T * self._kernel_func(X, X), axis=1)[:, np.newaxis])\n",
    "        # 0より小さいラムダの値を0に置換\n",
    "        new_lambda = np.where(new_lambda < 0, 0, new_lambda)\n",
    "        \n",
    "        # 課題提出用表示\n",
    "        self.q_print('new_lambda', new_lambda, q=1, loop_count=self.loop_count)\n",
    "        \n",
    "        return new_lambda\n",
    "    \n",
    "    \n",
    "                \n",
    "    # 問題1 カーネル関数     \n",
    "    def _kernel_func(self, X1, X2):\n",
    "        \"\"\"\n",
    "        カーネル関数\n",
    "        \"\"\"\n",
    "        if self.kernel == 'linear':\n",
    "            k_x = X1 @ X2.T\n",
    "            \n",
    "        # 問題6 （アドバンス課題）多項式カーネル関数の作成\n",
    "        elif self.kernel == 'polly':\n",
    "            k_x = (self.p_gamma * (X1 @ X2.T) + self.p_theta)**self.p_d\n",
    "        else:\n",
    "            raise ValueError\n",
    "\n",
    "        return k_x\n",
    "    \n",
    "    \n",
    "    \n",
    "    # 問題2 サポートベクターの保持\n",
    "    def _support_vector(self, X, y, lag_lambda):\n",
    "        x_index = np.where(lag_lambda > self.threshold)        # 閾値を超えるラグランジュ乗数のインデックス番号を取得\n",
    "        self.support_vector = X[x_index[0], :]                 # サポートベクター\n",
    "        self.support_vector_lambda = lag_lambda[x_index[0], :]  # サポートベクターのラグランジュ乗数\n",
    "        self.support_vector_y = y[x_index[0], :]                # サポートベクターのyラベル\n",
    "        \n",
    "        # 課題提出用表示\n",
    "#         self.q_print('support_vector', self.support_vector, q=2, loop_count=self.loop_count)\n",
    "        self.q_print('support_vector_num', len(self.support_vector), q=2, loop_count=self.loop_count)\n",
    "        \n",
    "    \n",
    "    # 問題3 推定\n",
    "    def predict(self, X):\n",
    "        \"\"\"\n",
    "        SVM分類器を使いラベルを推定する。\n",
    "\n",
    "        Parameters\n",
    "        ----------\n",
    "        X : 次の形のndarray, shape (n_samples, n_features)\n",
    "            サンプル\n",
    "\n",
    "        Returns\n",
    "        -------\n",
    "            次の形のndarray, shape (n_samples, 1)\n",
    "            SVM分類器による推定結果\n",
    "        \"\"\"\n",
    "        fx = np.sum(self.support_vector_lambda.T * self.support_vector_y.T * \n",
    "                    self._kernel_func(X, self.support_vector), axis=1)\n",
    "        fx = np.where(fx >= 0, 1, -1)\n",
    "        \n",
    "        fx = np.where(fx == fx.max(), self.y_max, self.y_min)\n",
    "        \n",
    "        return fx\n",
    "    \n",
    "    \n",
    "    \n",
    "    # 課題提出用print関数\n",
    "    def q_print(self, text, value, q=0, loop_count=None):\n",
    "        if q in self.q:\n",
    "            if loop_count != None:\n",
    "                print('[INFO] Loop count :', loop_count)\n",
    "            print('[INFO] {} : {}'.format(text, value))\n",
    "        "
   ]
  },
  {
   "cell_type": "markdown",
   "metadata": {},
   "source": [
    "## 【問題1】ラグランジュの未定乗数法による最急降下\n",
    "SVMの学習は、ラグランジュの未定乗数法を用います。サンプル数分のラグランジュ乗数 \n",
    "$\\lambda$\n",
    " を用意して、以下の式により更新していきます。この計算を行うメソッドをScratchSVMClassifierクラスに実装してください。\n",
    "\n",
    "$$\n",
    "  \\lambda_i^{new} = \\lambda_i + \\alpha(1 - \\sum_{j=1}^{n}\\lambda_jy_iy_jk(x_i, x_j))\n",
    "$$"
   ]
  },
  {
   "cell_type": "markdown",
   "metadata": {},
   "source": [
    "ここで \n",
    "$k_{(x_i,x_j)}$\n",
    " はカーネル関数です。線形カーネルの場合は次のようになります。他のカーネル関数にも対応できるように、この部分は独立したメソッドとしておきましょう。\n",
    " \n",
    "$$\n",
    "  k(x_i, x_j) = x_i^Tx_j\n",
    "$$\n",
    "\n",
    "条件として、更新毎に \n",
    "λ\n",
    "i >=\n",
    "0\n",
    "を満たす必要があります。満たさない場合は \n",
    "λ\n",
    "i\n",
    "=\n",
    "0\n",
    "とします。\n",
    "\n",
    "\n",
    "i\n",
    ",\n",
    "j\n",
    " : サンプルのインデックス\n",
    "\n",
    "\n",
    "λ\n",
    "n\n",
    "e\n",
    "w\n",
    "i\n",
    " : 更新後のi番目のサンプルのラグランジュ乗数\n",
    "\n",
    "\n",
    "λ\n",
    "i\n",
    " : 更新前のi番目のサンプルのラグランジュ乗数\n",
    "\n",
    "\n",
    "α\n",
    " : 学習率\n",
    "\n",
    "\n",
    "λ\n",
    "j\n",
    " : j番目のサンプルのラグランジュ乗数\n",
    "\n",
    "\n",
    "y\n",
    "i\n",
    " : i番目のサンプルのラベル\n",
    "\n",
    "\n",
    "y\n",
    "j\n",
    " : j番目のサンプルのラベル\n",
    "\n",
    "\n",
    "x\n",
    "i\n",
    " : i番目のサンプルの特徴量ベクトル\n",
    "\n",
    "\n",
    "x\n",
    "j\n",
    " : j番目のサンプルの特徴量ベクトル\n",
    "\n",
    "\n",
    "あるサンプルに対しての全てのサンプルとの関係を計算していくことになります。\n"
   ]
  },
  {
   "cell_type": "code",
   "execution_count": 3,
   "metadata": {},
   "outputs": [],
   "source": [
    "# サンプルデータ（アイリスデータ）ロード\n",
    "iris_dataset = load_iris()\n",
    "\n",
    "# 初期設定\n",
    "columns_list = ['sepal_length', 'sepal_width', 'petal_length', 'petal_width']\n",
    "df = pd.DataFrame(iris_dataset['data'], columns=columns_list)\n",
    "df['target'] = iris_dataset['target']\n",
    "\n",
    "# 必要なデータのみ抽出\n",
    "df = df[df['target'] != 0]\n",
    "x = np.array(df[['sepal_length', 'petal_length']])\n",
    "y = np.array(df['target'])[:, np.newaxis]"
   ]
  },
  {
   "cell_type": "code",
   "execution_count": 4,
   "metadata": {},
   "outputs": [
    {
     "data": {
      "image/png": "[encoded data removed]",
      "text/plain": [
       "<Figure size 432x288 with 1 Axes>"
      ]
     },
     "metadata": {
      "needs_background": "light"
     },
     "output_type": "display_data"
    }
   ],
   "source": [
    "# グラフ化\n",
    "x0 = df[['sepal_length', 'petal_length']][df['target'] == 1]\n",
    "x1 = df[['sepal_length', 'petal_length']][df['target'] == 2]\n",
    "plt.scatter(x0['sepal_length'], x0['petal_length'], label=1)\n",
    "plt.scatter(x1['sepal_length'], x1['petal_length'], label=2)\n",
    "plt.grid(True, alpha=.5)\n",
    "plt.legend(loc='best')\n",
    "plt.show()"
   ]
  },
  {
   "cell_type": "code",
   "execution_count": 16,
   "metadata": {},
   "outputs": [],
   "source": [
    "# 計算結果確認用に別処理を用意\n",
    "def test_calc(x, y, lam, lr=0.1):\n",
    "    y = np.where(y == y.max(), 1, -1)\n",
    "    new_lambda = np.zeros([x.shape[0],1])\n",
    "    for i in range(x.shape[0]):\n",
    "        sum_tmp = 0\n",
    "        for j in range(x.shape[0]):\n",
    "            karnel = x[i:i+1,:] @ x[j:j+1, :].T\n",
    "            tmp = y[i] * y[j] * karnel\n",
    "            tmp2 = lam[j] * tmp\n",
    "            sum_tmp += tmp2\n",
    "        new_lambda[i] = lam[i] + lr * (1 - sum_tmp)\n",
    "    print('new_lambda :',new_lambda)"
   ]
  },
  {
   "cell_type": "code",
   "execution_count": 17,
   "metadata": {},
   "outputs": [
    {
     "name": "stdout",
     "output_type": "stream",
     "text": [
      "new_lambda : [[-17.43507414]\n",
      " [-15.74724746]\n",
      " [-17.16044204]\n",
      " [-13.60718349]\n",
      " [-16.30175514]\n",
      " [-14.07440966]\n",
      " [-15.80416738]\n",
      " [-11.66835805]\n",
      " [-16.01062332]\n",
      " [-13.00789974]\n",
      " [-12.04547608]\n",
      " [-14.64687027]\n",
      " [-14.82840286]\n",
      " [-14.81840566]\n",
      " [-14.27351892]\n",
      " [-17.10783901]\n",
      " [-14.45120923]\n",
      " [-14.08017224]\n",
      " [-15.18652777]\n",
      " [-13.51683371]\n",
      " [-14.28172862]\n",
      " [-14.84616501]\n",
      " [-15.80846916]\n",
      " [-14.96347312]\n",
      " [-16.31596848]\n",
      " [-16.30617114]\n",
      " [-17.35687902]\n",
      " [-16.33488116]\n",
      " [-14.9450839 ]\n",
      " [-14.16467223]\n",
      " [-13.85931714]\n",
      " [-13.3355421 ]\n",
      " [-14.42844783]\n",
      " [-14.98308004]\n",
      " [-13.95488553]\n",
      " [-14.84929673]\n",
      " [-16.62516347]\n",
      " [-15.58252972]\n",
      " [-13.4712917 ]\n",
      " [-13.47024637]\n",
      " [-13.84894661]\n",
      " [-15.29287338]\n",
      " [-14.20106393]\n",
      " [-12.74878173]\n",
      " [-13.76237003]\n",
      " [-14.00737502]\n",
      " [-14.46763033]\n",
      " [-15.80756431]\n",
      " [-12.70016411]\n",
      " [-14.30020516]\n",
      " [ 17.19521186]\n",
      " [ 15.6923632 ]\n",
      " [ 19.59030116]\n",
      " [ 16.67067205]\n",
      " [ 17.30345022]\n",
      " [ 20.10629632]\n",
      " [ 13.5824029 ]\n",
      " [ 19.40935907]\n",
      " [ 18.05863654]\n",
      " [ 19.12342299]\n",
      " [ 17.15486432]\n",
      " [ 16.88558765]\n",
      " [ 18.45524062]\n",
      " [ 15.12897153]\n",
      " [ 15.45034405]\n",
      " [ 17.14393768]\n",
      " [ 17.87327581]\n",
      " [ 20.30506119]\n",
      " [ 21.07409874]\n",
      " [ 15.83351544]\n",
      " [ 19.05244057]\n",
      " [ 15.19646667]\n",
      " [ 21.184721  ]\n",
      " [ 17.07479404]\n",
      " [ 18.31749238]\n",
      " [ 18.90408823]\n",
      " [ 16.48978237]\n",
      " [ 16.09239278]\n",
      " [ 17.11364359]\n",
      " [ 18.95543423]\n",
      " [ 19.69473287]\n",
      " [ 21.07768432]\n",
      " [ 16.88165089]\n",
      " [ 17.19061456]\n",
      " [ 16.6374764 ]\n",
      " [ 20.38876764]\n",
      " [ 17.0918753 ]\n",
      " [ 16.89734694]\n",
      " [ 16.2851696 ]\n",
      " [ 18.96298642]\n",
      " [ 17.88270079]\n",
      " [ 18.65880972]\n",
      " [ 15.38555955]\n",
      " [ 18.57162608]\n",
      " [ 17.8676349 ]\n",
      " [ 17.69093536]\n",
      " [ 17.07055841]\n",
      " [ 17.03009925]\n",
      " [ 17.1204972 ]\n",
      " [ 15.50733332]]\n"
     ]
    }
   ],
   "source": [
    "np.random.seed(0)\n",
    "test_calc(x, y, np.random.rand(x.shape[0])[:, np.newaxis])"
   ]
  },
  {
   "cell_type": "code",
   "execution_count": 18,
   "metadata": {
    "scrolled": false
   },
   "outputs": [
    {
     "name": "stdout",
     "output_type": "stream",
     "text": [
      "[INFO] Loop count : 0\n",
      "[INFO] new_lambda : [[ 0.        ]\n",
      " [ 0.        ]\n",
      " [ 0.        ]\n",
      " [ 0.        ]\n",
      " [ 0.        ]\n",
      " [ 0.        ]\n",
      " [ 0.        ]\n",
      " [ 0.        ]\n",
      " [ 0.        ]\n",
      " [ 0.        ]\n",
      " [ 0.        ]\n",
      " [ 0.        ]\n",
      " [ 0.        ]\n",
      " [ 0.        ]\n",
      " [ 0.        ]\n",
      " [ 0.        ]\n",
      " [ 0.        ]\n",
      " [ 0.        ]\n",
      " [ 0.        ]\n",
      " [ 0.        ]\n",
      " [ 0.        ]\n",
      " [ 0.        ]\n",
      " [ 0.        ]\n",
      " [ 0.        ]\n",
      " [ 0.        ]\n",
      " [ 0.        ]\n",
      " [ 0.        ]\n",
      " [ 0.        ]\n",
      " [ 0.        ]\n",
      " [ 0.        ]\n",
      " [ 0.        ]\n",
      " [ 0.        ]\n",
      " [ 0.        ]\n",
      " [ 0.        ]\n",
      " [ 0.        ]\n",
      " [ 0.        ]\n",
      " [ 0.        ]\n",
      " [ 0.        ]\n",
      " [ 0.        ]\n",
      " [ 0.        ]\n",
      " [ 0.        ]\n",
      " [ 0.        ]\n",
      " [ 0.        ]\n",
      " [ 0.        ]\n",
      " [ 0.        ]\n",
      " [ 0.        ]\n",
      " [ 0.        ]\n",
      " [ 0.        ]\n",
      " [ 0.        ]\n",
      " [ 0.        ]\n",
      " [17.19521186]\n",
      " [15.6923632 ]\n",
      " [19.59030116]\n",
      " [16.67067205]\n",
      " [17.30345022]\n",
      " [20.10629632]\n",
      " [13.5824029 ]\n",
      " [19.40935907]\n",
      " [18.05863654]\n",
      " [19.12342299]\n",
      " [17.15486432]\n",
      " [16.88558765]\n",
      " [18.45524062]\n",
      " [15.12897153]\n",
      " [15.45034405]\n",
      " [17.14393768]\n",
      " [17.87327581]\n",
      " [20.30506119]\n",
      " [21.07409874]\n",
      " [15.83351544]\n",
      " [19.05244057]\n",
      " [15.19646667]\n",
      " [21.184721  ]\n",
      " [17.07479404]\n",
      " [18.31749238]\n",
      " [18.90408823]\n",
      " [16.48978237]\n",
      " [16.09239278]\n",
      " [17.11364359]\n",
      " [18.95543423]\n",
      " [19.69473287]\n",
      " [21.07768432]\n",
      " [16.88165089]\n",
      " [17.19061456]\n",
      " [16.6374764 ]\n",
      " [20.38876764]\n",
      " [17.0918753 ]\n",
      " [16.89734694]\n",
      " [16.2851696 ]\n",
      " [18.96298642]\n",
      " [17.88270079]\n",
      " [18.65880972]\n",
      " [15.38555955]\n",
      " [18.57162608]\n",
      " [17.8676349 ]\n",
      " [17.69093536]\n",
      " [17.07055841]\n",
      " [17.03009925]\n",
      " [17.1204972 ]\n",
      " [15.50733332]]\n"
     ]
    }
   ],
   "source": [
    "svm01 = ScratchSVMClassifier(num_iter=1, lr=0.1, kernel='linear', threshold=1e-5, verbose=False, q=[1])\n",
    "svm01.fit(x, y)"
   ]
  },
  {
   "cell_type": "markdown",
   "metadata": {},
   "source": [
    "## 【問題2】サポートベクターの決定\n",
    "計算したラグランジュ乗数 \n",
    "λ\n",
    " が設定した閾値より大きいサンプルをサポートベクターとして扱います。推定時にサポートベクターが必要になります。サポートベクターを決定し、インスタンス変数として保持しておくコードを書いてください。\n",
    "\n",
    "\n",
    "閾値はハイパーパラメータですが、1e-5程度からはじめると良いでしょう。サポートベクターの数を出力させられるようにしておくと学習がうまく行えているかを確認できます。\n",
    "\n"
   ]
  },
  {
   "cell_type": "code",
   "execution_count": 30,
   "metadata": {
    "scrolled": false
   },
   "outputs": [
    {
     "name": "stdout",
     "output_type": "stream",
     "text": [
      "[INFO] Loop count : 0\n",
      "[INFO] support_vector_num : 100\n",
      "[INFO] Loop count : 1\n",
      "[INFO] support_vector_num : 100\n",
      "[INFO] Loop count : 2\n",
      "[INFO] support_vector_num : 98\n",
      "[INFO] Loop count : 3\n",
      "[INFO] support_vector_num : 98\n",
      "[INFO] Loop count : 4\n",
      "[INFO] support_vector_num : 99\n",
      "[INFO] Loop count : 5\n",
      "[INFO] support_vector_num : 100\n",
      "[INFO] Loop count : 6\n",
      "[INFO] support_vector_num : 100\n",
      "[INFO] Loop count : 7\n",
      "[INFO] support_vector_num : 100\n",
      "[INFO] Loop count : 8\n",
      "[INFO] support_vector_num : 100\n",
      "[INFO] Loop count : 9\n",
      "[INFO] support_vector_num : 100\n",
      "[INFO] Loop count : 10\n",
      "[INFO] support_vector_num : 100\n",
      "[INFO] Loop count : 11\n",
      "[INFO] support_vector_num : 100\n",
      "[INFO] Loop count : 12\n",
      "[INFO] support_vector_num : 100\n",
      "[INFO] Loop count : 13\n",
      "[INFO] support_vector_num : 100\n",
      "[INFO] Loop count : 14\n",
      "[INFO] support_vector_num : 100\n",
      "[INFO] Loop count : 15\n",
      "[INFO] support_vector_num : 100\n",
      "[INFO] Loop count : 16\n",
      "[INFO] support_vector_num : 100\n",
      "[INFO] Loop count : 17\n",
      "[INFO] support_vector_num : 100\n",
      "[INFO] Loop count : 18\n",
      "[INFO] support_vector_num : 100\n",
      "[INFO] Loop count : 19\n",
      "[INFO] support_vector_num : 100\n",
      "[INFO] Loop count : 20\n",
      "[INFO] support_vector_num : 100\n",
      "[INFO] Loop count : 21\n",
      "[INFO] support_vector_num : 100\n",
      "[INFO] Loop count : 22\n",
      "[INFO] support_vector_num : 100\n",
      "[INFO] Loop count : 23\n",
      "[INFO] support_vector_num : 100\n",
      "[INFO] Loop count : 24\n",
      "[INFO] support_vector_num : 100\n",
      "[INFO] Loop count : 25\n",
      "[INFO] support_vector_num : 100\n",
      "[INFO] Loop count : 26\n",
      "[INFO] support_vector_num : 100\n",
      "[INFO] Loop count : 27\n",
      "[INFO] support_vector_num : 100\n",
      "[INFO] Loop count : 28\n",
      "[INFO] support_vector_num : 100\n",
      "[INFO] Loop count : 29\n",
      "[INFO] support_vector_num : 100\n",
      "[INFO] Loop count : 30\n",
      "[INFO] support_vector_num : 100\n",
      "[INFO] Loop count : 31\n",
      "[INFO] support_vector_num : 100\n",
      "[INFO] Loop count : 32\n",
      "[INFO] support_vector_num : 100\n",
      "[INFO] Loop count : 33\n",
      "[INFO] support_vector_num : 100\n",
      "[INFO] Loop count : 34\n",
      "[INFO] support_vector_num : 100\n",
      "[INFO] Loop count : 35\n",
      "[INFO] support_vector_num : 100\n",
      "[INFO] Loop count : 36\n",
      "[INFO] support_vector_num : 100\n",
      "[INFO] Loop count : 37\n",
      "[INFO] support_vector_num : 100\n",
      "[INFO] Loop count : 38\n",
      "[INFO] support_vector_num : 100\n",
      "[INFO] Loop count : 39\n",
      "[INFO] support_vector_num : 100\n",
      "[INFO] Loop count : 40\n",
      "[INFO] support_vector_num : 100\n",
      "[INFO] Loop count : 41\n",
      "[INFO] support_vector_num : 100\n",
      "[INFO] Loop count : 42\n",
      "[INFO] support_vector_num : 100\n",
      "[INFO] Loop count : 43\n",
      "[INFO] support_vector_num : 100\n",
      "[INFO] Loop count : 44\n",
      "[INFO] support_vector_num : 100\n",
      "[INFO] Loop count : 45\n",
      "[INFO] support_vector_num : 100\n",
      "[INFO] Loop count : 46\n",
      "[INFO] support_vector_num : 100\n",
      "[INFO] Loop count : 47\n",
      "[INFO] support_vector_num : 100\n",
      "[INFO] Loop count : 48\n",
      "[INFO] support_vector_num : 100\n",
      "[INFO] Loop count : 49\n",
      "[INFO] support_vector_num : 100\n",
      "[INFO] Loop count : 50\n",
      "[INFO] support_vector_num : 100\n",
      "[INFO] Loop count : 51\n",
      "[INFO] support_vector_num : 100\n",
      "[INFO] Loop count : 52\n",
      "[INFO] support_vector_num : 100\n",
      "[INFO] Loop count : 53\n",
      "[INFO] support_vector_num : 100\n",
      "[INFO] Loop count : 54\n",
      "[INFO] support_vector_num : 100\n",
      "[INFO] Loop count : 55\n",
      "[INFO] support_vector_num : 100\n",
      "[INFO] Loop count : 56\n",
      "[INFO] support_vector_num : 100\n",
      "[INFO] Loop count : 57\n",
      "[INFO] support_vector_num : 100\n",
      "[INFO] Loop count : 58\n",
      "[INFO] support_vector_num : 100\n",
      "[INFO] Loop count : 59\n",
      "[INFO] support_vector_num : 100\n",
      "[INFO] Loop count : 60\n",
      "[INFO] support_vector_num : 100\n",
      "[INFO] Loop count : 61\n",
      "[INFO] support_vector_num : 100\n",
      "[INFO] Loop count : 62\n",
      "[INFO] support_vector_num : 100\n",
      "[INFO] Loop count : 63\n",
      "[INFO] support_vector_num : 100\n",
      "[INFO] Loop count : 64\n",
      "[INFO] support_vector_num : 99\n",
      "[INFO] Loop count : 65\n",
      "[INFO] support_vector_num : 99\n",
      "[INFO] Loop count : 66\n",
      "[INFO] support_vector_num : 99\n",
      "[INFO] Loop count : 67\n",
      "[INFO] support_vector_num : 99\n",
      "[INFO] Loop count : 68\n",
      "[INFO] support_vector_num : 99\n",
      "[INFO] Loop count : 69\n",
      "[INFO] support_vector_num : 98\n",
      "[INFO] Loop count : 70\n",
      "[INFO] support_vector_num : 98\n",
      "[INFO] Loop count : 71\n",
      "[INFO] support_vector_num : 98\n",
      "[INFO] Loop count : 72\n",
      "[INFO] support_vector_num : 97\n",
      "[INFO] Loop count : 73\n",
      "[INFO] support_vector_num : 97\n",
      "[INFO] Loop count : 74\n",
      "[INFO] support_vector_num : 97\n",
      "[INFO] Loop count : 75\n",
      "[INFO] support_vector_num : 97\n",
      "[INFO] Loop count : 76\n",
      "[INFO] support_vector_num : 97\n",
      "[INFO] Loop count : 77\n",
      "[INFO] support_vector_num : 96\n",
      "[INFO] Loop count : 78\n",
      "[INFO] support_vector_num : 96\n",
      "[INFO] Loop count : 79\n",
      "[INFO] support_vector_num : 96\n",
      "[INFO] Loop count : 80\n",
      "[INFO] support_vector_num : 96\n",
      "[INFO] Loop count : 81\n",
      "[INFO] support_vector_num : 96\n",
      "[INFO] Loop count : 82\n",
      "[INFO] support_vector_num : 96\n",
      "[INFO] Loop count : 83\n",
      "[INFO] support_vector_num : 96\n",
      "[INFO] Loop count : 84\n",
      "[INFO] support_vector_num : 96\n",
      "[INFO] Loop count : 85\n",
      "[INFO] support_vector_num : 96\n",
      "[INFO] Loop count : 86\n",
      "[INFO] support_vector_num : 96\n",
      "[INFO] Loop count : 87\n",
      "[INFO] support_vector_num : 96\n",
      "[INFO] Loop count : 88\n",
      "[INFO] support_vector_num : 96\n",
      "[INFO] Loop count : 89\n",
      "[INFO] support_vector_num : 96\n",
      "[INFO] Loop count : 90\n",
      "[INFO] support_vector_num : 96\n",
      "[INFO] Loop count : 91\n",
      "[INFO] support_vector_num : 96\n",
      "[INFO] Loop count : 92\n",
      "[INFO] support_vector_num : 96\n",
      "[INFO] Loop count : 93\n",
      "[INFO] support_vector_num : 96\n",
      "[INFO] Loop count : 94\n",
      "[INFO] support_vector_num : 96\n",
      "[INFO] Loop count : 95\n",
      "[INFO] support_vector_num : 96\n",
      "[INFO] Loop count : 96\n",
      "[INFO] support_vector_num : 96\n",
      "[INFO] Loop count : 97\n",
      "[INFO] support_vector_num : 96\n",
      "[INFO] Loop count : 98\n",
      "[INFO] support_vector_num : 96\n",
      "[INFO] Loop count : 99\n",
      "[INFO] support_vector_num : 96\n"
     ]
    }
   ],
   "source": [
    "svm02 = ScratchSVMClassifier(num_iter=100, lr=1e-4, kernel='linear', threshold=1e-5, verbose=False, q=[2])\n",
    "svm02.fit(x, y)"
   ]
  },
  {
   "cell_type": "markdown",
   "metadata": {},
   "source": [
    "## 【問題3】推定\n",
    "推定時には、推定したいデータの特徴量とサポートベクターの特徴量をカーネル関数によって計算します。求めた \n",
    "f\n",
    "(\n",
    "x\n",
    ")\n",
    " の符号が分類結果です。\n",
    " \n",
    "$$\n",
    "  f_{(x)}\n",
    "  = \\sum_{n=1}^{N}\\lambda_ny_{sv_n}k(x,s_n)\n",
    "$$\n",
    "\n",
    "x\n",
    " : 推定したいデータの特徴量ベクトル\n",
    "\n",
    "\n",
    "N\n",
    " : サポートベクターの数\n",
    "\n",
    "\n",
    "n\n",
    " : サポートベクターのインデックス\n",
    "\n",
    "\n",
    "λ\n",
    "n\n",
    " : \n",
    "n\n",
    "番目のサポートベクターのラグランジュ乗数\n",
    "\n",
    "\n",
    "y\n",
    "s\n",
    "v\n",
    "n\n",
    " : \n",
    "n\n",
    "番目のサポートベクターのラベル\n",
    "\n",
    "\n",
    "k\n",
    "(\n",
    ")\n",
    " : カーネル関数\n",
    "\n",
    "\n",
    "s\n",
    "n\n",
    " : \n",
    "n\n",
    "番目のサポートベクターの特徴量"
   ]
  },
  {
   "cell_type": "code",
   "execution_count": 20,
   "metadata": {},
   "outputs": [
    {
     "data": {
      "text/plain": [
       "array([1, 1, 1, 1, 1, 2, 1, 1, 1, 1, 1, 1, 1, 1, 1, 1, 2, 1, 1, 1, 2, 1,\n",
       "       1, 1, 1, 1, 1, 1, 1, 1, 1, 1, 1, 2, 2, 1, 1, 1, 1, 1, 2, 1, 1, 1,\n",
       "       1, 1, 1, 1, 1, 1, 2, 2, 2, 2, 2, 2, 2, 2, 2, 2, 2, 2, 2, 2, 2, 2,\n",
       "       2, 2, 2, 2, 2, 2, 2, 1, 2, 2, 1, 2, 2, 2, 2, 2, 2, 2, 2, 2, 2, 2,\n",
       "       2, 2, 2, 1, 2, 2, 2, 1, 2, 2, 2, 2])"
      ]
     },
     "execution_count": 20,
     "metadata": {},
     "output_type": "execute_result"
    }
   ],
   "source": [
    "svm03 = ScratchSVMClassifier(num_iter=10000, lr=1e-4, kernel='linear', threshold=1e-5, verbose=False, q=[3])\n",
    "svm03.fit(x, y)\n",
    "y_pred03 = svm03.predict(x)\n",
    "y_pred03"
   ]
  },
  {
   "cell_type": "markdown",
   "metadata": {},
   "source": [
    "## 【問題4】学習と推定\n",
    "機械学習スクラッチ入門のSprintで用意したシンプルデータセット1の2値分類に対してスクラッチ実装の学習と推定を行なってください。\n",
    "\n",
    "scikit-learnによる実装と比べ、正しく動いているかを確認してください。\n",
    "\n",
    "AccuracyやPrecision、Recallなどの指標値はscikit-learnを使用してください。"
   ]
  },
  {
   "cell_type": "code",
   "execution_count": null,
   "metadata": {},
   "outputs": [],
   "source": [
    "# 混同行列\n",
    "def cf_matrix(data):\n",
    "    plt.figure(figsize=(5, 3))\n",
    "    sns.heatmap(data, cmap='Pastel1', cbar=False, annot_kws={\"size\": 22}, annot=True, fmt=\"d\", linewidths=1)\n",
    "    plt.title(\"Confusion-matrix\", fontsize=14)\n",
    "    plt.xlabel(\"Predicted value\", fontsize=12)\n",
    "    plt.ylabel(\"Observed value\", fontsize=12)\n",
    "    plt.show()"
   ]
  },
  {
   "cell_type": "code",
   "execution_count": 90,
   "metadata": {},
   "outputs": [],
   "source": [
    "# シンプルデータセット1\n",
    "np.random.seed(0)\n",
    "n_samples = 500\n",
    "f0 = [-1, 2]\n",
    "f1 = [2, -1]\n",
    "cov = [[1.0,0.8], [0.8, 1.0]]\n",
    "f0 = np.random.multivariate_normal(f0, cov, int(n_samples/2))\n",
    "f1 = np.random.multivariate_normal(f1, cov, int(n_samples/2))\n",
    "X = np.concatenate((f0, f1))\n",
    "y = np.concatenate((np.ones((int(n_samples/2))), np.ones((int(n_samples/2))) *(-1))).astype(np.int)\n",
    "random_index = np.random.permutation(np.arange(n_samples))\n",
    "X1 = X[random_index]\n",
    "y1 = y[random_index][:, np.newaxis]"
   ]
  },
  {
   "cell_type": "code",
   "execution_count": 91,
   "metadata": {},
   "outputs": [
    {
     "data": {
      "image/png": "[encoded data removed]",
      "text/plain": [
       "<Figure size 432x288 with 1 Axes>"
      ]
     },
     "metadata": {
      "needs_background": "light"
     },
     "output_type": "display_data"
    }
   ],
   "source": [
    "# グラフ化\n",
    "index_a = np.where(y1 == 1)\n",
    "index_b = np.where(y1 == -1)\n",
    "plt.scatter(X1[index_a, 0], X1[index_a, 1], label=1)\n",
    "plt.scatter(X1[index_b, 0], X1[index_b, 1], label=-1)\n",
    "plt.grid(True, alpha=.5)\n",
    "plt.legend(loc='best')\n",
    "plt.show()"
   ]
  },
  {
   "cell_type": "code",
   "execution_count": 92,
   "metadata": {},
   "outputs": [],
   "source": [
    "# データ分割\n",
    "X_train, X_test, y_train, y_test = train_test_split(X1, y1, test_size=0.3, random_state=0)"
   ]
  },
  {
   "cell_type": "markdown",
   "metadata": {},
   "source": [
    "## scikit-learnで実行"
   ]
  },
  {
   "cell_type": "code",
   "execution_count": 93,
   "metadata": {},
   "outputs": [
    {
     "name": "stdout",
     "output_type": "stream",
     "text": [
      "SVC()\n",
      "[-1  1  1 -1 -1  1  1 -1 -1  1 -1  1 -1 -1 -1  1  1  1  1  1 -1 -1  1  1\n",
      " -1  1  1  1  1 -1 -1  1  1 -1  1 -1  1 -1 -1  1 -1  1 -1  1 -1  1 -1  1\n",
      " -1  1 -1 -1 -1  1  1  1  1  1  1  1  1  1  1 -1  1 -1 -1 -1 -1  1  1  1\n",
      "  1  1  1 -1  1 -1  1 -1  1  1  1  1  1 -1 -1  1  1  1 -1  1 -1  1 -1  1\n",
      "  1  1 -1  1 -1  1  1  1 -1  1 -1  1  1  1  1 -1  1 -1  1 -1  1  1 -1  1\n",
      "  1 -1 -1 -1 -1 -1 -1 -1 -1  1 -1 -1 -1 -1  1  1 -1 -1 -1 -1  1  1  1  1\n",
      " -1  1 -1  1  1  1]\n",
      "正解率：1.0\n"
     ]
    },
    {
     "name": "stderr",
     "output_type": "stream",
     "text": [
      "C:\\Users\\yoshi\\Anaconda3\\lib\\site-packages\\sklearn\\utils\\validation.py:73: DataConversionWarning: A column-vector y was passed when a 1d array was expected. Please change the shape of y to (n_samples, ), for example using ravel().\n",
      "  return f(**kwargs)\n"
     ]
    },
    {
     "data": {
      "image/png": "[encoded data removed]",
      "text/plain": [
       "<Figure size 360x216 with 1 Axes>"
      ]
     },
     "metadata": {
      "needs_background": "light"
     },
     "output_type": "display_data"
    },
    {
     "name": "stdout",
     "output_type": "stream",
     "text": [
      "              precision    recall  f1-score   support\n",
      "\n",
      "          X1       1.00      1.00      1.00        65\n",
      "          X2       1.00      1.00      1.00        85\n",
      "\n",
      "    accuracy                           1.00       150\n",
      "   macro avg       1.00      1.00      1.00       150\n",
      "weighted avg       1.00      1.00      1.00       150\n",
      "\n"
     ]
    }
   ],
   "source": [
    "# インスタンス生成・学習\n",
    "model02 = SVC()\n",
    "model02.fit(X_train, y_train)\n",
    "print(model02)\n",
    "\n",
    "# 予測\n",
    "y_pred_sk = model02.predict(X_test)\n",
    "print(y_pred_sk)\n",
    "\n",
    "# score\n",
    "print('正解率：{}'.format(metrics.accuracy_score(y_test, y_pred_sk)))\n",
    "\n",
    "# 混同行列\n",
    "confusion = metrics.confusion_matrix(y_test, y_pred_sk)\n",
    "cf_df = pd.DataFrame(confusion, index=[1,2], columns=[1,2])\n",
    "cf_matrix(cf_df)\n",
    "\n",
    "# 評価指標\n",
    "target_names = ['X1', 'X2']\n",
    "a = metrics.classification_report(y_test, y_pred_sk, target_names=target_names)\n",
    "print(a)"
   ]
  },
  {
   "cell_type": "markdown",
   "metadata": {},
   "source": [
    "## スクラッチで実行"
   ]
  },
  {
   "cell_type": "code",
   "execution_count": 94,
   "metadata": {},
   "outputs": [
    {
     "data": {
      "text/plain": [
       "array([-1,  1,  1, -1, -1,  1,  1, -1, -1,  1, -1,  1, -1, -1, -1,  1,  1,\n",
       "        1,  1,  1, -1, -1,  1,  1, -1,  1,  1,  1,  1, -1, -1,  1,  1, -1,\n",
       "        1, -1,  1, -1, -1,  1, -1,  1, -1,  1, -1,  1, -1,  1, -1,  1, -1,\n",
       "       -1, -1,  1,  1,  1,  1,  1,  1,  1,  1,  1,  1, -1,  1, -1, -1, -1,\n",
       "       -1,  1,  1,  1,  1,  1,  1, -1,  1, -1,  1, -1,  1,  1,  1,  1,  1,\n",
       "       -1, -1,  1,  1,  1, -1,  1, -1,  1, -1,  1,  1,  1, -1,  1, -1,  1,\n",
       "        1,  1, -1,  1, -1,  1,  1,  1,  1, -1,  1, -1,  1, -1,  1,  1, -1,\n",
       "        1,  1, -1, -1, -1, -1, -1, -1, -1, -1,  1, -1, -1, -1, -1,  1,  1,\n",
       "       -1, -1, -1, -1,  1,  1,  1,  1, -1,  1, -1,  1,  1,  1])"
      ]
     },
     "execution_count": 94,
     "metadata": {},
     "output_type": "execute_result"
    }
   ],
   "source": [
    "svm04_2 = ScratchSVMClassifier(num_iter=1000, lr=1e-4, kernel='linear', threshold=1e-5, verbose=False, q=[3])\n",
    "svm04_2.fit(X_train, y_train)\n",
    "y_pred04_2 = svm04_2.predict(X_test)\n",
    "y_pred04_2"
   ]
  },
  {
   "cell_type": "code",
   "execution_count": 95,
   "metadata": {},
   "outputs": [
    {
     "name": "stdout",
     "output_type": "stream",
     "text": [
      "正解率：1.0\n"
     ]
    },
    {
     "data": {
      "image/png": "[encoded data removed]",
      "text/plain": [
       "<Figure size 360x216 with 1 Axes>"
      ]
     },
     "metadata": {
      "needs_background": "light"
     },
     "output_type": "display_data"
    },
    {
     "name": "stdout",
     "output_type": "stream",
     "text": [
      "              precision    recall  f1-score   support\n",
      "\n",
      "          X1       1.00      1.00      1.00        65\n",
      "          X2       1.00      1.00      1.00        85\n",
      "\n",
      "    accuracy                           1.00       150\n",
      "   macro avg       1.00      1.00      1.00       150\n",
      "weighted avg       1.00      1.00      1.00       150\n",
      "\n"
     ]
    }
   ],
   "source": [
    "# score\n",
    "print('正解率：{}'.format(metrics.accuracy_score(y_test, y_pred04_2)))\n",
    "\n",
    "# 混同行列\n",
    "confusion = metrics.confusion_matrix(y_test, y_pred04_2)\n",
    "cf_df = pd.DataFrame(confusion, index=[1,2], columns=[1,2])\n",
    "cf_matrix(cf_df)\n",
    "\n",
    "# 評価指標\n",
    "target_names = ['X1', 'X2']\n",
    "a = metrics.classification_report(y_test, y_pred04_2, target_names=target_names)\n",
    "print(a)"
   ]
  },
  {
   "cell_type": "markdown",
   "metadata": {},
   "source": [
    "## せっかくなのでアイリスデータにも実行"
   ]
  },
  {
   "cell_type": "code",
   "execution_count": 33,
   "metadata": {},
   "outputs": [],
   "source": [
    "X_train, X_test, y_train, y_test = train_test_split(x, y, test_size=0.25, random_state=0)"
   ]
  },
  {
   "cell_type": "markdown",
   "metadata": {},
   "source": [
    "### scikit-learnで実行"
   ]
  },
  {
   "cell_type": "code",
   "execution_count": 35,
   "metadata": {},
   "outputs": [
    {
     "name": "stdout",
     "output_type": "stream",
     "text": [
      "SVC()\n",
      "[1 2 1 2 2 2 1 2 2 2 2 2 2 1 1 1 2 1 2 1 1 2 1 2 1]\n",
      "正解率：0.92\n"
     ]
    },
    {
     "name": "stderr",
     "output_type": "stream",
     "text": [
      "C:\\Users\\yoshi\\Anaconda3\\lib\\site-packages\\sklearn\\utils\\validation.py:73: DataConversionWarning: A column-vector y was passed when a 1d array was expected. Please change the shape of y to (n_samples, ), for example using ravel().\n",
      "  return f(**kwargs)\n"
     ]
    },
    {
     "data": {
      "image/png": "[encoded data removed]",
      "text/plain": [
       "<Figure size 360x216 with 1 Axes>"
      ]
     },
     "metadata": {
      "needs_background": "light"
     },
     "output_type": "display_data"
    },
    {
     "name": "stdout",
     "output_type": "stream",
     "text": [
      "              precision    recall  f1-score   support\n",
      "\n",
      "  virgicolor       1.00      0.85      0.92        13\n",
      "   virginica       0.86      1.00      0.92        12\n",
      "\n",
      "    accuracy                           0.92        25\n",
      "   macro avg       0.93      0.92      0.92        25\n",
      "weighted avg       0.93      0.92      0.92        25\n",
      "\n"
     ]
    }
   ],
   "source": [
    "# インスタンス生成・学習\n",
    "model01 = SVC()\n",
    "model01.fit(X_train, y_train)\n",
    "print(model01)\n",
    "\n",
    "# 予測\n",
    "y_pred_sk = model01.predict(X_test)\n",
    "print(y_pred_sk)\n",
    "\n",
    "# score\n",
    "print('正解率：{}'.format(metrics.accuracy_score(y_test, y_pred_sk)))\n",
    "\n",
    "# 混同行列\n",
    "confusion = metrics.confusion_matrix(y_test, y_pred_sk)\n",
    "cf_df = pd.DataFrame(confusion, index=[1,2], columns=[1,2])\n",
    "cf_matrix(cf_df)\n",
    "\n",
    "# 評価指標\n",
    "target_names = ['virgicolor', 'virginica']\n",
    "a = metrics.classification_report(y_test, y_pred_sk, target_names=target_names)\n",
    "print(a)"
   ]
  },
  {
   "cell_type": "markdown",
   "metadata": {},
   "source": [
    "### スクラッチで実行"
   ]
  },
  {
   "cell_type": "code",
   "execution_count": 27,
   "metadata": {},
   "outputs": [
    {
     "data": {
      "text/plain": [
       "array([1, 2, 1, 2, 2, 2, 2, 1, 2, 1, 2, 2, 2, 1, 1, 1, 1, 1, 2, 1, 1, 2,\n",
       "       1, 2, 1])"
      ]
     },
     "execution_count": 27,
     "metadata": {},
     "output_type": "execute_result"
    }
   ],
   "source": [
    "svm04 = ScratchSVMClassifier(num_iter=100000, lr=1e-4, kernel='linear', threshold=1e-5, verbose=False, q=[3])\n",
    "svm04.fit(X_train, y_train)\n",
    "y_pred04 = svm04.predict(X_test)\n",
    "y_pred04"
   ]
  },
  {
   "cell_type": "code",
   "execution_count": 36,
   "metadata": {},
   "outputs": [
    {
     "name": "stdout",
     "output_type": "stream",
     "text": [
      "正解率：0.84\n"
     ]
    },
    {
     "data": {
      "image/png": "[encoded data removed]",
      "text/plain": [
       "<Figure size 360x216 with 1 Axes>"
      ]
     },
     "metadata": {
      "needs_background": "light"
     },
     "output_type": "display_data"
    },
    {
     "name": "stdout",
     "output_type": "stream",
     "text": [
      "              precision    recall  f1-score   support\n",
      "\n",
      "  virgicolor       0.85      0.85      0.85        13\n",
      "   virginica       0.83      0.83      0.83        12\n",
      "\n",
      "    accuracy                           0.84        25\n",
      "   macro avg       0.84      0.84      0.84        25\n",
      "weighted avg       0.84      0.84      0.84        25\n",
      "\n"
     ]
    }
   ],
   "source": [
    "# score\n",
    "print('正解率：{}'.format(metrics.accuracy_score(y_test, y_pred04)))\n",
    "\n",
    "# 混同行列\n",
    "confusion = metrics.confusion_matrix(y_test, y_pred04)\n",
    "cf_df = pd.DataFrame(confusion, index=[1,2], columns=[1,2])\n",
    "cf_matrix(cf_df)\n",
    "\n",
    "# 評価指標\n",
    "target_names = ['virgicolor', 'virginica']\n",
    "a = metrics.classification_report(y_test, y_pred04, target_names=target_names)\n",
    "print(a)"
   ]
  },
  {
   "cell_type": "markdown",
   "metadata": {},
   "source": [
    "## 【問題5】決定領域の可視化\n",
    "決定領域を可視化してください。\n",
    "\n",
    "\n",
    "以下の例のようにサポートベクターは異なる色で示してください。\n",
    "\n"
   ]
  },
  {
   "cell_type": "code",
   "execution_count": 58,
   "metadata": {},
   "outputs": [],
   "source": [
    "def decision_region(X, y, model, step=0.01, title='decision region', \n",
    "                    xlabel='xlabel', ylabel='ylabel', target_names=['versicolor', 'virginica'],\n",
    "                    n_class=2):\n",
    "    \"\"\"\n",
    "    2値分類を2次元の特徴量で学習したモデルの決定領域を描く。\n",
    "    背景の色が学習したモデルによる推定値から描画される。\n",
    "    散布図の点は訓練データまたは検証データである。\n",
    "\n",
    "    Parameters\n",
    "    ----------------\n",
    "    X : ndarray, shape(n_samples, 2)\n",
    "        特徴量\n",
    "    y : ndarray, shape(n_samples,)\n",
    "        ラベル\n",
    "    model : object\n",
    "        学習したモデルのインスンタスを入れる\n",
    "    step : float, (default : 0.1)\n",
    "        推定値を計算する間隔を設定する\n",
    "    title : str\n",
    "        グラフのタイトルの文章を与える\n",
    "    xlabel, ylabel : str\n",
    "        軸ラベルの文章を与える\n",
    "    target_names= : list of str\n",
    "        凡例の一覧を与える\n",
    "    \"\"\"\n",
    "\n",
    "    # setting\n",
    "    if n_class == 2:\n",
    "        scatter_color = ['red', 'blue']\n",
    "        contourf_color = ['pink', 'skyblue']\n",
    "    elif n_class == 3:\n",
    "        scatter_color = ['green', 'red', 'blue']\n",
    "        contourf_color = ['lightgreen', 'pink', 'skyblue']\n",
    "\n",
    "    # pred\n",
    "    mesh_f0, mesh_f1 = np.meshgrid(np.arange(np.min(X[:,0])-0.5, \n",
    "                                             np.max(X[:,0])+0.5, step), \n",
    "                                   np.arange(np.min(X[:,1])-0.5, \n",
    "                                             np.max(X[:,1])+0.5, step))\n",
    "    mesh = np.c_[np.ravel(mesh_f0),np.ravel(mesh_f1)]\n",
    "    y_pred = model.predict(mesh).reshape(mesh_f0.shape)\n",
    "    # plot\n",
    "    plt.title(title)\n",
    "    plt.xlabel(xlabel)\n",
    "    plt.ylabel(ylabel)\n",
    "    plt.contourf(mesh_f0, mesh_f1, y_pred, n_class-1, cmap=ListedColormap(contourf_color))\n",
    "    plt.contour(mesh_f0, mesh_f1, y_pred, n_class-1, colors='y', linewidths=3, alpha=0.5)\n",
    "    y = np.squeeze(y)  # 2020-08-10 追加\n",
    "    for i, target in enumerate(set(list(y))):\n",
    "        plt.scatter(X[y==target][:, 0], X[y==target][:, 1], s=80, color=scatter_color[i], label=target_names[i], marker='o')\n",
    "    patches = [mpatches.Patch(color=scatter_color[i], label=target_names[i]) for i in range(n_class)]\n",
    "    plt.scatter(model.support_vector[:, 0], model.support_vector[:, 1], s=50, color='yellow', marker='o', alpha=.6, label='support vector')\n",
    "    plt.legend(handles=patches)\n",
    "    plt.legend()\n",
    "    plt.show()"
   ]
  },
  {
   "cell_type": "code",
   "execution_count": 96,
   "metadata": {},
   "outputs": [
    {
     "data": {
      "image/png": "[encoded data removed]",
      "text/plain": [
       "<Figure size 432x288 with 1 Axes>"
      ]
     },
     "metadata": {
      "needs_background": "light"
     },
     "output_type": "display_data"
    }
   ],
   "source": [
    "# データ再取得\n",
    "X_train, X_test, y_train, y_test = train_test_split(X1, y1, test_size=0.3, random_state=0)\n",
    "decision_region(X_test, y_test, svm04_2, target_names=['X1', 'X2'])"
   ]
  },
  {
   "cell_type": "markdown",
   "metadata": {},
   "source": [
    "## 4.SVMとはどのような仕組みか\n",
    "\n",
    "スクラッチ実装に必要な情報は以上ですが、大まかな仕組みの解説を行います。\n",
    "\n",
    "\n",
    "SVMは決定境界と近くの点の距離（マージン）を最大化する方法です。特徴量が2つであれば以下の図のように線を引くことを考えます。\n",
    "\n",
    "<img src=\"../img/1.png\"></img>"
   ]
  },
  {
   "cell_type": "markdown",
   "metadata": {},
   "source": [
    "決定境界は線形であれば、線形回帰やロジスティック回帰と同様に次の式です。\n",
    "\n",
    "$$\n",
    "  y_{(x)}\n",
    "  = w^Tx\n",
    "$$\n",
    "\n",
    "x\n",
    " : 特徴量ベクトル\n",
    "\n",
    "\n",
    "w\n",
    " : 重みベクトル"
   ]
  },
  {
   "cell_type": "markdown",
   "metadata": {},
   "source": [
    "決定境界とある点 \n",
    "x\n",
    " との距離 \n",
    "r\n",
    " は以下の式で求められます。高校数学で学ぶ「点と直線の距離の公式」や「点と平面の距離の公式」を一般化したものです。\n",
    " \n",
    "$$\n",
    "  r\n",
    "  = \\frac{y_iy(x)}{\\parallel w \\parallel}\n",
    "  = \\frac{y_iw^Tx}{\\parallel w \\parallel}\n",
    "$$"
   ]
  },
  {
   "cell_type": "markdown",
   "metadata": {},
   "source": [
    "$\\parallel w \\parallel$ はベクトル $w$ の大きさで、特徴量が2つならば $\\parallel w \\parallel = \\sqrt{w_1^2 + w_2^2}$ です。\n",
    "\n",
    "また、学習するi番目のデータのラベルを $y_i = -1$ または $y_i = -1$ としています。\n",
    "\n",
    "\n",
    "訓練データの中で「最も距離 $r$ が短くなる点$x$（サポートベクター）の距離 $r$ を最大化する $w$を求める」ことがSVMによる分類だと言い換えられます。\n",
    "\n",
    "これは非常に複雑な問題です。 $w$ を変化させると、最も距離 $r$が短くなる点$x$（サポートベクター）も変化していくからです。\n",
    "\n",
    "計算するためには、問題を扱いやすい形に変形させる必要があります。"
   ]
  },
  {
   "cell_type": "markdown",
   "metadata": {},
   "source": [
    "## 5.他のカーネル関数の実装"
   ]
  },
  {
   "cell_type": "markdown",
   "metadata": {},
   "source": [
    "## 【問題6】（アドバンス課題）多項式カーネル関数の作成\n",
    "最初に作成した実装では線形カーネルを使用していました。多項式カーネルにも切り替えられるようにしましょう。\n",
    "\n",
    "「線形カーネルの式」\n",
    "\n",
    "$$\n",
    "  k(x_i, x_j) = x_i^Tx_j\n",
    "$$\n",
    "\n",
    "「多項式カーネルの式」\n",
    "\n",
    "$$\n",
    "  k(x_i, x_j)\n",
    "  = (\\gamma x_i^Tx_j + \\theta_0)^d\n",
    "$$"
   ]
  },
  {
   "cell_type": "markdown",
   "metadata": {},
   "source": [
    "$\\gamma, \\theta_0, d$ はハイパーパラメータです。\n",
    "\n",
    "\n",
    "線形カーネルは $\\gamma = 1, \\theta_0 = 0, d = 1$ の場合の多項式カーネルと等しいと言えます。"
   ]
  },
  {
   "cell_type": "markdown",
   "metadata": {},
   "source": [
    "### kernel='polly'　かつ　デフォルト（$\\gamma = 1, \\theta_0 = 0, d = 1$）で実行"
   ]
  },
  {
   "cell_type": "code",
   "execution_count": 131,
   "metadata": {},
   "outputs": [
    {
     "name": "stdout",
     "output_type": "stream",
     "text": [
      "Loop count : 0 \n",
      " Support vector num: 321\n",
      "Loop count : 100 \n",
      " Support vector num: 40\n",
      "Loop count : 200 \n",
      " Support vector num: 23\n",
      "Loop count : 300 \n",
      " Support vector num: 22\n",
      "Loop count : 400 \n",
      " Support vector num: 17\n",
      "Loop count : 500 \n",
      " Support vector num: 14\n",
      "Loop count : 600 \n",
      " Support vector num: 13\n",
      "Loop count : 700 \n",
      " Support vector num: 13\n",
      "Loop count : 800 \n",
      " Support vector num: 13\n",
      "Loop count : 900 \n",
      " Support vector num: 11\n",
      "Loop count : 1000 \n",
      " Support vector num: 12\n"
     ]
    },
    {
     "data": {
      "text/plain": [
       "array([-1,  1,  1, -1, -1,  1,  1, -1, -1,  1, -1,  1, -1, -1, -1,  1,  1,\n",
       "        1,  1,  1, -1, -1,  1,  1, -1,  1,  1,  1,  1, -1, -1,  1,  1, -1,\n",
       "        1, -1,  1, -1, -1,  1, -1,  1, -1,  1, -1,  1, -1,  1, -1,  1, -1,\n",
       "       -1, -1,  1,  1,  1,  1,  1,  1,  1,  1,  1,  1, -1,  1, -1, -1, -1,\n",
       "       -1,  1,  1,  1,  1,  1,  1, -1,  1, -1,  1, -1,  1,  1,  1,  1,  1,\n",
       "       -1, -1,  1,  1,  1, -1,  1, -1,  1, -1,  1,  1,  1, -1,  1, -1,  1,\n",
       "        1,  1, -1,  1, -1,  1,  1,  1,  1, -1,  1, -1,  1, -1,  1,  1, -1,\n",
       "        1,  1, -1, -1, -1, -1, -1, -1, -1, -1,  1, -1, -1, -1, -1,  1,  1,\n",
       "       -1, -1, -1, -1,  1,  1,  1,  1, -1,  1, -1,  1,  1,  1])"
      ]
     },
     "execution_count": 131,
     "metadata": {},
     "output_type": "execute_result"
    }
   ],
   "source": [
    "# デフォルトで実行（テスト用：線形カーネルと同じ結果になることを確認する）\n",
    "svm05 = ScratchSVMClassifier(num_iter=1001, lr=1e-4, kernel='polly', threshold=1e-5, verbose=True, q=[3], verbose_filter=100)\n",
    "svm05.fit(X_train, y_train)\n",
    "y_pred05 = svm05.predict(X_test)\n",
    "y_pred05"
   ]
  },
  {
   "cell_type": "code",
   "execution_count": 112,
   "metadata": {},
   "outputs": [
    {
     "data": {
      "text/plain": [
       "array([[ 2.0789714 ,  0.06069619],\n",
       "       [ 1.10298263, -0.54852515],\n",
       "       [ 0.17960016,  2.27026099],\n",
       "       [ 1.03842491, -0.88881567],\n",
       "       [ 0.43738711,  2.46038808],\n",
       "       [ 2.42340322,  0.48692572],\n",
       "       [-0.50179779,  0.74466058],\n",
       "       [ 1.74948383, -0.29028349],\n",
       "       [ 0.9829958 , -0.6091934 ],\n",
       "       [ 2.10157755,  0.16531826],\n",
       "       [-0.22937411,  1.90103034],\n",
       "       [ 0.14096048,  1.74864676]])"
      ]
     },
     "execution_count": 112,
     "metadata": {},
     "output_type": "execute_result"
    }
   ],
   "source": [
    "# 上記のサポートベクター\n",
    "svm05.support_vector"
   ]
  },
  {
   "cell_type": "code",
   "execution_count": 113,
   "metadata": {},
   "outputs": [
    {
     "data": {
      "text/plain": [
       "array([[ 2.0789714 ,  0.06069619],\n",
       "       [ 1.10298263, -0.54852515],\n",
       "       [ 0.17960016,  2.27026099],\n",
       "       [ 1.03842491, -0.88881567],\n",
       "       [ 0.43738711,  2.46038808],\n",
       "       [ 2.42340322,  0.48692572],\n",
       "       [-0.50179779,  0.74466058],\n",
       "       [ 1.74948383, -0.29028349],\n",
       "       [ 0.9829958 , -0.6091934 ],\n",
       "       [ 2.10157755,  0.16531826],\n",
       "       [-0.22937411,  1.90103034],\n",
       "       [ 0.14096048,  1.74864676]])"
      ]
     },
     "execution_count": 113,
     "metadata": {},
     "output_type": "execute_result"
    }
   ],
   "source": [
    "# 問題4で実行済みのサポートベクター\n",
    "svm04_2.support_vector"
   ]
  },
  {
   "cell_type": "markdown",
   "metadata": {},
   "source": [
    "### パラメータの値を変更して実行"
   ]
  },
  {
   "cell_type": "code",
   "execution_count": 137,
   "metadata": {},
   "outputs": [
    {
     "name": "stdout",
     "output_type": "stream",
     "text": [
      "Loop count : 0 \n",
      " Support vector num: 114\n",
      "Loop count : 100 \n",
      " Support vector num: 10\n",
      "Loop count : 200 \n",
      " Support vector num: 8\n",
      "Loop count : 300 \n",
      " Support vector num: 8\n",
      "Loop count : 400 \n",
      " Support vector num: 11\n",
      "Loop count : 500 \n",
      " Support vector num: 7\n",
      "Loop count : 600 \n",
      " Support vector num: 9\n",
      "Loop count : 700 \n",
      " Support vector num: 8\n",
      "Loop count : 800 \n",
      " Support vector num: 9\n",
      "Loop count : 900 \n",
      " Support vector num: 11\n",
      "Loop count : 1000 \n",
      " Support vector num: 11\n"
     ]
    },
    {
     "data": {
      "text/plain": [
       "array([-1,  1,  1, -1, -1,  1,  1, -1, -1,  1, -1,  1, -1, -1, -1,  1,  1,\n",
       "        1,  1,  1, -1, -1,  1,  1, -1,  1,  1,  1,  1, -1, -1,  1,  1, -1,\n",
       "        1, -1,  1, -1, -1,  1, -1,  1, -1,  1, -1,  1, -1,  1, -1,  1, -1,\n",
       "       -1, -1,  1,  1,  1,  1,  1,  1,  1,  1,  1,  1, -1,  1, -1, -1, -1,\n",
       "       -1,  1,  1,  1,  1,  1,  1, -1,  1, -1,  1, -1,  1,  1,  1,  1,  1,\n",
       "       -1, -1,  1,  1,  1, -1,  1, -1,  1, -1,  1,  1,  1, -1,  1, -1,  1,\n",
       "        1,  1, -1,  1, -1,  1,  1,  1,  1, -1,  1, -1,  1, -1,  1,  1, -1,\n",
       "        1,  1, -1, -1, -1, -1, -1, -1, -1, -1,  1, -1, -1, -1, -1,  1,  1,\n",
       "       -1, -1, -1, -1,  1,  1,  1,  1, -1,  1, -1,  1,  1,  1])"
      ]
     },
     "execution_count": 137,
     "metadata": {},
     "output_type": "execute_result"
    }
   ],
   "source": [
    "svm05 = ScratchSVMClassifier(num_iter=1001, lr=1e-4, kernel='polly', threshold=1e-5, verbose=True, q=[3], verbose_filter=100,\n",
    "                             params={'g': 1.5, 't':2.0, 'd':2.0})\n",
    "svm05.fit(X_train, y_train)\n",
    "y_pred05 = svm05.predict(X_test)\n",
    "y_pred05"
   ]
  },
  {
   "cell_type": "code",
   "execution_count": 138,
   "metadata": {},
   "outputs": [
    {
     "data": {
      "text/plain": [
       "array([[ 1.10298263, -0.54852515],\n",
       "       [ 0.10605669, -2.92214793],\n",
       "       [ 0.46861035,  2.21584467],\n",
       "       [ 1.03842491, -0.88881567],\n",
       "       [-0.50179779,  0.74466058],\n",
       "       [ 1.28107479, -0.21320964],\n",
       "       [ 0.9829958 , -0.6091934 ],\n",
       "       [-0.97854994,  0.34188908],\n",
       "       [-1.02829008,  0.23898594],\n",
       "       [-1.69044419,  0.52858339],\n",
       "       [ 0.14096048,  1.74864676]])"
      ]
     },
     "execution_count": 138,
     "metadata": {},
     "output_type": "execute_result"
    }
   ],
   "source": [
    "svm05.support_vector"
   ]
  },
  {
   "cell_type": "code",
   "execution_count": 139,
   "metadata": {},
   "outputs": [
    {
     "name": "stdout",
     "output_type": "stream",
     "text": [
      "正解率：1.0\n"
     ]
    },
    {
     "data": {
      "image/png": "[encoded data removed]",
      "text/plain": [
       "<Figure size 360x216 with 1 Axes>"
      ]
     },
     "metadata": {
      "needs_background": "light"
     },
     "output_type": "display_data"
    },
    {
     "name": "stdout",
     "output_type": "stream",
     "text": [
      "              precision    recall  f1-score   support\n",
      "\n",
      "          X1       1.00      1.00      1.00        65\n",
      "          X2       1.00      1.00      1.00        85\n",
      "\n",
      "    accuracy                           1.00       150\n",
      "   macro avg       1.00      1.00      1.00       150\n",
      "weighted avg       1.00      1.00      1.00       150\n",
      "\n"
     ]
    }
   ],
   "source": [
    "# score\n",
    "print('正解率：{}'.format(metrics.accuracy_score(y_test, y_pred05)))\n",
    "\n",
    "# 混同行列\n",
    "confusion = metrics.confusion_matrix(y_test, y_pred05)\n",
    "cf_df = pd.DataFrame(confusion, index=[1,2], columns=[1,2])\n",
    "cf_matrix(cf_df)\n",
    "\n",
    "# 評価指標\n",
    "target_names = ['X1', 'X2']\n",
    "a = metrics.classification_report(y_test, y_pred05, target_names=target_names)\n",
    "print(a)"
   ]
  },
  {
   "cell_type": "code",
   "execution_count": null,
   "metadata": {},
   "outputs": [],
   "source": []
  },
  {
   "cell_type": "code",
   "execution_count": null,
   "metadata": {},
   "outputs": [],
   "source": []
  }
 ],
 "metadata": {
  "kernelspec": {
   "display_name": "Python 3",
   "language": "python",
   "name": "python3"
  },
  "language_info": {
   "codemirror_mode": {
    "name": "ipython",
    "version": 3
   },
   "file_extension": ".py",
   "mimetype": "text/x-python",
   "name": "python",
   "nbconvert_exporter": "python",
   "pygments_lexer": "ipython3",
   "version": "3.8.3"
  }
 },
 "nbformat": 4,
 "nbformat_minor": 4
}
