{
 "cells": [
  {
   "cell_type": "markdown",
   "metadata": {
    "colab_type": "text",
    "id": "ENMfFghmc0le"
   },
   "source": [
    "# Sprint 機械学習スクラッチ 決定木"
   ]
  },
  {
   "cell_type": "markdown",
   "metadata": {
    "colab_type": "text",
    "id": "uJfycLDkc1hP"
   },
   "source": [
    "# 1.このSprintについて\n",
    "\n",
    "Sprintの目的\n",
    "スクラッチを通して決定木を理解する\n",
    "複雑なアルゴリズムの実装に慣れる\n",
    "\n",
    "どのように学ぶか\n",
    "スクラッチで決定木を実装した後、学習と検証を行なっていきます。"
   ]
  },
  {
   "cell_type": "markdown",
   "metadata": {
    "colab_type": "text",
    "id": "PtHIdNMNc1ka"
   },
   "source": [
    "# 2.決定木学習とは\n",
    "\n",
    "決定木学習は 決定木 と呼ばれる 木構造のグラフ を作る機械学習手法です。機械学習の分野では学習手法も単に「決定木」と呼ばれます。\n",
    "\n",
    "\n",
    "分類にも回帰にも使え、分類の場合3クラス以上の多値分類が可能です。ここでは基本となる分類のみを扱います。"
   ]
  },
  {
   "cell_type": "markdown",
   "metadata": {
    "colab_type": "text",
    "id": "9yYO2n8Sc1nz"
   },
   "source": [
    "## 決定木とは\n",
    "決定木は、属性 と 値 の組｛属性1：値1，属性2：値2, 属性3：値3,…，属性n：値n｝によって表現されたデータを、条件分岐を繰り返すことであるクラスに割り当てることができる木構造のグラフです。\n",
    "\n",
    "\n",
    "以下の例は会場の気温という属性の値によって、開催と中止のクラスに割り当てるグラフです。「会場の気温という属性の値は35以上かどうか」という条件分岐1回による決定木による分類が行えます。例えば36度がこの決定木にインプットされれば、中止というアウトプット（判断）ができます。\n",
    "\n",
    "<img src=\"../img/06_1.png\"></img>\n",
    "\n",
    "なお、「属性と値」は機械学習の分野では「特徴量の名前と特徴量の値」のことです。これ以降は単に特徴量という呼びます。"
   ]
  },
  {
   "cell_type": "markdown",
   "metadata": {
    "colab_type": "text",
    "id": "SbC837_xc1q0"
   },
   "source": [
    "## 各種用語\n",
    "もう少し複雑な例で決定木で重要な用語を確認します。特徴量が「雨量」「屋内かどうか」「風の強さ」の3種類で、イベントの開催か中止かを分類する場合で考えてみます。訓練データを学習することで、以下のような決定木が作れます。\n",
    "\n",
    "\n",
    "\n",
    "丸で囲われたひとつひとつを ノード と呼びます。ノードには親子関係を考えることができ、例えば(0)のノードは(1)(2)(3)のノードの 親ノード と呼びます。逆に、(1)(2)(3)のノードは(0)のノードの 子ノード と呼びます。\n",
    "\n",
    "\n",
    "一番上の(0)は 根ノード 、 末端の(1)(4)(5)(7)(8)(9)のような分類結果を表すノードは 葉ノード と呼びます。\n",
    "\n",
    "\n",
    "条件分岐の矢印は エッジ と呼びます。あるノードから根ノードまでのエッジの数が 深さ です。(3)の深さは1、(6)の深さは2、(9)の深さは3という風になります。この決定木の最大の深さは3です。\n",
    "\n",
    "\n",
    "これは(0)に対して(1)(2)(3)の3つのノードが分かれている多岐分岐の決定木ですが、機械学習では2つにしか分かれないものが一般的です。学習時の複雑さを減らすためです。"
   ]
  },
  {
   "cell_type": "markdown",
   "metadata": {
    "colab_type": "text",
    "id": "Q4ZgL-6Jc1uG"
   },
   "source": [
    "## どう決定木を作るか\n",
    "決定木の学習には様々なやり方が存在しますが、その中のある方法についてスクラッチを行いながら見ていきます。\n",
    "\n",
    "\n",
    "学習方法やハイパーパラメータ、訓練データ次第で作られる決定木は異なってきます。"
   ]
  },
  {
   "cell_type": "markdown",
   "metadata": {
    "colab_type": "text",
    "id": "ujR-Q-eic1zh"
   },
   "source": [
    "## 推定を考える\n",
    "以下の場合、イベントは開催されるでしょうか。決定木を使って判断してください。\n",
    "\n",
    "<img src=\"../img/06_3.png\"></img>\n",
    "\n",
    "答えは「開催」です。以下の赤線の順でたどっていきます。\n",
    "\n",
    "<img src=\"../img/06_4.png\"></img>\n",
    "\n",
    "これが決定木による推定の操作になります。"
   ]
  },
  {
   "cell_type": "markdown",
   "metadata": {
    "colab_type": "text",
    "id": "6VLg89iRc13p"
   },
   "source": [
    "## 扱える特徴量\n",
    "決定木は理論上は量的変数だけでなく、カテゴリ変数も扱えます。しかし、scikit-learnの実装では量的変数のみに対応していますので、スクラッチ実装もそのように作成します。上記の例ですと「会場の種類」で「屋内と屋外」ですとカテゴリ変数ですが、「屋内かどうか」で「0と1」と量的変数にすることで扱えるようにしています。"
   ]
  },
  {
   "cell_type": "markdown",
   "metadata": {
    "colab_type": "text",
    "id": "5RMlc3Noc17H"
   },
   "source": [
    "# 3.決定木スクラッチ\n",
    "\n",
    "分類のための決定木のクラスをスクラッチで作成していきます。NumPyなど最低限のライブラリのみを使いアルゴリズムを実装していきます。\n",
    "\n",
    "\n",
    "決定木の学習には何回まで条件分岐を繰り返すかを表す （最大の）深さ というハイパーパラメータが登場しますが、深さ1の実装を必須課題とします。深さが2以上のものはアドバンス課題とします。\n",
    "\n",
    "\n",
    "学習の仕方には様々な方法がありますが、ここではscikit-learnでも使用されている CART法 をベースとした実装を行います。この方法では学習の複雑さを減らすために、 分岐は2つに分かれるのみ になります。\n",
    "\n",
    "\n",
    "以下に雛形を用意してあります。このScratchDecesionTreeClassifierDepth1クラスにコードを書き加えていってください。\n",
    "\n",
    "\n",
    "##《雛形》\n",
    "\n",
    "```\n",
    "class ScratchDecesionTreeClassifierDepth1():\n",
    "    \"\"\"\n",
    "    深さ1の決定木分類器のスクラッチ実装\n",
    "\n",
    "    Parameters\n",
    "    ----------\n",
    "    verbose : bool\n",
    "      学習過程を出力する場合はTrue\n",
    "    \"\"\"\n",
    "    def __init__(self, verbose=False):\n",
    "        # ハイパーパラメータを属性として記録\n",
    "        self.verbose = verbose\n",
    "    def fit(self, X, y):\n",
    "        \"\"\"\n",
    "        決定木分類器を学習する\n",
    "        Parameters\n",
    "        ----------\n",
    "        X : 次の形のndarray, shape (n_samples, n_features)\n",
    "            訓練データの特徴量\n",
    "        y : 次の形のndarray, shape (n_samples, )\n",
    "            訓練データの正解値\n",
    "        \"\"\"\n",
    "        if self.verbose:\n",
    "            #verboseをTrueにした際は学習過程を出力\n",
    "            print()\n",
    "        pass\n",
    "    def predict(self, X):\n",
    "        \"\"\"\n",
    "        決定木分類器を使いラベルを推定する\n",
    "        \"\"\"\n",
    "        pass\n",
    "        return\n",
    "```"
   ]
  },
  {
   "cell_type": "markdown",
   "metadata": {
    "colab_type": "text",
    "id": "IbEOKx1tc2Rf"
   },
   "source": [
    "## 【まとめ】最終コード"
   ]
  },
  {
   "cell_type": "code",
   "execution_count": 147,
   "metadata": {
    "colab": {
     "base_uri": "https://localhost:8080/",
     "height": 51
    },
    "colab_type": "code",
    "executionInfo": {
     "elapsed": 1437,
     "status": "ok",
     "timestamp": 1597892320343,
     "user": {
      "displayName": "yoshimasa obata",
      "photoUrl": "",
      "userId": "05376502897348058331"
     },
     "user_tz": -540
    },
    "id": "9GsdbYVLoOwf",
    "outputId": "10c4df43-1b6e-4d20-8683-5e2c68c0af03"
   },
   "outputs": [],
   "source": [
    "# ライブラリインポート\n",
    "import numpy as np\n",
    "import pandas as pd\n",
    "import matplotlib.pyplot as plt\n",
    "import seaborn as sns\n",
    "from sklearn.svm import SVC\n",
    "from sklearn import metrics\n",
    "from sklearn.model_selection import train_test_split\n",
    "from matplotlib.colors import ListedColormap\n",
    "import matplotlib.patches as mpatches\n",
    "from sklearn.datasets import load_iris\n",
    "from sklearn.tree import DecisionTreeClassifier\n",
    "%matplotlib inline"
   ]
  },
  {
   "cell_type": "code",
   "execution_count": 247,
   "metadata": {
    "colab": {},
    "colab_type": "code",
    "executionInfo": {
     "elapsed": 582,
     "status": "ok",
     "timestamp": 1597902900802,
     "user": {
      "displayName": "yoshimasa obata",
      "photoUrl": "",
      "userId": "05376502897348058331"
     },
     "user_tz": -540
    },
    "id": "q-BjM3cCkwXL"
   },
   "outputs": [],
   "source": [
    "class ScratchDecesionTreeClassifierDepth1():\n",
    "    \"\"\"\n",
    "    深さ1の決定木分類器のスクラッチ実装\n",
    "\n",
    "    Parameters\n",
    "    ----------\n",
    "    verbose : bool\n",
    "      学習過程を出力する場合はTrue\n",
    "    \"\"\"\n",
    "    def __init__(self, verbose=False):\n",
    "        # ハイパーパラメータを属性として記録\n",
    "        self.verbose = verbose\n",
    "        \n",
    "        \n",
    "    def fit(self, X, y):\n",
    "        \"\"\"\n",
    "        決定木分類器を学習する\n",
    "        Parameters\n",
    "        ----------\n",
    "        X : 次の形のndarray, shape (n_samples, n_features)\n",
    "            訓練データの特徴量\n",
    "        y : 次の形のndarray, shape (n_samples, )\n",
    "            訓練データの正解値\n",
    "        \"\"\"\n",
    "        # インスタンス変数\n",
    "        self.class_left = y.min()    # クラスAの値\n",
    "        self.class_left = y.max()    # クラスBの値\n",
    "        self.max_ig = (0, 0, 0, None)\n",
    "        self.node_info = None\n",
    "        self.left_node_info = None\n",
    "        self.right_node_info = None\n",
    "\n",
    "        \n",
    "        # 分岐\n",
    "        self._branch_processing(X, y)\n",
    "        \n",
    "        \n",
    "        # デバッグ\n",
    "        if self.verbose:\n",
    "            print()\n",
    "        pass\n",
    "\n",
    "    \n",
    "    \n",
    "    def _branch_processing(self, X, y):\n",
    "        \"\"\"\n",
    "        決定木の分岐処理\n",
    "        \"\"\"\n",
    "        n_samples = X.shape[0]\n",
    "        n_features = X.shape[1]\n",
    "             \n",
    "        for X_idx in range(n_features):\n",
    "            for threshold in np.unique(X[:, X_idx]):\n",
    "                div_y = [y[X[:, X_idx] >= threshold], y[X[:, X_idx] < threshold]]\n",
    "                ig = self._calc_ig(y, div_y[0], div_y[1])\n",
    "                if ig > self.max_ig[0]:\n",
    "                    self.max_ig = (ig, X_idx, threshold, div_y)\n",
    "                    \n",
    "        self.node_info = self._set_info(X, y, X_idx, threshold, ig)\n",
    "        self.left_node_info = self._set_info(div_y[0])\n",
    "        self.right_node_info = self._set_info(div_y[1])\n",
    "    \n",
    "    \n",
    "    def _calc_gini(self, y):\n",
    "        \"\"\"\n",
    "        ジニ不純度を計算\n",
    "        \"\"\"\n",
    "        n = np.sum([y == self.class_left, y == self.class_right], axis=1)\n",
    "        gini = 1 - np.sum((n/np.sum(n))**2)\n",
    "        return gini\n",
    "    \n",
    "    \n",
    "\n",
    "    def _calc_ig(self, y_all, y_left, y_right):\n",
    "        \"\"\"\n",
    "        情報利得を計算\n",
    "        \"\"\"\n",
    "        gini_all, gini_left, gini_right = calc_gini(y_all), calc_gini(y_left), calc_gini(y_right)\n",
    "        n_all, n_left, n_right = y_all.shape[0], y_left.shape[0], y_right.shape[0]\n",
    "        ig = gini_all - (n_left*gini_left/n_all) - (n_right*gini_right/n_all)\n",
    "        return ig\n",
    "                    \n",
    "    \n",
    "    \n",
    "    def _set_info(self, X, y, X_idx=None, threshold=None, ig=None):\n",
    "        div_y = [y[X[:, X_idx] >= threshold], y[X[:, X_idx] < threshold]]\n",
    "        n_left, n_right = len(div_y[0]), len(div_y[1])\n",
    "        class_ = self.class_left if n_left >= n_right else self.class_right\n",
    "        \n",
    "        info = {'column_idx': X_idx, \n",
    "                'threshold': threshold,\n",
    "                'ig': ig,\n",
    "                'gini': self._calc_gini(y),\n",
    "                'samples': len(y), \n",
    "                'value': [n_left, n_right],\n",
    "                'class': class_}\n",
    "        return div_y, info\n",
    "\n",
    "\n",
    "    def _div_data(self, X, y, X_idx, threshold):\n",
    "        div_y = [y[X[:, X_idx] >= threshold], y[X[:, X_idx] < threshold]]\n",
    "        return y_a, y_b\n",
    "\n",
    "\n",
    "    def predict(self, X):\n",
    "        \"\"\"\n",
    "        決定木分類器を使いラベルを推定する\n",
    "        \"\"\"\n",
    "        idx = np.where(X[:, self.node_info['column_idx']] >= self.node_info['threshold'])\n",
    "        y_pred = np.full([X.shape[0], 1], self.class_left)\n",
    "        y_pred[idx[0]] = self.class_right\n",
    "        return y_pred"
   ]
  },
  {
   "cell_type": "code",
   "execution_count": null,
   "metadata": {},
   "outputs": [],
   "source": [
    "div_target = [target[data[:, feat_idx] >= threshold], target[data[:, feat_idx] < threshold]]"
   ]
  },
  {
   "cell_type": "code",
   "execution_count": 240,
   "metadata": {},
   "outputs": [
    {
     "data": {
      "text/plain": [
       "'classB'"
      ]
     },
     "execution_count": 240,
     "metadata": {},
     "output_type": "execute_result"
    }
   ],
   "source": [
    "a = np.array([1,1,3])[:,np.newaxis]\n",
    "b = np.array([5,6,7])[:,np.newaxis]\n",
    "ab = 'classA' if len(a) < len(b) else 'classB'\n",
    "ab"
   ]
  },
  {
   "cell_type": "code",
   "execution_count": 241,
   "metadata": {},
   "outputs": [
    {
     "data": {
      "text/plain": [
       "[array([[7]])]"
      ]
     },
     "execution_count": 241,
     "metadata": {},
     "output_type": "execute_result"
    }
   ],
   "source": [
    "div = [b[a[:, 0] > 1]]\n",
    "div"
   ]
  },
  {
   "cell_type": "code",
   "execution_count": 237,
   "metadata": {},
   "outputs": [
    {
     "data": {
      "text/plain": [
       "0"
      ]
     },
     "execution_count": 237,
     "metadata": {},
     "output_type": "execute_result"
    }
   ],
   "source": [
    "max_val = 0\n",
    "max_val = 'test' if 1 > 2 else max_val\n",
    "max_val"
   ]
  },
  {
   "cell_type": "code",
   "execution_count": 46,
   "metadata": {},
   "outputs": [],
   "source": [
    "info = {'column_idx': None, 'gini': None, 'samples': None, 'value': None, 'value': None, 'class': None}\n",
    "info = {'column_idx': 1, 'gini': None, 'samples': None, 'value': None, 'value': None, 'class': None}"
   ]
  },
  {
   "cell_type": "markdown",
   "metadata": {
    "colab_type": "text",
    "id": "XN0tcAeVc2DG"
   },
   "source": [
    "## 分割の条件を学習で求める\n",
    "学習によって、ノードをどういった条件で分割すると、うまく分けられるかということを求めます。\n",
    "\n",
    "\n",
    "うまく分けられていることを判定するためにノードに対してジニ不純度と情報利得という値を計算します。"
   ]
  },
  {
   "cell_type": "markdown",
   "metadata": {
    "colab_type": "text",
    "id": "n73gegbBc2A0"
   },
   "source": [
    "## 【問題1】不純度を求める関数\n",
    "ノード の ジニ不純度 を計算する関数を作成してください。ノード \n",
    "$t$\n",
    " に対するジニ不純度 \n",
    "$I(t)$ は以下の数式で求まります。クラスが混じり合っているほどジニ不純度は高くなります。\n",
    "\n",
    "$$\n",
    "  I(t)\n",
    "  = 1 - \\sum_{i=1}^{K}P^2(C_i|t) = 1 - \\sum_{i=1}^{K}(\\frac{N_{t,i}}{N_{t,all}})^2\n",
    "$$\n",
    "\n",
    "t\n",
    " : ノードのインデックス\n",
    "\n",
    "\n",
    "i\n",
    " : クラスのインデックス\n",
    "\n",
    "\n",
    "K\n",
    " : クラスの数\n",
    "\n",
    "\n",
    "C\n",
    "i\n",
    " : i番目のクラス\n",
    "\n",
    "\n",
    "P\n",
    "(\n",
    "C\n",
    "i\n",
    "|\n",
    "t\n",
    ")\n",
    " :　t番目のノードにおける\n",
    "C\n",
    "i\n",
    "の割合\n",
    "\n",
    "\n",
    "N\n",
    "t\n",
    ",\n",
    "i\n",
    " : t番目のノードのi番目のクラスに属するサンプル数\n",
    "\n",
    "\n",
    "N\n",
    "t\n",
    ",\n",
    "a\n",
    "l\n",
    "l\n",
    " : t番目のノードのサンプルの総数\n",
    "\n",
    "\n",
    " まずは簡単な例を作り、手計算と関数の結果を比較してください。\n",
    "\n",
    "《例》\n",
    "\n",
    "- クラス1:サンプル数15, クラス2:サンプル数15 → ジニ不純度0.500\n",
    "- クラス1:サンプル数18, クラス2:サンプル数12 → ジニ不純度0.480\n",
    "- クラス1:サンプル数30, クラス2:サンプル数0 → ジニ不純度0.000"
   ]
  },
  {
   "cell_type": "code",
   "execution_count": 202,
   "metadata": {
    "colab": {},
    "colab_type": "code",
    "id": "DbsL30-Pk8xq"
   },
   "outputs": [],
   "source": [
    "def calc_gini(y):\n",
    "    # 注）クラスメソッドとして組み込むときはclass_a, class_bの値はインスタンス変数として保持する。\n",
    "    class_left = 0\n",
    "    class_right = 1\n",
    "\n",
    "    n = np.sum([y == class_left, y == class_right], axis=1)\n",
    "    gini = 1 - np.sum((n/np.sum(n))**2)\n",
    "    return gini"
   ]
  },
  {
   "cell_type": "code",
   "execution_count": 203,
   "metadata": {
    "colab": {},
    "colab_type": "code",
    "id": "02ReangRk81Y"
   },
   "outputs": [],
   "source": [
    "# クラスラベルのサンプルデータ生成用\n",
    "def make_simple_sample(num_class_0, num_class_1):\n",
    "    a = np.zeros([num_class_0, 1])\n",
    "    b = np.ones([num_class_1, 1])\n",
    "    ab = np.concatenate([a,b], axis=0)\n",
    "    return ab\n",
    "\n",
    "test1 = make_simple_sample(15, 15)\n",
    "test2 = make_simple_sample(18, 12)\n",
    "test3 = make_simple_sample(30, 0)"
   ]
  },
  {
   "cell_type": "code",
   "execution_count": 204,
   "metadata": {
    "colab": {
     "base_uri": "https://localhost:8080/",
     "height": 34
    },
    "colab_type": "code",
    "executionInfo": {
     "elapsed": 526,
     "status": "ok",
     "timestamp": 1597891929882,
     "user": {
      "displayName": "yoshimasa obata",
      "photoUrl": "",
      "userId": "05376502897348058331"
     },
     "user_tz": -540
    },
    "id": "cWfSrTBek84w",
    "outputId": "44d676ab-45a2-4c8e-8bd3-4d90500a9be6"
   },
   "outputs": [
    {
     "data": {
      "text/plain": [
       "0.5"
      ]
     },
     "execution_count": 204,
     "metadata": {},
     "output_type": "execute_result"
    }
   ],
   "source": [
    "calc_gini(test1)"
   ]
  },
  {
   "cell_type": "code",
   "execution_count": 184,
   "metadata": {
    "colab": {
     "base_uri": "https://localhost:8080/",
     "height": 34
    },
    "colab_type": "code",
    "executionInfo": {
     "elapsed": 556,
     "status": "ok",
     "timestamp": 1597891931044,
     "user": {
      "displayName": "yoshimasa obata",
      "photoUrl": "",
      "userId": "05376502897348058331"
     },
     "user_tz": -540
    },
    "id": "uVolPzr0ru8_",
    "outputId": "a42a60c2-06c5-4b54-9740-7b2ab7432830"
   },
   "outputs": [
    {
     "data": {
      "text/plain": [
       "0.48"
      ]
     },
     "execution_count": 184,
     "metadata": {},
     "output_type": "execute_result"
    }
   ],
   "source": [
    "calc_gini(test2)"
   ]
  },
  {
   "cell_type": "code",
   "execution_count": 185,
   "metadata": {
    "colab": {
     "base_uri": "https://localhost:8080/",
     "height": 34
    },
    "colab_type": "code",
    "executionInfo": {
     "elapsed": 522,
     "status": "ok",
     "timestamp": 1597891932085,
     "user": {
      "displayName": "yoshimasa obata",
      "photoUrl": "",
      "userId": "05376502897348058331"
     },
     "user_tz": -540
    },
    "id": "HOdp6g54rvBF",
    "outputId": "35ae421c-833d-49a0-cf04-6f85b51305d6"
   },
   "outputs": [
    {
     "data": {
      "text/plain": [
       "0.0"
      ]
     },
     "execution_count": 185,
     "metadata": {},
     "output_type": "execute_result"
    }
   ],
   "source": [
    "calc_gini(test3)"
   ]
  },
  {
   "cell_type": "markdown",
   "metadata": {
    "colab_type": "text",
    "id": "FyAiO-wac1_W"
   },
   "source": [
    "## 【問題2】情報利得を求める関数\n",
    "次に、ノード間の 情報利得 を計算する関数を作成してください。問題1で作成したジニ不純度 \n",
    "I\n",
    "(\n",
    "t\n",
    ")\n",
    " を計算する関数を呼び出して使います。情報利得\n",
    "I\n",
    "G\n",
    "は以下の数式で求まります。うまく分けられている時ほど情報利得は大きくなります。\n",
    "\n",
    "\n",
    "ここで分岐は2つのみであるため、分岐先を「左側のノード・右側のノード」と呼びます。\n",
    "\n",
    "$$\n",
    "  IG(p)\n",
    "  = I(p) - \\frac{N_{left, all}}{N_{p, all}}I(left) - \\frac{N_{right, all}}{N_{p, all}}I(right)\n",
    "$$\n",
    "\n",
    "p\n",
    " : 親ノードを示すインデックス\n",
    "\n",
    "\n",
    "l\n",
    "e\n",
    "f\n",
    "t\n",
    " : 左側のノードを示すインデックス\n",
    "\n",
    "\n",
    "r\n",
    "i\n",
    "g\n",
    "h\n",
    "t\n",
    " : 右側のノードを示すインデックス\n",
    "\n",
    "\n",
    "まずは簡単な例を作り、手計算と関数の結果を比較してください。\n",
    "\n",
    "《例》\n",
    "\n",
    "\n",
    "左ノードクラス1:サンプル数10, 左ノードクラス2:サンプル数30, \n",
    "\n",
    "右ノードクラス1:サンプル数20, 右ノードクラス2:サンプル数5 \n",
    "\n",
    "→ 情報利得0.143\n",
    "\n"
   ]
  },
  {
   "cell_type": "code",
   "execution_count": 230,
   "metadata": {
    "colab": {},
    "colab_type": "code",
    "id": "-uFdGMXet3qz"
   },
   "outputs": [],
   "source": [
    "def calc_ig(root, left, right):\n",
    "    gini_root, gini_left, gini_right = calc_gini(root), calc_gini(left), calc_gini(right)\n",
    "    n_root , n_left, n_right = root.shape[0], left.shape[0], right.shape[0]\n",
    "    IG = gini_root - (n_left*gini_left / n_root) - (n_right*gini_right / n_root)\n",
    "    return IG"
   ]
  },
  {
   "cell_type": "code",
   "execution_count": 228,
   "metadata": {
    "colab": {},
    "colab_type": "code",
    "executionInfo": {
     "elapsed": 542,
     "status": "ok",
     "timestamp": 1597902351873,
     "user": {
      "displayName": "yoshimasa obata",
      "photoUrl": "",
      "userId": "05376502897348058331"
     },
     "user_tz": -540
    },
    "id": "IZFFdIhut3wj"
   },
   "outputs": [],
   "source": [
    "# サンプルデータ生成\n",
    "root1 = make_simple_sample(30, 35)\n",
    "left1 = make_simple_sample(10, 30)\n",
    "right1 = make_simple_sample(20, 5)"
   ]
  },
  {
   "cell_type": "code",
   "execution_count": 229,
   "metadata": {
    "colab": {
     "base_uri": "https://localhost:8080/",
     "height": 68
    },
    "colab_type": "code",
    "executionInfo": {
     "elapsed": 597,
     "status": "ok",
     "timestamp": 1597902318015,
     "user": {
      "displayName": "yoshimasa obata",
      "photoUrl": "",
      "userId": "05376502897348058331"
     },
     "user_tz": -540
    },
    "id": "QCSSq_zzyCir",
    "outputId": "dbfe7543-254c-4c37-9835-b35735ac54cc"
   },
   "outputs": [
    {
     "data": {
      "text/plain": [
       "0.3893491124260354"
      ]
     },
     "execution_count": 229,
     "metadata": {},
     "output_type": "execute_result"
    }
   ],
   "source": [
    "calc_ig(root1, left1, right1)"
   ]
  },
  {
   "cell_type": "code",
   "execution_count": 219,
   "metadata": {
    "colab": {},
    "colab_type": "code",
    "id": "62Bk_FMlxGhE"
   },
   "outputs": [],
   "source": [
    "# サンプルデータ生成\n",
    "root2 = make_simple_sample(40, 40)\n",
    "left2 = make_simple_sample(30, 10)\n",
    "right2 = make_simple_sample(10, 30)"
   ]
  },
  {
   "cell_type": "code",
   "execution_count": 220,
   "metadata": {
    "colab": {
     "base_uri": "https://localhost:8080/",
     "height": 68
    },
    "colab_type": "code",
    "executionInfo": {
     "elapsed": 934,
     "status": "ok",
     "timestamp": 1597892002993,
     "user": {
      "displayName": "yoshimasa obata",
      "photoUrl": "",
      "userId": "05376502897348058331"
     },
     "user_tz": -540
    },
    "id": "TQ1LX7Jgt34s",
    "outputId": "89a4ce90-f09d-4941-db20-f0f0a8881d39"
   },
   "outputs": [
    {
     "data": {
      "text/plain": [
       "0.125"
      ]
     },
     "execution_count": 220,
     "metadata": {},
     "output_type": "execute_result"
    }
   ],
   "source": [
    "calc_ig(root2, left2, right2)"
   ]
  },
  {
   "cell_type": "code",
   "execution_count": 23,
   "metadata": {
    "colab": {},
    "colab_type": "code",
    "id": "r9CoTlFvxeip"
   },
   "outputs": [],
   "source": [
    "# サンプルデータ生成\n",
    "root3 = make_simple_sample(40, 40)\n",
    "left3 = make_simple_sample(20, 40)\n",
    "right3 = make_simple_sample(20, 0)"
   ]
  },
  {
   "cell_type": "code",
   "execution_count": 24,
   "metadata": {
    "colab": {
     "base_uri": "https://localhost:8080/",
     "height": 68
    },
    "colab_type": "code",
    "executionInfo": {
     "elapsed": 847,
     "status": "ok",
     "timestamp": 1597892003293,
     "user": {
      "displayName": "yoshimasa obata",
      "photoUrl": "",
      "userId": "05376502897348058331"
     },
     "user_tz": -540
    },
    "id": "WtiOpclJt32K",
    "outputId": "6646fa05-98b5-42dd-ba09-16c44738a6e9"
   },
   "outputs": [
    {
     "name": "stdout",
     "output_type": "stream",
     "text": [
      "0.5 0.4444444444444444 0.0\n",
      "80 60 20\n"
     ]
    },
    {
     "data": {
      "text/plain": [
       "0.16666666666666669"
      ]
     },
     "execution_count": 24,
     "metadata": {},
     "output_type": "execute_result"
    }
   ],
   "source": [
    "calc_ig(root3, left3, right3)"
   ]
  },
  {
   "cell_type": "markdown",
   "metadata": {
    "colab_type": "text",
    "id": "Q7rnuIZMc1x5"
   },
   "source": [
    "## 【問題3】学習\n",
    "空間の分割を行い、決定木のグラフを生成するコードを作成してください。今は深さ1の決定木なので、分割を1回だけ行います。ここでグラフを生成するとは、1回の分割の際の条件としてどの特徴量がいくつ以上の時とするかを求めるということです。\n",
    "\n",
    "\n",
    "訓練データに対して全ての組み合わせの分割を行い、その中でノード間の情報利得が最大となる分割をそのノードの分割基準として記録します。\n",
    "\n",
    "\n",
    "クラスが混ざらない不純度が0のノード、または指定された深さのノードが 葉ノード となります。葉ノードにはクラスを記録しておき、これを推定時に分類するクラスとします。クラスが混ざらない場合はそのままのクラスを記録し、混ざっている場合は多数決により決めます。\n",
    "\n",
    "\n",
    "《組み合わせの取り方》\n",
    "\n",
    "\n",
    "全ての組み合わせの取り方は、最も単純には各特徴量の値自体をしきい値にして分割を行う方法があります。片側の端は今回のスクラッチはこの方法で行なってください。\n",
    "\n",
    "\n",
    "他には中間の値をしきい値にする方法もあり、scikit-learnではこの方法が用いられています。\n",
    "\n",
    "\n",
    "《補足》\n",
    "\n",
    "\n",
    "問題2の情報利得を計算する関数はこの問題3で利用する上では、親ノードの不純度 \n",
    "I\n",
    "(\n",
    "p\n",
    ")\n",
    " は固定されるため、左右のノードの不純度の合計を計算するだけでも同じ結果が得られることになります。しかし、ここでは親ノードを考慮した情報利得を計算する実装を行なってください。\n",
    "\n"
   ]
  },
  {
   "cell_type": "code",
   "execution_count": 243,
   "metadata": {
    "colab": {
     "base_uri": "https://localhost:8080/",
     "height": 280
    },
    "colab_type": "code",
    "executionInfo": {
     "elapsed": 617,
     "status": "ok",
     "timestamp": 1597899029950,
     "user": {
      "displayName": "yoshimasa obata",
      "photoUrl": "",
      "userId": "05376502897348058331"
     },
     "user_tz": -540
    },
    "id": "oNlFG-iocy7b",
    "outputId": "7ab108d0-fa2c-4e57-fec5-7ff6ab6ee82a"
   },
   "outputs": [
    {
     "data": {
      "image/png": "[encoded data removed]",
      "text/plain": [
       "<Figure size 432x288 with 1 Axes>"
      ]
     },
     "metadata": {
      "needs_background": "light"
     },
     "output_type": "display_data"
    }
   ],
   "source": [
    "# サンプルデータ（アイリスデータ）ロード\n",
    "iris_dataset = load_iris()\n",
    "\n",
    "# 初期設定\n",
    "columns_list = ['sepal_length', 'sepal_width', 'petal_length', 'petal_width']\n",
    "df = pd.DataFrame(iris_dataset['data'], columns=columns_list)\n",
    "df['target'] = iris_dataset['target']\n",
    "\n",
    "# 必要なデータのみ抽出\n",
    "df = df[df['target'] != 2]\n",
    "x = np.array(df[['sepal_length', 'petal_length']])\n",
    "y = np.array(df['target'])[:, np.newaxis]\n",
    "\n",
    "# グラフ化\n",
    "x0 = df[['sepal_length', 'petal_length']][df['target'] == 0]\n",
    "x1 = df[['sepal_length', 'petal_length']][df['target'] == 1]\n",
    "plt.scatter(x0['sepal_length'], x0['petal_length'], label=0)\n",
    "plt.scatter(x1['sepal_length'], x1['petal_length'], label=1)\n",
    "plt.xlabel('sepal_length')\n",
    "plt.ylabel('petal_length')\n",
    "plt.grid(True, alpha=.5)\n",
    "plt.legend(loc='best')\n",
    "plt.show()"
   ]
  },
  {
   "cell_type": "code",
   "execution_count": 248,
   "metadata": {
    "colab": {
     "base_uri": "https://localhost:8080/",
     "height": 85
    },
    "colab_type": "code",
    "executionInfo": {
     "elapsed": 509,
     "status": "ok",
     "timestamp": 1597902905281,
     "user": {
      "displayName": "yoshimasa obata",
      "photoUrl": "",
      "userId": "05376502897348058331"
     },
     "user_tz": -540
    },
    "id": "Ve3zJMSRiHj_",
    "outputId": "f58eb8fe-b8db-4bbf-947e-2ae251adbf9e"
   },
   "outputs": [
    {
     "name": "stderr",
     "output_type": "stream",
     "text": [
      "<ipython-input-202-e412183b0c10>:7: RuntimeWarning: invalid value encountered in true_divide\n",
      "  gini = 1 - np.sum((n/np.sum(n))**2)\n"
     ]
    },
    {
     "ename": "NameError",
     "evalue": "name 'X' is not defined",
     "output_type": "error",
     "traceback": [
      "\u001b[1;31m---------------------------------------------------------------------------\u001b[0m",
      "\u001b[1;31mNameError\u001b[0m                                 Traceback (most recent call last)",
      "\u001b[1;32m<ipython-input-248-81eb1bcf6c90>\u001b[0m in \u001b[0;36m<module>\u001b[1;34m\u001b[0m\n\u001b[0;32m      1\u001b[0m \u001b[1;31m# 学習実行\u001b[0m\u001b[1;33m\u001b[0m\u001b[1;33m\u001b[0m\u001b[1;33m\u001b[0m\u001b[0m\n\u001b[0;32m      2\u001b[0m \u001b[0msdt1\u001b[0m \u001b[1;33m=\u001b[0m \u001b[0mScratchDecesionTreeClassifierDepth1\u001b[0m\u001b[1;33m(\u001b[0m\u001b[1;33m)\u001b[0m\u001b[1;33m\u001b[0m\u001b[1;33m\u001b[0m\u001b[0m\n\u001b[1;32m----> 3\u001b[1;33m \u001b[0msdt1\u001b[0m\u001b[1;33m.\u001b[0m\u001b[0mfit\u001b[0m\u001b[1;33m(\u001b[0m\u001b[0mx\u001b[0m\u001b[1;33m,\u001b[0m\u001b[0my\u001b[0m\u001b[1;33m)\u001b[0m\u001b[1;33m\u001b[0m\u001b[1;33m\u001b[0m\u001b[0m\n\u001b[0m",
      "\u001b[1;32m<ipython-input-247-1e0258211d04>\u001b[0m in \u001b[0;36mfit\u001b[1;34m(self, X, y)\u001b[0m\n\u001b[0;32m     33\u001b[0m \u001b[1;33m\u001b[0m\u001b[0m\n\u001b[0;32m     34\u001b[0m         \u001b[1;31m# 分岐\u001b[0m\u001b[1;33m\u001b[0m\u001b[1;33m\u001b[0m\u001b[1;33m\u001b[0m\u001b[0m\n\u001b[1;32m---> 35\u001b[1;33m         \u001b[0mself\u001b[0m\u001b[1;33m.\u001b[0m\u001b[0m_branch_processing\u001b[0m\u001b[1;33m(\u001b[0m\u001b[0mX\u001b[0m\u001b[1;33m,\u001b[0m \u001b[0my\u001b[0m\u001b[1;33m)\u001b[0m\u001b[1;33m\u001b[0m\u001b[1;33m\u001b[0m\u001b[0m\n\u001b[0m\u001b[0;32m     36\u001b[0m \u001b[1;33m\u001b[0m\u001b[0m\n\u001b[0;32m     37\u001b[0m \u001b[1;33m\u001b[0m\u001b[0m\n",
      "\u001b[1;32m<ipython-input-247-1e0258211d04>\u001b[0m in \u001b[0;36m_branch_processing\u001b[1;34m(self, X, y)\u001b[0m\n\u001b[0;32m     57\u001b[0m                     \u001b[0mself\u001b[0m\u001b[1;33m.\u001b[0m\u001b[0mmax_ig\u001b[0m \u001b[1;33m=\u001b[0m \u001b[1;33m(\u001b[0m\u001b[0mig\u001b[0m\u001b[1;33m,\u001b[0m \u001b[0mX_idx\u001b[0m\u001b[1;33m,\u001b[0m \u001b[0mthreshold\u001b[0m\u001b[1;33m,\u001b[0m \u001b[0mdiv_y\u001b[0m\u001b[1;33m)\u001b[0m\u001b[1;33m\u001b[0m\u001b[1;33m\u001b[0m\u001b[0m\n\u001b[0;32m     58\u001b[0m \u001b[1;33m\u001b[0m\u001b[0m\n\u001b[1;32m---> 59\u001b[1;33m         \u001b[0mself\u001b[0m\u001b[1;33m.\u001b[0m\u001b[0mnode_info\u001b[0m \u001b[1;33m=\u001b[0m \u001b[0mself\u001b[0m\u001b[1;33m.\u001b[0m\u001b[0m_set_info\u001b[0m\u001b[1;33m(\u001b[0m\u001b[0my\u001b[0m\u001b[1;33m,\u001b[0m \u001b[0mX_idx\u001b[0m\u001b[1;33m,\u001b[0m \u001b[0mthreshold\u001b[0m\u001b[1;33m,\u001b[0m \u001b[0mig\u001b[0m\u001b[1;33m)\u001b[0m\u001b[1;33m\u001b[0m\u001b[1;33m\u001b[0m\u001b[0m\n\u001b[0m\u001b[0;32m     60\u001b[0m         \u001b[0mself\u001b[0m\u001b[1;33m.\u001b[0m\u001b[0mleft_node_info\u001b[0m \u001b[1;33m=\u001b[0m \u001b[0mself\u001b[0m\u001b[1;33m.\u001b[0m\u001b[0m_set_info\u001b[0m\u001b[1;33m(\u001b[0m\u001b[0mdiv_y\u001b[0m\u001b[1;33m[\u001b[0m\u001b[1;36m0\u001b[0m\u001b[1;33m]\u001b[0m\u001b[1;33m)\u001b[0m\u001b[1;33m\u001b[0m\u001b[1;33m\u001b[0m\u001b[0m\n\u001b[0;32m     61\u001b[0m         \u001b[0mself\u001b[0m\u001b[1;33m.\u001b[0m\u001b[0mright_node_info\u001b[0m \u001b[1;33m=\u001b[0m \u001b[0mself\u001b[0m\u001b[1;33m.\u001b[0m\u001b[0m_set_info\u001b[0m\u001b[1;33m(\u001b[0m\u001b[0mdiv_y\u001b[0m\u001b[1;33m[\u001b[0m\u001b[1;36m1\u001b[0m\u001b[1;33m]\u001b[0m\u001b[1;33m)\u001b[0m\u001b[1;33m\u001b[0m\u001b[1;33m\u001b[0m\u001b[0m\n",
      "\u001b[1;32m<ipython-input-247-1e0258211d04>\u001b[0m in \u001b[0;36m_set_info\u001b[1;34m(self, y, X_idx, threshold, ig)\u001b[0m\n\u001b[0;32m     84\u001b[0m \u001b[1;33m\u001b[0m\u001b[0m\n\u001b[0;32m     85\u001b[0m     \u001b[1;32mdef\u001b[0m \u001b[0m_set_info\u001b[0m\u001b[1;33m(\u001b[0m\u001b[0mself\u001b[0m\u001b[1;33m,\u001b[0m \u001b[0my\u001b[0m\u001b[1;33m,\u001b[0m \u001b[0mX_idx\u001b[0m\u001b[1;33m=\u001b[0m\u001b[1;32mNone\u001b[0m\u001b[1;33m,\u001b[0m \u001b[0mthreshold\u001b[0m\u001b[1;33m=\u001b[0m\u001b[1;32mNone\u001b[0m\u001b[1;33m,\u001b[0m \u001b[0mig\u001b[0m\u001b[1;33m=\u001b[0m\u001b[1;32mNone\u001b[0m\u001b[1;33m)\u001b[0m\u001b[1;33m:\u001b[0m\u001b[1;33m\u001b[0m\u001b[1;33m\u001b[0m\u001b[0m\n\u001b[1;32m---> 86\u001b[1;33m         \u001b[0mdiv_y\u001b[0m \u001b[1;33m=\u001b[0m \u001b[1;33m[\u001b[0m\u001b[0my\u001b[0m\u001b[1;33m[\u001b[0m\u001b[0mX\u001b[0m\u001b[1;33m[\u001b[0m\u001b[1;33m:\u001b[0m\u001b[1;33m,\u001b[0m \u001b[0mX_idx\u001b[0m\u001b[1;33m]\u001b[0m \u001b[1;33m>=\u001b[0m \u001b[0mthreshold\u001b[0m\u001b[1;33m]\u001b[0m\u001b[1;33m,\u001b[0m \u001b[0my\u001b[0m\u001b[1;33m[\u001b[0m\u001b[0mX\u001b[0m\u001b[1;33m[\u001b[0m\u001b[1;33m:\u001b[0m\u001b[1;33m,\u001b[0m \u001b[0mX_idx\u001b[0m\u001b[1;33m]\u001b[0m \u001b[1;33m<\u001b[0m \u001b[0mthreshold\u001b[0m\u001b[1;33m]\u001b[0m\u001b[1;33m]\u001b[0m\u001b[1;33m\u001b[0m\u001b[1;33m\u001b[0m\u001b[0m\n\u001b[0m\u001b[0;32m     87\u001b[0m         \u001b[0mn_left\u001b[0m\u001b[1;33m,\u001b[0m \u001b[0mn_right\u001b[0m \u001b[1;33m=\u001b[0m \u001b[0mlen\u001b[0m\u001b[1;33m(\u001b[0m\u001b[0mdiv_y\u001b[0m\u001b[1;33m[\u001b[0m\u001b[1;36m0\u001b[0m\u001b[1;33m]\u001b[0m\u001b[1;33m)\u001b[0m\u001b[1;33m,\u001b[0m \u001b[0mlen\u001b[0m\u001b[1;33m(\u001b[0m\u001b[0mdiv_y\u001b[0m\u001b[1;33m[\u001b[0m\u001b[1;36m1\u001b[0m\u001b[1;33m]\u001b[0m\u001b[1;33m)\u001b[0m\u001b[1;33m\u001b[0m\u001b[1;33m\u001b[0m\u001b[0m\n\u001b[0;32m     88\u001b[0m         \u001b[0mclass_\u001b[0m \u001b[1;33m=\u001b[0m \u001b[0mself\u001b[0m\u001b[1;33m.\u001b[0m\u001b[0mclass_left\u001b[0m \u001b[1;32mif\u001b[0m \u001b[0mn_left\u001b[0m \u001b[1;33m>=\u001b[0m \u001b[0mn_right\u001b[0m \u001b[1;32melse\u001b[0m \u001b[0mself\u001b[0m\u001b[1;33m.\u001b[0m\u001b[0mclass_right\u001b[0m\u001b[1;33m\u001b[0m\u001b[1;33m\u001b[0m\u001b[0m\n",
      "\u001b[1;31mNameError\u001b[0m: name 'X' is not defined"
     ]
    }
   ],
   "source": [
    "# 学習実行\n",
    "sdt1 = ScratchDecesionTreeClassifierDepth1()\n",
    "sdt1.fit(x,y)"
   ]
  },
  {
   "cell_type": "code",
   "execution_count": 119,
   "metadata": {},
   "outputs": [
    {
     "data": {
      "text/plain": [
       "{'column_idx': 1,\n",
       " 'break_point': 3.0,\n",
       " 'ig': 0.5,\n",
       " 'gini': 0.5,\n",
       " 'samples': 100,\n",
       " 'value': (50, 50),\n",
       " 'class': 0}"
      ]
     },
     "execution_count": 119,
     "metadata": {},
     "output_type": "execute_result"
    }
   ],
   "source": [
    "sdt1.root_info"
   ]
  },
  {
   "cell_type": "code",
   "execution_count": 120,
   "metadata": {},
   "outputs": [
    {
     "data": {
      "text/plain": [
       "{'column_idx': None,\n",
       " 'break_point': None,\n",
       " 'ig': None,\n",
       " 'gini': 0.0,\n",
       " 'samples': 50,\n",
       " 'value': (0, 50),\n",
       " 'class': 1}"
      ]
     },
     "execution_count": 120,
     "metadata": {},
     "output_type": "execute_result"
    }
   ],
   "source": [
    "sdt1.leaf_a_info"
   ]
  },
  {
   "cell_type": "code",
   "execution_count": 121,
   "metadata": {},
   "outputs": [
    {
     "data": {
      "text/plain": [
       "{'column_idx': None,\n",
       " 'break_point': None,\n",
       " 'ig': None,\n",
       " 'gini': 0.0,\n",
       " 'samples': 50,\n",
       " 'value': (50, 0),\n",
       " 'class': 0}"
      ]
     },
     "execution_count": 121,
     "metadata": {},
     "output_type": "execute_result"
    }
   ],
   "source": [
    "sdt1.leaf_b_info"
   ]
  },
  {
   "cell_type": "code",
   "execution_count": 122,
   "metadata": {
    "colab": {},
    "colab_type": "code",
    "id": "o2WuoA6BiH7w"
   },
   "outputs": [
    {
     "data": {
      "image/png": "[encoded data removed]",
      "text/plain": [
       "<Figure size 432x288 with 1 Axes>"
      ]
     },
     "metadata": {
      "needs_background": "light"
     },
     "output_type": "display_data"
    }
   ],
   "source": [
    "# グラフ化\n",
    "x0 = df[['sepal_length', 'petal_length']][df['target'] == 0]\n",
    "x1 = df[['sepal_length', 'petal_length']][df['target'] == 1]\n",
    "plt.scatter(x0['sepal_length'], x0['petal_length'], label=0)\n",
    "plt.scatter(x1['sepal_length'], x1['petal_length'], label=1)\n",
    "plt.xlabel('sepal_length')\n",
    "plt.ylabel('petal_length')\n",
    "plt.hlines(sdt1.root_info['break_point'], x[:,0].min(), x[:,0].max(), color='green', alpha=.7)\n",
    "plt.grid(True, alpha=.5)\n",
    "plt.legend(loc='best')\n",
    "plt.show()"
   ]
  },
  {
   "cell_type": "markdown",
   "metadata": {
    "colab": {},
    "colab_type": "code",
    "id": "gNz1LhdciHom"
   },
   "source": [
    "## 【問題4】推定\n",
    "推定する仕組みを実装してください。ScratchDecesionTreeClassifierDepth1クラスの雛形に含まれるpredictメソッドに書き加えてください。\n",
    "\n",
    "\n",
    "入力されたデータの値を学習した条件で判定していき、どの葉ノードに到達するかを見ます。葉ノードにはクラスが記録されているので、これが推定値となります。"
   ]
  },
  {
   "cell_type": "code",
   "execution_count": 123,
   "metadata": {
    "colab": {},
    "colab_type": "code",
    "id": "oJS2TwBliHiY"
   },
   "outputs": [
    {
     "data": {
      "text/plain": [
       "1.0"
      ]
     },
     "execution_count": 123,
     "metadata": {},
     "output_type": "execute_result"
    }
   ],
   "source": [
    "y_pred = sdt1.predict(x)\n",
    "metrics.accuracy_score(y, y_pred)"
   ]
  },
  {
   "cell_type": "markdown",
   "metadata": {},
   "source": [
    "## 【問題5】学習と推定\n",
    "機械学習スクラッチ入門のSprintで用意したシンプルデータセット2の2値分類に対してスクラッチ実装の学習と推定を行なってください。\n",
    "\n",
    "\n",
    "scikit-learnによる実装と比べ、正しく動いているかを確認してください。\n",
    "\n",
    "\n",
    "AccuracyやPrecision、Recallなどの指標値はscikit-learnを使用してください。\n",
    "\n"
   ]
  },
  {
   "cell_type": "code",
   "execution_count": 124,
   "metadata": {},
   "outputs": [],
   "source": [
    "X2 = np.array([[-0.44699 , -2.8073  ],[-1.4621  , -2.4586  ],\n",
    "       [ 0.10645 ,  1.9242  ],[-3.5944  , -4.0112  ],\n",
    "       [-0.9888  ,  4.5718  ],[-3.1625  , -3.9606  ],\n",
    "       [ 0.56421 ,  0.72888 ],[-0.60216 ,  8.4636  ],\n",
    "       [-0.61251 , -0.75345 ],[-0.73535 , -2.2718  ],\n",
    "       [-0.80647 , -2.2135  ],[ 0.86291 ,  2.3946  ],\n",
    "       [-3.1108  ,  0.15394 ],[-2.9362  ,  2.5462  ],\n",
    "       [-0.57242 , -2.9915  ],[ 1.4771  ,  3.4896  ],\n",
    "       [ 0.58619 ,  0.37158 ],[ 0.6017  ,  4.3439  ],\n",
    "       [-2.1086  ,  8.3428  ],[-4.1013  , -4.353   ],\n",
    "       [-1.9948  , -1.3927  ],[ 0.35084 , -0.031994],\n",
    "       [ 0.96765 ,  7.8929  ],[-1.281   , 15.6824  ],\n",
    "       [ 0.96765 , 10.083   ],[ 1.3763  ,  1.3347  ],\n",
    "       [-2.234   , -2.5323  ],[-2.9452  , -1.8219  ],\n",
    "       [ 0.14654 , -0.28733 ],[ 0.5461  ,  5.8245  ],\n",
    "       [-0.65259 ,  9.3444  ],[ 0.59912 ,  5.3524  ],\n",
    "       [ 0.50214 , -0.31818 ],[-3.0603  , -3.6461  ],\n",
    "       [-6.6797  ,  0.67661 ],[-2.353   , -0.72261 ],\n",
    "       [ 1.1319  ,  2.4023  ],[-0.12243 ,  9.0162  ],\n",
    "       [-2.5677  , 13.1779  ],[ 0.057313,  5.4681  ]])\n",
    "y2 = np.array([0, 0, 0, 0, 0, 0, 0, 0, 0, 0, 0, 0, 0, 0, 0, 0, 0, 0, 0, 0, 1, 1,\n",
    "       1, 1, 1, 1, 1, 1, 1, 1, 1, 1, 1, 1, 1, 1, 1, 1, 1, 1])"
   ]
  },
  {
   "cell_type": "code",
   "execution_count": 136,
   "metadata": {},
   "outputs": [],
   "source": [
    "# 分割\n",
    "X_train, X_test, y_train, y_test = train_test_split(X2, y2, test_size=0.3, random_state=0)"
   ]
  },
  {
   "cell_type": "code",
   "execution_count": 137,
   "metadata": {},
   "outputs": [
    {
     "name": "stdout",
     "output_type": "stream",
     "text": [
      "閾値 : X >= 5.3524\n",
      "情報利得(IG) : 0.13494897959183677\n",
      "クラスA : 8\n",
      "クラスB : 20\n"
     ]
    }
   ],
   "source": [
    "# 学習実行\n",
    "sdt2 = ScratchDecesionTreeClassifierDepth1()\n",
    "sdt2.fit(X_train, y_train)"
   ]
  },
  {
   "cell_type": "code",
   "execution_count": 138,
   "metadata": {},
   "outputs": [
    {
     "data": {
      "text/plain": [
       "0.5"
      ]
     },
     "execution_count": 138,
     "metadata": {},
     "output_type": "execute_result"
    }
   ],
   "source": [
    "y_pred = sdt2.predict(X_test)\n",
    "metrics.accuracy_score(y_test, y_pred)"
   ]
  },
  {
   "cell_type": "code",
   "execution_count": 139,
   "metadata": {},
   "outputs": [],
   "source": [
    "# 混同行列\n",
    "def cf_matrix(data):\n",
    "    plt.figure(figsize=(5, 3))\n",
    "    sns.heatmap(data, cmap='Pastel1', cbar=False, annot_kws={\"size\": 22}, annot=True, fmt=\"d\", linewidths=1)\n",
    "    plt.title(\"Confusion-matrix\", fontsize=14)\n",
    "    plt.xlabel(\"Predicted value\", fontsize=12)\n",
    "    plt.ylabel(\"Observed value\", fontsize=12)\n",
    "    plt.show()"
   ]
  },
  {
   "cell_type": "code",
   "execution_count": 140,
   "metadata": {},
   "outputs": [
    {
     "name": "stdout",
     "output_type": "stream",
     "text": [
      "正解率：0.5\n"
     ]
    },
    {
     "data": {
      "image/png": "[encoded data removed]",
      "text/plain": [
       "<Figure size 360x216 with 1 Axes>"
      ]
     },
     "metadata": {
      "needs_background": "light"
     },
     "output_type": "display_data"
    },
    {
     "name": "stdout",
     "output_type": "stream",
     "text": [
      "              precision    recall  f1-score   support\n",
      "\n",
      "          X1       0.44      0.80      0.57         5\n",
      "          X2       0.67      0.29      0.40         7\n",
      "\n",
      "    accuracy                           0.50        12\n",
      "   macro avg       0.56      0.54      0.49        12\n",
      "weighted avg       0.57      0.50      0.47        12\n",
      "\n"
     ]
    }
   ],
   "source": [
    "# score\n",
    "print('正解率：{}'.format(metrics.accuracy_score(y_test, y_pred)))\n",
    "\n",
    "# 混同行列\n",
    "confusion = metrics.confusion_matrix(y_test, y_pred)\n",
    "cf_df = pd.DataFrame(confusion, index=[1,2], columns=[1,2])\n",
    "cf_matrix(cf_df)\n",
    "\n",
    "# 評価指標\n",
    "target_names = ['X1', 'X2']\n",
    "a = metrics.classification_report(y_test, y_pred, target_names=target_names)\n",
    "print(a)"
   ]
  },
  {
   "cell_type": "code",
   "execution_count": 152,
   "metadata": {},
   "outputs": [],
   "source": [
    "# sklearn\n",
    "model = DecisionTreeClassifier(max_depth=1)\n",
    "model.fit(X_train, y_train)\n",
    "y_pred_sk = model.predict(X_test)"
   ]
  },
  {
   "cell_type": "code",
   "execution_count": 153,
   "metadata": {},
   "outputs": [
    {
     "name": "stdout",
     "output_type": "stream",
     "text": [
      "正解率：0.5\n"
     ]
    },
    {
     "data": {
      "image/png": "[encoded data removed]",
      "text/plain": [
       "<Figure size 360x216 with 1 Axes>"
      ]
     },
     "metadata": {
      "needs_background": "light"
     },
     "output_type": "display_data"
    },
    {
     "name": "stdout",
     "output_type": "stream",
     "text": [
      "              precision    recall  f1-score   support\n",
      "\n",
      "          X1       0.44      0.80      0.57         5\n",
      "          X2       0.67      0.29      0.40         7\n",
      "\n",
      "    accuracy                           0.50        12\n",
      "   macro avg       0.56      0.54      0.49        12\n",
      "weighted avg       0.57      0.50      0.47        12\n",
      "\n"
     ]
    }
   ],
   "source": [
    "# score\n",
    "print('正解率：{}'.format(metrics.accuracy_score(y_test, y_pred_sk)))\n",
    "\n",
    "# 混同行列\n",
    "confusion = metrics.confusion_matrix(y_test, y_pred_sk)\n",
    "cf_df = pd.DataFrame(confusion, index=[1,2], columns=[1,2])\n",
    "cf_matrix(cf_df)\n",
    "\n",
    "# 評価指標\n",
    "target_names = ['X1', 'X2']\n",
    "a = metrics.classification_report(y_test, y_pred_sk, target_names=target_names)\n",
    "print(a)"
   ]
  },
  {
   "cell_type": "code",
   "execution_count": null,
   "metadata": {},
   "outputs": [],
   "source": []
  },
  {
   "cell_type": "code",
   "execution_count": null,
   "metadata": {},
   "outputs": [],
   "source": []
  },
  {
   "cell_type": "code",
   "execution_count": null,
   "metadata": {},
   "outputs": [],
   "source": []
  },
  {
   "cell_type": "code",
   "execution_count": null,
   "metadata": {},
   "outputs": [],
   "source": []
  },
  {
   "cell_type": "markdown",
   "metadata": {},
   "source": [
    "## 【問題6】決定領域の可視化\n",
    "決定領域を可視化してください。"
   ]
  },
  {
   "cell_type": "code",
   "execution_count": 144,
   "metadata": {},
   "outputs": [],
   "source": [
    "def decision_region(X, y, model, step=0.01, title='decision region', \n",
    "                    xlabel='xlabel', ylabel='ylabel', target_names=['versicolor', 'virginica'],\n",
    "                    n_class=2):\n",
    "    \"\"\"\n",
    "    2値分類を2次元の特徴量で学習したモデルの決定領域を描く。\n",
    "    背景の色が学習したモデルによる推定値から描画される。\n",
    "    散布図の点は訓練データまたは検証データである。\n",
    "\n",
    "    Parameters\n",
    "    ----------------\n",
    "    X : ndarray, shape(n_samples, 2)\n",
    "        特徴量\n",
    "    y : ndarray, shape(n_samples,)\n",
    "        ラベル\n",
    "    model : object\n",
    "        学習したモデルのインスンタスを入れる\n",
    "    step : float, (default : 0.1)\n",
    "        推定値を計算する間隔を設定する\n",
    "    title : str\n",
    "        グラフのタイトルの文章を与える\n",
    "    xlabel, ylabel : str\n",
    "        軸ラベルの文章を与える\n",
    "    target_names= : list of str\n",
    "        凡例の一覧を与える\n",
    "    \"\"\"\n",
    "\n",
    "    # setting\n",
    "    if n_class == 2:\n",
    "        scatter_color = ['red', 'blue']\n",
    "        contourf_color = ['pink', 'skyblue']\n",
    "    elif n_class == 3:\n",
    "        scatter_color = ['green', 'red', 'blue']\n",
    "        contourf_color = ['lightgreen', 'pink', 'skyblue']\n",
    "\n",
    "    # pred\n",
    "    mesh_f0, mesh_f1 = np.meshgrid(np.arange(np.min(X[:,0])-0.5, \n",
    "                                             np.max(X[:,0])+0.5, step), \n",
    "                                   np.arange(np.min(X[:,1])-0.5, \n",
    "                                             np.max(X[:,1])+0.5, step))\n",
    "    mesh = np.c_[np.ravel(mesh_f0),np.ravel(mesh_f1)]\n",
    "    y_pred = model.predict(mesh).reshape(mesh_f0.shape)\n",
    "    # plot\n",
    "    plt.title(title)\n",
    "    plt.xlabel(xlabel)\n",
    "    plt.ylabel(ylabel)\n",
    "    plt.contourf(mesh_f0, mesh_f1, y_pred, n_class-1, cmap=ListedColormap(contourf_color))\n",
    "    plt.contour(mesh_f0, mesh_f1, y_pred, n_class-1, colors='y', linewidths=3, alpha=0.5)\n",
    "    y = np.squeeze(y)  # 2020-08-10 追加\n",
    "    for i, target in enumerate(set(list(y))):\n",
    "        plt.scatter(X[y==target][:, 0], X[y==target][:, 1], s=80, color=scatter_color[i], label=target_names[i], marker='o')\n",
    "    patches = [mpatches.Patch(color=scatter_color[i], label=target_names[i]) for i in range(n_class)]\n",
    "#     plt.scatter(model.support_vector[:, 0], model.support_vector[:, 1], s=50, color='yellow', marker='o', alpha=.6, label='support vector')\n",
    "    plt.legend(handles=patches)\n",
    "    plt.legend()\n",
    "    plt.show()"
   ]
  },
  {
   "cell_type": "code",
   "execution_count": 145,
   "metadata": {},
   "outputs": [
    {
     "data": {
      "image/png": "[encoded data removed]",
      "text/plain": [
       "<Figure size 432x288 with 1 Axes>"
      ]
     },
     "metadata": {
      "needs_background": "light"
     },
     "output_type": "display_data"
    }
   ],
   "source": [
    "decision_region(X_train, y_train, sdt2, target_names=['X1', 'X2'])"
   ]
  },
  {
   "cell_type": "code",
   "execution_count": 156,
   "metadata": {},
   "outputs": [
    {
     "data": {
      "image/png": "[encoded data removed]",
      "text/plain": [
       "<Figure size 432x288 with 1 Axes>"
      ]
     },
     "metadata": {
      "needs_background": "light"
     },
     "output_type": "display_data"
    }
   ],
   "source": [
    "decision_region(X_train, y_train, model, target_names=['X1', 'X2'])"
   ]
  },
  {
   "cell_type": "markdown",
   "metadata": {},
   "source": [
    "## 5.より深い決定木\n",
    "\n"
   ]
  },
  {
   "cell_type": "markdown",
   "metadata": {},
   "source": [
    "## 【問題7】（アドバンス課題）深さ2の決定木分類器クラスの作成\n",
    "深さが2の決定木分類器のクラスScratchDecesionTreeClassifierDepth2を作成してください。\n",
    "\n",
    "\n",
    "深さ2とは空間の分割を2回行うことを指します。\n",
    "\n",
    "\n",
    "《ヒント》\n",
    "\n",
    "\n",
    "各ノードをインスタンスとして扱うと、任意の深さへの拡張が行いやすくなります。"
   ]
  },
  {
   "cell_type": "code",
   "execution_count": null,
   "metadata": {},
   "outputs": [],
   "source": [
    "class ScratchDecesionTreeClassifie():\n",
    "    \"\"\"\n",
    "    深さ1の決定木分類器のスクラッチ実装\n",
    "\n",
    "    Parameters\n",
    "    ----------\n",
    "    verbose : bool\n",
    "      学習過程を出力する場合はTrue\n",
    "    \"\"\"\n",
    "    def __init__(self, verbose=False, max_depth=1):\n",
    "        # ハイパーパラメータを属性として記録\n",
    "        self.max_depth = max_depth\n",
    "        \n",
    "        self.verbose = verbose\n",
    "    def fit(self, X, y):\n",
    "        \"\"\"\n",
    "        決定木分類器を学習する\n",
    "        Parameters\n",
    "        ----------\n",
    "        X : 次の形のndarray, shape (n_samples, n_features)\n",
    "            訓練データの特徴量\n",
    "        y : 次の形のndarray, shape (n_samples, )\n",
    "            訓練データの正解値\n",
    "        \"\"\"\n",
    "        # インスタンス変数\n",
    "        self.class_a = y.min()    # クラスAの値\n",
    "        self.class_b = y.max()    # クラスBの値\n",
    "        self.root_info = {'column_idx': None, 'break_point': None, 'ig': None, 'gini': None, 'samples': None, 'value': None, 'value': None, 'class': None}\n",
    "        self.leaf_a_info = {'column_idx': None, 'break_point': None, 'ig': None, 'gini': None, 'samples': None, 'value': None, 'value': None, 'class': None}\n",
    "        self.leaf_b_info = {'column_idx': None, 'break_point': None, 'ig': None, 'gini': None, 'samples': None, 'value': None, 'value': None, 'class': None}\n",
    "\n",
    "        # エラーチェック\n",
    "        assert self.class_a != self.class_b, \"[ERROR] Class labels an invalid value.\"\n",
    "        \n",
    "        # 分岐\n",
    "        self._branch_processing(X, y)\n",
    "\n",
    "\n",
    "        if self.verbose:\n",
    "            #verboseをTrueにした際は学習過程を出力\n",
    "            print()\n",
    "        pass\n",
    "\n",
    "    def _calc_gini(self, y):\n",
    "        \"\"\"\n",
    "        ジニ不純度を計算\n",
    "        \"\"\"\n",
    "        n_all = y.shape[0]\n",
    "        n1 = np.sum(y == self.class_a)\n",
    "        n2 = np.sum(y == self.class_b)\n",
    "        gini = 1 - ((n1 / n_all)**2 + (n2 / n_all)**2)\n",
    "        return gini\n",
    "\n",
    "    def _calc_ig(self, y_root, y_left, y_right):\n",
    "        \"\"\"\n",
    "        情報利得を計算\n",
    "        \"\"\"\n",
    "        gini_root, gini_left, gini_right = calc_gini(y_root), calc_gini(y_left), calc_gini(y_right)\n",
    "        n_root, n_left, n_right = y_root.shape[0], y_left.shape[0], y_right.shape[0]\n",
    "        IG = gini_root - (n_left*gini_left/n_root) - (n_right*gini_right/n_root)\n",
    "        return IG\n",
    "\n",
    "    def _branch_processing(self, X, y):\n",
    "        \"\"\"\n",
    "        決定木の分岐処理\n",
    "        \"\"\"\n",
    "        tmp1_ig_dict = {}    # ある特定のカラム内での閾値・情報利得格納用\n",
    "        tmp2_ig_dict = {}    # カラム別の情報利得最大の情報格納用\n",
    "\n",
    "        for i in range(X.shape[1]):         # Xのカラム数分のループ\n",
    "            x_uq = np.sort(np.unique(X[:, i]))    # 特徴量のユニーク値を取得\n",
    "            for j in x_uq:   # 特定のカラムのユニーク値分のループ\n",
    "                # ある点を基準にデータを分割\n",
    "                y_a, y_b = self.sep_data(X, y, i, break_point=x_uq[j])\n",
    "                # 情報利得計算\n",
    "                tmp1_ig_dict[x_uq[j]] = self._calc_ig(y, y_a, y_b)\n",
    "\n",
    "            # 情報利得が最大となるkey, valueを取得\n",
    "            bp, ig = max(tmp1_ig_dict.items(), key=lambda x: x[1])\n",
    "\n",
    "            # カラム番号と情報利得を辞書へ保存\n",
    "            tmp2_ig_dict[i] = (bp, ig)   # i:XカラムのIDX、bp(break_point):閾値、ig:情報利得\n",
    "        \n",
    "        # 最終的に情報利得が最大となるカラムを取得\n",
    "        column_idx, bp_ig = max(tmp2_ig_dict.items(), key=lambda x: x[1][1])\n",
    "        \n",
    "        # 情報利得が最大となる基準でデータを分割\n",
    "        y_a, y_b = self.sep_data(X, y, column_idx, break_point=bp_ig[0])\n",
    "        \n",
    "        # 分岐前の情報\n",
    "        value_, class_ = self._class_definition(y)\n",
    "        self.root_info ={'column_idx': column_idx, \n",
    "                         'break_point': bp_ig[0],\n",
    "                         'ig': bp_ig[1],\n",
    "                         'gini': self._calc_gini(y),\n",
    "                         'samples': len(y), \n",
    "                         'value': value_,  \n",
    "                         'class': class_}\n",
    "        \n",
    "        # 分岐後の情報\n",
    "        value_, class_ = self._class_definition(y_a)\n",
    "        self.leaf_a_info ={'column_idx': None, \n",
    "                           'break_point': None,\n",
    "                           'ig': None,\n",
    "                           'gini': self._calc_gini(y_a),\n",
    "                           'samples': len(y_a), \n",
    "                           'value': value_,  \n",
    "                           'class': class_}\n",
    "        value_, class_ = self._class_definition(y_b)\n",
    "        self.leaf_b_info ={'column_idx': None, \n",
    "                           'break_point': None,\n",
    "                           'ig': None,\n",
    "                           'gini': self._calc_gini(y_b),\n",
    "                           'samples': len(y_b), \n",
    "                           'value': value_,  \n",
    "                           'class': class_}\n",
    "        \n",
    "        print('閾値 : X >= {}'.format(bp_ig[0]))\n",
    "        print('情報利得(IG) : {}'.format(bp_ig[1]))\n",
    "        print('クラスA : {}'.format(len(y_a)))\n",
    "        print('クラスB : {}'.format(len(y_b)))\n",
    "\n",
    "        return y_a, y_b\n",
    "    \n",
    "    \n",
    "    def _class_definition(self, y):\n",
    "        num_y_a = (y==self.class_a).sum()\n",
    "        num_y_b = (y==self.class_b).sum()\n",
    "        class_label = self.class_a if num_y_a >= num_y_b else self.class_b\n",
    "        return (num_y_a, num_y_b), class_label\n",
    "\n",
    "\n",
    "    def sep_data(self, X, y, x_column_idx, break_point):\n",
    "        div_y = [y[]]\n",
    "        y_a = y[idx[0]]\n",
    "        y_b = np.delete(y, idx[0], axis=0)\n",
    "        \n",
    "        div_target = [target[data[:, feat_idx] >= threshold], target[data[:, feat_idx] < threshold]]\n",
    "        return y_a, y_b\n",
    "\n",
    "\n",
    "    def predict(self, X):\n",
    "        \"\"\"\n",
    "        決定木分類器を使いラベルを推定する\n",
    "        \"\"\"\n",
    "        idx = np.where(X[:, self.root_info['column_idx']] >= self.root_info['break_point'])\n",
    "        y_pred = np.full([X.shape[0], 1], self.class_a)\n",
    "        y_pred[idx[0]] = self.class_b\n",
    "        return y_pred"
   ]
  },
  {
   "cell_type": "code",
   "execution_count": null,
   "metadata": {},
   "outputs": [],
   "source": [
    "class DecisionTreeNode():\n",
    "    def __init__(self, X, y, max_depth):\n",
    "        "
   ]
  },
  {
   "cell_type": "code",
   "execution_count": null,
   "metadata": {},
   "outputs": [],
   "source": [
    "class DecisionTreeNode(object):\n",
    "    def __init__(self, data, target, max_depth):\n",
    "        self.left = None\n",
    "        self.right = None\n",
    "        self.max_depth = max_depth\n",
    "        self.depth = None\n",
    "        self.data = data\n",
    "        self.target = target\n",
    "        self.threshold = None\n",
    "        self.feature = None\n",
    "        self.gini_min = None\n",
    "        self.label = np.argmax(np.bincount(target))\n",
    "   \n",
    "    def split(self, depth):\n",
    "        self.depth = depth\n",
    "        self.gini_min, self.threshold, self.feature = search_best_split(self.data, self.target)\n",
    "        print('Depth: {}, Sep at Feature: {},Threshold: {}, Label: {}'.format(self.depth, self.feature, self.threshold, self.label))\n",
    "       \n",
    "        if self.depth == self.max_depth or self.gini_min == 0:\n",
    "            return       \n",
    "        idx_left = self.data[:, self.feature] >= self.threshold\n",
    "        idx_right = self.data[:, self.feature] < self.threshold\n",
    "   \n",
    "        self.left = DecisionTreeNode(self.data[idx_left],  self.target[idx_left], self.max_depth)\n",
    "        self.right = DecisionTreeNode(self.data[idx_right], self.target[idx_right], self.max_depth)\n",
    "        self.left.split(self.depth +1)\n",
    "        self.right.split(self.depth +1)\n",
    " \n",
    "    def predict(self, data):\n",
    "        if self.gini_min == 0.0 or self.depth == self.max_depth:\n",
    "            return self.label\n",
    "        else:\n",
    "            if data[self.feature] > self.threshold:\n",
    "                return self.left.predict(data)\n",
    "            else:\n",
    "                return self.right.predict(data)"
   ]
  },
  {
   "cell_type": "code",
   "execution_count": null,
   "metadata": {},
   "outputs": [],
   "source": [
    "import numpy as np\n",
    "from sklearn.datasets import load_iris\n",
    "from sklearn.model_selection import train_test_split\n",
    " \n",
    "def gini_score(data, target, feat_idx, threshold):\n",
    "    gini = 0\n",
    "    sample_num = len(target)\n",
    "   \n",
    "    div_target = [target[data[:, feat_idx] >= threshold], target[data[:, feat_idx] < threshold]]\n",
    "   \n",
    "    for group in div_target:\n",
    "        score = 0\n",
    "        classes = np.unique(group)\n",
    "        for cls in classes:\n",
    "            p = np.sum(group == cls)/len(group)\n",
    "            score += p * p\n",
    "        gini += (1- score) * (len(group)/sample_num)\n",
    "    return gini\n",
    " \n",
    "def search_best_split(data, target):   \n",
    "    features = data.shape[1]\n",
    "    best_thrs = None\n",
    "    best_f = None\n",
    "    gini = None\n",
    "    gini_min = 1\n",
    " \n",
    "    for feat_idx in range(features):\n",
    "        values = data[:, feat_idx]\n",
    "        for val in values:\n",
    "            gini = gini_score(data, target, feat_idx, val)\n",
    "            if gini_min > gini:\n",
    "                gini_min = gini\n",
    "                best_thrs = val\n",
    "                best_f = feat_idx\n",
    "    return gini_min, best_thrs, best_f       \n",
    " \n",
    "class DecisionTreeNode(object):\n",
    "    def __init__(self, data, target, max_depth):\n",
    "        self.left = None\n",
    "        self.right = None\n",
    "        self.max_depth = max_depth\n",
    "        self.depth = None\n",
    "        self.data = data\n",
    "        self.target = target\n",
    "        self.threshold = None\n",
    "        self.feature = None\n",
    "        self.gini_min = None\n",
    "        self.label = np.argmax(np.bincount(target))\n",
    "   \n",
    "    def split(self, depth):\n",
    "        self.depth = depth\n",
    "        self.gini_min, self.threshold, self.feature = search_best_split(self.data, self.target)\n",
    "        print('Depth: {}, Sep at Feature: {},Threshold: {}, Label: {}'.format(self.depth, self.feature, self.threshold, self.label))\n",
    "       \n",
    "        if self.depth == self.max_depth or self.gini_min == 0:\n",
    "            return       \n",
    "        idx_left = self.data[:, self.feature] >= self.threshold\n",
    "        idx_right = self.data[:, self.feature] < self.threshold\n",
    "   \n",
    "        self.left = DecisionTreeNode(self.data[idx_left],  self.target[idx_left], self.max_depth)\n",
    "        self.right = DecisionTreeNode(self.data[idx_right], self.target[idx_right], self.max_depth)\n",
    "        self.left.split(self.depth +1)\n",
    "        self.right.split(self.depth +1)\n",
    " \n",
    "    def predict(self, data):\n",
    "        if self.gini_min == 0.0 or self.depth == self.max_depth:\n",
    "            return self.label\n",
    "        else:\n",
    "            if data[self.feature] > self.threshold:\n",
    "                return self.left.predict(data)\n",
    "            else:\n",
    "                return self.right.predict(data)\n",
    " \n",
    "class DesicionTreeClassifier(object):\n",
    "    def __init__(self, max_depth):\n",
    "        self.max_depth = max_depth\n",
    "        self.tree = None\n",
    "   \n",
    "    def fit(self, data, target):\n",
    "        initial_depth = 0\n",
    "        self.tree = DecisionTreeNode(data, target, self.max_depth)\n",
    "        self.tree.split(initial_depth)\n",
    "   \n",
    "    def predict(self, data):\n",
    "        pred = []\n",
    "        for s in data:\n",
    "            pred.append(self.tree.predict(s))\n",
    "        return np.array(pred)\n",
    " \n",
    "    if __name__ == '__main__':\n",
    "    iris = load_iris()\n",
    "    data = iris.data\n",
    "    target = iris.target\n",
    "\n",
    "    X_train, X_test, y_train, y_test = train_test_split(data, target, test_size=0.3, random_state=0)\n",
    "\n",
    "    clf = DesicionTreeClassifier(max_depth=3)\n",
    "    clf.fit(X_train, y_train)\n",
    "    y_pred = clf.predict(X_test)\n",
    "    score = sum(y_pred == y_test)/float(len(y_test))\n",
    "    print('Classification accuracy: {}'.format(score))"
   ]
  },
  {
   "cell_type": "markdown",
   "metadata": {},
   "source": [
    "## 【問題8】（アドバンス課題）深さに制限のない決定木分類器クラスの作成\n",
    "深さに制限のない決定木分類器のクラスScratchDecesionTreeClassifierDepthInfを作成してください。\n",
    "\n",
    "\n",
    "任意の深さを指定できるようにするとともに、指定しない場合は全ての葉ノードがジニ不純度0となるまで続けられるようにもしてください。"
   ]
  },
  {
   "cell_type": "code",
   "execution_count": null,
   "metadata": {},
   "outputs": [],
   "source": []
  },
  {
   "cell_type": "code",
   "execution_count": null,
   "metadata": {},
   "outputs": [],
   "source": []
  },
  {
   "cell_type": "code",
   "execution_count": null,
   "metadata": {},
   "outputs": [],
   "source": []
  },
  {
   "cell_type": "code",
   "execution_count": null,
   "metadata": {},
   "outputs": [],
   "source": []
  }
 ],
 "metadata": {
  "colab": {
   "authorship_tag": "ABX9TyMbglNFt/ruA3tu+eMaJUqg",
   "collapsed_sections": [],
   "name": "Untitled0.ipynb",
   "provenance": []
  },
  "kernelspec": {
   "display_name": "Python 3",
   "language": "python",
   "name": "python3"
  },
  "language_info": {
   "codemirror_mode": {
    "name": "ipython",
    "version": 3
   },
   "file_extension": ".py",
   "mimetype": "text/x-python",
   "name": "python",
   "nbconvert_exporter": "python",
   "pygments_lexer": "ipython3",
   "version": "3.8.3"
  }
 },
 "nbformat": 4,
 "nbformat_minor": 1
}
