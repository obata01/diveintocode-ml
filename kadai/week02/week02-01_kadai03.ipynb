{
 "cells": [
  {
   "cell_type": "markdown",
   "metadata": {},
   "source": [
    "# 2.行列積\n",
    "\n",
    "以下のような行列A、Bを考えます。\n",
    "\n",
    "\\begin{equation*}\n",
    "  A =\n",
    "  \\begin{bmatrix}\n",
    "    -1 &  2 &  3 \\\\\n",
    "     4 & -5 &  6 \\\\\n",
    "     7 &  8 & -9 \\\\\n",
    "  \\end{bmatrix}\n",
    "  ,\n",
    "  B =\n",
    "  \\begin{bmatrix}\n",
    "    0 & 2 &  1 \\\\\n",
    "    0 & 2 & -8 \\\\\n",
    "    2 & 9 & -1 \\\\\n",
    "  \\end{bmatrix}\n",
    "\\end{equation*}\n",
    "\n",
    "\n",
    "NumPyで表すと次のようになります。"
   ]
  },
  {
   "cell_type": "code",
   "execution_count": 1,
   "metadata": {},
   "outputs": [],
   "source": [
    "import numpy as np\n",
    "a_ndarray = np.array([[-1, 2, 3], [4, -5, 6], [7, 8, -9]])\n",
    "b_ndarray = np.array([[0, 2, 1], [0, 2, -8], [2, 9, -1]])"
   ]
  },
  {
   "cell_type": "markdown",
   "metadata": {},
   "source": [
    "## 【問題1】行列積を手計算する\n",
    "AとBの行列積を手計算で解いてください。\n",
    "\n",
    "計算過程もマークダウンテキストを用いて説明してください。"
   ]
  },
  {
   "cell_type": "markdown",
   "metadata": {},
   "source": [
    "\\begin{align}\n",
    "  AB &=\n",
    "  \\begin{bmatrix}\n",
    "    (-1×0) + ( 2×0) + ( 3×2) & (-1×2) + ( 2×2) + ( 3×9) & (-1×1) + ( 2×-8) + ( 3×-1) \\\\\n",
    "    ( 4×0) + (-5×0) + ( 6×2) & ( 4×2) + (-5×2) + ( 6×9) & ( 4×1) + (-5×-8) + ( 6×-1) \\\\\n",
    "    ( 7×0) + ( 8×0) + (-9×2) & ( 7×2) + ( 8×2) + (-9×9) & ( 7×1) + ( 8×-8) + (-9×-1) \\\\\n",
    "  \\end{bmatrix}\\\\\n",
    "  &= \n",
    "  \\begin{bmatrix}\n",
    "    6 & 29 & -20 \\\\\n",
    "    12 &  52 &  38 \\\\\n",
    "    -18 & -51 &  -48 \\\\\n",
    "  \\end{bmatrix}\\\\\n",
    "\\end{align}"
   ]
  },
  {
   "cell_type": "markdown",
   "metadata": {},
   "source": [
    "上記がgithub上で表示崩れを起こすため下記に同じ内容を記載\n",
    "\n",
    "\\begin{equation*}\n",
    "  AB =\n",
    "  \\begin{bmatrix}\n",
    "    (-1×0) + ( 2×0) + ( 3×2) & (-1×2) + ( 2×2) + ( 3×9) & (-1×1) + ( 2×-8) + ( 3×-1) \\\\\n",
    "    ( 4×0) + (-5×0) + ( 6×2) & ( 4×2) + (-5×2) + ( 6×9) & ( 4×1) + (-5×-8) + ( 6×-1) \\\\\n",
    "    ( 7×0) + ( 8×0) + (-9×2) & ( 7×2) + ( 8×2) + (-9×9) & ( 7×1) + ( 8×-8) + (-9×-1) \\\\\n",
    "  \\end{bmatrix}\\\\\n",
    "\\end{equation*}"
   ]
  },
  {
   "cell_type": "markdown",
   "metadata": {},
   "source": [
    "\\begin{equation*}\n",
    "   =\n",
    "  \\begin{bmatrix}\n",
    "    6 & 29 & -20 \\\\\n",
    "    12 &  52 &  38 \\\\\n",
    "    -18 & -51 &  -48 \\\\\n",
    "  \\end{bmatrix}\\\\\n",
    "\\end{equation*}\n"
   ]
  },
  {
   "cell_type": "markdown",
   "metadata": {},
   "source": [
    "## 【問題2】NumPyの関数による計算\n",
    "この行列積はNumPyのnp.matmul()やnp.dot()、または@演算子を使うことで簡単に計算できます。\n",
    "\n",
    "これらを使い行列積を計算してください。\n",
    "\n",
    "《3種類の違い》\n",
    "\n",
    "np.matmul()とnp.dot()は3次元以上の配列で挙動が変わります。@演算子はnp.matmul()と同じ働きをします。\n",
    "\n",
    "今回のような2次元配列の行列積ではnp.matmul()や@演算子が公式に推奨されています。以下はnp.dot()の説明からの引用です。\n",
    "\n",
    "> If both a and b are 2-D arrays, it is matrix multiplication, but using matmul or a @ b is preferred."
   ]
  },
  {
   "cell_type": "code",
   "execution_count": 2,
   "metadata": {},
   "outputs": [
    {
     "data": {
      "text/plain": [
       "array([[  6,  29, -20],\n",
       "       [ 12,  52,  38],\n",
       "       [-18, -51, -48]])"
      ]
     },
     "execution_count": 2,
     "metadata": {},
     "output_type": "execute_result"
    }
   ],
   "source": [
    "np.matmul(a_ndarray, b_ndarray)"
   ]
  },
  {
   "cell_type": "code",
   "execution_count": 3,
   "metadata": {},
   "outputs": [
    {
     "data": {
      "text/plain": [
       "array([[  6,  29, -20],\n",
       "       [ 12,  52,  38],\n",
       "       [-18, -51, -48]])"
      ]
     },
     "execution_count": 3,
     "metadata": {},
     "output_type": "execute_result"
    }
   ],
   "source": [
    "a_ndarray @ b_ndarray"
   ]
  },
  {
   "cell_type": "code",
   "execution_count": 4,
   "metadata": {},
   "outputs": [
    {
     "data": {
      "text/plain": [
       "array([[  6,  29, -20],\n",
       "       [ 12,  52,  38],\n",
       "       [-18, -51, -48]])"
      ]
     },
     "execution_count": 4,
     "metadata": {},
     "output_type": "execute_result"
    }
   ],
   "source": [
    "np.dot(a_ndarray, b_ndarray)"
   ]
  },
  {
   "cell_type": "markdown",
   "metadata": {},
   "source": [
    "# 3.行列積のスクラッチ実装\n",
    "\n",
    "np.matmul()やnp.dot()、または@演算子を使わずに、手計算で行った計算過程をNumPyによるスクラッチ実装で再現していきましょう。これにより、行列積の計算に対する理解を深めます。ここで考えるのは行列AとBのような次元が2の配列に限定します。\n",
    "\n",
    "\n",
    "## 【問題3】ある要素の計算を実装\n",
    "手計算をする際はまず行列Aの0行目と行列Bの0列目に注目し、以下の計算を行ったかと思います。\n",
    "\n"
   ]
  },
  {
   "cell_type": "markdown",
   "metadata": {},
   "source": [
    "1. 行列Aの(0,0)の要素 $a_{0,0}$ と行列Bの(0,0)の要素 $b_{0,0}$ を掛け合わせる\n",
    "2. 行列Aの(0,1)の要素 $a_{0,1}$ と行列Bの(1,0)の要素 $b_{1,0}$ を掛け合わせる\n",
    "3. 行列Aの(0,2)の要素 $a_{0,2}$ と行列Bの(2,0)の要素 $b_{2,0}$ を掛け合わせる\n",
    "4. それらの値を全て足し合わせる\n",
    "\n",
    "数式で表すと\n",
    "\n",
    "\\begin{equation*}\n",
    "  \\sum_{k=0}^{2}{a_{0,k}}{b_{k,0}}\n",
    "\\end{equation*}\n",
    "\n",
    "です。\n",
    "\n",
    "この計算をnp.matmul()やnp.dot()、または@演算子を使わずに行うコードを書いてください。"
   ]
  },
  {
   "cell_type": "code",
   "execution_count": 5,
   "metadata": {},
   "outputs": [
    {
     "data": {
      "text/plain": [
       "array([[6., 0., 0.],\n",
       "       [0., 0., 0.],\n",
       "       [0., 0., 0.]])"
      ]
     },
     "execution_count": 5,
     "metadata": {},
     "output_type": "execute_result"
    }
   ],
   "source": [
    "def my_calc(ndarray_1, ndarray_2):\n",
    "    answer = np.zeros([ndarray_1.shape[0], ndarray_2.shape[1]])\n",
    "    for k in range(ndarray_1.shape[0]):\n",
    "        value = 0\n",
    "        value += ndarray_1[0, k] * ndarray_2[k, 0]\n",
    "    answer[0, 0] = value\n",
    "    return answer\n",
    "\n",
    "my_calc(a_ndarray, b_ndarray)       "
   ]
  },
  {
   "cell_type": "markdown",
   "metadata": {},
   "source": [
    "## 【問題4】行列積を行う関数の作成\n",
    "問題3のコードを拡張し、行列積のスクラッチ実装を完成させてください。行列AとBを引数に受け取り、行列積を返す関数としてください。\n",
    "\n",
    "行列積を計算する場合は、問題3の計算を異なる行や列に対して繰り返していくことになります。\n",
    "\n",
    "計算結果である $3×3$ の行列Cの各要素 $c_{i,j}$ は数式で表すと次のようになります。\n",
    "\n",
    "\\begin{equation*}\n",
    "  c_{i,j} =\n",
    "  \\sum_{k=0}^{2}{a_{i,k}}{b_{k,j}}\n",
    "\\end{equation*}\n",
    "\n",
    "for文を使い、ndarrayのインデックスを動かしていくことで、合計9つの要素が計算できます。インデックス $i$ や $j$を1増やすと、次の行や列に移ることができます。\n",
    "\n",
    "<img src=\"./img/1.jpg\" style=\"width:400px;\">"
   ]
  },
  {
   "cell_type": "code",
   "execution_count": 6,
   "metadata": {},
   "outputs": [
    {
     "data": {
      "text/plain": [
       "array([[  6.,  29., -20.],\n",
       "       [ 12.,  52.,  38.],\n",
       "       [-18., -51., -48.]])"
      ]
     },
     "execution_count": 6,
     "metadata": {},
     "output_type": "execute_result"
    }
   ],
   "source": [
    "def my_calc_2(ndarray_1, ndarray_2):\n",
    "    answer = np.zeros([ndarray_1.shape[0], ndarray_2.shape[1]])\n",
    "    for i in range(ndarray_1.shape[1]):\n",
    "        for j in range(ndarray_2.shape[0]):\n",
    "            value = 0\n",
    "            for k in range(ndarray_1.shape[1]):\n",
    "                value += ndarray_1[i, k] * ndarray_2[k, j]\n",
    "            answer[i, j] = value\n",
    "    return answer\n",
    "\n",
    "my_calc_2(a_ndarray, b_ndarray)      "
   ]
  },
  {
   "cell_type": "markdown",
   "metadata": {},
   "source": [
    "## 4.行列積が定義されない組み合わせの行列\n",
    "\n",
    "次に以下のような例を考えます。\n",
    "\n",
    "\\begin{equation*}\n",
    "  D =\n",
    "  \\begin{bmatrix}\n",
    "    -1 &  2 & 3 \\\\\n",
    "     4 & -5 & 6 \\\\\n",
    "  \\end{bmatrix}\n",
    "  ,\n",
    "  E =\n",
    "  \\begin{bmatrix}\n",
    "    -9 &  8 & 7 \\\\\n",
    "     6 & -5 & 4 \\\\\n",
    "  \\end{bmatrix}\n",
    "\\end{equation*}"
   ]
  },
  {
   "cell_type": "code",
   "execution_count": 7,
   "metadata": {},
   "outputs": [],
   "source": [
    "d_ndarray = np.array([[-1, 2, 3], [4, -5, 6]])\n",
    "e_ndarray = np.array([[-9, 8, 7], [6, -5, 4]])"
   ]
  },
  {
   "cell_type": "markdown",
   "metadata": {},
   "source": [
    "行列積DEはDの列数とEの行数が等しい場合に定義されていますから、この例では計算ができません。"
   ]
  },
  {
   "cell_type": "markdown",
   "metadata": {},
   "source": [
    "## 【問題5】計算が定義されない入力を判定する\n",
    "問題4で作成した関数は、実装方法によってはこのDとEの配列を入力しても動いてしまう可能性があります。この場合、不適切な計算が行われることになります。また、途中でエラーになる場合でも、なぜエラーになったかが直接的には分かりづらいメッセージが表示されます。\n",
    "\n",
    "\n",
    "if文などによってこれを防ぎ、入力される形に問題があることをprint()を使い表示するコードを書き加えてください。"
   ]
  },
  {
   "cell_type": "code",
   "execution_count": 8,
   "metadata": {},
   "outputs": [
    {
     "name": "stdout",
     "output_type": "stream",
     "text": [
      "[ERROR] 行列Aの列・行列Bの行が一致していないため積の計算ができません。\n",
      "<class '__main__.MatrixCalcError'>\n"
     ]
    }
   ],
   "source": [
    "class MatrixCalcError(Exception):\n",
    "    \"\"\"行列Aの列・行列Bの行が異なることによるエラー\"\"\"\n",
    "    pass\n",
    "\n",
    "def my_calc(ndarray_1, ndarray_2):\n",
    "    try:\n",
    "        # 行列計算が可能か判定\n",
    "        if ndarray_1.shape[1] != ndarray_2.shape[0]:\n",
    "            raise MatrixCalcError\n",
    "            \n",
    "        # 行列計算\n",
    "        answer = np.zeros([ndarray_1.shape[0], ndarray_2.shape[1]])\n",
    "        for i in range(ndarray_1.shape[1]):\n",
    "            for j in range(ndarray_2.shape[0]):\n",
    "                value = 0\n",
    "                for k in range(ndarray_1.shape[1]):\n",
    "                    value += ndarray_1[i, k] * ndarray_2[k, j]\n",
    "                answer[i, j] = value\n",
    "        return answer\n",
    "    \n",
    "    except MatrixCalcError as e:\n",
    "        print('[ERROR] 行列Aの列・行列Bの行が一致していないため積の計算ができません。')\n",
    "        print(type(e))\n",
    "\n",
    "my_calc(d_ndarray, e_ndarray)"
   ]
  },
  {
   "cell_type": "markdown",
   "metadata": {},
   "source": [
    "## 【問題6】転置\n",
    "片方の行列を転置することで、行列積が計算できるようになります。\n",
    "\n",
    "np.transpose()や.Tアトリビュートを用いて転置し、行列積を計算してください。"
   ]
  },
  {
   "cell_type": "code",
   "execution_count": 9,
   "metadata": {},
   "outputs": [
    {
     "data": {
      "text/plain": [
       "array([[-1,  4,  7],\n",
       "       [ 2, -5,  8],\n",
       "       [ 3,  6, -9]])"
      ]
     },
     "execution_count": 9,
     "metadata": {},
     "output_type": "execute_result"
    }
   ],
   "source": [
    "a_ndarray.transpose()"
   ]
  },
  {
   "cell_type": "code",
   "execution_count": 10,
   "metadata": {},
   "outputs": [
    {
     "data": {
      "text/plain": [
       "array([[ 0,  0,  2],\n",
       "       [ 2,  2,  9],\n",
       "       [ 1, -8, -1]])"
      ]
     },
     "execution_count": 10,
     "metadata": {},
     "output_type": "execute_result"
    }
   ],
   "source": [
    "b_ndarray.T"
   ]
  }
 ],
 "metadata": {
  "kernelspec": {
   "display_name": "Python 3",
   "language": "python",
   "name": "python3"
  },
  "language_info": {
   "codemirror_mode": {
    "name": "ipython",
    "version": 3
   },
   "file_extension": ".py",
   "mimetype": "text/x-python",
   "name": "python",
   "nbconvert_exporter": "python",
   "pygments_lexer": "ipython3",
   "version": "3.7.1"
  }
 },
 "nbformat": 4,
 "nbformat_minor": 2
}
