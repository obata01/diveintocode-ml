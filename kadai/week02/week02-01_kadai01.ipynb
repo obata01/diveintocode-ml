{
 "cells": [
  {
   "cell_type": "markdown",
   "metadata": {},
   "source": [
    "## 2.小麦とチェス盤問題\n",
    "\n",
    "曽呂利新左衛門の米の逸話に似たものとして、小麦とチェス盤の話があります。これを題材に多次元配列を扱うための数値計算ライブラリ NumPy の使い方に慣れていきます。\n",
    "\n",
    ">If a chessboard were to have wheat placed upon each square such that one grain were placed on the first square, two on the second, four on the third, and so on (doubling the number of grains on each subsequent square), how many grains of wheat would be on the chessboard at the finish?\n",
    "\n",
    "Wheat and chessboard problem - Wikipedia（最終閲覧日：2019年5月31日）\n",
    "\n",
    "8×8マスのチェス盤の上に、小麦の粒を1, 2, 4と順番に置いていくと最終的な小麦の数はどのようになるかという問題です。"
   ]
  },
  {
   "cell_type": "markdown",
   "metadata": {},
   "source": [
    "## 3.少ないマスで考える\n",
    "まずは4マスの板に小麦の粒を並べていくことを考えます。配列（リスト）の1つの要素を1つのマスに見立てています。\n",
    "Pythonのリストとfor文を使い次のように作ることができます。\n",
    "\n",
    "《サンプルコード》"
   ]
  },
  {
   "cell_type": "code",
   "execution_count": 1,
   "metadata": {},
   "outputs": [
    {
     "name": "stdout",
     "output_type": "stream",
     "text": [
      "4マスの板に小麦を並べる（リスト）：[1, 2, 4, 8]\n"
     ]
    }
   ],
   "source": [
    "n_squares = 4\n",
    "small_board_list = [1]\n",
    "for _ in range(n_squares - 1):\n",
    "    small_board_list.append(2*small_board_list[-1])\n",
    "print(\"4マスの板に小麦を並べる（リスト）：{}\".format(small_board_list))"
   ]
  },
  {
   "cell_type": "code",
   "execution_count": 2,
   "metadata": {},
   "outputs": [
    {
     "name": "stdout",
     "output_type": "stream",
     "text": [
      "4マスの板に小麦を並べる（ndarray）：[1 2 4 8]\n"
     ]
    }
   ],
   "source": [
    "import numpy as np\n",
    "%precision 3\n",
    "\n",
    "small_board_ndarray = np.array(small_board_list)\n",
    "print(\"4マスの板に小麦を並べる（ndarray）：{}\".format(small_board_ndarray))"
   ]
  },
  {
   "cell_type": "markdown",
   "metadata": {},
   "source": [
    "## 【問題1】2×2マスのチェス盤の小麦の数\n",
    "2×2マスのチェス盤をndarrayによって表現し、各マスの小麦の数を計算してください。左上のマスに小麦を1つ置いた後、その右が2つ、左下が4つ、右下が8つという風に進みます。\n",
    "\n",
    "サンプルコードで作成したndarrayのshapeの変形を行ってください。"
   ]
  },
  {
   "cell_type": "code",
   "execution_count": 3,
   "metadata": {},
   "outputs": [
    {
     "name": "stdout",
     "output_type": "stream",
     "text": [
      "2×2マスの板に小麦を並べる：\n",
      "[[1 2]\n",
      " [4 8]]\n"
     ]
    }
   ],
   "source": [
    "small_board_ndarray_2 = small_board_ndarray.reshape(2, 2)\n",
    "print(\"2×2マスの板に小麦を並べる：\\n{}\".format(small_board_ndarray_2))"
   ]
  },
  {
   "cell_type": "markdown",
   "metadata": {},
   "source": [
    "## 4.8×8マスのチェス盤\n",
    "【問題2】n×mマスへの拡張\n",
    "n×mマスのチェス盤の小麦の数を記したndarrayを返す関数を作成してください。そして、この関数を使い8×8マスのチェス盤の小麦の数を求めてください。"
   ]
  },
  {
   "cell_type": "code",
   "execution_count": 4,
   "metadata": {},
   "outputs": [
    {
     "name": "stdout",
     "output_type": "stream",
     "text": [
      "※確認用\n",
      "4×4マスの板に小麦を並べる：\n",
      "[[    1     2     4     8]\n",
      " [   16    32    64   128]\n",
      " [  256   512  1024  2048]\n",
      " [ 4096  8192 16384 32768]]\n",
      "\n",
      "※確認用\n",
      "6×6マスの板に小麦を並べる：\n",
      "[[          1           2           4           8          16          32]\n",
      " [         64         128         256         512        1024        2048]\n",
      " [       4096        8192       16384       32768       65536      131072]\n",
      " [     262144      524288     1048576     2097152     4194304     8388608]\n",
      " [   16777216    33554432    67108864   134217728   268435456   536870912]\n",
      " [ 1073741824  2147483648  4294967296  8589934592 17179869184 34359738368]]\n",
      "\n",
      "8×8マスの板に小麦を並べる：\n",
      "[[1.000e+00 2.000e+00 4.000e+00 8.000e+00 1.600e+01 3.200e+01 6.400e+01\n",
      "  1.280e+02]\n",
      " [2.560e+02 5.120e+02 1.024e+03 2.048e+03 4.096e+03 8.192e+03 1.638e+04\n",
      "  3.277e+04]\n",
      " [6.554e+04 1.311e+05 2.621e+05 5.243e+05 1.049e+06 2.097e+06 4.194e+06\n",
      "  8.389e+06]\n",
      " [1.678e+07 3.355e+07 6.711e+07 1.342e+08 2.684e+08 5.369e+08 1.074e+09\n",
      "  2.147e+09]\n",
      " [4.295e+09 8.590e+09 1.718e+10 3.436e+10 6.872e+10 1.374e+11 2.749e+11\n",
      "  5.498e+11]\n",
      " [1.100e+12 2.199e+12 4.398e+12 8.796e+12 1.759e+13 3.518e+13 7.037e+13\n",
      "  1.407e+14]\n",
      " [2.815e+14 5.629e+14 1.126e+15 2.252e+15 4.504e+15 9.007e+15 1.801e+16\n",
      "  3.603e+16]\n",
      " [7.206e+16 1.441e+17 2.882e+17 5.765e+17 1.153e+18 2.306e+18 4.612e+18\n",
      "  9.223e+18]]\n",
      "\n"
     ]
    }
   ],
   "source": [
    "def make_matrix(m, n):  # m：行数、n：列数\n",
    "    num = m * n  # 並べる小麦の合計数\n",
    "        \n",
    "    board_list = [1]\n",
    "    for i in range(num-1):\n",
    "        board_list.append(board_list[-1]*2)\n",
    "    board_ndarray = np.array(board_list).reshape(m, n)\n",
    "    \n",
    "    return board_ndarray\n",
    "\n",
    "print(\"※確認用\\n4×4マスの板に小麦を並べる：\\n{}\\n\".format(make_matrix(4,4)))\n",
    "print(\"※確認用\\n6×6マスの板に小麦を並べる：\\n{}\\n\".format(make_matrix(6,6)))\n",
    "\n",
    "# 8*8の小麦の数表示\n",
    "board_ndarray_88 = make_matrix(8, 8)\n",
    "print(\"8×8マスの板に小麦を並べる：\\n{}\\n\".format(board_ndarray_88))"
   ]
  },
  {
   "cell_type": "markdown",
   "metadata": {},
   "source": [
    "## 【問題3】小麦の数の合計\n",
    "8×8マスのチェス盤の小麦の数の合計を求めてください。また、各列の平均を求め、それを棒グラフで可視化してください。\n",
    "\n",
    "棒グラフはサンプルコードを用意しています\n",
    "《棒グラフのサンプルコード》"
   ]
  },
  {
   "cell_type": "code",
   "execution_count": 5,
   "metadata": {},
   "outputs": [
    {
     "data": {
      "image/png": "[encoded data removed]",
      "text/plain": [
       "<Figure size 432x288 with 1 Axes>"
      ]
     },
     "metadata": {
      "needs_background": "light"
     },
     "output_type": "display_data"
    }
   ],
   "source": [
    "import matplotlib.pyplot as plt\n",
    "%matplotlib inline\n",
    "plt.xlabel(\"column\")\n",
    "plt.ylabel(\"number\")\n",
    "plt.title(\"number in each column\")\n",
    "plt.bar(np.arange(1,4), np.array([1, 2, 3]))\n",
    "plt.show()"
   ]
  },
  {
   "cell_type": "code",
   "execution_count": 6,
   "metadata": {},
   "outputs": [
    {
     "name": "stdout",
     "output_type": "stream",
     "text": [
      "小麦の数の合計：1.8446744073709552e+19\n",
      "\n",
      "各行の平均：[3.188e+01 8.160e+03 2.089e+06 5.348e+08 1.369e+11 3.505e+13 8.972e+15\n",
      " 2.297e+18]\n",
      "\n"
     ]
    },
    {
     "data": {
      "image/png": "[encoded data removed]",
      "text/plain": [
       "<Figure size 576x288 with 1 Axes>"
      ]
     },
     "metadata": {
      "needs_background": "light"
     },
     "output_type": "display_data"
    }
   ],
   "source": [
    "# 小麦の数の合計\n",
    "total = board_ndarray_88.sum()\n",
    "print(\"小麦の数の合計：{:,}\\n\".format(total))\n",
    "\n",
    "# 各行の平均\n",
    "board_ndarray_88_mean = board_ndarray_88.mean(axis=1)\n",
    "print(\"各行の平均：{}\\n\".format(board_ndarray_88_mean))\n",
    "\n",
    "\n",
    "# 各行の平均の棒グラフ\n",
    "plt.figure(figsize=(8, 4))\n",
    "plt.xlabel(\"row\", fontsize=13.0)\n",
    "plt.ylabel(\"number\", fontsize=13.0)\n",
    "plt.title(\"number in each row\", fontsize=15.0)\n",
    "plt.bar(\n",
    "    np.arange(1, board_ndarray_88_mean.shape[0] + 1), \n",
    "    board_ndarray_88_mean, \n",
    "    align='center',\n",
    "    width=0.8\n",
    "    )\n",
    "\n",
    "plt.grid(True, linewidth=1.0, alpha=0.3)\n",
    "plt.show()\n"
   ]
  },
  {
   "cell_type": "markdown",
   "metadata": {},
   "source": [
    "## 【問題4】小麦の数のヒートマップ\n",
    "8×8マスのチェス盤の小麦の数をヒートマップとして可視化してください。\n",
    "ヒートマップはサンプルコードを用意しています。\n",
    "\n",
    "《ヒートマップのサンプルコード》\n",
    "4行2列の配列のヒートマップです。値が小さいところが紫、大きいところが黄色になっています。"
   ]
  },
  {
   "cell_type": "code",
   "execution_count": 7,
   "metadata": {},
   "outputs": [
    {
     "data": {
      "image/png": "[encoded data removed]",
      "text/plain": [
       "<Figure size 432x288 with 1 Axes>"
      ]
     },
     "metadata": {
      "needs_background": "light"
     },
     "output_type": "display_data"
    }
   ],
   "source": [
    "plt.xlabel(\"column\")\n",
    "plt.ylabel(\"row\")\n",
    "plt.title(\"heatmap\")\n",
    "plt.pcolor(np.array([0, 1, 3, 5, 7, 9, 11, 13]).reshape(4, 2))\n",
    "plt.show()"
   ]
  },
  {
   "cell_type": "code",
   "execution_count": 8,
   "metadata": {},
   "outputs": [
    {
     "data": {
      "image/png": "[encoded data removed]",
      "text/plain": [
       "<Figure size 432x288 with 1 Axes>"
      ]
     },
     "metadata": {
      "needs_background": "light"
     },
     "output_type": "display_data"
    },
    {
     "data": {
      "text/plain": [
       "array([[1.000e+00, 2.000e+00, 4.000e+00, 8.000e+00, 1.600e+01, 3.200e+01,\n",
       "        6.400e+01, 1.280e+02],\n",
       "       [2.560e+02, 5.120e+02, 1.024e+03, 2.048e+03, 4.096e+03, 8.192e+03,\n",
       "        1.638e+04, 3.277e+04],\n",
       "       [6.554e+04, 1.311e+05, 2.621e+05, 5.243e+05, 1.049e+06, 2.097e+06,\n",
       "        4.194e+06, 8.389e+06],\n",
       "       [1.678e+07, 3.355e+07, 6.711e+07, 1.342e+08, 2.684e+08, 5.369e+08,\n",
       "        1.074e+09, 2.147e+09],\n",
       "       [4.295e+09, 8.590e+09, 1.718e+10, 3.436e+10, 6.872e+10, 1.374e+11,\n",
       "        2.749e+11, 5.498e+11],\n",
       "       [1.100e+12, 2.199e+12, 4.398e+12, 8.796e+12, 1.759e+13, 3.518e+13,\n",
       "        7.037e+13, 1.407e+14],\n",
       "       [2.815e+14, 5.629e+14, 1.126e+15, 2.252e+15, 4.504e+15, 9.007e+15,\n",
       "        1.801e+16, 3.603e+16],\n",
       "       [7.206e+16, 1.441e+17, 2.882e+17, 5.765e+17, 1.153e+18, 2.306e+18,\n",
       "        4.612e+18, 9.223e+18]])"
      ]
     },
     "execution_count": 8,
     "metadata": {},
     "output_type": "execute_result"
    }
   ],
   "source": [
    "plt.xlabel(\"column\")\n",
    "plt.ylabel(\"row\")\n",
    "plt.title(\"heatmap\")\n",
    "plt.pcolor(board_ndarray_88)\n",
    "plt.show()\n",
    "\n",
    "board_ndarray_88"
   ]
  },
  {
   "cell_type": "code",
   "execution_count": 9,
   "metadata": {},
   "outputs": [
    {
     "data": {
      "text/plain": [
       "<matplotlib.colorbar.Colorbar at 0x1412dfcd320>"
      ]
     },
     "execution_count": 9,
     "metadata": {},
     "output_type": "execute_result"
    },
    {
     "data": {
      "image/png": "[encoded data removed]",
      "text/plain": [
       "<Figure size 432x432 with 2 Axes>"
      ]
     },
     "metadata": {
      "needs_background": "light"
     },
     "output_type": "display_data"
    }
   ],
   "source": [
    "# 個人メモ　別タイプのヒートマップ\n",
    "plt.figure(figsize=(6, 6))\n",
    "plt.imshow(board_ndarray_88, cmap=\"OrRd\")\n",
    "plt.colorbar()"
   ]
  },
  {
   "cell_type": "markdown",
   "metadata": {},
   "source": [
    "## 5.チェス盤の後半\n",
    "アメリカの発明家レイ・カーツワイルはこの逸話を引用し、「チェス盤の後半」というフレーズを作りました。技術の進歩ははじめの内は社会に対して目立った影響が感じられなくとも、倍に倍にと進んでいくと、チェス盤の後半にさしかかったころから、急激な変化を起こすということを伝えています。"
   ]
  },
  {
   "cell_type": "markdown",
   "metadata": {},
   "source": [
    "## 【問題5】後半は前半の何倍か\n",
    "チェス盤の後半にある小麦の数は前半にある小麦の数の何倍かを求めてください。前半とは配列の0から3行目、後半は4から7行目です。"
   ]
  },
  {
   "cell_type": "code",
   "execution_count": 10,
   "metadata": {},
   "outputs": [
    {
     "name": "stdout",
     "output_type": "stream",
     "text": [
      "前半の合計値：16777215.0\n",
      "\n",
      "後半の合計値：1.8446744069414584e+19\n",
      "\n",
      "後半は前半の 1,099,511,693,056.0倍\n",
      "\n"
     ]
    }
   ],
   "source": [
    "part_1 = board_ndarray_88[0:3, :].sum()\n",
    "part_2 = board_ndarray_88[4:8, :].sum()\n",
    "\n",
    "print(\"前半の合計値：{}\\n\".format(part_1))\n",
    "print(\"後半の合計値：{}\\n\".format(part_2))\n",
    "\n",
    "ratio = round(part_2 / part_1)\n",
    "print(\"後半は前半の {:,}倍\\n\".format(ratio))"
   ]
  },
  {
   "cell_type": "markdown",
   "metadata": {},
   "source": [
    "## 6.他の計算方法\n",
    "はじめのサンプルコードではPythonのリストとfor文を使っていましたが、他の方法も考えられます。\n",
    "ndarrayのnp.append()とfor文を使うと次のように作ることができます。\n",
    "\n",
    "《サンプルコード（np.append()）》"
   ]
  },
  {
   "cell_type": "code",
   "execution_count": 11,
   "metadata": {},
   "outputs": [
    {
     "name": "stdout",
     "output_type": "stream",
     "text": [
      "4マスの板に小麦を並べる（ndarray）：[1 2 4 8]\n"
     ]
    }
   ],
   "source": [
    "n_squares = 4\n",
    "small_board_ndarray = np.array([1])\n",
    "for _ in range(n_squares - 1):\n",
    "    small_board_ndarray = np.append(small_board_ndarray, 2*small_board_ndarray[-1])\n",
    "print(\"4マスの板に小麦を並べる（ndarray）：{}\".format(small_board_ndarray))"
   ]
  },
  {
   "cell_type": "markdown",
   "metadata": {},
   "source": [
    "ブロードキャストを活用することで、次のようにも作ることができます。\n",
    "\n",
    "《サンプルコード（ブロードキャスト）》"
   ]
  },
  {
   "cell_type": "code",
   "execution_count": 12,
   "metadata": {},
   "outputs": [
    {
     "name": "stdout",
     "output_type": "stream",
     "text": [
      "4マスの板に小麦を並べる（ndarray）：[1 2 4 8]\n"
     ]
    }
   ],
   "source": [
    "n_squares = 4\n",
    "indices_of_squares = np.arange(n_squares)\n",
    "small_board_ndarray = 2**indices_of_squares\n",
    "print(\"4マスの板に小麦を並べる（ndarray）：{}\".format(small_board_ndarray))"
   ]
  },
  {
   "cell_type": "markdown",
   "metadata": {},
   "source": [
    "## ndarrayの型\n",
    "なお、これらの方法で64マスの小麦の数を調べたい場合、型の問題が出てきます。"
   ]
  },
  {
   "cell_type": "code",
   "execution_count": 13,
   "metadata": {},
   "outputs": [
    {
     "name": "stdout",
     "output_type": "stream",
     "text": [
      "最後のマスの小麦の数：0\n"
     ]
    },
    {
     "name": "stderr",
     "output_type": "stream",
     "text": [
      "C:\\ProgramData\\Anaconda3\\lib\\site-packages\\ipykernel_launcher.py:4: RuntimeWarning: overflow encountered in long_scalars\n",
      "  after removing the cwd from sys.path.\n"
     ]
    }
   ],
   "source": [
    "n_squares = 64\n",
    "board_ndarray = np.array([1])\n",
    "for _ in range(n_squares - 1):\n",
    "    board_ndarray = np.append(board_ndarray, 2*board_ndarray[-1])\n",
    "print(\"最後のマスの小麦の数：{}\".format(board_ndarray[-1])) # -9223372036854775808"
   ]
  },
  {
   "cell_type": "code",
   "execution_count": 14,
   "metadata": {},
   "outputs": [
    {
     "name": "stdout",
     "output_type": "stream",
     "text": [
      "最後のマスの小麦の数：0\n"
     ]
    }
   ],
   "source": [
    "n_squares = 64\n",
    "indices_of_squares = np.arange(n_squares)\n",
    "board_ndarray = 2**indices_of_squares\n",
    "print(\"最後のマスの小麦の数：{}\".format(board_ndarray[-1])) # -9223372036854775808"
   ]
  },
  {
   "cell_type": "markdown",
   "metadata": {},
   "source": [
    "最後の64マス目が-9223372036854775808と負の数になり明らかに間違っています。このndarrayの型を見ると、次のように int64 です。"
   ]
  },
  {
   "cell_type": "code",
   "execution_count": 15,
   "metadata": {},
   "outputs": [
    {
     "name": "stdout",
     "output_type": "stream",
     "text": [
      "int32\n"
     ]
    }
   ],
   "source": [
    "print(board_ndarray.dtype) # int64"
   ]
  },
  {
   "cell_type": "markdown",
   "metadata": {},
   "source": [
    "int64は64ビットの整数型で、-9,223,372,036,854,775,808 ~ 9,223,372,036,854,775,807 の範囲の整数値しか扱えないことを示しています。この値は -2の64乗から2の64乗-1 です。そのため、2の64乗になる64マス目の値が範囲外となり、負の値として出てきてしまっているのです。\n",
    "\n",
    "\n",
    "Pythonの整数型（int）にはこのような制限がありませんが、ndarrayは高速な計算が行える反面、こういった制約があり、型で扱える範囲を意識しておく必要があります。\n",
    "\n",
    "\n",
    "今回は正の値しか利用しないため、 uint64 を使用することで解決します。 0 ~ 18,446,744,073,709,551,615 を扱うことができます。astypeメソッドを使うことで型を変換できるので、累乗の計算前にこれを使いndarrayをuint64型にしておきます。"
   ]
  },
  {
   "cell_type": "code",
   "execution_count": 16,
   "metadata": {},
   "outputs": [
    {
     "name": "stdout",
     "output_type": "stream",
     "text": [
      "最後のマスの小麦の数：9223372036854775808\n"
     ]
    }
   ],
   "source": [
    "n_squares = 64\n",
    "indices_of_squares = np.arange(n_squares).astype(np.uint64)\n",
    "board_ndarray = 2**indices_of_squares\n",
    "print(\"最後のマスの小麦の数：{}\".format(board_ndarray[-1])) # 9223372036854775808"
   ]
  },
  {
   "cell_type": "markdown",
   "metadata": {},
   "source": [
    "## 【問題6】他の計算方法によるn×mマスへの拡張\n",
    "問題2と同様の「n×mマスのチェス盤の小麦の数を記したndarrayを返す関数」を、np.append()を使ったものと、ブロードキャストを使ったもので新たに作成してください。\n",
    "\n",
    "\n",
    "それらの関数を使い8×8マスのチェス盤の小麦の数を再び求めてください。"
   ]
  },
  {
   "cell_type": "code",
   "execution_count": 17,
   "metadata": {},
   "outputs": [
    {
     "name": "stdout",
     "output_type": "stream",
     "text": [
      "forループ前 dtype：uint64\n",
      "forループ後 dtype：float64\n",
      "uint64\n",
      "[[                  1                   2                   4\n",
      "                    8                  16                  32\n",
      "                   64                 128]\n",
      " [                256                 512                1024\n",
      "                 2048                4096                8192\n",
      "                16384               32768]\n",
      " [              65536              131072              262144\n",
      "               524288             1048576             2097152\n",
      "              4194304             8388608]\n",
      " [           16777216            33554432            67108864\n",
      "            134217728           268435456           536870912\n",
      "           1073741824          2147483648]\n",
      " [         4294967296          8589934592         17179869184\n",
      "          34359738368         68719476736        137438953472\n",
      "         274877906944        549755813888]\n",
      " [      1099511627776       2199023255552       4398046511104\n",
      "        8796093022208      17592186044416      35184372088832\n",
      "       70368744177664     140737488355328]\n",
      " [    281474976710656     562949953421312    1125899906842624\n",
      "     2251799813685248    4503599627370496    9007199254740992\n",
      "    18014398509481984   36028797018963968]\n",
      " [  72057594037927936  144115188075855872  288230376151711744\n",
      "   576460752303423488 1152921504606846976 2305843009213693952\n",
      "  4611686018427387904 9223372036854775808]]\n"
     ]
    }
   ],
   "source": [
    "# 「n×mマスのチェス盤の小麦の数を記したndarrayを返す関数」\n",
    "# np.append()を使用したパターン\n",
    "def make_matrix02(m, n):\n",
    "    num = m * n\n",
    "    board_ndarray = np.array([1]).astype(np.uint64)  # 型変換。ここで変換しておかないとループ処理後値が欠落する\n",
    "    print(\"forループ前 dtype：{}\".format(board_ndarray.dtype))  # forループ前 dtype：uint64\n",
    "    for i in range(num-1):\n",
    "        board_ndarray = np.append(board_ndarray, board_ndarray[-1]*2)\n",
    "    print(\"forループ後 dtype：{}\".format(board_ndarray.dtype))  # forループ後 dtype：float64\n",
    "    board_ndarray = board_ndarray.reshape(m, n).astype(np.uint64) # 再度型変換\n",
    "    return board_ndarray\n",
    "\n",
    "data01 = make_matrix02(8, 8)\n",
    "print(data01.dtype)\n",
    "print(data01)"
   ]
  },
  {
   "cell_type": "code",
   "execution_count": 18,
   "metadata": {},
   "outputs": [],
   "source": [
    "# 上記処理からprint関数を削除（最後の%%timeitテスト用の関数）\n",
    "def make_matrix02_02(m, n):\n",
    "    num = m * n\n",
    "    board_ndarray = np.array([1]).astype(np.uint64)\n",
    "    for i in range(num-1):\n",
    "        board_ndarray = np.append(board_ndarray, board_ndarray[-1]*2)\n",
    "    board_ndarray = board_ndarray.reshape(m, n).astype(np.uint64)\n",
    "    return board_ndarray"
   ]
  },
  {
   "cell_type": "code",
   "execution_count": 19,
   "metadata": {},
   "outputs": [
    {
     "name": "stdout",
     "output_type": "stream",
     "text": [
      "uint64\n",
      "[[                  1                   2                   4\n",
      "                    8                  16                  32\n",
      "                   64                 128]\n",
      " [                256                 512                1024\n",
      "                 2048                4096                8192\n",
      "                16384               32768]\n",
      " [              65536              131072              262144\n",
      "               524288             1048576             2097152\n",
      "              4194304             8388608]\n",
      " [           16777216            33554432            67108864\n",
      "            134217728           268435456           536870912\n",
      "           1073741824          2147483648]\n",
      " [         4294967296          8589934592         17179869184\n",
      "          34359738368         68719476736        137438953472\n",
      "         274877906944        549755813888]\n",
      " [      1099511627776       2199023255552       4398046511104\n",
      "        8796093022208      17592186044416      35184372088832\n",
      "       70368744177664     140737488355328]\n",
      " [    281474976710656     562949953421312    1125899906842624\n",
      "     2251799813685248    4503599627370496    9007199254740992\n",
      "    18014398509481984   36028797018963968]\n",
      " [  72057594037927936  144115188075855872  288230376151711744\n",
      "   576460752303423488 1152921504606846976 2305843009213693952\n",
      "  4611686018427387904 9223372036854775808]]\n"
     ]
    }
   ],
   "source": [
    "# ブロードキャストを使用したパターン\n",
    "\n",
    "def make_matrix03(m, n):\n",
    "    num = m * n\n",
    "    board_ndarray = 2 ** np.arange(num).reshape(m, n).astype(np.uint64)\n",
    "    return board_ndarray\n",
    "\n",
    "data02 = make_matrix03(8, 8)\n",
    "print(data02.dtype)\n",
    "print(data02)"
   ]
  },
  {
   "cell_type": "markdown",
   "metadata": {},
   "source": [
    "## 【問題7】計算時間の比較\n",
    "3種類の方法を見てきました。それぞれの計算時間をJupyter Notebookの%%timeitを用いて計測し、比較と考察を行ってください。\n",
    "\n",
    "\n",
    "%%timeitはセル内のコードを複数回実行し、その平均実行時間を出力する働きをします。\n",
    "\n",
    "\n",
    "《%%timeitの例》"
   ]
  },
  {
   "cell_type": "code",
   "execution_count": 20,
   "metadata": {},
   "outputs": [
    {
     "name": "stdout",
     "output_type": "stream",
     "text": [
      "5.86 µs ± 693 ns per loop (mean ± std. dev. of 7 runs, 100000 loops each)\n"
     ]
    }
   ],
   "source": [
    "%%timeit\n",
    "a = np.array([1, 2, 3])\n",
    "b = np.array([1, 2, 3])\n",
    "c = a + b"
   ]
  },
  {
   "cell_type": "code",
   "execution_count": 21,
   "metadata": {},
   "outputs": [
    {
     "name": "stdout",
     "output_type": "stream",
     "text": [
      "36.7 µs ± 3.3 µs per loop (mean ± std. dev. of 7 runs, 10000 loops each)\n"
     ]
    }
   ],
   "source": [
    "%%timeit\n",
    "# パターン1\n",
    "make_matrix(8,8)"
   ]
  },
  {
   "cell_type": "code",
   "execution_count": 22,
   "metadata": {},
   "outputs": [
    {
     "name": "stdout",
     "output_type": "stream",
     "text": [
      "892 µs ± 86.3 µs per loop (mean ± std. dev. of 7 runs, 1000 loops each)\n"
     ]
    }
   ],
   "source": [
    "%%timeit\n",
    "# パターン2\n",
    "make_matrix02_02(8,8)"
   ]
  },
  {
   "cell_type": "code",
   "execution_count": 23,
   "metadata": {},
   "outputs": [
    {
     "name": "stdout",
     "output_type": "stream",
     "text": [
      "11.2 µs ± 1.19 µs per loop (mean ± std. dev. of 7 runs, 100000 loops each)\n"
     ]
    }
   ],
   "source": [
    "%%timeit\n",
    "# パターン3\n",
    "make_matrix03(8,8)"
   ]
  },
  {
   "cell_type": "code",
   "execution_count": 24,
   "metadata": {},
   "outputs": [],
   "source": [
    "# 比較用に1パターン追加（ブロードキャストではなく、forループで2の累乗を計算するパターン）\n",
    "# パターン4\n",
    "def make_matrix04(m, n):  # m：行数、n：列数\n",
    "    num = m * n  # 並べる小麦の合計数\n",
    "    board_ndarray = np.array([2**i for i in range(num)]).reshape(n, m)\n",
    "    return board_ndarray"
   ]
  },
  {
   "cell_type": "code",
   "execution_count": 25,
   "metadata": {},
   "outputs": [
    {
     "name": "stdout",
     "output_type": "stream",
     "text": [
      "68.7 µs ± 7.78 µs per loop (mean ± std. dev. of 7 runs, 10000 loops each)\n"
     ]
    }
   ],
   "source": [
    "%%timeit\n",
    "# パターン4\n",
    "make_matrix04(8,8)"
   ]
  },
  {
   "cell_type": "markdown",
   "metadata": {},
   "source": [
    "## テスト結果への考察\n",
    "パターン1(forループ、リストのappend使用、board_list[-1]\\*2で計算)<br>\n",
    "　→シンプルな記述パターンのため、この所要時間を基準に他と比較する。\n",
    "\n",
    "パターン2(forループ、numpyのappend使用、board_list[-1]\\*2で計算)<br>\n",
    "　→型変換を複数回行っているためかと思ったが、型変換の記述を無くしてみても早くならなかった。※下記追加テストも参照<br>\n",
    "　　処理内容は基本的にパターン1と同様であるため、実はnumpyのappendは遅いのではないかと考える。\n",
    "\n",
    "パターン3(ブロードキャスト計算)<br>\n",
    "　→最も早い。numpyは累乗計算の処理も高速に終わる様子。<br>\n",
    "　　標準偏差も唯一ns(ナノ秒)単位となっており、安定して高速に処理ができている。\n",
    "\n",
    "パターン4(for内包表記、append不使用、パターン3同様に2の累乗で計算)<br>\n",
    "　→1行で書けてスマートだが、パターン1より遅い。2の累乗計算をforで繰り返すのには時間がかかる様子。<br>\n",
    "　　numpyの処理速度とは明らかに異なる。\n",
    "\n",
    "## 結論\n",
    "以上より、基本的にnumpyのappendの繰り返し処理は避けた方が良い。<br>\n",
    "appendを繰り返し実行しなければならない場合は、通常のリストを作成し最後にnumpyに変換した方が良い。<br>\n",
    "演算処理に関しては可能な限りnumpyで行った方が良いが、型に注意。"
   ]
  },
  {
   "cell_type": "markdown",
   "metadata": {},
   "source": [
    "## 追加テスト\n",
    "※自己学習メモ（せっかくの機会なのでもういくつかのパターンでテストしてみた。）"
   ]
  },
  {
   "cell_type": "code",
   "execution_count": 26,
   "metadata": {},
   "outputs": [],
   "source": [
    "# パターン2の処理から型変換処理を削除。\n",
    "def make_matrix02_03(m, n):\n",
    "    num = m * n\n",
    "    board_ndarray = np.array([1])\n",
    "    for i in range(num-1):\n",
    "        board_ndarray = np.append(board_ndarray, board_ndarray[-1]*2)\n",
    "    board_ndarray = board_ndarray.reshape(m, n)\n",
    "    return board_ndarray"
   ]
  },
  {
   "cell_type": "code",
   "execution_count": 27,
   "metadata": {},
   "outputs": [],
   "source": [
    "#パターン4との比較用の処理。\n",
    "# パターン4との違いは、後からnp.array(List)で変換する点。\n",
    "def make_matrix05(m, n):  # m：行数、n：列数\n",
    "    num = m * n  # 並べる小麦の合計数\n",
    "    board_ndarray = [2**i for i in range(num)]\n",
    "    board_ndarray = np.array(board_ndarray).reshape(m, n)\n",
    "    return board_ndarray\n",
    "\n",
    "# パターン4との違いは、内包表記をやめてforループでappendしている点。\n",
    "def make_matrix06(m, n):  # m：行数、n：列数\n",
    "    num = m * n  # 並べる小麦の合計数\n",
    "    board_ndarray = []\n",
    "    for i in range(num):\n",
    "        board_ndarray.append(2**i)\n",
    "    board_ndarray = np.array(board_ndarray).reshape(m, n)\n",
    "    return board_ndarray"
   ]
  },
  {
   "cell_type": "code",
   "execution_count": 28,
   "metadata": {},
   "outputs": [
    {
     "name": "stderr",
     "output_type": "stream",
     "text": [
      "C:\\ProgramData\\Anaconda3\\lib\\site-packages\\ipykernel_launcher.py:6: RuntimeWarning: overflow encountered in long_scalars\n",
      "  \n"
     ]
    },
    {
     "name": "stdout",
     "output_type": "stream",
     "text": [
      "845 µs ± 46.2 µs per loop (mean ± std. dev. of 7 runs, 1000 loops each)\n"
     ]
    }
   ],
   "source": [
    "%%timeit\n",
    "# パターン2（型変換なしバージョン） 型と値のスケールが合っていないため余計に時間を要している。\n",
    "make_matrix02_03(8,8)"
   ]
  },
  {
   "cell_type": "code",
   "execution_count": 29,
   "metadata": {},
   "outputs": [
    {
     "name": "stdout",
     "output_type": "stream",
     "text": [
      "307 µs ± 46.8 µs per loop (mean ± std. dev. of 7 runs, 1000 loops each)\n"
     ]
    }
   ],
   "source": [
    "%%timeit\n",
    "# パターン2（4*4に減らしてみる）\n",
    "make_matrix02_02(4,4)"
   ]
  },
  {
   "cell_type": "code",
   "execution_count": 30,
   "metadata": {},
   "outputs": [
    {
     "name": "stdout",
     "output_type": "stream",
     "text": [
      "246 µs ± 40.2 µs per loop (mean ± std. dev. of 7 runs, 1000 loops each)\n"
     ]
    }
   ],
   "source": [
    "%%timeit\n",
    "# パターン2（4*4に減らして、型変換なし）\n",
    "make_matrix02_03(4,4)"
   ]
  },
  {
   "cell_type": "code",
   "execution_count": 33,
   "metadata": {},
   "outputs": [
    {
     "name": "stdout",
     "output_type": "stream",
     "text": [
      "67.3 µs ± 4.16 µs per loop (mean ± std. dev. of 7 runs, 10000 loops each)\n"
     ]
    }
   ],
   "source": [
    "%%timeit\n",
    "# パターン5\n",
    "make_matrix05(8,8)"
   ]
  },
  {
   "cell_type": "code",
   "execution_count": 32,
   "metadata": {},
   "outputs": [
    {
     "name": "stdout",
     "output_type": "stream",
     "text": [
      "80.8 µs ± 7.42 µs per loop (mean ± std. dev. of 7 runs, 10000 loops each)\n"
     ]
    }
   ],
   "source": [
    "%%timeit\n",
    "# パターン6\n",
    "make_matrix06(8,8)"
   ]
  },
  {
   "cell_type": "markdown",
   "metadata": {},
   "source": [
    "## 追加テストからの考察\n",
    "パターン4～6の比較では、パターン6が最も遅いため、appendを繰り返し実行するよりは、内包表記で一気にリスト化した方がやや速い。<br>\n",
    "パターン4・5には大きな違いは見られなかった。\n"
   ]
  }
 ],
 "metadata": {
  "kernelspec": {
   "display_name": "Python 3",
   "language": "python",
   "name": "python3"
  },
  "language_info": {
   "codemirror_mode": {
    "name": "ipython",
    "version": 3
   },
   "file_extension": ".py",
   "mimetype": "text/x-python",
   "name": "python",
   "nbconvert_exporter": "python",
   "pygments_lexer": "ipython3",
   "version": "3.7.1"
  }
 },
 "nbformat": 4,
 "nbformat_minor": 2
}
