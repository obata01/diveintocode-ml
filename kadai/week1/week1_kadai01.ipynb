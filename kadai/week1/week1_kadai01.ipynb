{
 "cells": [
  {
   "cell_type": "markdown",
   "metadata": {
    "colab_type": "text",
    "id": "y6QgBfxBMf2H"
   },
   "source": [
    "## <strong>Week1授業前課題1 Pythonを使ってみよう</strong>\n",
    "  → 1枚の紙を43回折り曲げた時の厚さを計算するプログラム を作成。"
   ]
  },
  {
   "cell_type": "markdown",
   "metadata": {
    "colab_type": "text",
    "id": "7QHQ4WuEN0bC"
   },
   "source": [
    "#### **【問題1】べき乗の算術演算子を使用して作成**"
   ]
  },
  {
   "cell_type": "code",
   "execution_count": 1,
   "metadata": {
    "colab": {},
    "colab_type": "code",
    "executionInfo": {
     "elapsed": 1115,
     "status": "ok",
     "timestamp": 1592828104223,
     "user": {
      "displayName": "yoshimasa obata",
      "photoUrl": "",
      "userId": "05376502897348058331"
     },
     "user_tz": -540
    },
    "id": "-BlSEm-MM4eX"
   },
   "outputs": [],
   "source": [
    "THICKNESS = 0.00008   # 折る前の紙の厚さ（単位：m）\n",
    "NUM_OF_FOLDS = 43     # 折る回数"
   ]
  },
  {
   "cell_type": "code",
   "execution_count": 2,
   "metadata": {
    "colab": {
     "base_uri": "https://localhost:8080/",
     "height": 34
    },
    "colab_type": "code",
    "executionInfo": {
     "elapsed": 1036,
     "status": "ok",
     "timestamp": 1592828104226,
     "user": {
      "displayName": "yoshimasa obata",
      "photoUrl": "",
      "userId": "05376502897348058331"
     },
     "user_tz": -540
    },
    "id": "hIBCi7TFR5U1",
    "outputId": "5f97c950-8b2d-455e-95d5-d7c9a57a53bc"
   },
   "outputs": [
    {
     "name": "stdout",
     "output_type": "stream",
     "text": [
      "厚さ： 703687441.77664メートル\n"
     ]
    }
   ],
   "source": [
    "folded_thickness = THICKNESS * (2 ** NUM_OF_FOLDS)\n",
    "print(\"厚さ： {}メートル\".format(folded_thickness))"
   ]
  },
  {
   "cell_type": "markdown",
   "metadata": {
    "colab_type": "text",
    "id": "xpC7U8Z4O9iV"
   },
   "source": [
    "#### **【問題2】単位の変換**"
   ]
  },
  {
   "cell_type": "code",
   "execution_count": 3,
   "metadata": {
    "colab": {
     "base_uri": "https://localhost:8080/",
     "height": 34
    },
    "colab_type": "code",
    "executionInfo": {
     "elapsed": 969,
     "status": "ok",
     "timestamp": 1592828104228,
     "user": {
      "displayName": "yoshimasa obata",
      "photoUrl": "",
      "userId": "05376502897348058331"
     },
     "user_tz": -540
    },
    "id": "uFTtK18iOyM5",
    "outputId": "1f1c1a82-a349-4d7a-ffb8-e666f3943564"
   },
   "outputs": [
    {
     "name": "stdout",
     "output_type": "stream",
     "text": [
      "厚さ： 70.37万キロメートル\n"
     ]
    }
   ],
   "source": [
    "# メートルを〇〇万キロメートルに変換して小数点以下2桁で表示する\n",
    "def thick_print(folded_thickness):\n",
    "    text = \"厚さ： {:.2f}万キロメートル\".format(folded_thickness / 1000 / 10000)\n",
    "    return text\n",
    "\n",
    "print(thick_print(folded_thickness))"
   ]
  },
  {
   "cell_type": "markdown",
   "metadata": {
    "colab_type": "text",
    "id": "uAwRwCefSBl4"
   },
   "source": [
    "#### **【問題3】for文を使用して作成**"
   ]
  },
  {
   "cell_type": "code",
   "execution_count": 4,
   "metadata": {
    "colab": {
     "base_uri": "https://localhost:8080/",
     "height": 34
    },
    "colab_type": "code",
    "executionInfo": {
     "elapsed": 1514,
     "status": "ok",
     "timestamp": 1592828104820,
     "user": {
      "displayName": "yoshimasa obata",
      "photoUrl": "",
      "userId": "05376502897348058331"
     },
     "user_tz": -540
    },
    "id": "gJ_pXyYqPOgd",
    "outputId": "ede27d64-594f-495a-8b0f-92251d2c3e59"
   },
   "outputs": [
    {
     "name": "stdout",
     "output_type": "stream",
     "text": [
      "厚さ： 70.37万キロメートル\n"
     ]
    }
   ],
   "source": [
    "value = 1    # 初期値\n",
    "# 折る回数分、forループで2を掛ける\n",
    "for i in range(NUM_OF_FOLDS):\n",
    "    value *= 2\n",
    "# 折った後の厚さを計算\n",
    "folded_thickness = THICKNESS * value\n",
    "# メートルを〇〇万キロメートルに変換して小数点以下2桁で表示する\n",
    "print(thick_print(folded_thickness))"
   ]
  },
  {
   "cell_type": "markdown",
   "metadata": {
    "colab_type": "text",
    "id": "N921mwaHVJl7"
   },
   "source": [
    "#### **【問題4】計算時間の比較**\n",
    "timeモジュールを用いることで現在の時間を取得できます。比較したい箇所の前後の時間の差を計算することで、実行時間を求めます。"
   ]
  },
  {
   "cell_type": "code",
   "execution_count": 5,
   "metadata": {
    "colab": {
     "base_uri": "https://localhost:8080/",
     "height": 51
    },
    "colab_type": "code",
    "executionInfo": {
     "elapsed": 1479,
     "status": "ok",
     "timestamp": 1592828104822,
     "user": {
      "displayName": "yoshimasa obata",
      "photoUrl": "",
      "userId": "05376502897348058331"
     },
     "user_tz": -540
    },
    "id": "y49sW143PgpS",
    "outputId": "f020bd5a-cb73-4019-800e-99b0f8792e94"
   },
   "outputs": [
    {
     "name": "stdout",
     "output_type": "stream",
     "text": [
      "厚さ： 70.37万キロメートル\n",
      "time : 0.0[s]\n"
     ]
    }
   ],
   "source": [
    "## べき乗の場合の処理時間\n",
    "\n",
    "import time\n",
    "start = time.time()\n",
    "#### 実行処理\n",
    "folded_thickness = THICKNESS * (2 ** NUM_OF_FOLDS)\n",
    "print(thick_print(folded_thickness))\n",
    "#### \n",
    "elapsed_time = time.time() - start\n",
    "print(\"time : {}[s]\".format(elapsed_time))"
   ]
  },
  {
   "cell_type": "code",
   "execution_count": 6,
   "metadata": {
    "colab": {
     "base_uri": "https://localhost:8080/",
     "height": 51
    },
    "colab_type": "code",
    "executionInfo": {
     "elapsed": 1431,
     "status": "ok",
     "timestamp": 1592828104823,
     "user": {
      "displayName": "yoshimasa obata",
      "photoUrl": "",
      "userId": "05376502897348058331"
     },
     "user_tz": -540
    },
    "id": "v4X8GvrqWAl5",
    "outputId": "87bcc493-e5ff-4c69-a75f-6600414bc3a3"
   },
   "outputs": [
    {
     "name": "stdout",
     "output_type": "stream",
     "text": [
      "厚さ： 70.37万キロメートル\n",
      "time : 0.0009996891021728516[s]\n"
     ]
    }
   ],
   "source": [
    "## forループの場合の処理時間\n",
    "\n",
    "start = time.time()\n",
    "#### 実行処理\n",
    "value = 1\n",
    "for i in range(NUM_OF_FOLDS):\n",
    "    value *= 2\n",
    "folded_thickness = THICKNESS * value\n",
    "print(thick_print(folded_thickness))\n",
    "#### \n",
    "elapsed_time = time.time() - start\n",
    "print(\"time : {}[s]\".format(elapsed_time))"
   ]
  },
  {
   "cell_type": "markdown",
   "metadata": {
    "colab_type": "text",
    "id": "4dP6J3J8cg7J"
   },
   "source": [
    "#### **過程の可視化**\n",
    "#### **【問題5】リストへの保存**\n",
    "ここまでは43回折った後の最後の値だけを使用していましたが、グラフで可視化するためには過程の値も必要です。for文を使用したコードに、過程の値合計44個を記録するコードを加えてください。"
   ]
  },
  {
   "cell_type": "code",
   "execution_count": 7,
   "metadata": {
    "colab": {
     "base_uri": "https://localhost:8080/",
     "height": 34
    },
    "colab_type": "code",
    "executionInfo": {
     "elapsed": 1396,
     "status": "ok",
     "timestamp": 1592828104824,
     "user": {
      "displayName": "yoshimasa obata",
      "photoUrl": "",
      "userId": "05376502897348058331"
     },
     "user_tz": -540
    },
    "id": "jY4kOy1PcNFD",
    "outputId": "8f9f5913-f64f-430e-dae1-e553eb5417f0"
   },
   "outputs": [
    {
     "name": "stdout",
     "output_type": "stream",
     "text": [
      "データの数：44\n"
     ]
    }
   ],
   "source": [
    "\"\"\"\n",
    "折り曲げた時の値をリストへ格納\n",
    "\"\"\"\n",
    "value = 1\n",
    "thickness_list = [THICKNESS]\n",
    "for i in range(NUM_OF_FOLDS):\n",
    "    value *= 2\n",
    "    folded_thickness = THICKNESS * value\n",
    "    thickness_list.append(folded_thickness)\n",
    "\n",
    "print(\"データの数：{}\".format(len(thickness_list)))"
   ]
  },
  {
   "cell_type": "markdown",
   "metadata": {
    "colab_type": "text",
    "id": "8TNZq_7boNkU"
   },
   "source": [
    "#### **【問題6】折れ線グラフの表示**"
   ]
  },
  {
   "cell_type": "code",
   "execution_count": 8,
   "metadata": {
    "colab": {
     "base_uri": "https://localhost:8080/",
     "height": 295
    },
    "colab_type": "code",
    "executionInfo": {
     "elapsed": 1334,
     "status": "ok",
     "timestamp": 1592828104826,
     "user": {
      "displayName": "yoshimasa obata",
      "photoUrl": "",
      "userId": "05376502897348058331"
     },
     "user_tz": -540
    },
    "id": "lc9vSa2kdMOv",
    "outputId": "a43966d6-d301-47df-d7c5-628fcfe2e9e1"
   },
   "outputs": [
    {
     "data": {
      "image/png": "[encoded data removed]",
      "text/plain": [
       "<Figure size 432x288 with 1 Axes>"
      ]
     },
     "metadata": {
      "needs_background": "light"
     },
     "output_type": "display_data"
    }
   ],
   "source": [
    "\"\"\"\n",
    "グラフを表示する。タイトルと軸ラベル名付き。\n",
    "\"\"\"\n",
    "import matplotlib.pyplot as plt\n",
    "%matplotlib inline\n",
    "plt.title(\"thickness of folded paper\")\n",
    "plt.xlabel(\"number of folds\")\n",
    "plt.ylabel(\"thickness[m]\")\n",
    "plt.plot(thickness_list)\n",
    "plt.show()"
   ]
  },
  {
   "cell_type": "markdown",
   "metadata": {
    "colab_type": "text",
    "id": "IbFVnnSuoR9S"
   },
   "source": [
    "#### **【問題7】グラフのカスタマイズ**\n",
    "グラフをより見やすくカスタマイズしてみましょう。カスタマイズしたグラフを最低3種類作成してください。"
   ]
  },
  {
   "cell_type": "code",
   "execution_count": 9,
   "metadata": {
    "colab": {
     "base_uri": "https://localhost:8080/",
     "height": 318
    },
    "colab_type": "code",
    "executionInfo": {
     "elapsed": 1696,
     "status": "ok",
     "timestamp": 1592828105222,
     "user": {
      "displayName": "yoshimasa obata",
      "photoUrl": "",
      "userId": "05376502897348058331"
     },
     "user_tz": -540
    },
    "id": "3U5nWRCndPFt",
    "outputId": "e21c4ece-a7f2-419a-f524-f00fe4fc9541"
   },
   "outputs": [
    {
     "data": {
      "image/png": "[encoded data removed]",
      "text/plain": [
       "<Figure size 432x288 with 1 Axes>"
      ]
     },
     "metadata": {
      "needs_background": "light"
     },
     "output_type": "display_data"
    }
   ],
   "source": [
    "\"\"\"\n",
    "線の色を変更\n",
    "線を点線の太線に変更\n",
    "各フォントサイズを変更\n",
    "\"\"\"\n",
    "# フォントサイズの指定を追加\n",
    "plt.title('thickness of folded paper', fontsize=20)\n",
    "plt.xlabel('number of folds', fontsize=20)\n",
    "plt.ylabel('thickness[m]', fontsize=20)\n",
    "\n",
    "# 軸の値に関する設定を追加\n",
    "plt.tick_params(labelsize=20)\n",
    "\n",
    "# 線を点線の太線に、線の色を赤に変更\n",
    "plt.plot(thickness_list, color='red', linestyle='dashed', linewidth='3.0')\n",
    "plt.show()"
   ]
  },
  {
   "cell_type": "code",
   "execution_count": 10,
   "metadata": {
    "colab": {
     "base_uri": "https://localhost:8080/",
     "height": 481
    },
    "colab_type": "code",
    "executionInfo": {
     "elapsed": 1651,
     "status": "ok",
     "timestamp": 1592828105223,
     "user": {
      "displayName": "yoshimasa obata",
      "photoUrl": "",
      "userId": "05376502897348058331"
     },
     "user_tz": -540
    },
    "id": "yj6h6oD8zPyW",
    "outputId": "ebb1eb3c-7315-400d-e28d-20f38c8d80a1"
   },
   "outputs": [
    {
     "data": {
      "image/png": "[encoded data removed]",
      "text/plain": [
       "<Figure size 864x504 with 1 Axes>"
      ]
     },
     "metadata": {
      "needs_background": "light"
     },
     "output_type": "display_data"
    }
   ],
   "source": [
    "\"\"\"\n",
    "グラフサイズを変更\n",
    "凡例を追加\n",
    "グリッド線追加\n",
    "\"\"\"\n",
    "# グラフサイズを指定\n",
    "plt.figure(figsize=(12, 7))\n",
    "\n",
    "# フォントサイズの指定を追加\n",
    "plt.title('thickness of folded paper', fontsize=20)\n",
    "plt.xlabel('number of folds', fontsize=20)\n",
    "plt.ylabel('thickness[m]', fontsize=20)\n",
    "\n",
    "# 軸の値に関する設定\n",
    "plt.tick_params(labelsize=20)\n",
    "\n",
    "# 線を太線に、線の色を赤に変更。凡例用のラベルを追加\n",
    "plt.plot(thickness_list, color='black', linestyle='solid', linewidth='3.0', label='Value')\n",
    "\n",
    "# グリッド線追加\n",
    "plt.grid(True)\n",
    "\n",
    "# 凡例追加\n",
    "plt.legend(loc='best', fontsize=20)\n",
    "plt.show()"
   ]
  },
  {
   "cell_type": "code",
   "execution_count": 40,
   "metadata": {
    "colab": {},
    "colab_type": "code",
    "executionInfo": {
     "elapsed": 1614,
     "status": "ok",
     "timestamp": 1592828105224,
     "user": {
      "displayName": "yoshimasa obata",
      "photoUrl": "",
      "userId": "05376502897348058331"
     },
     "user_tz": -540
    },
    "id": "nwZqYgxd0nYp"
   },
   "outputs": [
    {
     "data": {
      "image/png": "[encoded data removed]",
      "text/plain": [
       "<Figure size 648x432 with 1 Axes>"
      ]
     },
     "metadata": {
      "needs_background": "light"
     },
     "output_type": "display_data"
    }
   ],
   "source": [
    "\"\"\"\n",
    "マーカーを追加\n",
    "グラフ線の透過率の指定を追加\n",
    "各サイズを調整\n",
    "グリッド線の間隔や線の太さ・透過率を調節\n",
    "\"\"\"\n",
    "# グラフサイズを指定\n",
    "plt.figure(figsize=(9, 6))\n",
    "\n",
    "# フォントサイズの指定を追加\n",
    "plt.title('thickness of folded paper', fontsize=20)\n",
    "plt.xlabel('number of folds', fontsize=15)\n",
    "plt.ylabel('thickness[m]', fontsize=15)\n",
    "\n",
    "# 軸の値に関する設定\n",
    "plt.tick_params(labelsize=15, color='white', length=10)\n",
    "\n",
    "# 線を太線に、線の色を赤に変更。\n",
    "# 凡例用のラベルを追加\n",
    "# マーカーを追加\n",
    "plt.plot(\n",
    "    thickness_list, \n",
    "    color='black', \n",
    "    linestyle='solid', \n",
    "    linewidth=3.0, \n",
    "    label='Value', \n",
    "    marker='x', \n",
    "    markersize=8, \n",
    "    alpha=0.7\n",
    ")\n",
    "\n",
    "# グリッド線の間隔を指定\n",
    "plt.xticks(list(map(lambda x: x, range(0, 45, 5))))\n",
    "plt.yticks(list(map(lambda y: y, range(0, 8*10**8, 10**8))))\n",
    "\n",
    "# グリッド線追加\n",
    "# グリッド線の太さ・透過率を指定\n",
    "plt.grid(True, linewidth=1.0, alpha=0.5)\n",
    "\n",
    "# 凡例追加\n",
    "plt.legend(loc='best', fontsize=15)\n",
    "plt.show()"
   ]
  },
  {
   "cell_type": "code",
   "execution_count": null,
   "metadata": {},
   "outputs": [],
   "source": []
  }
 ],
 "metadata": {
  "colab": {
   "authorship_tag": "ABX9TyMwYxizJpsFEfz1YliFa5hu",
   "collapsed_sections": [],
   "name": "week1_kadai01.ipynb",
   "provenance": []
  },
  "kernelspec": {
   "display_name": "Python 3",
   "language": "python",
   "name": "python3"
  },
  "language_info": {
   "codemirror_mode": {
    "name": "ipython",
    "version": 3
   },
   "file_extension": ".py",
   "mimetype": "text/x-python",
   "name": "python",
   "nbconvert_exporter": "python",
   "pygments_lexer": "ipython3",
   "version": "3.7.6"
  }
 },
 "nbformat": 4,
 "nbformat_minor": 1
}
