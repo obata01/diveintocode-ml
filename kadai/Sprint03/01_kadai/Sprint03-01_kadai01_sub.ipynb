{
 "cells": [
  {
   "cell_type": "markdown",
   "metadata": {
    "colab_type": "text",
    "id": "P3_jpYuIeRJV"
   },
   "source": [
    "# Sprint 機械学習スクラッチ 線形回帰"
   ]
  },
  {
   "cell_type": "markdown",
   "metadata": {
    "colab_type": "text",
    "id": "kT3cgNwWeVUl"
   },
   "source": [
    "## 1.このSprintについて\n",
    "\n",
    "### Sprintの目的\n",
    "- スクラッチを通して線形回帰を理解する\n",
    "- オブジェクト指向を意識した実装に慣れる\n",
    "- 数式をコードに落とし込めるようにする\n",
    "\n",
    "### どのように学ぶか\n",
    "- スクラッチで線形回帰を実装した後、学習と検証を行なっていきます。\n",
    "\n"
   ]
  },
  {
   "cell_type": "markdown",
   "metadata": {
    "colab_type": "text",
    "id": "Bbf6t3PqeWIs"
   },
   "source": [
    "## 2.線形回帰スクラッチ\n",
    "\n",
    "線形回帰のクラスをスクラッチで作成していきます。NumPyなど最低限のライブラリのみを使いアルゴリズムを実装していきます。\n",
    "\n",
    "以下に雛形を用意してあります。このScratchLinearRegressionクラスにコードを書き加えていってください。\n",
    "\n",
    "**雛形**\n",
    "\n",
    "`````\n",
    "class ScratchLogisticRegression():\n",
    "    \"\"\"\n",
    "    ロジスティック回帰のスクラッチ実装\n",
    "\n",
    "    Parameters\n",
    "    ----------\n",
    "    num_iter : int\n",
    "      イテレーション数\n",
    "    lr : float\n",
    "      学習率\n",
    "    no_bias : bool\n",
    "      バイアス項を入れない場合はTrue\n",
    "    verbose : bool\n",
    "      学習過程を出力する場合はTrue\n",
    "\n",
    "    Attributes\n",
    "    ----------\n",
    "    self.coef_ : 次の形のndarray, shape (n_features,)\n",
    "      パラメータ\n",
    "    self.loss : 次の形のndarray, shape (self.iter,)\n",
    "      訓練データに対する損失の記録\n",
    "    self.val_loss : 次の形のndarray, shape (self.iter,)\n",
    "      検証データに対する損失の記録\n",
    "\n",
    "    \"\"\"\n",
    "    def __init__(self, num_iter, lr, bias, verbose):\n",
    "        # ハイパーパラメータを属性として記録\n",
    "        self.iter = num_iter\n",
    "        self.lr = lr\n",
    "        self.bias = bias\n",
    "        self.verbose = verbose\n",
    "        # 損失を記録する配列を用意\n",
    "        self.loss = np.zeros(self.iter)\n",
    "        self.val_loss = np.zeros(self.iter)\n",
    "    def fit(self, X, y, X_val=None, y_val=None):\n",
    "        \"\"\"\n",
    "        ロジスティック回帰を学習する。検証データが入力された場合はそれに対する損失と精度もイテレーションごとに計算する。\n",
    "\n",
    "        Parameters\n",
    "        ----------\n",
    "        X : 次の形のndarray, shape (n_samples, n_features)\n",
    "            訓練データの特徴量\n",
    "        y : 次の形のndarray, shape (n_samples, )\n",
    "            訓練データの正解値\n",
    "        X_val : 次の形のndarray, shape (n_samples, n_features)\n",
    "            検証データの特徴量\n",
    "        y_val : 次の形のndarray, shape (n_samples, )\n",
    "            検証データの正解値\n",
    "        \"\"\"\n",
    "        if self.verbose:\n",
    "            #verboseをTrueにした際は学習過程を出力\n",
    "            print()\n",
    "        pass\n",
    "\n",
    "    def predict(self, X):\n",
    "        \"\"\"\n",
    "        ロジスティック回帰を使いラベルを推定する。\n",
    "\n",
    "        Parameters\n",
    "        ----------\n",
    "        X : 次の形のndarray, shape (n_samples, n_features)\n",
    "            サンプル\n",
    "\n",
    "        Returns\n",
    "        -------\n",
    "            次の形のndarray, shape (n_samples, 1)\n",
    "            ロジスティック回帰による推定結果\n",
    "        \"\"\"\n",
    "        pass\n",
    "        return\n",
    "    def predict_proba(self, X):\n",
    "        \"\"\"\n",
    "        ロジスティック回帰を使い確率を推定する。\n",
    "\n",
    "        Parameters\n",
    "        ----------\n",
    "        X : 次の形のndarray, shape (n_samples, n_features)\n",
    "            サンプル\n",
    "\n",
    "        Returns\n",
    "        -------\n",
    "            次の形のndarray, shape (n_samples, 1)\n",
    "            ロジスティック回帰による推定結果\n",
    "        \"\"\"\n",
    "        pass\n",
    "        return\n",
    "\n",
    "`````"
   ]
  },
  {
   "cell_type": "markdown",
   "metadata": {
    "colab_type": "text",
    "id": "tLK1gRAhRecu"
   },
   "source": [
    "## 【まとめ】最終的なコード\n",
    "下記が最終的にFixしたコードは下記になり、全問題で共通になります。"
   ]
  },
  {
   "cell_type": "code",
   "execution_count": 1,
   "metadata": {
    "colab": {},
    "colab_type": "code",
    "executionInfo": {
     "elapsed": 654,
     "status": "ok",
     "timestamp": 1596975302681,
     "user": {
      "displayName": "yoshimasa obata",
      "photoUrl": "",
      "userId": "05376502897348058331"
     },
     "user_tz": -540
    },
    "id": "T2KHs4aulhwl"
   },
   "outputs": [],
   "source": [
    "# ライブラリインポート\n",
    "import numpy as np\n",
    "import pandas as pd\n",
    "import matplotlib.pyplot as plt\n",
    "%matplotlib inline\n",
    "\n",
    "from sklearn.model_selection import train_test_split\n",
    "from sklearn.linear_model import LinearRegression\n",
    "from sklearn import metrics\n",
    "from sklearn.preprocessing import StandardScaler"
   ]
  },
  {
   "cell_type": "code",
   "execution_count": 2,
   "metadata": {
    "colab": {},
    "colab_type": "code",
    "executionInfo": {
     "elapsed": 697,
     "status": "ok",
     "timestamp": 1596975300976,
     "user": {
      "displayName": "yoshimasa obata",
      "photoUrl": "",
      "userId": "05376502897348058331"
     },
     "user_tz": -540
    },
    "id": "5QDCMorFR1Fk"
   },
   "outputs": [],
   "source": [
    "class ScratchLinearRegression():\n",
    "    \"\"\"\n",
    "    線形回帰のスクラッチ実装\n",
    "\n",
    "    Parameters\n",
    "    ----------\n",
    "    num_iter : int\n",
    "      イテレーション数\n",
    "    lr : float\n",
    "      学習率\n",
    "    no_bias : bool\n",
    "      バイアス項を入れない場合はTrue\n",
    "    verbose : bool\n",
    "      学習過程を出力する場合はTrue\n",
    "\n",
    "    Attributes\n",
    "    ----------\n",
    "    self.coef_ : 次の形のndarray, shape (n_features,)\n",
    "      パラメータ\n",
    "    self.loss : 次の形のndarray, shape (self.iter,)\n",
    "      訓練データに対する損失の記録\n",
    "    self.val_loss : 次の形のndarray, shape (self.iter,)\n",
    "      検証データに対する損失の記録\n",
    "\n",
    "    \"\"\"\n",
    "    def __init__(self, num_iter, lr, no_bias, verbose, verbose_filter=1, q=0):\n",
    "        # ハイパーパラメータを属性として記録\n",
    "        self.iter = num_iter\n",
    "        self.lr = lr\n",
    "        self.no_bias = no_bias\n",
    "        self.verbose = verbose\n",
    "        self.verbose_filter = verbose_filter\n",
    "\n",
    "        # 損失を記録する配列を用意\n",
    "        self.loss = np.zeros(self.iter)\n",
    "        self.val_loss = np.zeros(self.iter)\n",
    "\n",
    "        # 問題番号別の制御用\n",
    "        self.q = q\n",
    "\n",
    "    def fit(self, X, y, X_val=None, y_val=None):\n",
    "        \"\"\"\n",
    "        線形回帰を学習する。検証データが入力された場合はそれに対する損失と精度もイテレーションごとに計算する。\n",
    "\n",
    "        Parameters\n",
    "        ----------\n",
    "        X : 次の形のndarray, shape (n_samples, n_features)\n",
    "            訓練データの特徴量\n",
    "        y : 次の形のndarray, shape (n_samples, )\n",
    "            訓練データの正解値\n",
    "        X_val : 次の形のndarray, shape (n_samples, n_features)\n",
    "            検証データの特徴量\n",
    "        y_val : 次の形のndarray, shape (n_samples, )\n",
    "            検証データの正解値\n",
    "        \"\"\"\n",
    "        # 引数チェック\n",
    "        assert len(X) == len(y), \"[ERROR] The number of rows of X and y are different.\"\n",
    "        if np.all(X_val != None) or np.all(y_val != None):\n",
    "            assert len(X_val) == len(y_val), \"[ERROR] The number of rows of X_val and y_val are different.\"\n",
    "\n",
    "        # インスタンス変数の設定\n",
    "        X, y, X_val, y_val = self._set_variables(X, y, X_val, y_val)\n",
    "\n",
    "        # メイン処理\n",
    "        for i in range(self.iter):\n",
    "\n",
    "            # ループ回数をインスタンス変数へ代入\n",
    "            self.count = i\n",
    "            \n",
    "            # 問題1\n",
    "            # 推定値(y_hypo)計算\n",
    "            self.y_hypo = self._linear_hypothesis(X)\n",
    "            \n",
    "            # 問題2\n",
    "            # 最急降下法実行して値を更新\n",
    "            self.w, self.error = self._gradient_descent(X, y, self.y_hypo, self.n_samples)\n",
    "\n",
    "            # 問題5\n",
    "            # 損失関数\n",
    "            self.loss[i] = self._loss_func(self.error, self.n_samples)\n",
    "\n",
    "            # 問題7\n",
    "            # 検証データの損失関数\n",
    "            if np.all(X_val != None) and np.all(y_val != None):\n",
    "                # 推定値(y_hypo)計算\n",
    "                self.y_hypo_val = self._linear_hypothesis(X_val)\n",
    "\n",
    "                # 最急降下法実行して値を更新\n",
    "                _, self.error_val = self._gradient_descent(X_val, y_val, self.y_hypo_val, self.n_samples_val)\n",
    "\n",
    "                # 損失関数\n",
    "                self.val_loss[i] = self._loss_func(self.error_val, self.n_samples_val)\n",
    "\n",
    "            if self.verbose and self.count % self.verbose_filter == 0:\n",
    "                #verboseをTrueにした際は学習過程を出力\n",
    "                print('[INFO] loop count =', self.count)\n",
    "                print('[INFO] update_w\\n', self.w)\n",
    "            pass\n",
    "        pass\n",
    "\n",
    "\n",
    "\n",
    "\n",
    "\n",
    "    # インスタンス変数の設定\n",
    "    def _set_variables(self, X, y, X_val, y_val):\n",
    "        \"\"\"\n",
    "        必要なインスタンス変数を設定する。\n",
    "\n",
    "        Parameters\n",
    "        ----------\n",
    "        X : ndarray, shape (n_samples, n_features)\n",
    "            訓練データの説明変数\n",
    "        y : ndarray, shape (n_samples, )\n",
    "            訓練データの目的変数\n",
    "        X_val : ndarray, shape (n_samples, n_features)\n",
    "            検証データの説明変数\n",
    "        y_val : ndarray, shape (n_samples, )\n",
    "            検証データの目的変数\n",
    "\n",
    "        Returns\n",
    "        -------\n",
    "        X : ndarray, shape (n_samples, n_features)\n",
    "            訓練データの説明変数\n",
    "        y : ndarray, shape (n_samples, )\n",
    "            訓練データの目的変数\n",
    "        X_val : ndarray, shape (n_samples, n_features)\n",
    "            検証データの説明変数\n",
    "        y_val : ndarray, shape (n_samples, )\n",
    "            検証データの目的変数\n",
    "\n",
    "        \"\"\"\n",
    "        \n",
    "        # ループカウント用\n",
    "        self.count = 0\n",
    "\n",
    "        # トレーニングデータの形状\n",
    "        self.n_samples = X.shape[0]\n",
    "        self.n_features = X.shape[1]\n",
    "\n",
    "        # テストデータの形状\n",
    "        if np.all(X_val != None):\n",
    "            self.n_samples_val = X_val.shape[0]\n",
    "            self.n_features_val = X_val.shape[1]\n",
    "\n",
    "        # no_bias=Falseのとき特徴量カラムを1列追加\n",
    "        if not self.no_bias:\n",
    "            print('[INFO] no_bias=False')\n",
    "\n",
    "            # トレーニングデータの処理\n",
    "            self.n_features += 1\n",
    "            b = np.ones([self.n_samples, 1])\n",
    "            X = np.concatenate([b, X], axis=1)\n",
    "\n",
    "            # テストデータの処理\n",
    "            if np.all(X_val != None):\n",
    "                self.n_features_val += 1\n",
    "                b = np.ones([self.n_samples_val, 1])\n",
    "                X_val = np.concatenate([b, X_val], axis=1)\n",
    "\n",
    "        # パラメータ初期値設定\n",
    "        self.w = np.random.randn(self.n_features) + 0.1\n",
    "#         self.w = np.full(self.n_features,2)  # テスト用に固定値代\n",
    "\n",
    "        # 変数初期化\n",
    "        self.y_hypo = 0\n",
    "        self.error = 0\n",
    "        self.y_hypo_val = 0\n",
    "        self.error_val = 0\n",
    "\n",
    "        return X, y, X_val, y_val\n",
    "\n",
    "\n",
    "\n",
    "    # 問題1\n",
    "    # 推定値計算の処理\n",
    "    def _linear_hypothesis(self, X):\n",
    "        \"\"\"\n",
    "        線形の仮定関数を計算する\n",
    "\n",
    "        Parameters\n",
    "        ----------\n",
    "        X : 次の形のndarray, shape (n_samples, n_features)\n",
    "        訓練データ\n",
    "\n",
    "        Returns\n",
    "        -------\n",
    "        次の形のndarray, shape (n_samples, 1)\n",
    "        線形の仮定関数による推定結果\n",
    "\n",
    "        \"\"\"\n",
    "\n",
    "        y_hypo = X @ self.w.T\n",
    "\n",
    "        # 課題提出用\n",
    "        if self.q == 1 and self.count % self.verbose_filter == 0:\n",
    "            print('Loop count :', self.count)\n",
    "            print('仮定関数計算結果 :', y_hypo)\n",
    "\n",
    "        return y_hypo\n",
    "\n",
    "\n",
    "\n",
    "    # 問題2\n",
    "    # 最急降下法の処理\n",
    "    def _gradient_descent(self, X, y, y_hypo, n_samples):\n",
    "        \"\"\"\n",
    "        最急降下法によりパラメータの更新値を求める\n",
    "\n",
    "        Parameters\n",
    "        ----------\n",
    "        X : ndarray, shape (n_samples, n_features)\n",
    "            訓練データの説明変数\n",
    "        y : ndarray, shape (n_samples, )\n",
    "            訓練データの目的変数\n",
    "        y_hypo : ndarray, shape (n_samples, )\n",
    "            仮説関数によるyの推定値\n",
    "        n_samples : int\n",
    "            Xのサンプル数\n",
    "\n",
    "        Returns\n",
    "        -------\n",
    "        update_w : ndarray, shape (n_features, )\n",
    "            パラメータの更新値\n",
    "        error : ndarray, shape (n_samples, )\n",
    "            推定値と実測値の誤差\n",
    "\n",
    "        \"\"\"\n",
    "        # 誤差の計算\n",
    "        error = y_hypo - y\n",
    "        error = error[:, np.newaxis]\n",
    "\n",
    "        update_w = self.w - (self.lr * np.sum(error * X, axis=0) / n_samples)\n",
    "\n",
    "        # 課題提出用\n",
    "        if self.q == 2 and self.count % self.verbose_filter == 0:\n",
    "            print('Loop count :', self.count)\n",
    "            print('誤差 :\\n', error)\n",
    "            print('更新値 :', update_w)\n",
    "\n",
    "        return update_w, error\n",
    "\n",
    "\n",
    "\n",
    "    # 問題3\n",
    "    def predict(self, X):\n",
    "        \"\"\"\n",
    "        線形回帰を使い推定する。\n",
    "\n",
    "        Parameters\n",
    "        ----------\n",
    "        X : 次の形のndarray, shape (n_samples, n_features)\n",
    "            サンプル\n",
    "\n",
    "        Returns\n",
    "        -------\n",
    "            次の形のndarray, shape (n_samples, 1)\n",
    "            線形回帰による推定結果\n",
    "        \"\"\"\n",
    "        if not self.no_bias:\n",
    "            b = np.ones([X.shape[0], 1])\n",
    "            X = np.concatenate([b, X], axis=1)\n",
    "        \n",
    "        # 予測値を計算\n",
    "        y_pred = self._linear_hypothesis(X)\n",
    "        \n",
    "        return y_pred\n",
    "\n",
    "\n",
    "    # 問題5\n",
    "    # 損失関数\n",
    "    def _loss_func(self, error, n_samples):\n",
    "        \"\"\"\n",
    "        損失関数\n",
    "\n",
    "        Parameters\n",
    "        ----------\n",
    "        error : ndarray, shape (n_samples, )\n",
    "            推定値と実測値の誤差\n",
    "        n_samples : int\n",
    "            サンプル数\n",
    "\n",
    "        Returns\n",
    "        -------\n",
    "        loss : float\n",
    "            損失関数によるloss\n",
    "        \"\"\"\n",
    "        loss = np.sum(error**2) / (2*n_samples)\n",
    "        \n",
    "        return loss\n"
   ]
  },
  {
   "cell_type": "markdown",
   "metadata": {
    "colab_type": "text",
    "id": "Zups3lOueWNb"
   },
   "source": [
    "## 【問題1】仮定関数\n",
    "以下の数式で表される線形回帰の仮定関数を実装してください。メソッドの雛形を用意してあります。\n",
    "\n",
    "$x$ : 特徴量ベクトル\n",
    "\n",
    "\n",
    "$\\theta$ : パラメータベクトル\n",
    "\n",
    "\n",
    "$n$ : 特徴量の数\n",
    "\n",
    "\n",
    "$x_j$ : j番目の特徴量\n",
    "\n",
    "\n",
    "$\\theta_j$ : j番目のパラメータ（重み）\n",
    "\n",
    "\n",
    "特徴量の数$n$は任意の値に対応できる実装にしてください。\n",
    "\n",
    "\n",
    "なお、ベクトル形式で表すと以下のようになります。\n",
    "\n",
    "**雛形**\n",
    "\n",
    "クラスの外から呼び出すことがないメソッドのため、Pythonの慣例としてアンダースコアを先頭にひとつつけています。\n",
    "\n"
   ]
  },
  {
   "cell_type": "code",
   "execution_count": 3,
   "metadata": {
    "colab": {},
    "colab_type": "code",
    "executionInfo": {
     "elapsed": 390,
     "status": "ok",
     "timestamp": 1596975302681,
     "user": {
      "displayName": "yoshimasa obata",
      "photoUrl": "",
      "userId": "05376502897348058331"
     },
     "user_tz": -540
    },
    "id": "Vea2iDOYauTk"
   },
   "outputs": [],
   "source": [
    "# テストデータ\n",
    "x = np.array([[1, 5],\n",
    "                [2, 8],\n",
    "                [3, 9]])\n",
    "y = np.arange(6, 9)"
   ]
  },
  {
   "cell_type": "code",
   "execution_count": 4,
   "metadata": {
    "colab": {
     "base_uri": "https://localhost:8080/",
     "height": 408
    },
    "colab_type": "code",
    "executionInfo": {
     "elapsed": 3897,
     "status": "ok",
     "timestamp": 1596975306439,
     "user": {
      "displayName": "yoshimasa obata",
      "photoUrl": "",
      "userId": "05376502897348058331"
     },
     "user_tz": -540
    },
    "id": "OTLKvuWmh9ZI",
    "outputId": "61b7b1f0-bc3d-4c28-cbce-66a2fe5cb256"
   },
   "outputs": [
    {
     "name": "stdout",
     "output_type": "stream",
     "text": [
      "[INFO] no_bias=False\n",
      "Loop count : 0\n",
      "仮定関数計算結果 : [ 6.31060126 10.14878017 11.46529397]\n"
     ]
    }
   ],
   "source": [
    "# 実行（バイアスあり）\n",
    "# no_bias=False\n",
    "slr = ScratchLinearRegression(num_iter=1, lr=0.01, no_bias=False, verbose=False, verbose_filter=1, q=1)\n",
    "slr.fit(x, y)"
   ]
  },
  {
   "cell_type": "code",
   "execution_count": 5,
   "metadata": {
    "colab": {
     "base_uri": "https://localhost:8080/",
     "height": 391
    },
    "colab_type": "code",
    "executionInfo": {
     "elapsed": 3449,
     "status": "ok",
     "timestamp": 1596975314503,
     "user": {
      "displayName": "yoshimasa obata",
      "photoUrl": "",
      "userId": "05376502897348058331"
     },
     "user_tz": -540
    },
    "id": "VG2JnhH_an0x",
    "outputId": "6fbc5b8a-f9b6-447b-86aa-324d4f2cb4f3",
    "scrolled": false
   },
   "outputs": [
    {
     "name": "stdout",
     "output_type": "stream",
     "text": [
      "Loop count : 0\n",
      "仮定関数計算結果 : [-5.38517643 -8.16308717 -8.33373223]\n"
     ]
    }
   ],
   "source": [
    "# 実行（バイアスなし）\n",
    "# no_bias=True\n",
    "slr = ScratchLinearRegression(num_iter=1, lr=0.01, no_bias=True, verbose=False, verbose_filter=1, q=1)\n",
    "slr.fit(x, y)"
   ]
  },
  {
   "cell_type": "markdown",
   "metadata": {
    "colab_type": "text",
    "id": "MK3l3khEeWSX"
   },
   "source": [
    "## 【問題2】最急降下法\n",
    "最急降下法により学習させる実装を行なってください。以下の式で表されるパラメータの更新式のメソッド_gradient_descentを追加し、fit\n",
    "メソッドから呼び出すようにしてください。\n",
    "\n",
    "$\\alpha$ : 学習率\n",
    "\n",
    "\n",
    "$i$ : サンプルのインデックス\n",
    "\n",
    "\n",
    "$j$ : 特徴量のインデックス\n",
    "\n",
    "\n",
    "雛形\n",
    "\n",
    "\n",
    "ScratchLinearRegressionクラスへ以下のメソッドを追加してください。コメントアウト部分の説明も記述してください。"
   ]
  },
  {
   "cell_type": "code",
   "execution_count": 6,
   "metadata": {
    "colab": {
     "base_uri": "https://localhost:8080/",
     "height": 340
    },
    "colab_type": "code",
    "executionInfo": {
     "elapsed": 461,
     "status": "ok",
     "timestamp": 1596975319797,
     "user": {
      "displayName": "yoshimasa obata",
      "photoUrl": "",
      "userId": "05376502897348058331"
     },
     "user_tz": -540
    },
    "id": "qzQ0i6XTeDzc",
    "outputId": "72cc1e75-dcd5-4687-e782-f2ed212caccd",
    "scrolled": false
   },
   "outputs": [
    {
     "name": "stdout",
     "output_type": "stream",
     "text": [
      "[INFO] no_bias=False\n",
      "Loop count : 0\n",
      "誤差 :\n",
      " [[-12.44517518]\n",
      " [-16.688516  ]\n",
      " [-18.61462499]]\n",
      "更新値 : [-0.72544149  0.57139386  0.05226952]\n",
      "Loop count : 500\n",
      "誤差 :\n",
      " [[-1.08962423]\n",
      " [ 0.50151802]\n",
      " [ 0.15398635]]\n",
      "更新値 : [ 0.38200668 -0.31811986  0.96950396]\n",
      "Loop count : 1000\n",
      "誤差 :\n",
      " [[-0.73808508]\n",
      " [ 0.57963391]\n",
      " [-0.10476412]]\n",
      "更新値 : [ 0.94295631 -0.68581284  1.00104594]\n"
     ]
    }
   ],
   "source": [
    "# 実行（バイアスあり）\n",
    "# no_bias=False\n",
    "slr = ScratchLinearRegression(num_iter=1001, lr=0.01, no_bias=False, verbose=False, verbose_filter=500, q=2)\n",
    "slr.fit(x, y)"
   ]
  },
  {
   "cell_type": "code",
   "execution_count": 7,
   "metadata": {
    "colab": {
     "base_uri": "https://localhost:8080/",
     "height": 323
    },
    "colab_type": "code",
    "executionInfo": {
     "elapsed": 344,
     "status": "ok",
     "timestamp": 1596975325516,
     "user": {
      "displayName": "yoshimasa obata",
      "photoUrl": "",
      "userId": "05376502897348058331"
     },
     "user_tz": -540
    },
    "id": "bPURQGoOyBmO",
    "outputId": "a7406cbf-3d7f-4e8f-e496-6fbf80c5443f"
   },
   "outputs": [
    {
     "name": "stdout",
     "output_type": "stream",
     "text": [
      "Loop count : 0\n",
      "誤差 :\n",
      " [[-2.16249836]\n",
      " [-0.71009202]\n",
      " [-0.642781  ]]\n",
      "更新値 : [0.39313345 0.76680851]\n",
      "Loop count : 500\n",
      "誤差 :\n",
      " [[-1.15943455]\n",
      " [ 0.55394392]\n",
      " [ 0.1401354 ]]\n",
      "更新値 : [-0.47863155  1.0639415 ]\n",
      "Loop count : 1000\n",
      "誤差 :\n",
      " [[-0.97495657]\n",
      " [ 0.67138892]\n",
      " [-0.06096352]]\n",
      "更新値 : [-0.92231785  1.18952344]\n"
     ]
    }
   ],
   "source": [
    "# 実行（バイアスなし）\n",
    "# no_bias=False\n",
    "slr = ScratchLinearRegression(num_iter=1001, lr=0.01, no_bias=True, verbose=False, verbose_filter=500, q=2)\n",
    "slr.fit(x, y)"
   ]
  },
  {
   "cell_type": "markdown",
   "metadata": {
    "colab_type": "text",
    "id": "X2dF67ODeWXd"
   },
   "source": [
    "雛形として用意されたメソッドや関数以外でも必要があれば各自作成して完成させてください。雛形を外れても問題ありません。"
   ]
  },
  {
   "cell_type": "markdown",
   "metadata": {
    "colab_type": "text",
    "id": "n0tVmG9xeWcV"
   },
   "source": [
    "## 【問題3】推定\n",
    "推定する仕組みを実装してください。ScratchLinearRegressionクラスの雛形に含まれるpredictメソッドに書き加えてください。\n",
    "\n",
    "\n",
    "仮定関数 $h_\\theta(x)$ の出力が推定結果です。"
   ]
  },
  {
   "cell_type": "code",
   "execution_count": 8,
   "metadata": {
    "colab": {},
    "colab_type": "code",
    "executionInfo": {
     "elapsed": 362,
     "status": "ok",
     "timestamp": 1596975330210,
     "user": {
      "displayName": "yoshimasa obata",
      "photoUrl": "",
      "userId": "05376502897348058331"
     },
     "user_tz": -540
    },
    "id": "vH6duGMkBcvL"
   },
   "outputs": [],
   "source": [
    "# テストデータ\n",
    "x = np.array([[1, 5],\n",
    "                [2, 8],\n",
    "                [3, 9]])\n",
    "y = np.arange(6, 9)"
   ]
  },
  {
   "cell_type": "markdown",
   "metadata": {
    "colab_type": "text",
    "id": "Uz8VkTNmBi0S"
   },
   "source": [
    "上記テストデータの解をは下記になるため、スクラッチプログラムの実行結果も近似する想定。\n",
    "- θ_0 = 5\n",
    "- θ_1 = 1\n",
    "- θ_2 = 0"
   ]
  },
  {
   "cell_type": "code",
   "execution_count": 9,
   "metadata": {
    "colab": {
     "base_uri": "https://localhost:8080/",
     "height": 34
    },
    "colab_type": "code",
    "executionInfo": {
     "elapsed": 395,
     "status": "ok",
     "timestamp": 1596975332232,
     "user": {
      "displayName": "yoshimasa obata",
      "photoUrl": "",
      "userId": "05376502897348058331"
     },
     "user_tz": -540
    },
    "id": "3Jx6FUUMEtLI",
    "outputId": "3d187dec-bb82-4a16-bc9c-58b2b6e70595"
   },
   "outputs": [
    {
     "name": "stdout",
     "output_type": "stream",
     "text": [
      "解：5.000, 1.000, 0.000\n"
     ]
    }
   ],
   "source": [
    "# 解(近似値)を求めるためだけの計算式\n",
    "x = np.array([[1, 5],\n",
    "                [2, 8],\n",
    "                [3, 9]])\n",
    "b = np.ones(3)[:,np.newaxis]\n",
    "x = np.concatenate([b, x], axis=1)\n",
    "y = np.arange(6, 9)\n",
    "ab = np.linalg.pinv(x[:x.shape[1],:]) @ y[:x.shape[1]][:, np.newaxis]\n",
    "print('解：{:.3f}, {:.3f}, {:.3f}'.format(ab[0,0], ab[1,0], ab[2,0]))"
   ]
  },
  {
   "cell_type": "code",
   "execution_count": 10,
   "metadata": {
    "colab": {
     "base_uri": "https://localhost:8080/"
    },
    "colab_type": "code",
    "executionInfo": {
     "elapsed": 5793,
     "status": "ok",
     "timestamp": 1596975350485,
     "user": {
      "displayName": "yoshimasa obata",
      "photoUrl": "",
      "userId": "05376502897348058331"
     },
     "user_tz": -540
    },
    "id": "jwTFIoS6zMK3",
    "outputId": "189fb478-7e87-418e-8a2c-c81af16bc21f",
    "scrolled": true
   },
   "outputs": [
    {
     "name": "stdout",
     "output_type": "stream",
     "text": [
      "[INFO] loop count = 0\n",
      "[INFO] update_w\n",
      " [-1.03547603 -1.98108809  1.29173906]\n",
      "[INFO] loop count = 10000\n",
      "[INFO] update_w\n",
      " [3.43949643 0.17664202 0.43452674]\n"
     ]
    }
   ],
   "source": [
    "# no_bias=True\n",
    "slr = ScratchLinearRegression(num_iter=10001, lr=0.01, no_bias=True, verbose=True, verbose_filter=10000)\n",
    "slr.fit(x, y)"
   ]
  },
  {
   "cell_type": "code",
   "execution_count": 11,
   "metadata": {
    "colab": {
     "base_uri": "https://localhost:8080/",
     "height": 51
    },
    "colab_type": "code",
    "executionInfo": {
     "elapsed": 3506,
     "status": "ok",
     "timestamp": 1596975354721,
     "user": {
      "displayName": "yoshimasa obata",
      "photoUrl": "",
      "userId": "05376502897348058331"
     },
     "user_tz": -540
    },
    "id": "bA-UqqKYf5ES",
    "outputId": "9c5b65e6-c4c4-4f9e-b458-aaf21f42f9d8"
   },
   "outputs": [
    {
     "name": "stdout",
     "output_type": "stream",
     "text": [
      "[INFO] no_bias=False\n"
     ]
    },
    {
     "data": {
      "text/plain": [
       "array([6., 7., 8.])"
      ]
     },
     "execution_count": 11,
     "metadata": {},
     "output_type": "execute_result"
    }
   ],
   "source": [
    "# 実行（バイアスあり）\n",
    "# no_bias=False\n",
    "slr = ScratchLinearRegression(num_iter=100001, lr=0.01, no_bias=False, verbose=False, verbose_filter=10000, q=0)\n",
    "slr.fit(x, y)\n",
    "# 予測実行\n",
    "y_pred = slr.predict(x)\n",
    "y_pred"
   ]
  },
  {
   "cell_type": "code",
   "execution_count": 12,
   "metadata": {
    "colab": {
     "base_uri": "https://localhost:8080/",
     "height": 34
    },
    "colab_type": "code",
    "executionInfo": {
     "elapsed": 6369,
     "status": "ok",
     "timestamp": 1596975371439,
     "user": {
      "displayName": "yoshimasa obata",
      "photoUrl": "",
      "userId": "05376502897348058331"
     },
     "user_tz": -540
    },
    "id": "qYyvEuBsfwn5",
    "outputId": "0b00161b-f103-4418-b2ea-0c3f7ea68ecb"
   },
   "outputs": [
    {
     "data": {
      "text/plain": [
       "array([6., 7., 8.])"
      ]
     },
     "execution_count": 12,
     "metadata": {},
     "output_type": "execute_result"
    }
   ],
   "source": [
    "# 実行（バイアスなし）\n",
    "# no_bias=True\n",
    "slr = ScratchLinearRegression(num_iter=200001, lr=0.01, no_bias=True, verbose=False, verbose_filter=10000, q=0)\n",
    "slr.fit(x, y)\n",
    "# 予測実行\n",
    "y_pred = slr.predict(x)\n",
    "y_pred"
   ]
  },
  {
   "cell_type": "markdown",
   "metadata": {
    "colab_type": "text",
    "id": "uPT0jXRqCndm"
   },
   "source": [
    "\n",
    "y=6,7,8のため、上記予測は正解と一致しているが、no_bias=Trueの場合は収束するまで多くの学習が必要になった。"
   ]
  },
  {
   "cell_type": "markdown",
   "metadata": {
    "colab_type": "text",
    "id": "DWkjS7RJeWfE"
   },
   "source": [
    "## 【問題4】平均二乗誤差\n",
    "線形回帰の指標値として用いられる平均二乗誤差（mean square error, MSE）の関数を作成してください。\n",
    "\n",
    "\n",
    "平均二乗誤差関数は回帰問題全般で使える関数のため、ScratchLinearRegressionクラスのメソッドではなく、別の関数として作成してください。雛形を用意してあります。\n",
    "\n",
    "\n",
    "平均二乗誤差は以下の数式で表されます。\n",
    "\n",
    "\n",
    "\n",
    "$m$ : 入力されるデータの数\n",
    "\n",
    "\n",
    "$h_\\theta()$ : 仮定関数\n",
    "\n",
    "\n",
    "$x^{(i)}$ : i番目のサンプルの特徴量ベクトル\n",
    "\n",
    "\n",
    "$y^{(i)}$ : i番目のサンプルの正解値\n",
    "\n",
    "\n",
    "なお、最急降下法のための目的関数（損失関数）としては、これを2で割ったものを使用します。（問題5, 9）\n",
    "\n",
    "\n",
    "**雛形**"
   ]
  },
  {
   "cell_type": "code",
   "execution_count": 13,
   "metadata": {
    "colab": {},
    "colab_type": "code",
    "executionInfo": {
     "elapsed": 458,
     "status": "ok",
     "timestamp": 1596975384584,
     "user": {
      "displayName": "yoshimasa obata",
      "photoUrl": "",
      "userId": "05376502897348058331"
     },
     "user_tz": -540
    },
    "id": "zLfdOsW4fcMX"
   },
   "outputs": [],
   "source": [
    "def MSE(y_pred, y):\n",
    "    \"\"\"\n",
    "    平均二乗誤差の計算\n",
    "\n",
    "    Parameters\n",
    "    ----------\n",
    "    y_pred : 次の形のndarray, shape (n_samples,)\n",
    "      推定した値\n",
    "    y : 次の形のndarray, shape (n_samples,)\n",
    "      正解値\n",
    "\n",
    "    Returns\n",
    "    ----------\n",
    "    mse : numpy.float\n",
    "      平均二乗誤差\n",
    "    \"\"\"\n",
    "\n",
    "    assert y_pred.shape[0] == y.shape[0], \"[ERROR] The shapes of y_pred and y are different. \"\n",
    "\n",
    "    mse = np.sum((y_pred - y) **2) / y_pred.shape[0]\n",
    "    \n",
    "    return mse"
   ]
  },
  {
   "cell_type": "code",
   "execution_count": 14,
   "metadata": {
    "colab": {
     "base_uri": "https://localhost:8080/"
    },
    "colab_type": "code",
    "executionInfo": {
     "elapsed": 396,
     "status": "ok",
     "timestamp": 1596975385300,
     "user": {
      "displayName": "yoshimasa obata",
      "photoUrl": "",
      "userId": "05376502897348058331"
     },
     "user_tz": -540
    },
    "id": "8Feb8Ymf28KW",
    "outputId": "d183399e-1fd9-4f47-88c0-71ecece4541e"
   },
   "outputs": [
    {
     "data": {
      "text/plain": [
       "3.859342365937311e-24"
      ]
     },
     "execution_count": 14,
     "metadata": {},
     "output_type": "execute_result"
    }
   ],
   "source": [
    "MSE(y_pred, y)"
   ]
  },
  {
   "cell_type": "markdown",
   "metadata": {
    "colab_type": "text",
    "id": "Db-FFFLHeWkC"
   },
   "source": [
    "## 【問題5】目的関数\n",
    "以下の数式で表される線形回帰の 目的関数（損失関数） を実装してください。そして、これをself.loss, self.val_lossに記録するようにしてください。\n",
    "\n",
    "目的関数（損失関数） $J(\\theta)$ は次の式です。\n",
    "\n",
    "$$\n",
    "\\begin{equation*}\n",
    "  J_{(\\theta)} = \n",
    "  \\frac{1}{2m}\\sum_{i=1}^{m}(h_\\theta(x^{(i)})-y^{(i)})^2\n",
    "\\end{equation*}\n",
    "$$\n",
    "\n",
    "$m$ : 入力されるデータの数\n",
    "\n",
    "\n",
    "$h_\\theta()$ : 仮定関数\n",
    "\n",
    "\n",
    "$x^{(i)}$ : i番目のサンプルの特徴量ベクトル\n",
    "\n",
    "\n",
    "$y^{(i)}$ : i番目のサンプルの正解値"
   ]
  },
  {
   "cell_type": "code",
   "execution_count": 15,
   "metadata": {
    "colab": {
     "base_uri": "https://localhost:8080/",
     "height": 51
    },
    "colab_type": "code",
    "executionInfo": {
     "elapsed": 367,
     "status": "ok",
     "timestamp": 1596975392805,
     "user": {
      "displayName": "yoshimasa obata",
      "photoUrl": "",
      "userId": "05376502897348058331"
     },
     "user_tz": -540
    },
    "id": "ShMuU26-nokD",
    "outputId": "3d41c844-48ff-4633-a0be-48d2d9a485dd"
   },
   "outputs": [
    {
     "name": "stdout",
     "output_type": "stream",
     "text": [
      "[INFO] no_bias=False\n"
     ]
    },
    {
     "data": {
      "text/plain": [
       "3.859342365937311e-24"
      ]
     },
     "execution_count": 15,
     "metadata": {},
     "output_type": "execute_result"
    }
   ],
   "source": [
    "# no_bias=False\n",
    "slr = ScratchLinearRegression(num_iter=20, lr=0.01, no_bias=False, verbose=False, verbose_filter=1, q=5)\n",
    "slr.fit(x, y, x, y)\n",
    "MSE(y_pred, y)"
   ]
  },
  {
   "cell_type": "markdown",
   "metadata": {
    "colab_type": "text",
    "id": "QBi3z3f8eWrA"
   },
   "source": [
    "## 3.検証\n",
    "\n",
    "## 【問題6】学習と推定\n",
    "機械学習スクラッチ入門のSprintで用意したHouse Pricesコンペティションのデータに対してスクラッチ実装の学習と推定を行なってください。\n",
    "\n",
    "\n",
    "scikit-learnによる実装と比べ、正しく動いているかを確認してください。"
   ]
  },
  {
   "cell_type": "code",
   "execution_count": 16,
   "metadata": {
    "colab": {
     "base_uri": "https://localhost:8080/",
     "height": 34
    },
    "colab_type": "code",
    "executionInfo": {
     "elapsed": 410,
     "status": "ok",
     "timestamp": 1596975405285,
     "user": {
      "displayName": "yoshimasa obata",
      "photoUrl": "",
      "userId": "05376502897348058331"
     },
     "user_tz": -540
    },
    "id": "bitmy4dDEZuS",
    "outputId": "e2fd81d8-0b5c-443b-fdcb-e8bb70648615"
   },
   "outputs": [],
   "source": [
    "# # google colab環境用\n",
    "# from google.colab import drive\n",
    "# drive.mount('/content/drive')"
   ]
  },
  {
   "cell_type": "code",
   "execution_count": 17,
   "metadata": {
    "colab": {
     "base_uri": "https://localhost:8080/",
     "height": 253
    },
    "colab_type": "code",
    "executionInfo": {
     "elapsed": 404,
     "status": "ok",
     "timestamp": 1596975411429,
     "user": {
      "displayName": "yoshimasa obata",
      "photoUrl": "",
      "userId": "05376502897348058331"
     },
     "user_tz": -540
    },
    "id": "wbTF4xygEZr_",
    "outputId": "07d0c672-3eb3-4f2a-e884-1c8df9046553"
   },
   "outputs": [],
   "source": [
    "# # トレーニングデータ読み込み\n",
    "# df = pd.read_csv('/content/drive/My Drive/Colab Notebooks/dive_into_code/Sprint03/house-prices-advanced-regression-techniques/train.csv')\n",
    "# df.head()"
   ]
  },
  {
   "cell_type": "code",
   "execution_count": 18,
   "metadata": {},
   "outputs": [
    {
     "data": {
      "text/html": [
       "<div>\n",
       "<style scoped>\n",
       "    .dataframe tbody tr th:only-of-type {\n",
       "        vertical-align: middle;\n",
       "    }\n",
       "\n",
       "    .dataframe tbody tr th {\n",
       "        vertical-align: top;\n",
       "    }\n",
       "\n",
       "    .dataframe thead th {\n",
       "        text-align: right;\n",
       "    }\n",
       "</style>\n",
       "<table border=\"1\" class=\"dataframe\">\n",
       "  <thead>\n",
       "    <tr style=\"text-align: right;\">\n",
       "      <th></th>\n",
       "      <th>Id</th>\n",
       "      <th>MSSubClass</th>\n",
       "      <th>MSZoning</th>\n",
       "      <th>LotFrontage</th>\n",
       "      <th>LotArea</th>\n",
       "      <th>Street</th>\n",
       "      <th>Alley</th>\n",
       "      <th>LotShape</th>\n",
       "      <th>LandContour</th>\n",
       "      <th>Utilities</th>\n",
       "      <th>...</th>\n",
       "      <th>PoolArea</th>\n",
       "      <th>PoolQC</th>\n",
       "      <th>Fence</th>\n",
       "      <th>MiscFeature</th>\n",
       "      <th>MiscVal</th>\n",
       "      <th>MoSold</th>\n",
       "      <th>YrSold</th>\n",
       "      <th>SaleType</th>\n",
       "      <th>SaleCondition</th>\n",
       "      <th>SalePrice</th>\n",
       "    </tr>\n",
       "  </thead>\n",
       "  <tbody>\n",
       "    <tr>\n",
       "      <th>0</th>\n",
       "      <td>1</td>\n",
       "      <td>60</td>\n",
       "      <td>RL</td>\n",
       "      <td>65.0</td>\n",
       "      <td>8450</td>\n",
       "      <td>Pave</td>\n",
       "      <td>NaN</td>\n",
       "      <td>Reg</td>\n",
       "      <td>Lvl</td>\n",
       "      <td>AllPub</td>\n",
       "      <td>...</td>\n",
       "      <td>0</td>\n",
       "      <td>NaN</td>\n",
       "      <td>NaN</td>\n",
       "      <td>NaN</td>\n",
       "      <td>0</td>\n",
       "      <td>2</td>\n",
       "      <td>2008</td>\n",
       "      <td>WD</td>\n",
       "      <td>Normal</td>\n",
       "      <td>208500</td>\n",
       "    </tr>\n",
       "    <tr>\n",
       "      <th>1</th>\n",
       "      <td>2</td>\n",
       "      <td>20</td>\n",
       "      <td>RL</td>\n",
       "      <td>80.0</td>\n",
       "      <td>9600</td>\n",
       "      <td>Pave</td>\n",
       "      <td>NaN</td>\n",
       "      <td>Reg</td>\n",
       "      <td>Lvl</td>\n",
       "      <td>AllPub</td>\n",
       "      <td>...</td>\n",
       "      <td>0</td>\n",
       "      <td>NaN</td>\n",
       "      <td>NaN</td>\n",
       "      <td>NaN</td>\n",
       "      <td>0</td>\n",
       "      <td>5</td>\n",
       "      <td>2007</td>\n",
       "      <td>WD</td>\n",
       "      <td>Normal</td>\n",
       "      <td>181500</td>\n",
       "    </tr>\n",
       "    <tr>\n",
       "      <th>2</th>\n",
       "      <td>3</td>\n",
       "      <td>60</td>\n",
       "      <td>RL</td>\n",
       "      <td>68.0</td>\n",
       "      <td>11250</td>\n",
       "      <td>Pave</td>\n",
       "      <td>NaN</td>\n",
       "      <td>IR1</td>\n",
       "      <td>Lvl</td>\n",
       "      <td>AllPub</td>\n",
       "      <td>...</td>\n",
       "      <td>0</td>\n",
       "      <td>NaN</td>\n",
       "      <td>NaN</td>\n",
       "      <td>NaN</td>\n",
       "      <td>0</td>\n",
       "      <td>9</td>\n",
       "      <td>2008</td>\n",
       "      <td>WD</td>\n",
       "      <td>Normal</td>\n",
       "      <td>223500</td>\n",
       "    </tr>\n",
       "    <tr>\n",
       "      <th>3</th>\n",
       "      <td>4</td>\n",
       "      <td>70</td>\n",
       "      <td>RL</td>\n",
       "      <td>60.0</td>\n",
       "      <td>9550</td>\n",
       "      <td>Pave</td>\n",
       "      <td>NaN</td>\n",
       "      <td>IR1</td>\n",
       "      <td>Lvl</td>\n",
       "      <td>AllPub</td>\n",
       "      <td>...</td>\n",
       "      <td>0</td>\n",
       "      <td>NaN</td>\n",
       "      <td>NaN</td>\n",
       "      <td>NaN</td>\n",
       "      <td>0</td>\n",
       "      <td>2</td>\n",
       "      <td>2006</td>\n",
       "      <td>WD</td>\n",
       "      <td>Abnorml</td>\n",
       "      <td>140000</td>\n",
       "    </tr>\n",
       "    <tr>\n",
       "      <th>4</th>\n",
       "      <td>5</td>\n",
       "      <td>60</td>\n",
       "      <td>RL</td>\n",
       "      <td>84.0</td>\n",
       "      <td>14260</td>\n",
       "      <td>Pave</td>\n",
       "      <td>NaN</td>\n",
       "      <td>IR1</td>\n",
       "      <td>Lvl</td>\n",
       "      <td>AllPub</td>\n",
       "      <td>...</td>\n",
       "      <td>0</td>\n",
       "      <td>NaN</td>\n",
       "      <td>NaN</td>\n",
       "      <td>NaN</td>\n",
       "      <td>0</td>\n",
       "      <td>12</td>\n",
       "      <td>2008</td>\n",
       "      <td>WD</td>\n",
       "      <td>Normal</td>\n",
       "      <td>250000</td>\n",
       "    </tr>\n",
       "  </tbody>\n",
       "</table>\n",
       "<p>5 rows × 81 columns</p>\n",
       "</div>"
      ],
      "text/plain": [
       "   Id  MSSubClass MSZoning  LotFrontage  LotArea Street Alley LotShape  \\\n",
       "0   1          60       RL         65.0     8450   Pave   NaN      Reg   \n",
       "1   2          20       RL         80.0     9600   Pave   NaN      Reg   \n",
       "2   3          60       RL         68.0    11250   Pave   NaN      IR1   \n",
       "3   4          70       RL         60.0     9550   Pave   NaN      IR1   \n",
       "4   5          60       RL         84.0    14260   Pave   NaN      IR1   \n",
       "\n",
       "  LandContour Utilities  ... PoolArea PoolQC Fence MiscFeature MiscVal MoSold  \\\n",
       "0         Lvl    AllPub  ...        0    NaN   NaN         NaN       0      2   \n",
       "1         Lvl    AllPub  ...        0    NaN   NaN         NaN       0      5   \n",
       "2         Lvl    AllPub  ...        0    NaN   NaN         NaN       0      9   \n",
       "3         Lvl    AllPub  ...        0    NaN   NaN         NaN       0      2   \n",
       "4         Lvl    AllPub  ...        0    NaN   NaN         NaN       0     12   \n",
       "\n",
       "  YrSold  SaleType  SaleCondition  SalePrice  \n",
       "0   2008        WD         Normal     208500  \n",
       "1   2007        WD         Normal     181500  \n",
       "2   2008        WD         Normal     223500  \n",
       "3   2006        WD        Abnorml     140000  \n",
       "4   2008        WD         Normal     250000  \n",
       "\n",
       "[5 rows x 81 columns]"
      ]
     },
     "execution_count": 18,
     "metadata": {},
     "output_type": "execute_result"
    }
   ],
   "source": [
    "df = pd.read_csv('../data/house-prices-advanced-regression-techniques/train.csv')\n",
    "df.head()"
   ]
  },
  {
   "cell_type": "code",
   "execution_count": 19,
   "metadata": {
    "colab": {
     "base_uri": "https://localhost:8080/"
    },
    "colab_type": "code",
    "executionInfo": {
     "elapsed": 475,
     "status": "ok",
     "timestamp": 1596975414121,
     "user": {
      "displayName": "yoshimasa obata",
      "photoUrl": "",
      "userId": "05376502897348058331"
     },
     "user_tz": -540
    },
    "id": "RwdDniIqEZdo",
    "outputId": "b2d59fdf-2644-4ecc-c01a-d6a5ae9f38db"
   },
   "outputs": [
    {
     "data": {
      "text/plain": [
       "Index(['SalePrice', 'OverallQual', 'GrLivArea', 'GarageCars', 'GarageArea'], dtype='object')"
      ]
     },
     "execution_count": 19,
     "metadata": {},
     "output_type": "execute_result"
    }
   ],
   "source": [
    "# 相関の高い特徴量を抽出\n",
    "df.corr()['SalePrice'].sort_values(ascending=False).head(5).index"
   ]
  },
  {
   "cell_type": "code",
   "execution_count": 20,
   "metadata": {
    "colab": {
     "base_uri": "https://localhost:8080/",
     "height": 306
    },
    "colab_type": "code",
    "executionInfo": {
     "elapsed": 652,
     "status": "ok",
     "timestamp": 1596975416096,
     "user": {
      "displayName": "yoshimasa obata",
      "photoUrl": "",
      "userId": "05376502897348058331"
     },
     "user_tz": -540
    },
    "id": "A1MzXcx3JWnT",
    "outputId": "f5ee9274-ff6d-461b-d15c-f834b94c8290"
   },
   "outputs": [
    {
     "data": {
      "text/html": [
       "<div>\n",
       "<style scoped>\n",
       "    .dataframe tbody tr th:only-of-type {\n",
       "        vertical-align: middle;\n",
       "    }\n",
       "\n",
       "    .dataframe tbody tr th {\n",
       "        vertical-align: top;\n",
       "    }\n",
       "\n",
       "    .dataframe thead th {\n",
       "        text-align: right;\n",
       "    }\n",
       "</style>\n",
       "<table border=\"1\" class=\"dataframe\">\n",
       "  <thead>\n",
       "    <tr style=\"text-align: right;\">\n",
       "      <th></th>\n",
       "      <th>OverallQual</th>\n",
       "      <th>GrLivArea</th>\n",
       "    </tr>\n",
       "  </thead>\n",
       "  <tbody>\n",
       "    <tr>\n",
       "      <th>0</th>\n",
       "      <td>7</td>\n",
       "      <td>1710</td>\n",
       "    </tr>\n",
       "    <tr>\n",
       "      <th>1</th>\n",
       "      <td>6</td>\n",
       "      <td>1262</td>\n",
       "    </tr>\n",
       "    <tr>\n",
       "      <th>2</th>\n",
       "      <td>7</td>\n",
       "      <td>1786</td>\n",
       "    </tr>\n",
       "    <tr>\n",
       "      <th>3</th>\n",
       "      <td>7</td>\n",
       "      <td>1717</td>\n",
       "    </tr>\n",
       "    <tr>\n",
       "      <th>4</th>\n",
       "      <td>8</td>\n",
       "      <td>2198</td>\n",
       "    </tr>\n",
       "  </tbody>\n",
       "</table>\n",
       "</div>"
      ],
      "text/plain": [
       "   OverallQual  GrLivArea\n",
       "0            7       1710\n",
       "1            6       1262\n",
       "2            7       1786\n",
       "3            7       1717\n",
       "4            8       2198"
      ]
     },
     "metadata": {},
     "output_type": "display_data"
    },
    {
     "data": {
      "text/plain": [
       "0    208500\n",
       "1    181500\n",
       "2    223500\n",
       "3    140000\n",
       "4    250000\n",
       "Name: SalePrice, dtype: int64"
      ]
     },
     "metadata": {},
     "output_type": "display_data"
    }
   ],
   "source": [
    "# 今回は上記特徴量を使用\n",
    "# X_columns = ['OverallQual', 'GrLivArea', 'GrLivArea', 'GarageCars', 'GarageArea']\n",
    "X_columns = ['OverallQual', 'GrLivArea']\n",
    "y_column = 'SalePrice'\n",
    "X_df, y_df = df[X_columns].copy(), df[y_column].copy()\n",
    "\n",
    "display(X_df.head())\n",
    "display(y_df.head())"
   ]
  },
  {
   "cell_type": "code",
   "execution_count": 21,
   "metadata": {
    "colab": {},
    "colab_type": "code",
    "executionInfo": {
     "elapsed": 627,
     "status": "ok",
     "timestamp": 1596975418596,
     "user": {
      "displayName": "yoshimasa obata",
      "photoUrl": "",
      "userId": "05376502897348058331"
     },
     "user_tz": -540
    },
    "id": "8Cfzmb09JW1o"
   },
   "outputs": [],
   "source": [
    "# データ分割\n",
    "X_train, X_test, y_train, y_test = [np.array(i.values) for i in train_test_split(X_df, y_df, test_size=0.3, random_state=0)]"
   ]
  },
  {
   "cell_type": "markdown",
   "metadata": {},
   "source": [
    "### スクラッチの線形回帰を実行"
   ]
  },
  {
   "cell_type": "code",
   "execution_count": 22,
   "metadata": {
    "colab": {
     "base_uri": "https://localhost:8080/",
     "height": 204
    },
    "colab_type": "code",
    "executionInfo": {
     "elapsed": 17337,
     "status": "ok",
     "timestamp": 1596975500599,
     "user": {
      "displayName": "yoshimasa obata",
      "photoUrl": "",
      "userId": "05376502897348058331"
     },
     "user_tz": -540
    },
    "id": "QkRbBxPdJXAs",
    "outputId": "ee1a9a9a-a76f-424b-a3b7-bccf4948b22e"
   },
   "outputs": [
    {
     "name": "stdout",
     "output_type": "stream",
     "text": [
      "[INFO] no_bias=False\n",
      "[INFO] loop count = 0\n",
      "[INFO] update_w\n",
      " [-0.93517383 -0.61621882 29.87626138]\n",
      "[INFO] loop count = 100000\n",
      "[INFO] update_w\n",
      " [ 12.77156498 432.24222028 116.06356132]\n",
      "loss : [1.95804421e+10 1.14216622e+10 6.93554907e+09 ... 1.43709489e+09\n",
      " 1.43709471e+09 1.43709452e+09]\n",
      "val_loss : [1.19954350e+10 7.50547703e+09 5.02240618e+09 ... 1.87349639e+09\n",
      " 1.87349615e+09 1.87349590e+09]\n"
     ]
    }
   ],
   "source": [
    "# no_bias=False\n",
    "slr2 = ScratchLinearRegression(num_iter=100001, lr=1e-7, no_bias=False, verbose=True, verbose_filter=100000)\n",
    "slr2.fit(X_train, y_train, X_test, y_test)\n",
    "print('loss :', slr2.loss)\n",
    "print('val_loss :', slr2.val_loss)"
   ]
  },
  {
   "cell_type": "code",
   "execution_count": 23,
   "metadata": {
    "colab": {
     "base_uri": "https://localhost:8080/"
    },
    "colab_type": "code",
    "executionInfo": {
     "elapsed": 437,
     "status": "ok",
     "timestamp": 1596975504776,
     "user": {
      "displayName": "yoshimasa obata",
      "photoUrl": "",
      "userId": "05376502897348058331"
     },
     "user_tz": -540
    },
    "id": "9QhGAcp9mAc8",
    "outputId": "1c39b133-0654-461e-c8e6-5ec91031dbd4"
   },
   "outputs": [
    {
     "data": {
      "text/plain": [
       "3746991806.316331"
      ]
     },
     "execution_count": 23,
     "metadata": {},
     "output_type": "execute_result"
    }
   ],
   "source": [
    "# 予測実行\n",
    "y_pred2_1 = slr2.predict(X_test)\n",
    "# 平均二乗誤差\n",
    "MSE(y_pred2_1, y_test)"
   ]
  },
  {
   "cell_type": "markdown",
   "metadata": {},
   "source": [
    "### scikit-learnで実行"
   ]
  },
  {
   "cell_type": "code",
   "execution_count": 24,
   "metadata": {
    "colab": {
     "base_uri": "https://localhost:8080/",
     "height": 136
    },
    "colab_type": "code",
    "executionInfo": {
     "elapsed": 462,
     "status": "ok",
     "timestamp": 1596975511218,
     "user": {
      "displayName": "yoshimasa obata",
      "photoUrl": "",
      "userId": "05376502897348058331"
     },
     "user_tz": -540
    },
    "id": "9hiXcz7XTGsL",
    "outputId": "abd547ea-9f9c-40b0-ea1a-83b5a8b316ab"
   },
   "outputs": [
    {
     "name": "stdout",
     "output_type": "stream",
     "text": [
      "LinearRegression()\n",
      "MSE :  2102735397.1381295\n",
      "回帰係数 : \n",
      "OverallQual    31506.715061\n",
      "GrLivArea         61.368579\n",
      "dtype: float64\n",
      "切片 : -104362.612\n"
     ]
    }
   ],
   "source": [
    "#線形回帰モデル\n",
    "model = LinearRegression()\n",
    "#学習はfit\n",
    "model.fit(X_train, y_train)\n",
    "print(model)\n",
    "# 予測\n",
    "y_pred2_2 = model.predict(X_test)\n",
    "# 平均二乗誤差\n",
    "print('MSE : ', MSE(y_pred2_2, y_test))\n",
    "# 切片・回帰係数を表示\n",
    "print('回帰係数 : \\n{}'.format(pd.Series(model.coef_.reshape(len(model.coef_)), index=X_df.columns)))\n",
    "print('切片 : {:.3f}'.format(model.intercept_))"
   ]
  },
  {
   "cell_type": "code",
   "execution_count": 25,
   "metadata": {
    "colab": {
     "base_uri": "https://localhost:8080/"
    },
    "colab_type": "code",
    "executionInfo": {
     "elapsed": 331,
     "status": "ok",
     "timestamp": 1596975512390,
     "user": {
      "displayName": "yoshimasa obata",
      "photoUrl": "",
      "userId": "05376502897348058331"
     },
     "user_tz": -540
    },
    "id": "nLcXJnXD3rb1",
    "outputId": "1e8af440-d05b-45d6-a3b2-5c80c1e2ec45"
   },
   "outputs": [
    {
     "name": "stdout",
     "output_type": "stream",
     "text": [
      "MSE(平均二乗誤差)(test) : 2102735397.138\n"
     ]
    }
   ],
   "source": [
    "# MSE(平均二乗誤差)　※確認用として、sklearnで表示\n",
    "mse = metrics.mean_squared_error(y_test, y_pred2_2)\n",
    "print('MSE(平均二乗誤差)(test) : {:.3f}'.format(mse))"
   ]
  },
  {
   "cell_type": "markdown",
   "metadata": {
    "colab_type": "text",
    "id": "d7RoxTc9eXAs"
   },
   "source": [
    "## 【問題7】学習曲線のプロット\n",
    "学習曲線を表示する関数を作成し、実行してください。グラフを見て損失が適切に下がっているかどうか確認してください。\n",
    "\n",
    "\n",
    "線形回帰クラスの雛形ではself.loss, self.val_lossに損失を記録しておくようになっているため、入力にはこれを利用してください。\n",
    "\n",
    "\n",
    "プロット例"
   ]
  },
  {
   "cell_type": "code",
   "execution_count": 26,
   "metadata": {
    "colab": {
     "base_uri": "https://localhost:8080/",
     "height": 663
    },
    "colab_type": "code",
    "executionInfo": {
     "elapsed": 2089,
     "status": "ok",
     "timestamp": 1596975516126,
     "user": {
      "displayName": "yoshimasa obata",
      "photoUrl": "",
      "userId": "05376502897348058331"
     },
     "user_tz": -540
    },
    "id": "er4VSvnepHKD",
    "outputId": "72e861cb-b680-461e-afc6-855d8acf0a04"
   },
   "outputs": [
    {
     "name": "stdout",
     "output_type": "stream",
     "text": [
      "[INFO] no_bias=False\n",
      "[INFO] loop count = 0\n",
      "[INFO] update_w\n",
      " [-0.00282939  1.89532157  1.34310997]\n",
      "[INFO] loop count = 10000\n",
      "[INFO] update_w\n",
      " [8.01748065e-02 2.76849815e+00 1.17676463e+02]\n",
      "loss : [1.90379002e+10 1.89471245e+10 1.88568175e+10 ... 1.45568727e+09\n",
      " 1.45568727e+09 1.45568727e+09]\n",
      "val_loss : [1.94959284e+10 1.94060563e+10 1.93166456e+10 ... 1.89829163e+09\n",
      " 1.89829163e+09 1.89829163e+09]\n"
     ]
    }
   ],
   "source": [
    "# no_bias=False\n",
    "slr3 = ScratchLinearRegression(num_iter=10001, lr=1e-9, no_bias=False, verbose=True, verbose_filter=10000)\n",
    "slr3.fit(X_train, y_train, X_test, y_test)\n",
    "print('loss :', slr3.loss)\n",
    "print('val_loss :', slr3.val_loss)"
   ]
  },
  {
   "cell_type": "code",
   "execution_count": 27,
   "metadata": {
    "colab": {
     "base_uri": "https://localhost:8080/",
     "height": 646
    },
    "colab_type": "code",
    "executionInfo": {
     "elapsed": 1785,
     "status": "ok",
     "timestamp": 1596975521253,
     "user": {
      "displayName": "yoshimasa obata",
      "photoUrl": "",
      "userId": "05376502897348058331"
     },
     "user_tz": -540
    },
    "id": "67KfG8clHc7d",
    "outputId": "c34a1cfb-eec4-435b-b01e-fdb1cf9580d2",
    "scrolled": true
   },
   "outputs": [
    {
     "name": "stdout",
     "output_type": "stream",
     "text": [
      "[INFO] loop count = 0\n",
      "[INFO] update_w\n",
      " [1.27103097 1.84635015]\n",
      "[INFO] loop count = 10000\n",
      "[INFO] update_w\n",
      " [  2.14235235 117.6788508 ]\n",
      "loss : [1.88868470e+10 1.87968514e+10 1.87073204e+10 ... 1.45571483e+09\n",
      " 1.45571483e+09 1.45571483e+09]\n",
      "val_loss : [1.93464006e+10 1.92572965e+10 1.91686499e+10 ... 1.89832838e+09\n",
      " 1.89832837e+09 1.89832837e+09]\n"
     ]
    }
   ],
   "source": [
    "# no_bias=True\n",
    "slr3_no = ScratchLinearRegression(num_iter=10001, lr=1e-9, no_bias=True, verbose=True, verbose_filter=10000)\n",
    "slr3_no.fit(X_train, y_train, X_test, y_test)\n",
    "print('loss :', slr3_no.loss)\n",
    "print('val_loss :', slr3_no.val_loss)"
   ]
  },
  {
   "cell_type": "code",
   "execution_count": 28,
   "metadata": {
    "colab": {},
    "colab_type": "code",
    "executionInfo": {
     "elapsed": 458,
     "status": "ok",
     "timestamp": 1596976446848,
     "user": {
      "displayName": "yoshimasa obata",
      "photoUrl": "",
      "userId": "05376502897348058331"
     },
     "user_tz": -540
    },
    "id": "4klm1iqANed4"
   },
   "outputs": [],
   "source": [
    "# グラフ表示用関数\n",
    "def loss_plot(loss, val_loss, no_bias_loss=None, no_bias_val_loss=None):\n",
    "    \n",
    "    fig = plt.figure(figsize=(14, 5))\n",
    "    ax1 = fig.add_subplot(121)\n",
    "    ax2 = fig.add_subplot(122)\n",
    "\n",
    "    x1, x2 = list(range(1,len(loss)+1)), list(range(1, len(val_loss)+1))\n",
    "\n",
    "    ax1.plot(x1, loss, label='train')\n",
    "    ax1.plot(x2, val_loss, label='test')\n",
    "    ax1.set_title('Learning curve - no_bias=False')\n",
    "    ax1.grid(True)\n",
    "    ax1.legend(loc='best')\n",
    "\n",
    "    ax2.plot(x1, no_bias_loss, label='train')\n",
    "    ax2.plot(x2, no_bias_val_loss, label='test')\n",
    "    ax2.set_title('Learning curve - no_bias=True')\n",
    "    ax2.grid(True)\n",
    "    ax2.legend(loc='best')\n",
    "\n",
    "    plt.show()\n",
    "    del fig, ax1, ax2"
   ]
  },
  {
   "cell_type": "code",
   "execution_count": 29,
   "metadata": {
    "colab": {
     "base_uri": "https://localhost:8080/",
     "height": 336
    },
    "colab_type": "code",
    "executionInfo": {
     "elapsed": 627,
     "status": "ok",
     "timestamp": 1596976447795,
     "user": {
      "displayName": "yoshimasa obata",
      "photoUrl": "",
      "userId": "05376502897348058331"
     },
     "user_tz": -540
    },
    "id": "oSUR-xlJTtey",
    "outputId": "84cbff42-9497-4b13-f01b-ebfa5bb8dc9c"
   },
   "outputs": [
    {
     "data": {
      "image/png": "[encoded data removed]",
      "text/plain": [
       "<Figure size 1008x360 with 2 Axes>"
      ]
     },
     "metadata": {
      "needs_background": "light"
     },
     "output_type": "display_data"
    }
   ],
   "source": [
    "loss_plot(slr3.loss, slr3.val_loss, slr3_no.loss, slr3_no.val_loss)"
   ]
  },
  {
   "cell_type": "markdown",
   "metadata": {
    "colab_type": "text",
    "id": "X7Rf9lzheW78"
   },
   "source": [
    "## 【問題8】（アドバンス課題）バイアス項の除去\n",
    "バイアス項 $\\theta_0$ を抜くと学習がどう変化するか検証してください。また、線形回帰モデルにおけるバイアス項の役割の考察・調査を行ってください。"
   ]
  },
  {
   "cell_type": "markdown",
   "metadata": {},
   "source": [
    "### 【考察】\n",
    "問題7でバイアス有無でグラフを表示したが、差の可視化が難しかったため、以下では説明変数を標準化している。"
   ]
  },
  {
   "cell_type": "markdown",
   "metadata": {
    "colab_type": "text",
    "id": "-ml5hK1_39gC"
   },
   "source": [
    "### 標準化して実験"
   ]
  },
  {
   "cell_type": "code",
   "execution_count": 30,
   "metadata": {
    "colab": {
     "base_uri": "https://localhost:8080/",
     "height": 136
    },
    "colab_type": "code",
    "executionInfo": {
     "elapsed": 410,
     "status": "ok",
     "timestamp": 1596975958022,
     "user": {
      "displayName": "yoshimasa obata",
      "photoUrl": "",
      "userId": "05376502897348058331"
     },
     "user_tz": -540
    },
    "id": "AWYbGcgX39Bl",
    "outputId": "a43d9889-c38b-46e5-d13d-0c02f3e0ddf4"
   },
   "outputs": [
    {
     "data": {
      "text/plain": [
       "array([[ 0.67840248,  0.98899634],\n",
       "       [-0.05839596, -0.44659417],\n",
       "       [-0.79519441, -1.28321691],\n",
       "       ...,\n",
       "       [-0.05839596,  0.733952  ],\n",
       "       [ 0.67840248,  0.06735883],\n",
       "       [ 0.67840248,  0.61222629]])"
      ]
     },
     "execution_count": 30,
     "metadata": {},
     "output_type": "execute_result"
    }
   ],
   "source": [
    "# 説明変数を標準化\n",
    "sc = StandardScaler()\n",
    "sc.fit(X_train)\n",
    "X_train_std = sc.transform(X_train)\n",
    "X_test_std = sc.transform(X_test)\n",
    "X_train_std"
   ]
  },
  {
   "cell_type": "code",
   "execution_count": 31,
   "metadata": {
    "colab": {
     "base_uri": "https://localhost:8080/",
     "height": 187
    },
    "colab_type": "code",
    "executionInfo": {
     "elapsed": 1944,
     "status": "ok",
     "timestamp": 1596975972486,
     "user": {
      "displayName": "yoshimasa obata",
      "photoUrl": "",
      "userId": "05376502897348058331"
     },
     "user_tz": -540
    },
    "id": "AB5EdMIX415r",
    "outputId": "1bce13ac-e905-42a5-c999-589be6cb25d0"
   },
   "outputs": [
    {
     "name": "stdout",
     "output_type": "stream",
     "text": [
      "[INFO] no_bias=False\n",
      "[INFO] loop count = 0\n",
      "[INFO] update_w\n",
      " [179.4173936   61.17099941  56.24067065]\n",
      "[INFO] loop count = 10000\n",
      "[INFO] update_w\n",
      " [180578.0793835   42677.72757583  31845.65035332]\n",
      "loss : [1.93558097e+10 1.93162605e+10 1.92767984e+10 ... 8.40920990e+08\n",
      " 8.40920988e+08 8.40920985e+08]\n",
      "val_loss : [1.98621803e+10 1.98217654e+10 1.97814404e+10 ... 1.05192397e+09\n",
      " 1.05192374e+09 1.05192350e+09]\n"
     ]
    }
   ],
   "source": [
    "# no_bias=False\n",
    "slr4 = ScratchLinearRegression(num_iter=10001, lr=1e-3, no_bias=False, verbose=True, verbose_filter=10000)\n",
    "slr4.fit(X_train_std, y_train, X_test_std, y_test)\n",
    "print('loss :', slr4.loss)\n",
    "print('val_loss :', slr4.val_loss)"
   ]
  },
  {
   "cell_type": "code",
   "execution_count": 32,
   "metadata": {},
   "outputs": [
    {
     "name": "stdout",
     "output_type": "stream",
     "text": [
      "[INFO] loop count = 0\n",
      "[INFO] update_w\n",
      " [62.42545729 57.59343594]\n",
      "[INFO] loop count = 10000\n",
      "[INFO] update_w\n",
      " [42677.72682571 31845.65110379]\n",
      "loss : [1.93554447e+10 1.93484915e+10 1.93415602e+10 ... 1.71466140e+10\n",
      " 1.71466140e+10 1.71466140e+10]\n",
      "val_loss : [1.98945973e+10 1.98869144e+10 1.98792559e+10 ... 1.74267768e+10\n",
      " 1.74267760e+10 1.74267752e+10]\n"
     ]
    }
   ],
   "source": [
    "# no_bias=True\n",
    "slr4_no = ScratchLinearRegression(num_iter=10001, lr=1e-3, no_bias=True, verbose=True, verbose_filter=10000)\n",
    "slr4_no.fit(X_train_std, y_train, X_test_std, y_test)\n",
    "print('loss :', slr4_no.loss)\n",
    "print('val_loss :', slr4_no.val_loss)"
   ]
  },
  {
   "cell_type": "code",
   "execution_count": 33,
   "metadata": {
    "colab": {
     "base_uri": "https://localhost:8080/",
     "height": 626
    },
    "colab_type": "code",
    "executionInfo": {
     "elapsed": 804,
     "status": "error",
     "timestamp": 1596975988159,
     "user": {
      "displayName": "yoshimasa obata",
      "photoUrl": "",
      "userId": "05376502897348058331"
     },
     "user_tz": -540
    },
    "id": "2A7xoYVj42JZ",
    "outputId": "4457d338-d452-478a-cc72-c735c5e4d1b3"
   },
   "outputs": [
    {
     "data": {
      "image/png": "[encoded data removed]",
      "text/plain": [
       "<Figure size 1008x360 with 2 Axes>"
      ]
     },
     "metadata": {
      "needs_background": "light"
     },
     "output_type": "display_data"
    }
   ],
   "source": [
    "loss_plot(slr4.loss, slr4.val_loss, slr4_no.loss, slr4_no.val_loss)"
   ]
  },
  {
   "cell_type": "markdown",
   "metadata": {},
   "source": [
    "### 【考察①】\n",
    "上記より、バイアスが無いとデータへの適合が難しくなり、精度が落ちることがわかる。\n",
    "\n",
    "この点については以降で考察する。\n",
    "\n",
    "以下では、サンプルデータを用意して単回帰分析で様子を可視化してみる。"
   ]
  },
  {
   "cell_type": "code",
   "execution_count": 34,
   "metadata": {
    "colab": {},
    "colab_type": "code",
    "id": "STUFlGA5C7Wf",
    "scrolled": false
   },
   "outputs": [
    {
     "data": {
      "image/png": "[encoded data removed]",
      "text/plain": [
       "<Figure size 432x288 with 1 Axes>"
      ]
     },
     "metadata": {
      "needs_background": "light"
     },
     "output_type": "display_data"
    }
   ],
   "source": [
    "# サンプルデータ用意\n",
    "x0 = np.arange(1, 101, 0.5)\n",
    "y0 = np.random.randint(1,10,200) * x0/50 + x0*0.3 + 30\n",
    "\n",
    "plt.scatter(x0,y0)\n",
    "plt.xlim(0,100)\n",
    "plt.ylim(0,100)\n",
    "plt.grid(True)\n",
    "plt.show()"
   ]
  },
  {
   "cell_type": "code",
   "execution_count": 35,
   "metadata": {},
   "outputs": [],
   "source": [
    "def bias_model_test(x, y):\n",
    "    # 平均\n",
    "    x_mean = np.mean(x)\n",
    "    y_mean = np.mean(y)\n",
    "    print('x mean :', np.mean(x))\n",
    "    print('y mean :', np.mean(y))\n",
    "    \n",
    "    #線形回帰モデル バイアスあり\n",
    "    model = LinearRegression(fit_intercept=True, normalize=False, copy_X=True, n_jobs=1)\n",
    "    #学習はfit\n",
    "    model.fit(x[:,np.newaxis], y[:,np.newaxis])\n",
    "    y1 = model.predict(x[:,np.newaxis])\n",
    "    print(model.coef_)\n",
    "    print(model.intercept_)\n",
    "\n",
    "    #線形回帰モデル　バイアスなし\n",
    "    model = LinearRegression(fit_intercept=False, normalize=False, copy_X=True, n_jobs=1)\n",
    "    #学習はfit\n",
    "    model.fit(x[:,np.newaxis], y[:,np.newaxis])\n",
    "    y2 = model.predict(x[:,np.newaxis])\n",
    "    print(model.coef_)\n",
    "    print(model.intercept_)\n",
    "\n",
    "    # グラフ化\n",
    "    plt.scatter(x, y)\n",
    "    plt.plot(x, y1, color='red', label='bias')\n",
    "    plt.plot(x, y2, color='orange', label='no bias')\n",
    "    plt.scatter(x_mean, y_mean, label='mean', color='black', marker='x', s=150)\n",
    "#     plt.xlim(0,100)\n",
    "#     plt.ylim(0,100)\n",
    "    plt.legend(loc='best')\n",
    "    plt.grid(True)\n",
    "    plt.show()\n",
    "    del model"
   ]
  },
  {
   "cell_type": "code",
   "execution_count": 36,
   "metadata": {},
   "outputs": [
    {
     "name": "stdout",
     "output_type": "stream",
     "text": [
      "x mean : 50.75\n",
      "y mean : 50.501549999999995\n",
      "[[0.40415566]]\n",
      "[29.99065031]\n",
      "[[0.85064475]]\n",
      "0.0\n"
     ]
    },
    {
     "data": {
      "image/png": "[encoded data removed]",
      "text/plain": [
       "<Figure size 432x288 with 1 Axes>"
      ]
     },
     "metadata": {
      "needs_background": "light"
     },
     "output_type": "display_data"
    }
   ],
   "source": [
    "bias_model_test(x0, y0)"
   ]
  },
  {
   "cell_type": "markdown",
   "metadata": {},
   "source": [
    "バイアスがある場合は、分布の重心（平均）を通る。\n",
    "\n",
    "$$\n",
    "\\begin{align}\n",
    "  y &= \\theta_0 + \\theta_1x_1 \\\\\n",
    "  \\theta_1 &= \\frac{S_{xy}}{S_x^2} \\\\\n",
    "  \\theta_0 &= y -\\theta_1x_1\n",
    "\\end{align}\n",
    "$$"
   ]
  },
  {
   "cell_type": "code",
   "execution_count": 37,
   "metadata": {},
   "outputs": [],
   "source": [
    "# 説明変数を標準化\n",
    "sc = StandardScaler()\n",
    "sc.fit(x0[:, np.newaxis])\n",
    "x_std = sc.transform(x0[:, np.newaxis])"
   ]
  },
  {
   "cell_type": "code",
   "execution_count": 38,
   "metadata": {},
   "outputs": [
    {
     "name": "stdout",
     "output_type": "stream",
     "text": [
      "x mean : 0.0\n",
      "y mean : 50.501549999999995\n",
      "[[11.66682308]]\n",
      "[50.50155]\n",
      "[[11.66682308]]\n",
      "0.0\n"
     ]
    },
    {
     "data": {
      "image/png": "[encoded data removed]",
      "text/plain": [
       "<Figure size 432x288 with 1 Axes>"
      ]
     },
     "metadata": {
      "needs_background": "light"
     },
     "output_type": "display_data"
    }
   ],
   "source": [
    "bias_model_test(np.squeeze(x_std), y0)"
   ]
  },
  {
   "cell_type": "markdown",
   "metadata": {},
   "source": [
    "### 【考察②】\n",
    "Xを標準化した場合、$S_x^2 = 1$ となる。また、$S_{xy}$ はバイアス項($\\theta_0$)の有無に関わらず同じ値となる。\n",
    "\n",
    "そのため、Xを標準化した場合の傾きは、バイアスの有無の両方において\n",
    "$$\n",
    "  \\theta_1 = \\frac{S_{xy}}{S_x^2} = \\frac{S_{xy}}{1}\n",
    "$$\n",
    "\n",
    "となり、バイアス無しの回帰直線は「原点を通る、バイアス有りと同じ傾き」の直線となる。\n",
    "\n",
    "つまり、最初に示した学習曲線の右側のグラフで、訓練データと検証データの損失間に大きな差があったのは、このバイアス分の差と考えられる。"
   ]
  },
  {
   "cell_type": "code",
   "execution_count": 39,
   "metadata": {},
   "outputs": [],
   "source": [
    "# 目的変数も標準化\n",
    "sc = StandardScaler()\n",
    "sc.fit(y0[:,np.newaxis])\n",
    "y_std = sc.transform(y0[:,np.newaxis])"
   ]
  },
  {
   "cell_type": "code",
   "execution_count": 40,
   "metadata": {},
   "outputs": [
    {
     "name": "stdout",
     "output_type": "stream",
     "text": [
      "x mean : 0.0\n",
      "y mean : 4.973799150320702e-16\n",
      "[[0.97101483]]\n",
      "[4.97379915e-16]\n",
      "[[0.97101483]]\n",
      "0.0\n"
     ]
    },
    {
     "data": {
      "image/png": "[encoded data removed]",
      "text/plain": [
       "<Figure size 432x288 with 1 Axes>"
      ]
     },
     "metadata": {
      "needs_background": "light"
     },
     "output_type": "display_data"
    }
   ],
   "source": [
    "bias_model_test(np.squeeze(x_std), np.squeeze(y_std))"
   ]
  },
  {
   "cell_type": "markdown",
   "metadata": {},
   "source": [
    "### 【考察③】\n",
    "yを標準化すると、yの分布も平均0・分散1となるため、バイアス有無の回帰直線は共に原点(0,0)を通る。\n",
    "\n",
    "考察②より傾きが等しくなることは説明ずみのため、\n",
    "\n",
    "x,yをともに標準化すると、バイアス有無の回帰直線は等しくなる。"
   ]
  },
  {
   "cell_type": "markdown",
   "metadata": {
    "colab_type": "text",
    "id": "JAi_Jnb6eW3d"
   },
   "source": [
    "## 【問題9】（アドバンス課題）特徴量の多次元化\n",
    "特徴量の二乗や三乗を入力に利用すると学習結果がどう変化するか検証してください。"
   ]
  },
  {
   "cell_type": "markdown",
   "metadata": {},
   "source": [
    "### 【考察】\n",
    "特徴量の値を2乗・3条と大きくすることで、目的変数yとの誤差が大きくなるため、その誤差関数の勾配（損失関数の微分の値）も大きくなる。\n",
    "\n",
    "そのため、学習率を大きく下げないと勾配を下りすぎてしまい正常に計算できず、最小で収束せず発散してしまう。\n",
    "\n",
    "説明変数の事前のスケーリング処理が重要になる。"
   ]
  },
  {
   "cell_type": "markdown",
   "metadata": {
    "colab_type": "text",
    "id": "owhSSb3kS4c3"
   },
   "source": [
    "### 特徴量の二乗"
   ]
  },
  {
   "cell_type": "code",
   "execution_count": 41,
   "metadata": {
    "colab": {},
    "colab_type": "code",
    "id": "StBzs6ncTImO"
   },
   "outputs": [],
   "source": [
    "# 特徴量の値を二乗する\n",
    "X_train2, X_test2 = [i**2 for i in [X_train, X_test]]"
   ]
  },
  {
   "cell_type": "code",
   "execution_count": 42,
   "metadata": {
    "colab": {},
    "colab_type": "code",
    "id": "RLYWUFP4TJGR"
   },
   "outputs": [
    {
     "name": "stdout",
     "output_type": "stream",
     "text": [
      "[INFO] no_bias=False\n",
      "[INFO] loop count = 0\n",
      "[INFO] update_w\n",
      " [0.15631481 0.10732516 0.84653068]\n",
      "[INFO] loop count = 200000\n",
      "[INFO] update_w\n",
      " [0.15631465 0.1073176  0.1528679 ]\n",
      "[INFO] loop count = 0\n",
      "[INFO] update_w\n",
      " [-0.24395805 -1.02476956]\n",
      "[INFO] loop count = 200000\n",
      "[INFO] update_w\n",
      " [-0.243947   -0.07889313]\n"
     ]
    }
   ],
   "source": [
    "num_iter = 200000\n",
    "slr92 = ScratchLinearRegression(num_iter=num_iter+1, lr=1e-18, no_bias=False, verbose=True, verbose_filter=num_iter)\n",
    "slr92.fit(X_train2, y_train, X_test2, y_test)\n",
    "\n",
    "slr92_no = ScratchLinearRegression(num_iter=num_iter+1, lr=1e-18, no_bias=True, verbose=True, verbose_filter=num_iter)\n",
    "slr92_no.fit(X_train2, y_train, X_test2, y_test)"
   ]
  },
  {
   "cell_type": "code",
   "execution_count": 43,
   "metadata": {},
   "outputs": [
    {
     "data": {
      "image/png": "[encoded data removed]",
      "text/plain": [
       "<Figure size 1008x360 with 2 Axes>"
      ]
     },
     "metadata": {
      "needs_background": "light"
     },
     "output_type": "display_data"
    }
   ],
   "source": [
    "loss_plot(slr92.loss, slr92.val_loss, slr92_no.loss, slr92_no.val_loss)"
   ]
  },
  {
   "cell_type": "markdown",
   "metadata": {
    "colab_type": "text",
    "id": "zzoiYFaVS6V_"
   },
   "source": [
    "### 特徴量の三乗"
   ]
  },
  {
   "cell_type": "code",
   "execution_count": 44,
   "metadata": {
    "colab": {},
    "colab_type": "code",
    "id": "cn_oUYPshzXm"
   },
   "outputs": [],
   "source": [
    "# 特徴量の値を二乗する\n",
    "X_train3, X_test3 = [i**3 for i in [X_train, X_test]]"
   ]
  },
  {
   "cell_type": "code",
   "execution_count": 45,
   "metadata": {
    "colab": {},
    "colab_type": "code",
    "id": "Jr4UqPFchzk9"
   },
   "outputs": [
    {
     "name": "stdout",
     "output_type": "stream",
     "text": [
      "[INFO] no_bias=False\n",
      "[INFO] loop count = 0\n",
      "[INFO] update_w\n",
      " [ 0.78732967 -0.90686597 -0.39865398]\n",
      "[INFO] loop count = 10000\n",
      "[INFO] update_w\n",
      " [ 7.87329674e-01 -9.06865957e-01 -4.11106747e-04]\n",
      "[INFO] loop count = 0\n",
      "[INFO] update_w\n",
      " [-0.58313096 -0.44257734]\n",
      "[INFO] loop count = 10000\n",
      "[INFO] update_w\n",
      " [-5.83130945e-01 -4.58356124e-04]\n"
     ]
    }
   ],
   "source": [
    "num_iter = 10000\n",
    "slr93 = ScratchLinearRegression(num_iter=num_iter+1, lr=1e-23, no_bias=False, verbose=True, verbose_filter=num_iter)\n",
    "slr93.fit(X_train3, y_train, X_test3, y_test)\n",
    "\n",
    "slr93_no = ScratchLinearRegression(num_iter=num_iter+1, lr=1e-23, no_bias=True, verbose=True, verbose_filter=num_iter)\n",
    "slr93_no.fit(X_train3, y_train, X_test3, y_test)"
   ]
  },
  {
   "cell_type": "code",
   "execution_count": 46,
   "metadata": {
    "colab": {},
    "colab_type": "code",
    "id": "iA1MALI5hz1S"
   },
   "outputs": [
    {
     "data": {
      "image/png": "[encoded data removed]",
      "text/plain": [
       "<Figure size 1008x360 with 2 Axes>"
      ]
     },
     "metadata": {
      "needs_background": "light"
     },
     "output_type": "display_data"
    }
   ],
   "source": [
    "loss_plot(slr93.loss, slr93.val_loss, slr93_no.loss, slr93_no.val_loss)"
   ]
  },
  {
   "cell_type": "markdown",
   "metadata": {
    "colab_type": "text",
    "id": "FRAtggFieWt8"
   },
   "source": [
    "## 【問題10】（アドバンス課題）更新式の導出\n",
    "最急降下法の更新式は以下でした。この式が導出される過程を説明してください。\n",
    "\n",
    "$$\n",
    "\\begin{align}\n",
    "  \\theta_j :&= \n",
    "  \\theta_j - \\alpha\\frac{1}{m}\\sum_{i=1}^{m}\\{(h_\\theta(x^{(i)}) - y^{(i)})*x_j^{(i)}\\}\n",
    "\\end{align}\n",
    "$$\n",
    "\n",
    "\n",
    "以下の式から説明をはじめることができます。\n",
    "\n",
    "$$\n",
    "\\begin{align}\n",
    "  \\theta_j :&= \n",
    "  \\theta_j - \\alpha\\frac{\\partial}{\\partial{\\theta_j}}J_{(\\theta)} \\\\\n",
    "\\end{align}\n",
    "$$\n",
    "\n",
    "目的関数（損失関数） $J(\\theta)$ は次の式です。\n",
    "\n",
    "$$\n",
    "\\begin{equation*}\n",
    "  J_{(\\theta)} = \n",
    "  \\frac{1}{2m}\\sum_{i=1}^{m}(h_\\theta(x^{(i)}) - y^{(i)})^2\n",
    "\\end{equation*}\n",
    "$$"
   ]
  },
  {
   "cell_type": "markdown",
   "metadata": {
    "colab_type": "text",
    "id": "NKZZkAQE9z_6"
   },
   "source": [
    "### 【解答】\n",
    "\n",
    "$$\n",
    "\\begin{equation*}\n",
    "  J_{(\\theta)} = \n",
    "  \\frac{1}{2m}\\sum_{i=1}^{m}(h_\\theta(x^{(i)}) - y^{(i)})^2\n",
    "\\end{equation*}\n",
    "$$\n",
    "\n",
    "上記$J_{(\\theta)}$を下記のように$\\theta_j$で偏微分を行う。\n",
    "\n",
    "$$\n",
    "\\begin{equation*}\n",
    "  \\frac{\\partial}{\\partial{\\theta_j}}J_{(\\theta)}\n",
    "\\end{equation*}\n",
    "$$\n",
    "\n",
    "<br>\n",
    "ここで、$h_\\theta(x^{(i)}) - y^{(i)}$を下記のように置く。\n",
    "\n",
    "$$\n",
    "  \\begin{align}\n",
    "  h_\\theta(x^{(i)}) - y^{(i)} \n",
    "  &= u_{(\\theta)}\\\\\n",
    "  \\end{align}\n",
    "$$\n",
    "\n",
    "<br>\n",
    "すると、$J_{(\\theta)}$は下記と置ける。\n",
    "\n",
    "$$\n",
    "\\begin{align}\n",
    "  J_{(\\theta)}\n",
    "  &= \\frac{1}{2m}\\sum_{i=1}^{m}(h_0(x^{(i)}) - y^{(i)})^2 \\\\\n",
    "  &= \\frac{1}{2m}\\sum_{i=1}^{m}u_{(\\theta)}^2\n",
    "\\end{align}\n",
    "$$\n",
    "\n",
    "<br>\n",
    "ここで、合成関数の微分のチェーンルールより、求める偏微分計算は下記となる。\n",
    "$$\n",
    "\\begin{equation*}\n",
    "  \\frac{\\partial{J_{(\\theta)}}}{\\partial{\\theta_j}}\n",
    "  = \\frac{\\partial{J_{(\\theta)}}}{\\partial{u_{(\\theta)}}}\n",
    "  * \\frac{\\partial{u_{(\\theta)}}}{\\partial{\\theta_j}}\n",
    "\\end{equation*}\n",
    "$$\n",
    "\n",
    "<br>\n",
    "なお、今回$h_0(x^{(i)})$は下記として、$J_{(\\theta_0, \\theta_1, \\theta_2)}$ で考える。\n",
    "\n",
    "$$\n",
    "  \\begin{align}\n",
    "  h_\\theta(x^{(i)})\n",
    "  &= \\theta_0 + \\theta_1x_1^{(i)} + \\theta_2x_2^{(i)} \\\\\n",
    "  \\end{align}\n",
    "$$\n",
    "\n",
    "<br>\n",
    "$\\frac{\\partial{J_{(\\theta_0, \\theta_1, \\theta_2)}}}\n",
    " {\\partial{u_{(\\theta_0, \\theta_1, \\theta_2)}}}$ は下記と計算できる。\n",
    "\n",
    "$$\n",
    "\\begin{align}\n",
    "  \\frac{\\partial{J_{(\\theta_0, \\theta_1, \\theta_2)}}}\n",
    "  　　　{\\partial{u_{(\\theta_0, \\theta_1, \\theta_2)}}}\n",
    "  &= \\frac{\\partial}{\\partial{u_{(\\theta_0, \\theta_1, \\theta_2)}}}\n",
    "     \\frac{1}{2m}\\sum_{i=1}^{m}u_{(\\theta_0, \\theta_1, \\theta_2)}^2 \\\\\n",
    "  &= \\frac{1}{m}\\sum_{i=1}^{m}u_{(\\theta_0, \\theta_1, \\theta_2)}\n",
    "\\end{align}\n",
    "$$\n",
    "\n",
    "\n",
    "\n"
   ]
  },
  {
   "cell_type": "markdown",
   "metadata": {
    "colab_type": "text",
    "id": "WTtAtMRmBtp6"
   },
   "source": [
    "■$j=0$のとき\n",
    "$$\n",
    "\\begin{align}\n",
    "  \\frac{\\partial{u_{(\\theta_0, \\theta_1, \\theta_2)}}}{\\partial{\\theta_0}}\n",
    "  &= \\frac{\\partial}{\\partial{\\theta_0}}\n",
    "     \\theta_0 + \\theta_1x_1^{(i)} + \\theta_2x_2^{(i)} - y^{(i)} \\\\\n",
    "  &= 1\n",
    "\\end{align}\n",
    "$$\n",
    "となり、\n",
    "$$\n",
    "\\begin{align}\n",
    "  \\frac{\\partial{J_{(\\theta_0, \\theta_1, \\theta_2)}}}{\\partial{\\theta_0}}\n",
    "  &= \\frac{1}{m}\\sum_{i=1}^{m}\\{u_{(\\theta_0, \\theta_1, \\theta_2)} * 1\\} \\\\\n",
    "  &= \\frac{1}{m}\\sum_{i=1}^{m}\\{\\theta_0 + \\theta_1x_1^{(i)} + \\theta_2x_2^{(i)} - y^{(i)}\\}\n",
    "\\end{align}\n",
    "$$\n",
    "となる。\n"
   ]
  },
  {
   "cell_type": "markdown",
   "metadata": {
    "colab_type": "text",
    "id": "KN-__gbYBzbL"
   },
   "source": [
    "■$j=1$のとき\n",
    "$$\n",
    "\\begin{align}\n",
    "  \\frac{\\partial{u_{(\\theta_0, \\theta_1, \\theta_2)}}}{\\partial{\\theta_1}}\n",
    "  &= \\frac{\\partial}{\\partial{\\theta_1}}\n",
    "     \\theta_0 + \\theta_1x_1^{(i)} + \\theta_2x_2^{(i)} - y^{(i)} \\\\\n",
    "  &= x_1^{(i)}\n",
    "\\end{align}\n",
    "$$\n",
    "となり、\n",
    "$$\n",
    "\\begin{align}\n",
    "  \\frac{\\partial{J_{(\\theta_0, \\theta_1, \\theta_2)}}}{\\partial{\\theta_1}}\n",
    "  &= \\frac{1}{m}\\sum_{i=1}^{m}\\{u_{(\\theta_0, \\theta_1, \\theta_2)} * x_1^{(i)}\\} \\\\\n",
    "  &= \\frac{1}{m}\\sum_{i=1}^{m}\\{(\\theta_0 + \\theta_1x_1^{(i)} + \\theta_2x_2^{(i)} - y^{(i)})*x_1^{(i)}\\}\n",
    "\\end{align}\n",
    "$$\n",
    "となる。"
   ]
  },
  {
   "cell_type": "markdown",
   "metadata": {
    "colab_type": "text",
    "id": "JT2cQBIKBzlQ"
   },
   "source": [
    "■$j=2$のとき\n",
    "$$\n",
    "\\begin{align}\n",
    "  \\frac{\\partial{u_{(\\theta_0, \\theta_1, \\theta_2)}}}{\\partial{\\theta_2}}\n",
    "  &= \\frac{\\partial}{\\partial{\\theta_2}}\n",
    "     \\theta_0 + \\theta_1x_1^{(i)} + \\theta_2x_2^{(i)} - y^{(i)} \\\\\n",
    "  &= x_2^{(i)}\\\n",
    "\\end{align}\n",
    "$$\n",
    "となり、\n",
    "$$\n",
    "\\begin{align}\n",
    "  \\frac{\\partial{J_{(\\theta_0, \\theta_1, \\theta_2)}}}{\\partial{\\theta_2}}\n",
    "  &= \\frac{1}{m}\\sum_{i=1}^{m}\\{u_{(\\theta_0, \\theta_1, \\theta_2)} * x_2^{(i)}\\} \\\\\n",
    "  &= \\frac{1}{m}\\sum_{i=1}^{m}\\{(\\theta_0 + \\theta_1x_1^{(i)} + \\theta_2x_2^{(i)} - y^{(i)})*x_2^{(i)}\\}\n",
    "\\end{align}\n",
    "$$\n",
    "となる。"
   ]
  },
  {
   "cell_type": "markdown",
   "metadata": {
    "colab_type": "text",
    "id": "9EyAROt4B09V"
   },
   "source": [
    "よって、$h_\\theta(x^{(i)}) - y^{(i)} = u_\\theta$とおいていたため、また$x_0=1$のため下記となる。\n",
    "\n",
    "$$\n",
    "\\begin{align}\n",
    "  \\frac{\\partial{J_{(\\theta_0, \\theta_1, \\theta_2)}}}{\\partial{\\theta_j}}\n",
    "  &= \\frac{1}{m}\\sum_{i=1}^{m}\\{u_{(\\theta_0, \\theta_1, \\theta_2)} * x_j^{(i)}\\} \\\\\n",
    "  &= \\frac{1}{m}\\sum_{i=1}^{m}\\{(h_\\theta(x^{(i)}) - y^{(i)})*x_j^{(i)}\\}\n",
    "\\end{align}\n",
    "$$\n",
    "\n",
    "なお、上記は$j>2$においても同様の計算となるため、下記となる。\n",
    "$$\n",
    "\\begin{align}\n",
    "  \\frac{\\partial{J_{\\theta}}}{\\partial{\\theta_j}}\n",
    "&= \\frac{1}{m}\\sum_{i=1}^{m}\\{(h_\\theta(x^{(i)}) - y^{(i)})*x_j^{(i)}\\}\n",
    "\\end{align}\n",
    "$$\n",
    "\n",
    "以上より、パラメータ$\\theta$の更新式は\n",
    "$$\n",
    "\\begin{align}\n",
    "  \\theta_j :&= \n",
    "  \\theta_j - \\alpha\\frac{\\partial}{\\partial{\\theta_j}}J_{(\\theta)} \\\\\n",
    "  &= \\theta_j - \\alpha\\frac{1}{m}\\sum_{i=1}^{m}\\{(h_\\theta(x^{(i)}) - y^{(i)})*x_j^{(i)}\\}\n",
    "\\end{align}\n",
    "$$\n",
    "となる。\n"
   ]
  },
  {
   "cell_type": "markdown",
   "metadata": {
    "colab_type": "text",
    "id": "NlGB7tDXgIae"
   },
   "source": [
    "## 【問題11】（アドバンス課題）局所最適解の問題\n",
    "最急降下法には一般的に局所最適解の問題があります。しかし、線形回帰では学習を続ければ必ず最適解を求めることができます。それはなぜか数式やグラフを用いて説明してください。\n",
    "\n"
   ]
  },
  {
   "cell_type": "markdown",
   "metadata": {
    "colab_type": "text",
    "id": "mRCX72KDKtYh"
   },
   "source": [
    "### 【解答】\n",
    "下図の2つのグラフにおいて、左側は線形回帰、右側は非線形回帰となる。\n",
    "\n",
    "つまり、パラメータが線形であれば必ず大域解に到達できる。\n",
    "\n",
    "<br>\n",
    "<a href=\"https://teratail.com/questions/171186\" style=\"text-decoration:none\">\n",
    "    参考URL\n",
    "</a>"
   ]
  },
  {
   "cell_type": "code",
   "execution_count": 47,
   "metadata": {
    "colab": {
     "base_uri": "https://localhost:8080/",
     "height": 466
    },
    "colab_type": "code",
    "executionInfo": {
     "elapsed": 2106,
     "status": "ok",
     "timestamp": 1596974395137,
     "user": {
      "displayName": "yoshimasa obata",
      "photoUrl": "",
      "userId": "05376502897348058331"
     },
     "user_tz": -540
    },
    "id": "BmsZ-FDZeJNW",
    "outputId": "b03a2525-8bf9-4180-ead5-42c062f5866f"
   },
   "outputs": [
    {
     "data": {
      "image/png": "[encoded data removed]",
      "text/plain": [
       "<Figure size 1152x576 with 2 Axes>"
      ]
     },
     "metadata": {
      "needs_background": "light"
     },
     "output_type": "display_data"
    }
   ],
   "source": [
    "import matplotlib.pyplot as plt\n",
    "import numpy as np\n",
    "from matplotlib.patches import FancyArrowPatch\n",
    "from mpl_toolkits.mplot3d import Axes3D, proj3d\n",
    "\n",
    "xs = np.array([2.8, 2.9, 3.0, 3.1, 3.2, 3.2, 3.2, 3.3, 3.4])\n",
    "ys = np.array([30, 26, 33, 31, 33, 35, 37, 36, 33])\n",
    "\n",
    "# 近似関数 a1 x^4 + a2 x^2\n",
    "def f1(a1, a2):\n",
    "    return a1 * xs**4 + a2 * xs ** 2\n",
    "\n",
    "# 近似関数 sin(a1) x^4 + a2 x^2\n",
    "def f2(a1, a2):\n",
    "    return np.sin(a1) * xs**4 + a2 * xs ** 2\n",
    "\n",
    "# 2乗誤差関数\n",
    "def loss(a1, a2, f):\n",
    "    return ((ys - f(a1, a2)) ** 2).sum()\n",
    "\n",
    "# 各点での関数 loss の値を計算する。\n",
    "A1, A2 = np.mgrid[-10:11, -10:11]\n",
    "L1 = np.array([loss(a1, a2, f1) for a1, a2 in zip(A1.ravel(), A2.ravel())])\n",
    "L2 = np.array([loss(a1, a2, f2) for a1, a2 in zip(A1.ravel(), A2.ravel())])\n",
    "L1, L2 = L1.reshape(A1.shape), L2.reshape(A1.shape)\n",
    "\n",
    "fig = plt.figure(figsize=(16, 8))\n",
    "ax1 = fig.add_subplot(121, projection='3d')\n",
    "ax2 = fig.add_subplot(122, projection='3d')\n",
    "# 各軸のラベルを設定する。\n",
    "ax1.set_xlabel('$X_1$', fontsize=15)\n",
    "ax1.set_ylabel('$X_2$', fontsize=15)\n",
    "ax1.set_zlabel('$loss$', fontsize=15)\n",
    "ax2.set_xlabel('$X_1$', fontsize=15)\n",
    "ax2.set_ylabel('$X_2$', fontsize=15)\n",
    "ax2.set_zlabel('$loss$', fontsize=15)\n",
    "\n",
    "# グラフを作成する。\n",
    "ax1.plot_surface(A1, A2, L1, alpha=0.4, antialiased=False)\n",
    "ax1.view_init(elev=50, azim=120)\n",
    "ax2.plot_surface(A1, A2, L2, alpha=0.4, antialiased=False)\n",
    "ax2.view_init(elev=50, azim=120)"
   ]
  }
 ],
 "metadata": {
  "accelerator": "TPU",
  "colab": {
   "collapsed_sections": [],
   "machine_shape": "hm",
   "name": "Sprint03-01_kadai01_sub.ipynb",
   "provenance": [],
   "toc_visible": true
  },
  "kernelspec": {
   "display_name": "Python 3",
   "language": "python",
   "name": "python3"
  },
  "language_info": {
   "codemirror_mode": {
    "name": "ipython",
    "version": 3
   },
   "file_extension": ".py",
   "mimetype": "text/x-python",
   "name": "python",
   "nbconvert_exporter": "python",
   "pygments_lexer": "ipython3",
   "version": "3.8.3"
  }
 },
 "nbformat": 4,
 "nbformat_minor": 1
}
