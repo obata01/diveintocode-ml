{
 "cells": [
  {
   "cell_type": "markdown",
   "metadata": {},
   "source": [
    "# Week4授業前課題1 アヤメの分類"
   ]
  },
  {
   "cell_type": "markdown",
   "metadata": {},
   "source": [
    "## 1.このテキストについて\n",
    "\n",
    "テキストの目的\n",
    "- 教師あり学習（分類問題）の概観を知る\n",
    "- scikit-laernを使い分類を行えるようにする\n",
    "- 手法の簡単な比較をする\n",
    "\n",
    "どのように学ぶか\n",
    "定番のデータセットを通じて、分類問題を解く流れやライブラリの使い方を学びます。"
   ]
  },
  {
   "cell_type": "markdown",
   "metadata": {},
   "source": [
    "## 2.アヤメの分類\n",
    "\n",
    "Week3で使用したirisデータセットを使い、分類問題を解く練習をします。\n",
    "\n",
    "irisデータセットはカナダのガスペ半島のある牧草地で同じ日に採取された以下の3種類のアヤメ、合計150本のデータでした。\n",
    "\n",
    "- Iris setosa - Wikipedia\n",
    "- Iris virgicolor - Wikipedia\n",
    "- Iris virginica - Wikipedia\n",
    "\n",
    "4種類の特徴量（説明変数）からアヤメの種類を推測する問題が設定できます。アヤメの種類を 分類 するので、こういったものを分類問題と呼びます。"
   ]
  },
  {
   "cell_type": "markdown",
   "metadata": {},
   "source": [
    "今回使う手法の一覧\n",
    "scikit-laernを使い以下の手法で学習と推定を行っていきます。それぞれの手法についての詳細は今の段階では扱いません。ライブラリを使えばどれも気軽に利用できることや、手法毎の結果に違いがあることを簡単に見ていきます。\n",
    "\n",
    "- 最近傍法\n",
    "- ロジスティック回帰\n",
    "- SVM\n",
    "- 決定木\n",
    "- ランダムフォレスト"
   ]
  },
  {
   "cell_type": "markdown",
   "metadata": {},
   "source": [
    "## 3.分類問題の流れ\n",
    "\n",
    "まず、最近傍法を例に分類問題を解く基本的な流れを紹介します。課題の後半ではこれを参考に他の手法にも適用してもらいます。\n",
    "\n",
    "この流れについては後々より深く学び、実践していきます。今回の課題では大まかな流れの把握を行ってください。"
   ]
  },
  {
   "cell_type": "markdown",
   "metadata": {},
   "source": [
    "### 練習のための準備\n",
    "\n",
    "練習する上で結果の可視化を行いたいため、特徴量は4つの中で2つだけを使うことにします。こうすることで2次元の散布図を描き確認することができます。また、問題を単純化するためアヤメの種類を2つだけ使うことにします。分類対象が2種類の場合を 2値分類 と呼び、それ以上の 多値分類 とは区別をします。それぞれで手法や評価方法が変わります。今回はまずより基本的な2値分類を行います。"
   ]
  },
  {
   "cell_type": "markdown",
   "metadata": {},
   "source": [
    "### 【課題1】練習のために特徴量とカテゴリを選択\n",
    "\n",
    "選び方は合計18通りありますが、以下の組み合わせで練習することにします。irisデータセットをWeek3同様に取得した後、データフレームからこれらを抜き出してください。\n",
    "\n",
    "- virgicolorとvirginica\n",
    "- sepal_lengthとpetal_length\n",
    "\n",
    "《実際の問題では？》\n",
    "\n",
    "実際の問題を解く上でも結果の可視化は有効です。しかし、そのために学習や推定に使う特徴量を2つに絞るのは望ましくありません。そのため学習や推定は多次元で行い、可視化をする際にだけ主成分分析などの特徴抽出手法を適用するといったことが行われます。また、Week3で利用した散布図行列を使い可視化することも可能です。"
   ]
  },
  {
   "cell_type": "code",
   "execution_count": 68,
   "metadata": {},
   "outputs": [],
   "source": [
    "# Numpy\n",
    "import numpy as np\n",
    "\n",
    "# Dataframe operations\n",
    "import pandas as pd\n",
    "\n",
    "# Data visualization\n",
    "import seaborn as sns\n",
    "import matplotlib.pyplot as plt\n",
    "%matplotlib inline\n",
    "\n",
    "# Scalers\n",
    "from sklearn.preprocessing import StandardScaler\n",
    "\n",
    "# Hold-out\n",
    "from sklearn.model_selection import train_test_split\n",
    "\n",
    "# Linear-models\n",
    "from sklearn.linear_model import LogisticRegression\n",
    "from sklearn.linear_model import LinearRegression\n",
    "from sklearn.svm import SVR\n",
    "from sklearn.svm import LinearSVC\n",
    "\n",
    "# Dicision Tree\n",
    "import pydotplus\n",
    "from sklearn.tree import DecisionTreeRegressor\n",
    "from sklearn.tree import DecisionTreeClassifier\n",
    "from sklearn.tree import export_graphviz\n",
    "from sklearn import datasets\n",
    "from IPython.display import Image\n",
    "\n",
    "# Random forest\n",
    "from sklearn.ensemble import RandomForestRegressor\n",
    "from sklearn.ensemble import RandomForestClassifier\n",
    "\n",
    "# KNN\n",
    "from sklearn.neighbors import KNeighborsClassifier\n",
    "\n",
    "# Evaluation\n",
    "from sklearn.metrics import accuracy_score\n",
    "from sklearn.metrics import precision_score\n",
    "from sklearn.metrics import recall_score\n",
    "from sklearn.metrics import f1_score\n",
    "from sklearn.metrics import classification_report\n",
    "from sklearn.metrics import confusion_matrix\n",
    "\n",
    "# iris data-set\n",
    "from sklearn.datasets import load_iris"
   ]
  },
  {
   "cell_type": "code",
   "execution_count": 2,
   "metadata": {},
   "outputs": [
    {
     "data": {
      "text/html": [
       "<div>\n",
       "<style scoped>\n",
       "    .dataframe tbody tr th:only-of-type {\n",
       "        vertical-align: middle;\n",
       "    }\n",
       "\n",
       "    .dataframe tbody tr th {\n",
       "        vertical-align: top;\n",
       "    }\n",
       "\n",
       "    .dataframe thead th {\n",
       "        text-align: right;\n",
       "    }\n",
       "</style>\n",
       "<table border=\"1\" class=\"dataframe\">\n",
       "  <thead>\n",
       "    <tr style=\"text-align: right;\">\n",
       "      <th></th>\n",
       "      <th>sepal_length</th>\n",
       "      <th>petal_length</th>\n",
       "      <th>target</th>\n",
       "    </tr>\n",
       "  </thead>\n",
       "  <tbody>\n",
       "    <tr>\n",
       "      <th>50</th>\n",
       "      <td>7.0</td>\n",
       "      <td>4.7</td>\n",
       "      <td>1</td>\n",
       "    </tr>\n",
       "    <tr>\n",
       "      <th>51</th>\n",
       "      <td>6.4</td>\n",
       "      <td>4.5</td>\n",
       "      <td>1</td>\n",
       "    </tr>\n",
       "    <tr>\n",
       "      <th>52</th>\n",
       "      <td>6.9</td>\n",
       "      <td>4.9</td>\n",
       "      <td>1</td>\n",
       "    </tr>\n",
       "    <tr>\n",
       "      <th>53</th>\n",
       "      <td>5.5</td>\n",
       "      <td>4.0</td>\n",
       "      <td>1</td>\n",
       "    </tr>\n",
       "    <tr>\n",
       "      <th>54</th>\n",
       "      <td>6.5</td>\n",
       "      <td>4.6</td>\n",
       "      <td>1</td>\n",
       "    </tr>\n",
       "  </tbody>\n",
       "</table>\n",
       "</div>"
      ],
      "text/plain": [
       "    sepal_length  petal_length  target\n",
       "50           7.0           4.7       1\n",
       "51           6.4           4.5       1\n",
       "52           6.9           4.9       1\n",
       "53           5.5           4.0       1\n",
       "54           6.5           4.6       1"
      ]
     },
     "execution_count": 2,
     "metadata": {},
     "output_type": "execute_result"
    }
   ],
   "source": [
    "iris_dataset = load_iris()\n",
    "columns_list = ['sepal_length', 'sepal_width', 'petal_length', 'petal_width']\n",
    "df = pd.DataFrame(iris_dataset['data'], columns=columns_list)\n",
    "df['target'] = iris_dataset['target']\n",
    "\n",
    "df2 = df[df['target'] != 0].loc[:, ['sepal_length', 'petal_length', 'target']]\n",
    "df2.head()"
   ]
  },
  {
   "cell_type": "markdown",
   "metadata": {},
   "source": [
    "## 【問題2】データの分析\n",
    "\n",
    "まずはデータの分析を行いますが、これはWeek3の課題1で行いました。その際出力した散布図行列を見ることで、先ほどの18通りそれぞれの散布図も確認できます。sepal_lengthとpetal_lengthを使い、virgicolorとvirginicaを分類するのは少し難しそうな状況であることが分かるはずです。\n",
    "\n",
    "ここでは復習を兼ねて、抜き出したデータの散布図と箱ひげ図（boxplot）、バイオリン図（violinplot）を表示してください。\n",
    "\n",
    "《実際の問題では？》\n",
    "\n",
    "このデータ分析の結果を元に前処理として特徴量エンジニアリングを行っていきます。\n",
    "\n",
    "今回はsepal_lengthとpetal_lengthを抜き出しましたが、分析した上で、問題を少々難しくするための前処理をしたと言えます。"
   ]
  },
  {
   "cell_type": "code",
   "execution_count": 3,
   "metadata": {},
   "outputs": [],
   "source": [
    "# 散布図\n",
    "def scatter_by_yclass(df, x1, x2, y_column):\n",
    "    \n",
    "    class_name = df[y_column].unique()\n",
    "    fig = plt.figure(figsize=(6, 4))\n",
    "    ax = fig.add_subplot(111)\n",
    "    \n",
    "    for i in range(len(class_name)):\n",
    "        df_ = df[df[y_column] == class_name[i]]\n",
    "        ax.scatter(df_[x1], df_[x2], label=class_name[i])\n",
    "    \n",
    "    ax.set_xlabel(x1)\n",
    "    ax.set_ylabel(x2)\n",
    "    \n",
    "    plt.legend(loc='best')\n",
    "    plt.grid(True, alpha=.5)\n",
    "    plt.show()\n",
    "    \n",
    "# 箱ひげ図orバイオリン図\n",
    "def my_boxplot(df, box=True, violin=False):\n",
    "    \n",
    "    data = [df[name] for name in df]\n",
    "    n = len(data)\n",
    "\n",
    "    fig = plt.figure(figsize=(6, 4))\n",
    "    ax = fig.add_subplot(111)\n",
    "    \n",
    "    if box:\n",
    "        ax.boxplot(data)\n",
    "    if violin:\n",
    "        ax.violinplot(data)\n",
    "    \n",
    "    ax.set_xticks(list(range(1, n+1)))\n",
    "    ax.set_xticklabels(df)\n",
    "    \n",
    "    plt.grid(True, alpha=.5)\n",
    "    plt.show()\n"
   ]
  },
  {
   "cell_type": "code",
   "execution_count": 4,
   "metadata": {},
   "outputs": [
    {
     "data": {
      "image/png": "[encoded data removed]",
      "text/plain": [
       "<Figure size 432x288 with 1 Axes>"
      ]
     },
     "metadata": {
      "needs_background": "light"
     },
     "output_type": "display_data"
    }
   ],
   "source": [
    "scatter_by_yclass(df2, 'sepal_length', 'petal_length', 'target')"
   ]
  },
  {
   "cell_type": "code",
   "execution_count": 5,
   "metadata": {},
   "outputs": [
    {
     "data": {
      "image/png": "[encoded data removed]",
      "text/plain": [
       "<Figure size 432x288 with 1 Axes>"
      ]
     },
     "metadata": {
      "needs_background": "light"
     },
     "output_type": "display_data"
    }
   ],
   "source": [
    "my_boxplot(df2.drop('target', axis=1))"
   ]
  },
  {
   "cell_type": "code",
   "execution_count": 6,
   "metadata": {},
   "outputs": [
    {
     "data": {
      "image/png": "[encoded data removed]",
      "text/plain": [
       "<Figure size 432x288 with 1 Axes>"
      ]
     },
     "metadata": {
      "needs_background": "light"
     },
     "output_type": "display_data"
    }
   ],
   "source": [
    "my_boxplot(df2.drop('target', axis=1), box=False, violin=True)"
   ]
  },
  {
   "cell_type": "markdown",
   "metadata": {},
   "source": [
    "### 前処理\n",
    "\n",
    "データに加工をしていきます。"
   ]
  },
  {
   "cell_type": "markdown",
   "metadata": {},
   "source": [
    "## 【問題3】前処理・訓練データと検証データの分割\n",
    "前処理の一貫として、訓練データと検証データの分割を行います。今回は訓練データ75%、検証データ25%として分割してください。\n",
    "\n",
    "scikit-learnのtrain_test_splitが利用できます。公式ドキュメントのExamplesを参考に動かしてください。\n",
    "\n",
    "sklearn.model_selection.train_test_split — scikit-learn 0.21.3 documentation\n",
    "\n",
    "《注意点》\n",
    "\n",
    "データの分析まではPandasのDataFrameを使用してきました。しかし、scikit-learnはNumPyのndarrayを想定して作られています。そのため、この段階でndarrayへの変換を行いましょう。特徴量（説明変数）をX、正解（目的変数）をyというndarrayに格納します。\n",
    "\n",
    "《分割する理由》\n",
    "\n",
    "分類問題の目的は未知のデータを正しく分類することです。その目的が達成できているかを確認するため、実際には答えの分かっているデータの一部を学習には使わず残しておきます。この学習に使用していないデータで推定を行い、そこから求めた指標値によって検証します。学習に使うデータを訓練データ、検証に使うデータが検証データで、一般的に7対3から8対2程度の割合にします。"
   ]
  },
  {
   "cell_type": "code",
   "execution_count": 7,
   "metadata": {},
   "outputs": [],
   "source": [
    "X = df2.loc[:, ['sepal_length', 'petal_length']]\n",
    "y = df2.loc[:, 'target']\n",
    "X_train, X_test, y_train, y_test = train_test_split(X, y, test_size=0.25, random_state=0)"
   ]
  },
  {
   "cell_type": "code",
   "execution_count": 8,
   "metadata": {},
   "outputs": [
    {
     "data": {
      "text/plain": [
       "(75, 2)"
      ]
     },
     "execution_count": 8,
     "metadata": {},
     "output_type": "execute_result"
    }
   ],
   "source": [
    "X_train.shape"
   ]
  },
  {
   "cell_type": "code",
   "execution_count": 9,
   "metadata": {},
   "outputs": [
    {
     "data": {
      "text/plain": [
       "(25, 2)"
      ]
     },
     "execution_count": 9,
     "metadata": {},
     "output_type": "execute_result"
    }
   ],
   "source": [
    "X_test.shape"
   ]
  },
  {
   "cell_type": "code",
   "execution_count": 10,
   "metadata": {},
   "outputs": [
    {
     "data": {
      "text/plain": [
       "(75,)"
      ]
     },
     "execution_count": 10,
     "metadata": {},
     "output_type": "execute_result"
    }
   ],
   "source": [
    "y_train.shape"
   ]
  },
  {
   "cell_type": "code",
   "execution_count": 11,
   "metadata": {},
   "outputs": [
    {
     "data": {
      "text/plain": [
       "(25,)"
      ]
     },
     "execution_count": 11,
     "metadata": {},
     "output_type": "execute_result"
    }
   ],
   "source": [
    "y_test.shape"
   ]
  },
  {
   "cell_type": "code",
   "execution_count": 12,
   "metadata": {},
   "outputs": [
    {
     "data": {
      "text/html": [
       "<div>\n",
       "<style scoped>\n",
       "    .dataframe tbody tr th:only-of-type {\n",
       "        vertical-align: middle;\n",
       "    }\n",
       "\n",
       "    .dataframe tbody tr th {\n",
       "        vertical-align: top;\n",
       "    }\n",
       "\n",
       "    .dataframe thead th {\n",
       "        text-align: right;\n",
       "    }\n",
       "</style>\n",
       "<table border=\"1\" class=\"dataframe\">\n",
       "  <thead>\n",
       "    <tr style=\"text-align: right;\">\n",
       "      <th></th>\n",
       "      <th>sepal_length</th>\n",
       "      <th>petal_length</th>\n",
       "    </tr>\n",
       "  </thead>\n",
       "  <tbody>\n",
       "    <tr>\n",
       "      <th>98</th>\n",
       "      <td>5.1</td>\n",
       "      <td>3.0</td>\n",
       "    </tr>\n",
       "    <tr>\n",
       "      <th>56</th>\n",
       "      <td>6.3</td>\n",
       "      <td>4.7</td>\n",
       "    </tr>\n",
       "    <tr>\n",
       "      <th>149</th>\n",
       "      <td>5.9</td>\n",
       "      <td>5.1</td>\n",
       "    </tr>\n",
       "    <tr>\n",
       "      <th>132</th>\n",
       "      <td>6.4</td>\n",
       "      <td>5.6</td>\n",
       "    </tr>\n",
       "    <tr>\n",
       "      <th>126</th>\n",
       "      <td>6.2</td>\n",
       "      <td>4.8</td>\n",
       "    </tr>\n",
       "  </tbody>\n",
       "</table>\n",
       "</div>"
      ],
      "text/plain": [
       "     sepal_length  petal_length\n",
       "98            5.1           3.0\n",
       "56            6.3           4.7\n",
       "149           5.9           5.1\n",
       "132           6.4           5.6\n",
       "126           6.2           4.8"
      ]
     },
     "execution_count": 12,
     "metadata": {},
     "output_type": "execute_result"
    }
   ],
   "source": [
    "X_train.head()"
   ]
  },
  {
   "cell_type": "code",
   "execution_count": 13,
   "metadata": {},
   "outputs": [
    {
     "data": {
      "text/html": [
       "<div>\n",
       "<style scoped>\n",
       "    .dataframe tbody tr th:only-of-type {\n",
       "        vertical-align: middle;\n",
       "    }\n",
       "\n",
       "    .dataframe tbody tr th {\n",
       "        vertical-align: top;\n",
       "    }\n",
       "\n",
       "    .dataframe thead th {\n",
       "        text-align: right;\n",
       "    }\n",
       "</style>\n",
       "<table border=\"1\" class=\"dataframe\">\n",
       "  <thead>\n",
       "    <tr style=\"text-align: right;\">\n",
       "      <th></th>\n",
       "      <th>sepal_length</th>\n",
       "      <th>petal_length</th>\n",
       "    </tr>\n",
       "  </thead>\n",
       "  <tbody>\n",
       "    <tr>\n",
       "      <th>76</th>\n",
       "      <td>6.8</td>\n",
       "      <td>4.8</td>\n",
       "    </tr>\n",
       "    <tr>\n",
       "      <th>136</th>\n",
       "      <td>6.3</td>\n",
       "      <td>5.6</td>\n",
       "    </tr>\n",
       "    <tr>\n",
       "      <th>52</th>\n",
       "      <td>6.9</td>\n",
       "      <td>4.9</td>\n",
       "    </tr>\n",
       "    <tr>\n",
       "      <th>105</th>\n",
       "      <td>7.6</td>\n",
       "      <td>6.6</td>\n",
       "    </tr>\n",
       "    <tr>\n",
       "      <th>125</th>\n",
       "      <td>7.2</td>\n",
       "      <td>6.0</td>\n",
       "    </tr>\n",
       "  </tbody>\n",
       "</table>\n",
       "</div>"
      ],
      "text/plain": [
       "     sepal_length  petal_length\n",
       "76            6.8           4.8\n",
       "136           6.3           5.6\n",
       "52            6.9           4.9\n",
       "105           7.6           6.6\n",
       "125           7.2           6.0"
      ]
     },
     "execution_count": 13,
     "metadata": {},
     "output_type": "execute_result"
    }
   ],
   "source": [
    "X_test.head()"
   ]
  },
  {
   "cell_type": "markdown",
   "metadata": {},
   "source": [
    "## 【問題4】前処理・標準化\n",
    "\n",
    "分類精度をあげるための加工を行います。手法ごとに適切な方法は異なりますが、ここでは一例として 標準化 を行うことにします。\n",
    "\n",
    "標準化を行うライブラリもscikit-learnに用意されています。これを使って標準化してください。\n",
    "\n",
    "sklearn.model_selection.train_test_split — scikit-learn 0.21.3 documentation\n",
    "\n",
    "《注意点》\n",
    "\n",
    "標準化は訓練用のデータでfitを行い、訓練用、検証用双方のデータにtransformを行います。検証データは学習の段階には存在しない未知のデータの代わりなので、標準化のための平均や標準偏差の計算に使ってはいけません。\n",
    "\n",
    "《実際の問題での前処理は？》\n",
    "\n",
    "アヤメのデータセットのように綺麗で扱いやすい状況で提供されることはまずありません。分析を行いながら、様々な加工が必要になってきます。例えばWeek3の課題2で行った欠損値の確認の後、場合により欠損値の補間も行います。外れ値の確認や、複数のデータセットの整理などもあります。"
   ]
  },
  {
   "cell_type": "code",
   "execution_count": 14,
   "metadata": {},
   "outputs": [],
   "source": [
    "scaler = StandardScaler()\n",
    "scaler.fit(X_train)\n",
    "\n",
    "X_train_std = scaler.transform(X_train)\n",
    "X_test_std = scaler.transform(X_test)"
   ]
  },
  {
   "cell_type": "code",
   "execution_count": 15,
   "metadata": {},
   "outputs": [
    {
     "data": {
      "text/plain": [
       "array([[-1.77029021, -2.29778941],\n",
       "       [ 0.03817879, -0.24187257],\n",
       "       [-0.56464421,  0.24187257],\n",
       "       [ 0.18888454,  0.84655399],\n",
       "       [-0.11252696, -0.12093628]])"
      ]
     },
     "execution_count": 15,
     "metadata": {},
     "output_type": "execute_result"
    }
   ],
   "source": [
    "X_train_std[:5,:]"
   ]
  },
  {
   "cell_type": "code",
   "execution_count": 16,
   "metadata": {},
   "outputs": [
    {
     "data": {
      "text/plain": [
       "array([[ 7.91707539e-01, -1.20936285e-01],\n",
       "       [ 3.81787899e-02,  8.46553995e-01],\n",
       "       [ 9.42413289e-01,  2.14825997e-15],\n",
       "       [ 1.99735354e+00,  2.05591684e+00],\n",
       "       [ 1.39453054e+00,  1.33029913e+00]])"
      ]
     },
     "execution_count": 16,
     "metadata": {},
     "output_type": "execute_result"
    }
   ],
   "source": [
    "X_test_std[:5,:]"
   ]
  },
  {
   "cell_type": "markdown",
   "metadata": {},
   "source": [
    "## 【問題5】学習と推定\n",
    "\n",
    "最近傍法（k-nearest neighbors, k-nn）で学習を行います。scikit-learnの公式ドキュメントのExamplesを参考に、k-nnの学習を行ってください。ここで入力するのは訓練データです。\n",
    "\n",
    "sklearn.neighbors.KNeighborsClassifier — scikit-learn 0.21.3 documentation\n",
    "\n",
    "学習が終わった後、検証データをpredictメソッドに入力し、推定を行ってください。\n",
    "\n",
    "パラメータが複数ありますが、今はそれらの理解を重視しません。最も基本的な要素として、n_neighborsの数があるため、これは複数試してみましょう。デフォルトの5、および1と3を最低限行ってください。5の場合を5-nn、3の場合を3-nnのように呼びます。"
   ]
  },
  {
   "cell_type": "markdown",
   "metadata": {},
   "source": [
    "### 5-nn"
   ]
  },
  {
   "cell_type": "code",
   "execution_count": 17,
   "metadata": {},
   "outputs": [
    {
     "data": {
      "text/plain": [
       "KNeighborsClassifier(algorithm='auto', leaf_size=30, metric='minkowski',\n",
       "                     metric_params=None, n_jobs=None, n_neighbors=5, p=2,\n",
       "                     weights='uniform')"
      ]
     },
     "execution_count": 17,
     "metadata": {},
     "output_type": "execute_result"
    }
   ],
   "source": [
    "neigh5 = KNeighborsClassifier()\n",
    "neigh5.fit(X_train_std, y_train)"
   ]
  },
  {
   "cell_type": "code",
   "execution_count": 18,
   "metadata": {},
   "outputs": [
    {
     "data": {
      "text/plain": [
       "0.88"
      ]
     },
     "execution_count": 18,
     "metadata": {},
     "output_type": "execute_result"
    }
   ],
   "source": [
    "y_pred5 = neigh5.predict(X_test_std)\n",
    "y_pred5_train = neigh5.predict(X_train_std)\n",
    "accuracy_score(y_test, y_pred5)"
   ]
  },
  {
   "cell_type": "markdown",
   "metadata": {},
   "source": [
    "### 1-nn"
   ]
  },
  {
   "cell_type": "code",
   "execution_count": 19,
   "metadata": {},
   "outputs": [
    {
     "data": {
      "text/plain": [
       "KNeighborsClassifier(algorithm='auto', leaf_size=30, metric='minkowski',\n",
       "                     metric_params=None, n_jobs=None, n_neighbors=1, p=2,\n",
       "                     weights='uniform')"
      ]
     },
     "execution_count": 19,
     "metadata": {},
     "output_type": "execute_result"
    }
   ],
   "source": [
    "neigh = KNeighborsClassifier(n_neighbors=1)\n",
    "neigh.fit(X_train_std, y_train)"
   ]
  },
  {
   "cell_type": "code",
   "execution_count": 20,
   "metadata": {},
   "outputs": [
    {
     "data": {
      "text/plain": [
       "0.84"
      ]
     },
     "execution_count": 20,
     "metadata": {},
     "output_type": "execute_result"
    }
   ],
   "source": [
    "y_pred = neigh.predict(X_test_std)\n",
    "accuracy_score(y_test, y_pred)"
   ]
  },
  {
   "cell_type": "markdown",
   "metadata": {},
   "source": [
    "### 3-nn"
   ]
  },
  {
   "cell_type": "code",
   "execution_count": 21,
   "metadata": {},
   "outputs": [
    {
     "data": {
      "text/plain": [
       "KNeighborsClassifier(algorithm='auto', leaf_size=30, metric='minkowski',\n",
       "                     metric_params=None, n_jobs=None, n_neighbors=3, p=2,\n",
       "                     weights='uniform')"
      ]
     },
     "execution_count": 21,
     "metadata": {},
     "output_type": "execute_result"
    }
   ],
   "source": [
    "neigh = KNeighborsClassifier(n_neighbors=3)\n",
    "neigh.fit(X_train_std, y_train)"
   ]
  },
  {
   "cell_type": "code",
   "execution_count": 22,
   "metadata": {},
   "outputs": [
    {
     "data": {
      "text/plain": [
       "0.92"
      ]
     },
     "execution_count": 22,
     "metadata": {},
     "output_type": "execute_result"
    }
   ],
   "source": [
    "y_pred = neigh.predict(X_test_std)\n",
    "accuracy_score(y_test, y_pred)"
   ]
  },
  {
   "cell_type": "markdown",
   "metadata": {},
   "source": [
    "### 8-nn"
   ]
  },
  {
   "cell_type": "code",
   "execution_count": 23,
   "metadata": {},
   "outputs": [
    {
     "data": {
      "text/plain": [
       "KNeighborsClassifier(algorithm='auto', leaf_size=30, metric='minkowski',\n",
       "                     metric_params=None, n_jobs=None, n_neighbors=8, p=2,\n",
       "                     weights='uniform')"
      ]
     },
     "execution_count": 23,
     "metadata": {},
     "output_type": "execute_result"
    }
   ],
   "source": [
    "neigh = KNeighborsClassifier(n_neighbors=8)\n",
    "neigh.fit(X_train_std, y_train)"
   ]
  },
  {
   "cell_type": "code",
   "execution_count": 24,
   "metadata": {},
   "outputs": [
    {
     "data": {
      "text/plain": [
       "0.92"
      ]
     },
     "execution_count": 24,
     "metadata": {},
     "output_type": "execute_result"
    }
   ],
   "source": [
    "y_pred = neigh.predict(X_test_std)\n",
    "accuracy_score(y_test, y_pred)"
   ]
  },
  {
   "cell_type": "markdown",
   "metadata": {},
   "source": [
    "## 【問題6】評価\n",
    "検証データの特徴量を入力して得られた推定値と、検証データの正解値の近さを計算し、学習したモデルを評価します。\n",
    "\n",
    "2値分類を評価するための指標値には Accuracy（正解率）、Precision（適合率）、Recall（再現率）、F値 があります。それぞれの意味を理解するには、 混同行列（confusion matrix） を見ることになります。\n",
    "\n",
    "- scikit-learnを使い4種類の指標を計算する\n",
    "- 混同行列をscikit-learnを使い表示する\n",
    "- 4種類の指標値の意味について簡単に調査して文章でまとめる\n",
    "\n",
    "sklearn.metrics.accuracy_score — scikit-learn 0.21.3 documentation\n",
    "\n",
    "sklearn.metrics.precision_score — scikit-learn 0.21.3 documentation\n",
    "\n",
    "sklearn.metrics.recall_score — scikit-learn 0.21.3 documentation\n",
    "\n",
    "sklearn.metrics.f1_score — scikit-learn 0.21.3 documentation\n",
    "\n",
    "sklearn.metrics.confusion_matrix — scikit-learn 0.21.3 documentation"
   ]
  },
  {
   "cell_type": "markdown",
   "metadata": {},
   "source": [
    "### scikit-learnを使い4種類の指標を計算する"
   ]
  },
  {
   "cell_type": "code",
   "execution_count": 25,
   "metadata": {},
   "outputs": [
    {
     "data": {
      "text/plain": [
       "0.88"
      ]
     },
     "execution_count": 25,
     "metadata": {},
     "output_type": "execute_result"
    }
   ],
   "source": [
    "# Accuracy（正解率）\n",
    "accuracy_score(y_test, y_pred5)"
   ]
  },
  {
   "cell_type": "code",
   "execution_count": 26,
   "metadata": {},
   "outputs": [
    {
     "data": {
      "text/plain": [
       "0.8"
      ]
     },
     "execution_count": 26,
     "metadata": {},
     "output_type": "execute_result"
    }
   ],
   "source": [
    "# Precision（適合率）\n",
    "precision_score(y_test, y_pred5, pos_label=2)"
   ]
  },
  {
   "cell_type": "code",
   "execution_count": 27,
   "metadata": {},
   "outputs": [
    {
     "data": {
      "text/plain": [
       "1.0"
      ]
     },
     "execution_count": 27,
     "metadata": {},
     "output_type": "execute_result"
    }
   ],
   "source": [
    "# Recall（再現率）\n",
    "recall_score(y_test, y_pred5, pos_label=2)"
   ]
  },
  {
   "cell_type": "code",
   "execution_count": 28,
   "metadata": {},
   "outputs": [
    {
     "data": {
      "text/plain": [
       "0.888888888888889"
      ]
     },
     "execution_count": 28,
     "metadata": {},
     "output_type": "execute_result"
    }
   ],
   "source": [
    "# F値\n",
    "f1_score(y_test, y_pred5, pos_label=2)"
   ]
  },
  {
   "cell_type": "code",
   "execution_count": 29,
   "metadata": {},
   "outputs": [],
   "source": [
    "# 関数化\n",
    "def classifier_evaluation(y_test, y_pred, pos_label=None):\n",
    "    values = {'Accuracy ':0, \n",
    "              'Precision':0, \n",
    "              'Recall   ':0,\n",
    "              'F        ':0}\n",
    "    if pos_label != None:\n",
    "        values['Accuracy '] = accuracy_score(y_test, y_pred)   # Accuracy（正解率）\n",
    "        values['Precision'] = precision_score(y_test, y_pred) # Precision（適合率）\n",
    "        values['Recall   '] = recall_score(y_test, y_pred)       # Recall（再現率）\n",
    "        values['F        '] = f1_score(y_test, y_pred)                # F値\n",
    "    else:\n",
    "        values['Accuracy '] = accuracy_score(y_test, y_pred)   # Accuracy（正解率）\n",
    "        values['Precision'] = precision_score(y_test, y_pred, pos_label=pos_label) # Precision（適合率）\n",
    "        values['Recall   '] = recall_score(y_test, y_pred, pos_label=pos_label)       # Recall（再現率）\n",
    "        values['F        '] = f1_score(y_test, y_pred, pos_label=pos_label)                # F値\n",
    "        \n",
    "    # 表示\n",
    "    for key, value in values.items():\n",
    "        print(\"{} : {:.3f}\".format(key, value))\n",
    "        \n",
    "    return values\n",
    "        "
   ]
  },
  {
   "cell_type": "code",
   "execution_count": 30,
   "metadata": {},
   "outputs": [
    {
     "name": "stdout",
     "output_type": "stream",
     "text": [
      "トレーニングデータの精度\n",
      "Accuracy  : 0.933\n",
      "Precision : 0.944\n",
      "Recall    : 0.919\n",
      "F         : 0.932\n",
      "\n",
      "テストデータの精度\n",
      "Accuracy  : 0.880\n",
      "Precision : 1.000\n",
      "Recall    : 0.769\n",
      "F         : 0.870\n"
     ]
    }
   ],
   "source": [
    "# 5-nn 評価\n",
    "print('トレーニングデータの精度')\n",
    "results01 = classifier_evaluation(y_train, y_pred5_train, pos_label=2)\n",
    "print('\\nテストデータの精度')\n",
    "results02 = classifier_evaluation(y_test, y_pred5, pos_label=2)"
   ]
  },
  {
   "cell_type": "markdown",
   "metadata": {},
   "source": [
    "### 混同行列をscikit-learnを使い表示する"
   ]
  },
  {
   "cell_type": "code",
   "execution_count": 31,
   "metadata": {},
   "outputs": [
    {
     "data": {
      "image/png": "[encoded data removed]",
      "text/plain": [
       "<Figure size 360x216 with 1 Axes>"
      ]
     },
     "metadata": {
      "needs_background": "light"
     },
     "output_type": "display_data"
    }
   ],
   "source": [
    "def cf_matrix(data):\n",
    "    plt.figure(figsize=(5, 3))\n",
    "    sns.heatmap(data, cmap='Pastel1', cbar=False, annot_kws={\"size\": 22}, annot=True, fmt=\"d\", linewidths=1)\n",
    "    plt.title(\"Confusion-matrix\", fontsize=14)\n",
    "    plt.xlabel(\"Predicted value\", fontsize=12)\n",
    "    plt.ylabel(\"Observed value\", fontsize=12)\n",
    "    plt.show()\n",
    "\n",
    "confusion = confusion_matrix(y_test, y_pred5)\n",
    "cf_df = pd.DataFrame(confusion, index=[1,2], columns=[1,2])\n",
    "cf_matrix(cf_df)"
   ]
  },
  {
   "cell_type": "markdown",
   "metadata": {},
   "source": [
    "### 4種類の指標値の意味について簡単に調査して文章でまとめる"
   ]
  },
  {
   "cell_type": "markdown",
   "metadata": {},
   "source": [
    "### ■正解率（accuracy）\n",
    "予測の正確さを表す指標\n",
    "\n",
    "$$\n",
    "\\begin{equation*}\n",
    "  accuracy = \n",
    "  \\frac{TP + TN}{TP + TN + FP + FN}\n",
    "\\end{equation*}\n",
    "$$\n",
    "\n",
    "$$\n",
    "\\begin{equation*}\n",
    "  ※参考）error\\_rate = 1 - accuracy\n",
    "\\end{equation*}\n",
    "$$\n",
    "\n"
   ]
  },
  {
   "cell_type": "markdown",
   "metadata": {},
   "source": [
    "### ■適合率（precision, PPV）\n",
    "陽性であると予測されたものがどの程度実際に陽性であったかを測定する指標（陽性的中立 PPV）\n",
    "\n",
    "FP（偽陽性）が大きくなると適合率は小さくなる。偽陽性を避けたい（抑えたい）場合に指標として用いる。\n",
    "\n",
    "$$\n",
    "\\begin{equation*}\n",
    "  precision = \n",
    "  \\frac{TP}{TP + FP}\n",
    "\\end{equation*}\n",
    "$$"
   ]
  },
  {
   "cell_type": "markdown",
   "metadata": {},
   "source": [
    "### ■再現率（recall, TPR）\n",
    "実際に陽性のサンプルのうち、陽性と予測されたものの割合。\n",
    "\n",
    "すべての陽性サンプルを陽性だと判断する必要がある場合、つまり偽陰性を避けることが重要な場合に用いる指標\n",
    "\n",
    "$$\n",
    "\\begin{equation*}\n",
    "  recall = \n",
    "  \\frac{TP}{TP + FN}\n",
    "\\end{equation*}\n",
    "$$"
   ]
  },
  {
   "cell_type": "markdown",
   "metadata": {},
   "source": [
    "### ■F値（F-measure, F-score, F1-score）\n",
    "適合率と再現率の調和平均。\n",
    "\n",
    "$$\n",
    "\\begin{equation*}\n",
    "  F = \n",
    "  2 × \\frac{適合率 × 再現率}{適合率 + 再現率}\n",
    "\\end{equation*}\n",
    "$$"
   ]
  },
  {
   "cell_type": "markdown",
   "metadata": {},
   "source": [
    "## 【問題7】可視化\n",
    "評価の一貫として可視化を行います。今回の場合2次元の特徴量で分類を行いましたから、散布図で可視化が可能です。以下にどう分割するかという 決定領域 を描く関数を用意しました。これを利用して可視化を行ってください。Xとyには訓練データまたは検証データを与えます。\n",
    "\n",
    "3-nnの決定領域を表示した例が以下です。\n",
    "\n",
    "<img src=\"../../img/1.png\">\n",
    "\n",
    "この例では訓練データをプロットし、どのように学習したかを見ています。一方で、検証データをプロットすればどういった特徴量のものが間違って分類されたかを見ることができます。"
   ]
  },
  {
   "cell_type": "code",
   "execution_count": 32,
   "metadata": {},
   "outputs": [],
   "source": [
    "## 問題10に合わせて修正済み\n",
    "\n",
    "import matplotlib.pyplot as plt\n",
    "from matplotlib.colors import ListedColormap\n",
    "import matplotlib.patches as mpatches\n",
    "\n",
    "def decision_region(X, y, model, step=0.01, title='decision region', \n",
    "                    xlabel='xlabel', ylabel='ylabel', target_names=['versicolor', 'virginica'],\n",
    "                    n_class=2):\n",
    "    \"\"\"\n",
    "    2値分類を2次元の特徴量で学習したモデルの決定領域を描く。\n",
    "    背景の色が学習したモデルによる推定値から描画される。\n",
    "    散布図の点は訓練データまたは検証データである。\n",
    "\n",
    "    Parameters\n",
    "    ----------------\n",
    "    X : ndarray, shape(n_samples, 2)\n",
    "        特徴量\n",
    "    y : ndarray, shape(n_samples,)\n",
    "        ラベル\n",
    "    model : object\n",
    "        学習したモデルのインスンタスを入れる\n",
    "    step : float, (default : 0.1)\n",
    "        推定値を計算する間隔を設定する\n",
    "    title : str\n",
    "        グラフのタイトルの文章を与える\n",
    "    xlabel, ylabel : str\n",
    "        軸ラベルの文章を与える\n",
    "    target_names= : list of str\n",
    "        凡例の一覧を与える\n",
    "    \"\"\"\n",
    "\n",
    "    # setting\n",
    "    if n_class == 2:\n",
    "        scatter_color = ['red', 'blue']\n",
    "        contourf_color = ['pink', 'skyblue']\n",
    "    elif n_class == 3:\n",
    "        scatter_color = ['green', 'red', 'blue']\n",
    "        contourf_color = ['lightgreen', 'pink', 'skyblue']\n",
    "\n",
    "    # pred\n",
    "    mesh_f0, mesh_f1 = np.meshgrid(np.arange(np.min(X[:,0])-0.5, \n",
    "                                             np.max(X[:,0])+0.5, step), \n",
    "                                   np.arange(np.min(X[:,1])-0.5, \n",
    "                                             np.max(X[:,1])+0.5, step))\n",
    "    mesh = np.c_[np.ravel(mesh_f0),np.ravel(mesh_f1)]\n",
    "    y_pred = model.predict(mesh).reshape(mesh_f0.shape)\n",
    "    # plot\n",
    "    plt.title(title)\n",
    "    plt.xlabel(xlabel)\n",
    "    plt.ylabel(ylabel)\n",
    "    plt.contourf(mesh_f0, mesh_f1, y_pred, n_class-1, cmap=ListedColormap(contourf_color))\n",
    "    plt.contour(mesh_f0, mesh_f1, y_pred, n_class-1, colors='y', linewidths=3, alpha=0.5)\n",
    "    for i, target in enumerate(set(y)):\n",
    "        plt.scatter(X[y==target][:, 0], X[y==target][:, 1], s=80, color=scatter_color[i], label=target_names[i], marker='o')\n",
    "    patches = [mpatches.Patch(color=scatter_color[i], label=target_names[i]) for i in range(n_class)]\n",
    "    plt.legend(handles=patches)\n",
    "    plt.legend()\n",
    "    plt.show()"
   ]
  },
  {
   "cell_type": "code",
   "execution_count": 33,
   "metadata": {},
   "outputs": [
    {
     "data": {
      "image/png": "[encoded data removed]",
      "text/plain": [
       "<Figure size 432x288 with 1 Axes>"
      ]
     },
     "metadata": {
      "needs_background": "light"
     },
     "output_type": "display_data"
    }
   ],
   "source": [
    "decision_region(X_test_std, y_test, neigh5)"
   ]
  },
  {
   "cell_type": "markdown",
   "metadata": {},
   "source": [
    "### 手法の改善\n",
    "\n",
    "実際の問題では指標値や可視化を元に手法を改善していきますが、この課題では扱いません。"
   ]
  },
  {
   "cell_type": "markdown",
   "metadata": {},
   "source": [
    "## 【問題8】他の手法の学習\n",
    "以下の全ての手法について学習・推定・評価・可視化を行ってください。そして、指標値を１つの表にまとめてください。その表と決定領域を利用して結果を簡単に考察してください。どの手法がどの指標値で良かったかや、どういった決定領域になっていたかを述べてください。\n",
    "\n",
    "- 最近傍法\n",
    "- ロジスティック回帰\n",
    "- SVM\n",
    "- 決定木\n",
    "- ランダムフォレスト\n",
    "\n",
    "公式ドキュメントへのリンクは以下です。それぞれ調整すべき引数（ハイパーパラメータ）がありますが、この課題では扱いません。まずはデフォルトの値で実行してください。\n",
    "\n",
    "- sklearn.neighbors.KNeighborsClassifier — scikit-learn 0.21.3 documentation\n",
    "- sklearn.linear_model.LogisticRegression — scikit-learn 0.21.3 documentation\n",
    "- sklearn.svm.SVC — scikit-learn 0.21.3 documentation\n",
    "- sklearn.tree.DecisionTreeClassifier — scikit-learn 0.21.3 documentation\n",
    "- sklearn.ensemble.RandomForestClassifier — scikit-learn 0.21.3 documentation\n",
    "\n",
    "《実際の問題では？》\n",
    "\n",
    "ハイパーパラメータの調整は パラメータチューニング と呼ばれる工程で、その手法としてグリッドサーチなどが存在します。"
   ]
  },
  {
   "cell_type": "markdown",
   "metadata": {},
   "source": [
    "### 【以降の実行結果の考察】\n",
    "\n",
    "ロジスティック回帰、サポートベクターマシンでは精度に差は見られなかった。\n",
    "\n",
    "最近傍法は、5-nnでは上記アルゴリズムより精度が落ちているが、3-nn, 8-nnでは上記と同様の精度となっている。\n",
    "\n",
    "決定木・ランダムフォレストに関してはトレーニングデータへの当てはまりが非常に良い反面、\n",
    "\n",
    "他のアルゴリズムよりもテストデータへの精度が落ちているため、トレーニングデータにオーバーフィッティングしているものと見られる。"
   ]
  },
  {
   "cell_type": "markdown",
   "metadata": {},
   "source": [
    "### ロジスティック回帰"
   ]
  },
  {
   "cell_type": "code",
   "execution_count": 34,
   "metadata": {
    "scrolled": true
   },
   "outputs": [
    {
     "data": {
      "text/plain": [
       "LogisticRegression(C=1.0, class_weight=None, dual=False, fit_intercept=True,\n",
       "                   intercept_scaling=1, l1_ratio=None, max_iter=100,\n",
       "                   multi_class='auto', n_jobs=None, penalty='l2',\n",
       "                   random_state=None, solver='lbfgs', tol=0.0001, verbose=0,\n",
       "                   warm_start=False)"
      ]
     },
     "execution_count": 34,
     "metadata": {},
     "output_type": "execute_result"
    }
   ],
   "source": [
    "# ロジスティック回帰クラスを初期化\n",
    "model1 = LogisticRegression()\n",
    "\n",
    "# トレーニングデータで学習\n",
    "model1.fit(X_train_std, y_train)"
   ]
  },
  {
   "cell_type": "code",
   "execution_count": 35,
   "metadata": {},
   "outputs": [],
   "source": [
    "# 予測\n",
    "y_pred1 = model1.predict(X_test_std)\n",
    "y_pred1_train = model1.predict(X_train_std)"
   ]
  },
  {
   "cell_type": "code",
   "execution_count": 36,
   "metadata": {},
   "outputs": [
    {
     "name": "stdout",
     "output_type": "stream",
     "text": [
      "トレーニングデータの精度\n",
      "Accuracy  : 0.933\n",
      "Precision : 0.921\n",
      "Recall    : 0.946\n",
      "F         : 0.933\n",
      "\n",
      "テストデータの精度\n",
      "Accuracy  : 0.920\n",
      "Precision : 1.000\n",
      "Recall    : 0.846\n",
      "F         : 0.917\n"
     ]
    }
   ],
   "source": [
    "# 評価\n",
    "print('トレーニングデータの精度')\n",
    "results11 = classifier_evaluation(y_train, y_pred1_train, pos_label=2)\n",
    "print('\\nテストデータの精度')\n",
    "results12 = classifier_evaluation(y_test, y_pred1, pos_label=2)"
   ]
  },
  {
   "cell_type": "code",
   "execution_count": 37,
   "metadata": {},
   "outputs": [
    {
     "data": {
      "image/png": "[encoded data removed]",
      "text/plain": [
       "<Figure size 360x216 with 1 Axes>"
      ]
     },
     "metadata": {
      "needs_background": "light"
     },
     "output_type": "display_data"
    }
   ],
   "source": [
    "# 混同行列\n",
    "cf1 = confusion_matrix(y_test, y_pred1)\n",
    "cfdf1 = pd.DataFrame(cf1, index=[1,2], columns=[1,2])\n",
    "cf_matrix(cfdf1)"
   ]
  },
  {
   "cell_type": "code",
   "execution_count": 38,
   "metadata": {},
   "outputs": [
    {
     "data": {
      "image/png": "[encoded data removed]",
      "text/plain": [
       "<Figure size 432x288 with 1 Axes>"
      ]
     },
     "metadata": {
      "needs_background": "light"
     },
     "output_type": "display_data"
    }
   ],
   "source": [
    "# 可視化\n",
    "decision_region(X_test_std, y_test, model1)"
   ]
  },
  {
   "cell_type": "code",
   "execution_count": null,
   "metadata": {},
   "outputs": [],
   "source": []
  },
  {
   "cell_type": "markdown",
   "metadata": {},
   "source": [
    "### サポートベクターマシン"
   ]
  },
  {
   "cell_type": "code",
   "execution_count": 39,
   "metadata": {},
   "outputs": [
    {
     "data": {
      "text/plain": [
       "LinearSVC(C=1.0, class_weight=None, dual=True, fit_intercept=True,\n",
       "          intercept_scaling=1, loss='squared_hinge', max_iter=1000,\n",
       "          multi_class='ovr', penalty='l2', random_state=None, tol=0.0001,\n",
       "          verbose=0)"
      ]
     },
     "execution_count": 39,
     "metadata": {},
     "output_type": "execute_result"
    }
   ],
   "source": [
    "# SVMクラスの初期化\n",
    "model2 = LinearSVC()\n",
    "\n",
    "# トレーニングデータで学習\n",
    "model2.fit(X_train_std, y_train)"
   ]
  },
  {
   "cell_type": "code",
   "execution_count": 40,
   "metadata": {},
   "outputs": [],
   "source": [
    "# 予測\n",
    "y_pred2 = model2.predict(X_test_std)\n",
    "y_pred2_train = model2.predict(X_train_std)"
   ]
  },
  {
   "cell_type": "code",
   "execution_count": 41,
   "metadata": {},
   "outputs": [
    {
     "name": "stdout",
     "output_type": "stream",
     "text": [
      "トレーニングデータの精度\n",
      "Accuracy  : 0.960\n",
      "Precision : 0.972\n",
      "Recall    : 0.946\n",
      "F         : 0.959\n",
      "\n",
      "テストデータの精度\n",
      "Accuracy  : 0.920\n",
      "Precision : 1.000\n",
      "Recall    : 0.846\n",
      "F         : 0.917\n"
     ]
    }
   ],
   "source": [
    "# 評価\n",
    "print('トレーニングデータの精度')\n",
    "results21 = classifier_evaluation(y_train, y_pred2_train, pos_label=2)\n",
    "print('\\nテストデータの精度')\n",
    "results22 = classifier_evaluation(y_test, y_pred2, pos_label=2)"
   ]
  },
  {
   "cell_type": "code",
   "execution_count": 42,
   "metadata": {},
   "outputs": [
    {
     "data": {
      "image/png": "[encoded data removed]",
      "text/plain": [
       "<Figure size 360x216 with 1 Axes>"
      ]
     },
     "metadata": {
      "needs_background": "light"
     },
     "output_type": "display_data"
    }
   ],
   "source": [
    "# 混同行列\n",
    "cf2 = confusion_matrix(y_test, y_pred2)\n",
    "cfdf2 = pd.DataFrame(cf2, index=[1,2], columns=[1,2])\n",
    "cf_matrix(cfdf2)"
   ]
  },
  {
   "cell_type": "code",
   "execution_count": 43,
   "metadata": {},
   "outputs": [
    {
     "data": {
      "image/png": "[encoded data removed]",
      "text/plain": [
       "<Figure size 432x288 with 1 Axes>"
      ]
     },
     "metadata": {
      "needs_background": "light"
     },
     "output_type": "display_data"
    }
   ],
   "source": [
    "# 可視化\n",
    "decision_region(X_test_std, y_test, model2)"
   ]
  },
  {
   "cell_type": "markdown",
   "metadata": {},
   "source": [
    "### 決定木"
   ]
  },
  {
   "cell_type": "code",
   "execution_count": 44,
   "metadata": {},
   "outputs": [
    {
     "data": {
      "text/plain": [
       "DecisionTreeClassifier(ccp_alpha=0.0, class_weight=None, criterion='gini',\n",
       "                       max_depth=None, max_features=None, max_leaf_nodes=None,\n",
       "                       min_impurity_decrease=0.0, min_impurity_split=None,\n",
       "                       min_samples_leaf=1, min_samples_split=2,\n",
       "                       min_weight_fraction_leaf=0.0, presort='deprecated',\n",
       "                       random_state=None, splitter='best')"
      ]
     },
     "execution_count": 44,
     "metadata": {},
     "output_type": "execute_result"
    }
   ],
   "source": [
    "# 決定木クラスの初期化\n",
    "model3 = DecisionTreeClassifier()\n",
    "\n",
    "# 学習\n",
    "model3.fit(X_train_std, y_train)"
   ]
  },
  {
   "cell_type": "code",
   "execution_count": 45,
   "metadata": {},
   "outputs": [],
   "source": [
    "# 予測\n",
    "y_pred3 = model3.predict(X_test_std)\n",
    "y_pred3_train = model3.predict(X_train_std)"
   ]
  },
  {
   "cell_type": "code",
   "execution_count": 46,
   "metadata": {},
   "outputs": [
    {
     "name": "stdout",
     "output_type": "stream",
     "text": [
      "トレーニングデータの精度\n",
      "Accuracy  : 1.000\n",
      "Precision : 1.000\n",
      "Recall    : 1.000\n",
      "F         : 1.000\n",
      "\n",
      "テストデータの精度\n",
      "Accuracy  : 0.880\n",
      "Precision : 1.000\n",
      "Recall    : 0.769\n",
      "F         : 0.870\n"
     ]
    }
   ],
   "source": [
    "# 評価\n",
    "print('トレーニングデータの精度')\n",
    "results31 = classifier_evaluation(y_train, y_pred3_train, pos_label=2)\n",
    "print('\\nテストデータの精度')\n",
    "results32 = classifier_evaluation(y_test, y_pred3, pos_label=2)"
   ]
  },
  {
   "cell_type": "code",
   "execution_count": 47,
   "metadata": {},
   "outputs": [
    {
     "data": {
      "image/png": "[encoded data removed]",
      "text/plain": [
       "<Figure size 360x216 with 1 Axes>"
      ]
     },
     "metadata": {
      "needs_background": "light"
     },
     "output_type": "display_data"
    }
   ],
   "source": [
    "# 混同行列\n",
    "cf3 = confusion_matrix(y_test, y_pred3)\n",
    "cfdf3 = pd.DataFrame(cf3, index=[1,2], columns=[1,2])\n",
    "cf_matrix(cfdf3)"
   ]
  },
  {
   "cell_type": "code",
   "execution_count": 48,
   "metadata": {},
   "outputs": [
    {
     "data": {
      "image/png": "[encoded data removed]",
      "text/plain": [
       "<Figure size 432x288 with 1 Axes>"
      ]
     },
     "metadata": {
      "needs_background": "light"
     },
     "output_type": "display_data"
    }
   ],
   "source": [
    "# 可視化\n",
    "decision_region(X_test_std, y_test, model3)"
   ]
  },
  {
   "cell_type": "markdown",
   "metadata": {},
   "source": [
    "### ランダムフォレスト"
   ]
  },
  {
   "cell_type": "code",
   "execution_count": 49,
   "metadata": {},
   "outputs": [
    {
     "data": {
      "text/plain": [
       "RandomForestClassifier(bootstrap=True, ccp_alpha=0.0, class_weight=None,\n",
       "                       criterion='gini', max_depth=None, max_features='auto',\n",
       "                       max_leaf_nodes=None, max_samples=None,\n",
       "                       min_impurity_decrease=0.0, min_impurity_split=None,\n",
       "                       min_samples_leaf=1, min_samples_split=2,\n",
       "                       min_weight_fraction_leaf=0.0, n_estimators=100,\n",
       "                       n_jobs=None, oob_score=False, random_state=None,\n",
       "                       verbose=0, warm_start=False)"
      ]
     },
     "execution_count": 49,
     "metadata": {},
     "output_type": "execute_result"
    }
   ],
   "source": [
    "# ランダムフォレストクラスの初期化\n",
    "model4 = RandomForestClassifier()\n",
    "\n",
    "# 学習\n",
    "model4.fit(X_train_std, y_train)"
   ]
  },
  {
   "cell_type": "code",
   "execution_count": 50,
   "metadata": {},
   "outputs": [],
   "source": [
    "# 予測\n",
    "y_pred4 = model4.predict(X_test_std)\n",
    "y_pred4_train = model4.predict(X_train_std)"
   ]
  },
  {
   "cell_type": "code",
   "execution_count": 51,
   "metadata": {},
   "outputs": [
    {
     "name": "stdout",
     "output_type": "stream",
     "text": [
      "トレーニングデータの精度\n",
      "Accuracy  : 1.000\n",
      "Precision : 1.000\n",
      "Recall    : 1.000\n",
      "F         : 1.000\n",
      "\n",
      "テストデータの精度\n",
      "Accuracy  : 0.880\n",
      "Precision : 1.000\n",
      "Recall    : 0.769\n",
      "F         : 0.870\n"
     ]
    }
   ],
   "source": [
    "# 評価\n",
    "print('トレーニングデータの精度')\n",
    "results41 = classifier_evaluation(y_train, y_pred4_train, pos_label=2)\n",
    "print('\\nテストデータの精度')\n",
    "results42 = classifier_evaluation(y_test, y_pred4, pos_label=2)"
   ]
  },
  {
   "cell_type": "code",
   "execution_count": 52,
   "metadata": {},
   "outputs": [
    {
     "data": {
      "image/png": "[encoded data removed]",
      "text/plain": [
       "<Figure size 360x216 with 1 Axes>"
      ]
     },
     "metadata": {
      "needs_background": "light"
     },
     "output_type": "display_data"
    }
   ],
   "source": [
    "# 混同行列\n",
    "cf4 = confusion_matrix(y_test, y_pred4)\n",
    "cfdf4 = pd.DataFrame(cf4, index=[1,2], columns=[1,2])\n",
    "cf_matrix(cfdf4)"
   ]
  },
  {
   "cell_type": "code",
   "execution_count": 53,
   "metadata": {},
   "outputs": [
    {
     "data": {
      "image/png": "[encoded data removed]",
      "text/plain": [
       "<Figure size 432x288 with 1 Axes>"
      ]
     },
     "metadata": {
      "needs_background": "light"
     },
     "output_type": "display_data"
    }
   ],
   "source": [
    "# 可視化\n",
    "decision_region(X_test_std, y_test, model4)"
   ]
  },
  {
   "cell_type": "code",
   "execution_count": 54,
   "metadata": {},
   "outputs": [
    {
     "data": {
      "text/html": [
       "<div>\n",
       "<style scoped>\n",
       "    .dataframe tbody tr th:only-of-type {\n",
       "        vertical-align: middle;\n",
       "    }\n",
       "\n",
       "    .dataframe tbody tr th {\n",
       "        vertical-align: top;\n",
       "    }\n",
       "\n",
       "    .dataframe thead tr th {\n",
       "        text-align: left;\n",
       "    }\n",
       "</style>\n",
       "<table border=\"1\" class=\"dataframe\">\n",
       "  <thead>\n",
       "    <tr>\n",
       "      <th></th>\n",
       "      <th colspan=\"2\" halign=\"left\">5-nn</th>\n",
       "      <th colspan=\"2\" halign=\"left\">LogisticRegression</th>\n",
       "      <th colspan=\"2\" halign=\"left\">SVM</th>\n",
       "      <th colspan=\"2\" halign=\"left\">DecisionTree</th>\n",
       "      <th colspan=\"2\" halign=\"left\">RandomForest</th>\n",
       "    </tr>\n",
       "    <tr>\n",
       "      <th></th>\n",
       "      <th>train</th>\n",
       "      <th>test</th>\n",
       "      <th>train</th>\n",
       "      <th>test</th>\n",
       "      <th>train</th>\n",
       "      <th>test</th>\n",
       "      <th>train</th>\n",
       "      <th>test</th>\n",
       "      <th>train</th>\n",
       "      <th>test</th>\n",
       "    </tr>\n",
       "  </thead>\n",
       "  <tbody>\n",
       "    <tr>\n",
       "      <th>Accuracy</th>\n",
       "      <td>0.933333</td>\n",
       "      <td>0.880000</td>\n",
       "      <td>0.933333</td>\n",
       "      <td>0.920000</td>\n",
       "      <td>0.960000</td>\n",
       "      <td>0.920000</td>\n",
       "      <td>1.0</td>\n",
       "      <td>0.880000</td>\n",
       "      <td>1.0</td>\n",
       "      <td>0.880000</td>\n",
       "    </tr>\n",
       "    <tr>\n",
       "      <th>Precision</th>\n",
       "      <td>0.944444</td>\n",
       "      <td>1.000000</td>\n",
       "      <td>0.921053</td>\n",
       "      <td>1.000000</td>\n",
       "      <td>0.972222</td>\n",
       "      <td>1.000000</td>\n",
       "      <td>1.0</td>\n",
       "      <td>1.000000</td>\n",
       "      <td>1.0</td>\n",
       "      <td>1.000000</td>\n",
       "    </tr>\n",
       "    <tr>\n",
       "      <th>Recall</th>\n",
       "      <td>0.918919</td>\n",
       "      <td>0.769231</td>\n",
       "      <td>0.945946</td>\n",
       "      <td>0.846154</td>\n",
       "      <td>0.945946</td>\n",
       "      <td>0.846154</td>\n",
       "      <td>1.0</td>\n",
       "      <td>0.769231</td>\n",
       "      <td>1.0</td>\n",
       "      <td>0.769231</td>\n",
       "    </tr>\n",
       "    <tr>\n",
       "      <th>F</th>\n",
       "      <td>0.931507</td>\n",
       "      <td>0.869565</td>\n",
       "      <td>0.933333</td>\n",
       "      <td>0.916667</td>\n",
       "      <td>0.958904</td>\n",
       "      <td>0.916667</td>\n",
       "      <td>1.0</td>\n",
       "      <td>0.869565</td>\n",
       "      <td>1.0</td>\n",
       "      <td>0.869565</td>\n",
       "    </tr>\n",
       "  </tbody>\n",
       "</table>\n",
       "</div>"
      ],
      "text/plain": [
       "               5-nn           LogisticRegression                 SVM  \\\n",
       "              train      test              train      test     train   \n",
       "Accuracy   0.933333  0.880000           0.933333  0.920000  0.960000   \n",
       "Precision  0.944444  1.000000           0.921053  1.000000  0.972222   \n",
       "Recall     0.918919  0.769231           0.945946  0.846154  0.945946   \n",
       "F          0.931507  0.869565           0.933333  0.916667  0.958904   \n",
       "\n",
       "                    DecisionTree           RandomForest            \n",
       "               test        train      test        train      test  \n",
       "Accuracy   0.920000          1.0  0.880000          1.0  0.880000  \n",
       "Precision  1.000000          1.0  1.000000          1.0  1.000000  \n",
       "Recall     0.846154          1.0  0.769231          1.0  0.769231  \n",
       "F          0.916667          1.0  0.869565          1.0  0.869565  "
      ]
     },
     "execution_count": 54,
     "metadata": {},
     "output_type": "execute_result"
    }
   ],
   "source": [
    "index = results01.keys()\n",
    "columns = [['5-nn','5-nn', \n",
    "            'LogisticRegression', 'LogisticRegression', \n",
    "            'SVM', 'SVM', \n",
    "            'DecisionTree', 'DecisionTree', \n",
    "            'RandomForest', 'RandomForest'],\n",
    "           ['train', 'test', \n",
    "            'train', 'test', \n",
    "            'train', 'test', \n",
    "            'train', 'test', \n",
    "            'train', 'test']]\n",
    "\n",
    "results_ndarray = np.zeros([4, 10])\n",
    "results_ndarray[:, 0] = np.array([i for i in results01.values()])\n",
    "results_ndarray[:, 1] = np.array([i for i in results02.values()])\n",
    "results_ndarray[:, 2] = np.array([i for i in results11.values()])\n",
    "results_ndarray[:, 3] = np.array([i for i in results12.values()])\n",
    "results_ndarray[:, 4] = np.array([i for i in results21.values()])\n",
    "results_ndarray[:, 5] = np.array([i for i in results22.values()])\n",
    "results_ndarray[:, 6] = np.array([i for i in results31.values()])\n",
    "results_ndarray[:, 7] = np.array([i for i in results32.values()])\n",
    "results_ndarray[:, 8] = np.array([i for i in results41.values()])\n",
    "results_ndarray[:, 9] = np.array([i for i in results42.values()])\n",
    "\n",
    "pd.DataFrame(results_ndarray, index=index, columns=columns)"
   ]
  },
  {
   "cell_type": "markdown",
   "metadata": {},
   "source": [
    "## 【問題9】（アドバンス課題）標準化の有無の比較\n",
    "前処理として標準化を行いましたが、これを行わなかった場合どのような結果が得られるでしょうか。各手法に対しての指標値の表と決定領域の図を作成し比較および考察を行ってください。考察には標準化が機械学習の前処理としてどのような意味があるかを絡めてください。"
   ]
  },
  {
   "cell_type": "markdown",
   "metadata": {},
   "source": [
    "### 【考察】\n",
    "標準化せずに学習させた場合、ほとんどのモデルで精度が悪化した。\n",
    "\n",
    "しかしながら、最近傍法に関しては標準化しない方が精度が高く、標準化すると必ず精度が上がるという保証はないため、\n",
    "\n",
    "どのモデルを使用するにしても、標準化した場合・しない場合を双方実行して精度を確認しながら進める必要がある。"
   ]
  },
  {
   "cell_type": "markdown",
   "metadata": {},
   "source": [
    "### 最近傍法"
   ]
  },
  {
   "cell_type": "code",
   "execution_count": 55,
   "metadata": {},
   "outputs": [
    {
     "name": "stdout",
     "output_type": "stream",
     "text": [
      "トレーニングデータの精度\n",
      "Accuracy  : 0.960\n",
      "Precision : 0.972\n",
      "Recall    : 0.946\n",
      "F         : 0.959\n",
      "\n",
      "テストデータの精度\n",
      "Accuracy  : 0.920\n",
      "Precision : 1.000\n",
      "Recall    : 0.846\n",
      "F         : 0.917\n"
     ]
    },
    {
     "data": {
      "image/png": "[encoded data removed]",
      "text/plain": [
       "<Figure size 360x216 with 1 Axes>"
      ]
     },
     "metadata": {
      "needs_background": "light"
     },
     "output_type": "display_data"
    },
    {
     "data": {
      "image/png": "[encoded data removed]",
      "text/plain": [
       "<Figure size 432x288 with 1 Axes>"
      ]
     },
     "metadata": {
      "needs_background": "light"
     },
     "output_type": "display_data"
    }
   ],
   "source": [
    "neigh5 = KNeighborsClassifier()\n",
    "neigh5.fit(X_train, y_train)\n",
    "\n",
    "y_pred5 = neigh5.predict(X_test)\n",
    "y_pred5_train = neigh5.predict(X_train)\n",
    "\n",
    "# 5-nn 評価\n",
    "print('トレーニングデータの精度')\n",
    "results01 = classifier_evaluation(y_train, y_pred5_train, pos_label=2)\n",
    "print('\\nテストデータの精度')\n",
    "results02 = classifier_evaluation(y_test, y_pred5, pos_label=2)\n",
    "\n",
    "confusion = confusion_matrix(y_test, y_pred5)\n",
    "cf_df = pd.DataFrame(confusion, index=[1,2], columns=[1,2])\n",
    "cf_matrix(cf_df)\n",
    "\n",
    "decision_region(np.array(X_test), y_test, neigh5)"
   ]
  },
  {
   "cell_type": "markdown",
   "metadata": {},
   "source": [
    "### ロジスティック回帰"
   ]
  },
  {
   "cell_type": "code",
   "execution_count": 56,
   "metadata": {},
   "outputs": [
    {
     "name": "stdout",
     "output_type": "stream",
     "text": [
      "トレーニングデータの精度\n",
      "Accuracy  : 0.947\n",
      "Precision : 0.923\n",
      "Recall    : 0.973\n",
      "F         : 0.947\n",
      "\n",
      "テストデータの精度\n",
      "Accuracy  : 0.880\n",
      "Precision : 1.000\n",
      "Recall    : 0.769\n",
      "F         : 0.870\n"
     ]
    },
    {
     "data": {
      "image/png": "[encoded data removed]",
      "text/plain": [
       "<Figure size 360x216 with 1 Axes>"
      ]
     },
     "metadata": {
      "needs_background": "light"
     },
     "output_type": "display_data"
    },
    {
     "data": {
      "image/png": "[encoded data removed]",
      "text/plain": [
       "<Figure size 432x288 with 1 Axes>"
      ]
     },
     "metadata": {
      "needs_background": "light"
     },
     "output_type": "display_data"
    }
   ],
   "source": [
    "# ロジスティック回帰クラスを初期化\n",
    "model1 = LogisticRegression()\n",
    "\n",
    "# トレーニングデータで学習\n",
    "model1.fit(X_train, y_train)\n",
    "\n",
    "# 予測\n",
    "y_pred1 = model1.predict(X_test)\n",
    "y_pred1_train = model1.predict(X_train)\n",
    "\n",
    "# 評価\n",
    "print('トレーニングデータの精度')\n",
    "results11 = classifier_evaluation(y_train, y_pred1_train, pos_label=2)\n",
    "print('\\nテストデータの精度')\n",
    "results12 = classifier_evaluation(y_test, y_pred1, pos_label=2)\n",
    "\n",
    "# 混同行列\n",
    "cf1 = confusion_matrix(y_test, y_pred1)\n",
    "cfdf1 = pd.DataFrame(cf1, index=[1,2], columns=[1,2])\n",
    "cf_matrix(cfdf1)\n",
    "\n",
    "# 可視化\n",
    "decision_region(np.array(X_test), y_test, model1)"
   ]
  },
  {
   "cell_type": "markdown",
   "metadata": {},
   "source": [
    "### サポートベクターマシン"
   ]
  },
  {
   "cell_type": "code",
   "execution_count": 57,
   "metadata": {},
   "outputs": [
    {
     "name": "stdout",
     "output_type": "stream",
     "text": [
      "トレーニングデータの精度\n",
      "Accuracy  : 0.947\n",
      "Precision : 0.946\n",
      "Recall    : 0.946\n",
      "F         : 0.946\n",
      "\n",
      "テストデータの精度\n",
      "Accuracy  : 0.880\n",
      "Precision : 1.000\n",
      "Recall    : 0.769\n",
      "F         : 0.870\n"
     ]
    },
    {
     "name": "stderr",
     "output_type": "stream",
     "text": [
      "/opt/anaconda3/lib/python3.7/site-packages/sklearn/svm/_base.py:947: ConvergenceWarning: Liblinear failed to converge, increase the number of iterations.\n",
      "  \"the number of iterations.\", ConvergenceWarning)\n"
     ]
    },
    {
     "data": {
      "image/png": "[encoded data removed]",
      "text/plain": [
       "<Figure size 360x216 with 1 Axes>"
      ]
     },
     "metadata": {
      "needs_background": "light"
     },
     "output_type": "display_data"
    },
    {
     "data": {
      "image/png": "[encoded data removed]",
      "text/plain": [
       "<Figure size 432x288 with 1 Axes>"
      ]
     },
     "metadata": {
      "needs_background": "light"
     },
     "output_type": "display_data"
    }
   ],
   "source": [
    "# SVMクラスの初期化\n",
    "model2 = LinearSVC()\n",
    "\n",
    "# トレーニングデータで学習\n",
    "model2.fit(X_train, y_train)\n",
    "\n",
    "# 予測\n",
    "y_pred2 = model2.predict(X_test)\n",
    "y_pred2_train = model2.predict(X_train)\n",
    "\n",
    "# 評価\n",
    "print('トレーニングデータの精度')\n",
    "results21 = classifier_evaluation(y_train, y_pred2_train, pos_label=2)\n",
    "print('\\nテストデータの精度')\n",
    "results22 = classifier_evaluation(y_test, y_pred2, pos_label=2)\n",
    "\n",
    "# 混同行列\n",
    "cf2 = confusion_matrix(y_test, y_pred2)\n",
    "cfdf2 = pd.DataFrame(cf2, index=[1,2], columns=[1,2])\n",
    "cf_matrix(cfdf2)\n",
    "\n",
    "# 可視化\n",
    "decision_region(np.array(X_test), y_test, model2)"
   ]
  },
  {
   "cell_type": "markdown",
   "metadata": {},
   "source": [
    "### 決定木"
   ]
  },
  {
   "cell_type": "code",
   "execution_count": 58,
   "metadata": {},
   "outputs": [
    {
     "name": "stdout",
     "output_type": "stream",
     "text": [
      "トレーニングデータの精度\n",
      "Accuracy  : 1.000\n",
      "Precision : 1.000\n",
      "Recall    : 1.000\n",
      "F         : 1.000\n",
      "\n",
      "テストデータの精度\n",
      "Accuracy  : 0.880\n",
      "Precision : 1.000\n",
      "Recall    : 0.769\n",
      "F         : 0.870\n"
     ]
    },
    {
     "data": {
      "image/png": "[encoded data removed]",
      "text/plain": [
       "<Figure size 360x216 with 1 Axes>"
      ]
     },
     "metadata": {
      "needs_background": "light"
     },
     "output_type": "display_data"
    },
    {
     "data": {
      "image/png": "[encoded data removed]",
      "text/plain": [
       "<Figure size 432x288 with 1 Axes>"
      ]
     },
     "metadata": {
      "needs_background": "light"
     },
     "output_type": "display_data"
    }
   ],
   "source": [
    "# 決定木クラスの初期化\n",
    "model3 = DecisionTreeClassifier()\n",
    "\n",
    "# 学習\n",
    "model3.fit(X_train, y_train)\n",
    "\n",
    "# 予測\n",
    "y_pred3 = model3.predict(X_test)\n",
    "y_pred3_train = model3.predict(X_train)\n",
    "\n",
    "# 評価\n",
    "print('トレーニングデータの精度')\n",
    "results31 = classifier_evaluation(y_train, y_pred3_train, pos_label=2)\n",
    "print('\\nテストデータの精度')\n",
    "results32 = classifier_evaluation(y_test, y_pred3, pos_label=2)\n",
    "\n",
    "# 混同行列\n",
    "cf3 = confusion_matrix(y_test, y_pred3)\n",
    "cfdf3 = pd.DataFrame(cf3, index=[1,2], columns=[1,2])\n",
    "cf_matrix(cfdf3)\n",
    "\n",
    "# 可視化\n",
    "decision_region(np.array(X_test), y_test, model3)"
   ]
  },
  {
   "cell_type": "markdown",
   "metadata": {},
   "source": [
    "### ランダムフォレスト"
   ]
  },
  {
   "cell_type": "code",
   "execution_count": 59,
   "metadata": {},
   "outputs": [
    {
     "name": "stdout",
     "output_type": "stream",
     "text": [
      "トレーニングデータの精度\n",
      "Accuracy  : 1.000\n",
      "Precision : 1.000\n",
      "Recall    : 1.000\n",
      "F         : 1.000\n",
      "\n",
      "テストデータの精度\n",
      "Accuracy  : 0.840\n",
      "Precision : 1.000\n",
      "Recall    : 0.692\n",
      "F         : 0.818\n"
     ]
    },
    {
     "data": {
      "image/png": "[encoded data removed]",
      "text/plain": [
       "<Figure size 360x216 with 1 Axes>"
      ]
     },
     "metadata": {
      "needs_background": "light"
     },
     "output_type": "display_data"
    },
    {
     "data": {
      "image/png": "[encoded data removed]",
      "text/plain": [
       "<Figure size 432x288 with 1 Axes>"
      ]
     },
     "metadata": {
      "needs_background": "light"
     },
     "output_type": "display_data"
    }
   ],
   "source": [
    "# ランダムフォレストクラスの初期化\n",
    "model4 = RandomForestClassifier()\n",
    "\n",
    "# 学習\n",
    "model4.fit(X_train, y_train)\n",
    "\n",
    "# 予測\n",
    "y_pred4 = model4.predict(X_test)\n",
    "y_pred4_train = model4.predict(X_train)\n",
    "\n",
    "# 評価\n",
    "print('トレーニングデータの精度')\n",
    "results41 = classifier_evaluation(y_train, y_pred4_train, pos_label=2)\n",
    "print('\\nテストデータの精度')\n",
    "results42 = classifier_evaluation(y_test, y_pred4, pos_label=2)\n",
    "\n",
    "# 混同行列\n",
    "cf4 = confusion_matrix(y_test, y_pred4)\n",
    "cfdf4 = pd.DataFrame(cf4, index=[1,2], columns=[1,2])\n",
    "cf_matrix(cfdf4)\n",
    "\n",
    "# 可視化\n",
    "decision_region(np.array(X_test), y_test, model4)"
   ]
  },
  {
   "cell_type": "code",
   "execution_count": 60,
   "metadata": {},
   "outputs": [
    {
     "data": {
      "text/html": [
       "<div>\n",
       "<style scoped>\n",
       "    .dataframe tbody tr th:only-of-type {\n",
       "        vertical-align: middle;\n",
       "    }\n",
       "\n",
       "    .dataframe tbody tr th {\n",
       "        vertical-align: top;\n",
       "    }\n",
       "\n",
       "    .dataframe thead tr th {\n",
       "        text-align: left;\n",
       "    }\n",
       "</style>\n",
       "<table border=\"1\" class=\"dataframe\">\n",
       "  <thead>\n",
       "    <tr>\n",
       "      <th></th>\n",
       "      <th colspan=\"2\" halign=\"left\">5-nn</th>\n",
       "      <th colspan=\"2\" halign=\"left\">LogisticRegression</th>\n",
       "      <th colspan=\"2\" halign=\"left\">SVM</th>\n",
       "      <th colspan=\"2\" halign=\"left\">DecisionTree</th>\n",
       "      <th colspan=\"2\" halign=\"left\">RandomForest</th>\n",
       "    </tr>\n",
       "    <tr>\n",
       "      <th></th>\n",
       "      <th>train</th>\n",
       "      <th>test</th>\n",
       "      <th>train</th>\n",
       "      <th>test</th>\n",
       "      <th>train</th>\n",
       "      <th>test</th>\n",
       "      <th>train</th>\n",
       "      <th>test</th>\n",
       "      <th>train</th>\n",
       "      <th>test</th>\n",
       "    </tr>\n",
       "  </thead>\n",
       "  <tbody>\n",
       "    <tr>\n",
       "      <th>Accuracy</th>\n",
       "      <td>0.960000</td>\n",
       "      <td>0.920000</td>\n",
       "      <td>0.946667</td>\n",
       "      <td>0.880000</td>\n",
       "      <td>0.946667</td>\n",
       "      <td>0.880000</td>\n",
       "      <td>1.0</td>\n",
       "      <td>0.880000</td>\n",
       "      <td>1.0</td>\n",
       "      <td>0.840000</td>\n",
       "    </tr>\n",
       "    <tr>\n",
       "      <th>Precision</th>\n",
       "      <td>0.972222</td>\n",
       "      <td>1.000000</td>\n",
       "      <td>0.923077</td>\n",
       "      <td>1.000000</td>\n",
       "      <td>0.945946</td>\n",
       "      <td>1.000000</td>\n",
       "      <td>1.0</td>\n",
       "      <td>1.000000</td>\n",
       "      <td>1.0</td>\n",
       "      <td>1.000000</td>\n",
       "    </tr>\n",
       "    <tr>\n",
       "      <th>Recall</th>\n",
       "      <td>0.945946</td>\n",
       "      <td>0.846154</td>\n",
       "      <td>0.972973</td>\n",
       "      <td>0.769231</td>\n",
       "      <td>0.945946</td>\n",
       "      <td>0.769231</td>\n",
       "      <td>1.0</td>\n",
       "      <td>0.769231</td>\n",
       "      <td>1.0</td>\n",
       "      <td>0.692308</td>\n",
       "    </tr>\n",
       "    <tr>\n",
       "      <th>F</th>\n",
       "      <td>0.958904</td>\n",
       "      <td>0.916667</td>\n",
       "      <td>0.947368</td>\n",
       "      <td>0.869565</td>\n",
       "      <td>0.945946</td>\n",
       "      <td>0.869565</td>\n",
       "      <td>1.0</td>\n",
       "      <td>0.869565</td>\n",
       "      <td>1.0</td>\n",
       "      <td>0.818182</td>\n",
       "    </tr>\n",
       "  </tbody>\n",
       "</table>\n",
       "</div>"
      ],
      "text/plain": [
       "               5-nn           LogisticRegression                 SVM  \\\n",
       "              train      test              train      test     train   \n",
       "Accuracy   0.960000  0.920000           0.946667  0.880000  0.946667   \n",
       "Precision  0.972222  1.000000           0.923077  1.000000  0.945946   \n",
       "Recall     0.945946  0.846154           0.972973  0.769231  0.945946   \n",
       "F          0.958904  0.916667           0.947368  0.869565  0.945946   \n",
       "\n",
       "                    DecisionTree           RandomForest            \n",
       "               test        train      test        train      test  \n",
       "Accuracy   0.880000          1.0  0.880000          1.0  0.840000  \n",
       "Precision  1.000000          1.0  1.000000          1.0  1.000000  \n",
       "Recall     0.769231          1.0  0.769231          1.0  0.692308  \n",
       "F          0.869565          1.0  0.869565          1.0  0.818182  "
      ]
     },
     "execution_count": 60,
     "metadata": {},
     "output_type": "execute_result"
    }
   ],
   "source": [
    "index = results01.keys()\n",
    "columns = [['5-nn','5-nn', \n",
    "            'LogisticRegression', 'LogisticRegression', \n",
    "            'SVM', 'SVM', \n",
    "            'DecisionTree', 'DecisionTree', \n",
    "            'RandomForest', 'RandomForest'],\n",
    "           ['train', 'test', \n",
    "            'train', 'test', \n",
    "            'train', 'test', \n",
    "            'train', 'test', \n",
    "            'train', 'test']]\n",
    "\n",
    "results_ndarray2 = np.zeros([4, 10])\n",
    "results_ndarray2[:, 0] = np.array([i for i in results01.values()])\n",
    "results_ndarray2[:, 1] = np.array([i for i in results02.values()])\n",
    "results_ndarray2[:, 2] = np.array([i for i in results11.values()])\n",
    "results_ndarray2[:, 3] = np.array([i for i in results12.values()])\n",
    "results_ndarray2[:, 4] = np.array([i for i in results21.values()])\n",
    "results_ndarray2[:, 5] = np.array([i for i in results22.values()])\n",
    "results_ndarray2[:, 6] = np.array([i for i in results31.values()])\n",
    "results_ndarray2[:, 7] = np.array([i for i in results32.values()])\n",
    "results_ndarray2[:, 8] = np.array([i for i in results41.values()])\n",
    "results_ndarray2[:, 9] = np.array([i for i in results42.values()])\n",
    "\n",
    "pd.DataFrame(results_ndarray2, index=index, columns=columns)"
   ]
  },
  {
   "cell_type": "markdown",
   "metadata": {},
   "source": [
    "## 【問題10】（アドバンス課題）全ての目的変数を使用して精度が高い手法\n",
    "ここまではアヤメの種類を減らし2値分類を行ってきましたが、3種類全てを使った多値分類を行います。学習と推定、評価を行って、最も精度の高い手法を探してください。\n",
    "\n",
    "《多値になることでの変更点》\n",
    "\n",
    "指標値Precision（適合率）、Recall（再現率）、F値はライブラリのパラメータをデフォルトから変更する必要があります。マイクロ平均やマクロ平均という考え方を使います。\n",
    "\n",
    "決定領域を可視化する前述の関数は適切に書き換える必要があります。以下が出力例です。\n",
    "\n",
    "<img src=\"../../img/2.png\">"
   ]
  },
  {
   "cell_type": "markdown",
   "metadata": {},
   "source": [
    "ロジスティック回帰やSVMは2値分類を基本とした手法で、多値分類には工夫が必要ですが、scikit-learnでは自動的に判断して処理が行われるため変更は必要ありません。"
   ]
  },
  {
   "cell_type": "markdown",
   "metadata": {},
   "source": [
    "### 【結論】\n",
    "今回の実施内容では、最近傍法が最も精度が高かった。"
   ]
  },
  {
   "cell_type": "markdown",
   "metadata": {},
   "source": [
    "### データ用意"
   ]
  },
  {
   "cell_type": "code",
   "execution_count": 61,
   "metadata": {},
   "outputs": [
    {
     "data": {
      "text/html": [
       "<div>\n",
       "<style scoped>\n",
       "    .dataframe tbody tr th:only-of-type {\n",
       "        vertical-align: middle;\n",
       "    }\n",
       "\n",
       "    .dataframe tbody tr th {\n",
       "        vertical-align: top;\n",
       "    }\n",
       "\n",
       "    .dataframe thead th {\n",
       "        text-align: right;\n",
       "    }\n",
       "</style>\n",
       "<table border=\"1\" class=\"dataframe\">\n",
       "  <thead>\n",
       "    <tr style=\"text-align: right;\">\n",
       "      <th></th>\n",
       "      <th>sepal_length</th>\n",
       "      <th>petal_length</th>\n",
       "      <th>target</th>\n",
       "    </tr>\n",
       "  </thead>\n",
       "  <tbody>\n",
       "    <tr>\n",
       "      <th>0</th>\n",
       "      <td>5.1</td>\n",
       "      <td>1.4</td>\n",
       "      <td>0</td>\n",
       "    </tr>\n",
       "    <tr>\n",
       "      <th>1</th>\n",
       "      <td>4.9</td>\n",
       "      <td>1.4</td>\n",
       "      <td>0</td>\n",
       "    </tr>\n",
       "    <tr>\n",
       "      <th>2</th>\n",
       "      <td>4.7</td>\n",
       "      <td>1.3</td>\n",
       "      <td>0</td>\n",
       "    </tr>\n",
       "    <tr>\n",
       "      <th>3</th>\n",
       "      <td>4.6</td>\n",
       "      <td>1.5</td>\n",
       "      <td>0</td>\n",
       "    </tr>\n",
       "    <tr>\n",
       "      <th>4</th>\n",
       "      <td>5.0</td>\n",
       "      <td>1.4</td>\n",
       "      <td>0</td>\n",
       "    </tr>\n",
       "  </tbody>\n",
       "</table>\n",
       "</div>"
      ],
      "text/plain": [
       "   sepal_length  petal_length  target\n",
       "0           5.1           1.4       0\n",
       "1           4.9           1.4       0\n",
       "2           4.7           1.3       0\n",
       "3           4.6           1.5       0\n",
       "4           5.0           1.4       0"
      ]
     },
     "execution_count": 61,
     "metadata": {},
     "output_type": "execute_result"
    }
   ],
   "source": [
    "df3 = df.loc[:, ['sepal_length', 'petal_length', 'target']].copy()\n",
    "df3.head()"
   ]
  },
  {
   "cell_type": "code",
   "execution_count": 62,
   "metadata": {},
   "outputs": [],
   "source": [
    "X = df3.loc[:, ['sepal_length', 'petal_length']]\n",
    "y = df3.loc[:, 'target']\n",
    "X_train, X_test, y_train, y_test = train_test_split(X, y, test_size=0.25, random_state=0)"
   ]
  },
  {
   "cell_type": "markdown",
   "metadata": {},
   "source": [
    "### 最近傍法"
   ]
  },
  {
   "cell_type": "code",
   "execution_count": 63,
   "metadata": {},
   "outputs": [
    {
     "name": "stdout",
     "output_type": "stream",
     "text": [
      "トレーニングデータの精度\n",
      "               precision    recall  f1-score   support\n",
      "\n",
      "      setosa       1.00      1.00      1.00        37\n",
      "  virgicolor       0.94      0.91      0.93        34\n",
      "   virginica       0.93      0.95      0.94        41\n",
      "\n",
      "    accuracy                           0.96       112\n",
      "   macro avg       0.96      0.95      0.96       112\n",
      "weighted avg       0.96      0.96      0.96       112\n",
      "\n",
      "テストデータの精度\n",
      "               precision    recall  f1-score   support\n",
      "\n",
      "      setosa       1.00      1.00      1.00        13\n",
      "  virgicolor       1.00      0.94      0.97        16\n",
      "   virginica       0.90      1.00      0.95         9\n",
      "\n",
      "    accuracy                           0.97        38\n",
      "   macro avg       0.97      0.98      0.97        38\n",
      "weighted avg       0.98      0.97      0.97        38\n",
      "\n"
     ]
    },
    {
     "data": {
      "image/png": "[encoded data removed]",
      "text/plain": [
       "<Figure size 360x216 with 1 Axes>"
      ]
     },
     "metadata": {
      "needs_background": "light"
     },
     "output_type": "display_data"
    },
    {
     "data": {
      "image/png": "[encoded data removed]",
      "text/plain": [
       "<Figure size 432x288 with 1 Axes>"
      ]
     },
     "metadata": {
      "needs_background": "light"
     },
     "output_type": "display_data"
    }
   ],
   "source": [
    "neigh5 = KNeighborsClassifier()\n",
    "neigh5.fit(X_train, y_train)\n",
    "\n",
    "y_pred5 = neigh5.predict(X_test)\n",
    "y_pred5_train = neigh5.predict(X_train)\n",
    "\n",
    "# 5-nn 評価\n",
    "target_names = ['setosa', 'virgicolor', 'virginica']\n",
    "a = classification_report(y_train, y_pred5_train, target_names=target_names)\n",
    "b = classification_report(y_test, y_pred5, target_names=target_names)\n",
    "print('トレーニングデータの精度\\n', a)\n",
    "print('テストデータの精度\\n', b)\n",
    "\n",
    "# 混同行列\n",
    "cf5 = confusion_matrix(y_test, y_pred5)\n",
    "cfdf5 = pd.DataFrame(cf5, index=[0, 1, 2], columns=[0, 1, 2])\n",
    "cf_matrix(cfdf5)\n",
    "\n",
    "# 可視化\n",
    "decision_region(np.array(X_test), y_test, neigh5, n_class=3, target_names=target_names)"
   ]
  },
  {
   "cell_type": "markdown",
   "metadata": {},
   "source": [
    "### ロジスティック回帰"
   ]
  },
  {
   "cell_type": "code",
   "execution_count": 64,
   "metadata": {},
   "outputs": [
    {
     "name": "stdout",
     "output_type": "stream",
     "text": [
      "トレーニングデータの精度\n",
      "               precision    recall  f1-score   support\n",
      "\n",
      "      setosa       1.00      1.00      1.00        37\n",
      "  virgicolor       0.97      0.91      0.94        34\n",
      "   virginica       0.93      0.98      0.95        41\n",
      "\n",
      "    accuracy                           0.96       112\n",
      "   macro avg       0.97      0.96      0.96       112\n",
      "weighted avg       0.96      0.96      0.96       112\n",
      "\n",
      "テストデータの精度\n",
      "               precision    recall  f1-score   support\n",
      "\n",
      "      setosa       1.00      1.00      1.00        13\n",
      "  virgicolor       0.94      0.94      0.94        16\n",
      "   virginica       0.89      0.89      0.89         9\n",
      "\n",
      "    accuracy                           0.95        38\n",
      "   macro avg       0.94      0.94      0.94        38\n",
      "weighted avg       0.95      0.95      0.95        38\n",
      "\n"
     ]
    },
    {
     "data": {
      "image/png": "[encoded data removed]",
      "text/plain": [
       "<Figure size 360x216 with 1 Axes>"
      ]
     },
     "metadata": {
      "needs_background": "light"
     },
     "output_type": "display_data"
    },
    {
     "data": {
      "image/png": "[encoded data removed]",
      "text/plain": [
       "<Figure size 432x288 with 1 Axes>"
      ]
     },
     "metadata": {
      "needs_background": "light"
     },
     "output_type": "display_data"
    }
   ],
   "source": [
    "# ロジスティック回帰クラスを初期化\n",
    "model1 = LogisticRegression()\n",
    "\n",
    "# トレーニングデータで学習\n",
    "model1.fit(X_train, y_train)\n",
    "\n",
    "# 予測\n",
    "y_pred1 = model1.predict(X_test)\n",
    "y_pred1_train = model1.predict(X_train)\n",
    "\n",
    "# # 評価\n",
    "target_names = ['setosa', 'virgicolor', 'virginica']\n",
    "a = classification_report(y_train, y_pred1_train, target_names=target_names)\n",
    "b = classification_report(y_test, y_pred1, target_names=target_names)\n",
    "print('トレーニングデータの精度\\n', a)\n",
    "print('テストデータの精度\\n', b)\n",
    "\n",
    "# 混同行列\n",
    "cf1 = confusion_matrix(y_test, y_pred1)\n",
    "cfdf1 = pd.DataFrame(cf1, index=[0, 1, 2], columns=[0, 1, 2])\n",
    "cf_matrix(cfdf1)\n",
    "\n",
    "# 可視化\n",
    "decision_region(np.array(X_test), y_test, model1, n_class=3, target_names=target_names)"
   ]
  },
  {
   "cell_type": "markdown",
   "metadata": {},
   "source": [
    "### サポートベクターマシン"
   ]
  },
  {
   "cell_type": "code",
   "execution_count": 65,
   "metadata": {},
   "outputs": [
    {
     "name": "stdout",
     "output_type": "stream",
     "text": [
      "トレーニングデータの精度\n",
      "               precision    recall  f1-score   support\n",
      "\n",
      "      setosa       1.00      1.00      1.00        37\n",
      "  virgicolor       1.00      0.88      0.94        34\n",
      "   virginica       0.91      1.00      0.95        41\n",
      "\n",
      "    accuracy                           0.96       112\n",
      "   macro avg       0.97      0.96      0.96       112\n",
      "weighted avg       0.97      0.96      0.96       112\n",
      "\n",
      "テストデータの精度\n",
      "               precision    recall  f1-score   support\n",
      "\n",
      "      setosa       1.00      1.00      1.00        13\n",
      "  virgicolor       1.00      0.62      0.77        16\n",
      "   virginica       0.60      1.00      0.75         9\n",
      "\n",
      "    accuracy                           0.84        38\n",
      "   macro avg       0.87      0.88      0.84        38\n",
      "weighted avg       0.91      0.84      0.84        38\n",
      "\n"
     ]
    },
    {
     "name": "stderr",
     "output_type": "stream",
     "text": [
      "/opt/anaconda3/lib/python3.7/site-packages/sklearn/svm/_base.py:947: ConvergenceWarning: Liblinear failed to converge, increase the number of iterations.\n",
      "  \"the number of iterations.\", ConvergenceWarning)\n"
     ]
    },
    {
     "data": {
      "image/png": "[encoded data removed]",
      "text/plain": [
       "<Figure size 360x216 with 1 Axes>"
      ]
     },
     "metadata": {
      "needs_background": "light"
     },
     "output_type": "display_data"
    },
    {
     "data": {
      "image/png": "[encoded data removed]",
      "text/plain": [
       "<Figure size 432x288 with 1 Axes>"
      ]
     },
     "metadata": {
      "needs_background": "light"
     },
     "output_type": "display_data"
    }
   ],
   "source": [
    "# SVMクラスの初期化\n",
    "model2 = LinearSVC()\n",
    "\n",
    "# トレーニングデータで学習\n",
    "model2.fit(X_train, y_train)\n",
    "\n",
    "# 予測\n",
    "y_pred2 = model2.predict(X_test)\n",
    "y_pred2_train = model2.predict(X_train)\n",
    "\n",
    "# 評価\n",
    "target_names = ['setosa', 'virgicolor', 'virginica']\n",
    "a = classification_report(y_train, y_pred2_train, target_names=target_names)\n",
    "b = classification_report(y_test, y_pred2, target_names=target_names)\n",
    "print('トレーニングデータの精度\\n', a)\n",
    "print('テストデータの精度\\n', b)\n",
    "\n",
    "# 混同行列\n",
    "cf2 = confusion_matrix(y_test, y_pred2)\n",
    "cfdf2 = pd.DataFrame(cf2, index=[0, 1, 2], columns=[0, 1, 2])\n",
    "cf_matrix(cfdf2)\n",
    "\n",
    "# 可視化\n",
    "decision_region(np.array(X_test), y_test, model2, n_class=3, target_names=target_names)"
   ]
  },
  {
   "cell_type": "markdown",
   "metadata": {},
   "source": [
    "### 決定木"
   ]
  },
  {
   "cell_type": "code",
   "execution_count": 66,
   "metadata": {},
   "outputs": [
    {
     "name": "stdout",
     "output_type": "stream",
     "text": [
      "トレーニングデータの精度\n",
      "               precision    recall  f1-score   support\n",
      "\n",
      "      setosa       1.00      1.00      1.00        37\n",
      "  virgicolor       0.97      1.00      0.99        34\n",
      "   virginica       1.00      0.98      0.99        41\n",
      "\n",
      "    accuracy                           0.99       112\n",
      "   macro avg       0.99      0.99      0.99       112\n",
      "weighted avg       0.99      0.99      0.99       112\n",
      "\n",
      "テストデータの精度\n",
      "               precision    recall  f1-score   support\n",
      "\n",
      "      setosa       1.00      1.00      1.00        13\n",
      "  virgicolor       0.88      0.88      0.88        16\n",
      "   virginica       0.78      0.78      0.78         9\n",
      "\n",
      "    accuracy                           0.89        38\n",
      "   macro avg       0.88      0.88      0.88        38\n",
      "weighted avg       0.89      0.89      0.89        38\n",
      "\n"
     ]
    },
    {
     "data": {
      "image/png": "[encoded data removed]",
      "text/plain": [
       "<Figure size 360x216 with 1 Axes>"
      ]
     },
     "metadata": {
      "needs_background": "light"
     },
     "output_type": "display_data"
    },
    {
     "data": {
      "image/png": "[encoded data removed]",
      "text/plain": [
       "<Figure size 432x288 with 1 Axes>"
      ]
     },
     "metadata": {
      "needs_background": "light"
     },
     "output_type": "display_data"
    }
   ],
   "source": [
    "# 決定木クラスの初期化\n",
    "model3 = DecisionTreeClassifier()\n",
    "\n",
    "# 学習\n",
    "model3.fit(X_train, y_train)\n",
    "\n",
    "# 予測\n",
    "y_pred3 = model3.predict(X_test)\n",
    "y_pred3_train = model3.predict(X_train)\n",
    "\n",
    "# 評価\n",
    "target_names = ['setosa', 'virgicolor', 'virginica']\n",
    "a = classification_report(y_train, y_pred3_train, target_names=target_names)\n",
    "b = classification_report(y_test, y_pred3, target_names=target_names)\n",
    "print('トレーニングデータの精度\\n', a)\n",
    "print('テストデータの精度\\n', b)\n",
    "\n",
    "# 混同行列\n",
    "cf3 = confusion_matrix(y_test, y_pred3)\n",
    "cfdf3 = pd.DataFrame(cf3, index=[0, 1, 2], columns=[0, 1, 2])\n",
    "cf_matrix(cfdf3)\n",
    "\n",
    "# 可視化\n",
    "decision_region(np.array(X_test), y_test, model3, n_class=3, target_names=target_names)"
   ]
  },
  {
   "cell_type": "markdown",
   "metadata": {},
   "source": [
    "### ランダムフォレスト"
   ]
  },
  {
   "cell_type": "code",
   "execution_count": 67,
   "metadata": {},
   "outputs": [
    {
     "name": "stdout",
     "output_type": "stream",
     "text": [
      "トレーニングデータの精度\n",
      "               precision    recall  f1-score   support\n",
      "\n",
      "      setosa       1.00      1.00      1.00        37\n",
      "  virgicolor       0.97      1.00      0.99        34\n",
      "   virginica       1.00      0.98      0.99        41\n",
      "\n",
      "    accuracy                           0.99       112\n",
      "   macro avg       0.99      0.99      0.99       112\n",
      "weighted avg       0.99      0.99      0.99       112\n",
      "\n",
      "テストデータの精度\n",
      "               precision    recall  f1-score   support\n",
      "\n",
      "      setosa       1.00      1.00      1.00        13\n",
      "  virgicolor       0.94      0.94      0.94        16\n",
      "   virginica       0.89      0.89      0.89         9\n",
      "\n",
      "    accuracy                           0.95        38\n",
      "   macro avg       0.94      0.94      0.94        38\n",
      "weighted avg       0.95      0.95      0.95        38\n",
      "\n"
     ]
    },
    {
     "data": {
      "image/png": "[encoded data removed]",
      "text/plain": [
       "<Figure size 360x216 with 1 Axes>"
      ]
     },
     "metadata": {
      "needs_background": "light"
     },
     "output_type": "display_data"
    },
    {
     "data": {
      "image/png": "[encoded data removed]",
      "text/plain": [
       "<Figure size 432x288 with 1 Axes>"
      ]
     },
     "metadata": {
      "needs_background": "light"
     },
     "output_type": "display_data"
    }
   ],
   "source": [
    "# ランダムフォレストクラスの初期化\n",
    "model4 = RandomForestClassifier()\n",
    "\n",
    "# 学習\n",
    "model4.fit(X_train, y_train)\n",
    "\n",
    "# 予測\n",
    "y_pred4 = model4.predict(X_test)\n",
    "y_pred4_train = model4.predict(X_train)\n",
    "\n",
    "# 評価\n",
    "target_names = ['setosa', 'virgicolor', 'virginica']\n",
    "a = classification_report(y_train, y_pred4_train, target_names=target_names)\n",
    "b = classification_report(y_test, y_pred4, target_names=target_names)\n",
    "print('トレーニングデータの精度\\n', a)\n",
    "print('テストデータの精度\\n', b)\n",
    "\n",
    "# 混同行列\n",
    "cf4 = confusion_matrix(y_test, y_pred4)\n",
    "cfdf4 = pd.DataFrame(cf4, index=[0, 1, 2], columns=[0, 1, 2])\n",
    "cf_matrix(cfdf4)\n",
    "\n",
    "# 可視化\n",
    "decision_region(np.array(X_test), y_test, model4, n_class=3, target_names=target_names)"
   ]
  }
 ],
 "metadata": {
  "kernelspec": {
   "display_name": "Python 3",
   "language": "python",
   "name": "python3"
  },
  "language_info": {
   "codemirror_mode": {
    "name": "ipython",
    "version": 3
   },
   "file_extension": ".py",
   "mimetype": "text/x-python",
   "name": "python",
   "nbconvert_exporter": "python",
   "pygments_lexer": "ipython3",
   "version": "3.7.6"
  }
 },
 "nbformat": 4,
 "nbformat_minor": 4
}
