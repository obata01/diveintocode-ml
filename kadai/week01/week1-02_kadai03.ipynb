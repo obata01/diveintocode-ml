{
 "cells": [
  {
   "cell_type": "markdown",
   "metadata": {},
   "source": [
    "## 2.栗まんじゅう問題\n",
    "\n",
    "漫画ドラえもんには「バイバイン」という道具が登場する、2のn乗に関する有名なエピソード[1]があります。\n",
    "\n",
    "\n",
    "[1] 藤子・Ｆ・不二雄(1979)『ドラえもん（１７）』小学館.\n",
    "\n",
    "\n",
    "「バイバイン」は薬品で、これを振掛けるとその物体は5分ごとに倍に増えるという働きがあります。作中では栗まんじゅうを増やしますが、食べきれなくなったためロケットを使い宇宙に捨てました。\n",
    "\n",
    "\n",
    "ここで度々話題になるのが、栗まんじゅうはその後宇宙でどのように増えていくのかについてです。様々な議論がされていますが、今回は単純に栗まんじゅうの体積がどう増えるかを計算してみましょう。\n"
   ]
  },
  {
   "cell_type": "markdown",
   "metadata": {},
   "source": [
    "## 【問題】栗まんじゅうが太陽系を覆う日\n",
    "1個の栗まんじゅうにバイバインを振りかけた場合、太陽系が栗まんじゅうで覆われるのは何分後でしょうか。これを計算するプログラムを作成してください。\n",
    "\n",
    "\n",
    "栗まんじゅうや太陽系の体積を調査した上で仮定して計算してください。栗まんじゅうの隙間や重力などは考えず、問題を単純化して構いません。\n",
    "\n",
    "\n",
    "ボールにバイバインを振りかけた時、東京ドームが一杯になる時間など他の状況にも適用できるような汎用的なプログラムを作成してください。また、グラフを表示するなど分かりやすいノートブックを作成してください。"
   ]
  },
  {
   "cell_type": "markdown",
   "metadata": {},
   "source": [
    "## 太陽系の体積計算に使用したデータの出所\n",
    "\n",
    "<a href=\"https://readyfor.jp/projects/starry/announcements/101675\" target=\"_blank\" style=\"text-decoration: none\">【宇宙の単位②】太陽系内の距離感は？「天文単位」について！  READYFORサイトより</a>\n",
    "\n",
    ">１天文単位 = 1AU = 約1億5000万km<br>\n",
    ">この天文単位を使って太陽から太陽系内の各惑星までの距離を見てみましょう。<br>\n",
    ">太陽から水星まで………0.3871AU<br>\n",
    ">太陽から金星まで………0.7233AU<br>\n",
    ">太陽から地球まで………1.0000AU<br>\n",
    ">太陽から火星まで………1.5237AU<br>\n",
    ">太陽から木星まで………5.2026AU<br>\n",
    ">太陽から土星まで………9.5549AU<br>\n",
    ">太陽から天王星まで………19.2184AU<br>\n",
    ">太陽から海王星まで………30.1104AU<br>"
   ]
  },
  {
   "cell_type": "code",
   "execution_count": 1,
   "metadata": {},
   "outputs": [],
   "source": [
    "# ライブラリのインポート\n",
    "import numpy as np\n",
    "import matplotlib.pyplot as plt\n",
    "%matplotlib inline"
   ]
  },
  {
   "cell_type": "code",
   "execution_count": 2,
   "metadata": {},
   "outputs": [],
   "source": [
    "# 栗まんじゅうの体積（底辺5cm,高さ3cmの円柱形と仮定）\n",
    "MANJUU_CM = (5/2)**2 * np.pi * 3      # 単位cm\n",
    "MANJUU_KM = MANJUU_CM / (100*1000)**3 # 単位km\n",
    "\n",
    "# 太陽系の体積（太陽から海王星までの距離を半径とする球体と仮定）\n",
    "AU = 150000000   # 1天文単位 = 1AU = 約1億5000万km\n",
    "SOLAR_SYSTEM_R = 30.1104 * AU   # 太陽から海王星までの半径（30.1104AU）\n",
    "SOLAR_SYSTEM_V = (4/3) * np.pi * SOLAR_SYSTEM_R**3\n",
    "  "
   ]
  },
  {
   "cell_type": "code",
   "execution_count": 3,
   "metadata": {},
   "outputs": [
    {
     "name": "stdout",
     "output_type": "stream",
     "text": [
      "太陽系が栗まんじゅうに覆われるまでの時間：715分\n"
     ]
    }
   ],
   "source": [
    "\"\"\"\n",
    "パターン1 whileを使用\n",
    "\"\"\"\n",
    "\n",
    "def baibain(vol_1, vol_2):\n",
    "    \"\"\"\n",
    "    volume_1の体積が5分後に2倍になるとき、\n",
    "    volume_2の体積を超えるまでに要する時間(分)を計算する関数\n",
    "\n",
    "    Parameters\n",
    "    ---------------\n",
    "    vol_1 : float\n",
    "        倍増させる体積\n",
    "    vol_2 : float\n",
    "        上限とする体積\n",
    "    \n",
    "    Returns\n",
    "    ---------------\n",
    "    after_time : int\n",
    "        volume_1がvolume_2を超すまでの時間(分)\n",
    "    vol_change : list\n",
    "        volume_1の体積の推移\n",
    "    \"\"\"\n",
    "    \n",
    "    # 変数\n",
    "    vol_change = [vol_1]\n",
    "    count = 0\n",
    "    \n",
    "    while vol_1 < vol_2:\n",
    "        vol_1 *= 2\n",
    "        vol_change.append(vol_1)\n",
    "        count += 1\n",
    "    after_time = count * 5\n",
    "        \n",
    "    return after_time, vol_change\n",
    "\n",
    "\n",
    "time, vol_list = baibain(MANJUU_KM, SOLAR_SYSTEM_V)\n",
    "print(\"太陽系が栗まんじゅうに覆われるまでの時間：{}分\".format(time))\n",
    "   "
   ]
  },
  {
   "cell_type": "code",
   "execution_count": 4,
   "metadata": {},
   "outputs": [
    {
     "name": "stdout",
     "output_type": "stream",
     "text": [
      "[FATAL] 異常終了しました。\n",
      "[FATAL] ループ上限数に達したため入力値か変数ROOPを見直してください。\n",
      "<class 'Exception'>\n",
      "太陽系が栗まんじゅうに覆われるまでの時間：500分\n"
     ]
    }
   ],
   "source": [
    "\"\"\"\n",
    "パターン2 forを使用\n",
    "　・ループ回数が未確定のため、上限値を設定（変数：ROOP）\n",
    "　・ループ上限に達したら例外を送出（処理自体は中断しない）\n",
    " ※異常終了する状態で提出しております。\n",
    "\"\"\"\n",
    "\n",
    "def baibain_2(vol_1, vol_2):\n",
    "    vol_change = [vol_1]\n",
    "    count = 0\n",
    "    ROOP = 100\n",
    "    \n",
    "    try:\n",
    "        for i in range(ROOP):\n",
    "            # 栗まんじゅうが太陽系を超えたらbreak\n",
    "            if vol_1 > vol_2:\n",
    "                break\n",
    "                \n",
    "            # 栗まんじゅうが太陽系を超えない間は体積を2倍\n",
    "            else:\n",
    "                vol_1 *= 2\n",
    "                count += 1\n",
    "                vol_change.append(vol_1)\n",
    "                \n",
    "            # ループ上限を超えたら例外を送出\n",
    "            if i == ROOP-1 and vol_1 <= vol_2:\n",
    "                    raise Exception\n",
    "        pass\n",
    "    except Exception as e:\n",
    "        print('[FATAL] 異常終了しました。')\n",
    "        print('[FATAL] ループ上限数に達したため入力値か変数ROOPを見直してください。')\n",
    "        print(type(e))\n",
    "        \n",
    "    else:\n",
    "        print('[INFO] 正常終了しました。')\n",
    "    \n",
    "    after_time = count * 5   # countから時間を算出\n",
    "    return after_time, vol_change\n",
    "\n",
    "time2, vol_list2 = baibain_2(MANJUU_KM, SOLAR_SYSTEM_V)\n",
    "print(\"太陽系が栗まんじゅうに覆われるまでの時間：{}分\".format(time2))"
   ]
  },
  {
   "cell_type": "code",
   "execution_count": 5,
   "metadata": {
    "scrolled": true
   },
   "outputs": [
    {
     "data": {
      "image/png": "[encoded data removed]",
      "text/plain": [
       "<Figure size 576x360 with 1 Axes>"
      ]
     },
     "metadata": {
      "needs_background": "light"
     },
     "output_type": "display_data"
    }
   ],
   "source": [
    "# 栗まんじゅうの体積推移をグラフ化\n",
    "plt.figure(figsize=(8, 5))\n",
    "plt.plot(np.arange(0, len(vol_list)*5, 5), vol_list, label='Manjuu volume')\n",
    "plt.title(\"Time to cover the solar system\")\n",
    "plt.xlabel(\"Time\")\n",
    "plt.ylabel(\"Volume\")\n",
    "\n",
    "plt.hlines([SOLAR_SYSTEM_V], 0, time, linestyle=\"dashed\", alpha=0.7, label='Solar system volume')\n",
    "\n",
    "plt.legend(loc='best')\n",
    "\n",
    "plt.grid(True, linewidth=1.0, alpha=0.4)\n",
    "plt.show()"
   ]
  },
  {
   "cell_type": "code",
   "execution_count": null,
   "metadata": {},
   "outputs": [],
   "source": []
  }
 ],
 "metadata": {
  "kernelspec": {
   "display_name": "Python 3",
   "language": "python",
   "name": "python3"
  },
  "language_info": {
   "codemirror_mode": {
    "name": "ipython",
    "version": 3
   },
   "file_extension": ".py",
   "mimetype": "text/x-python",
   "name": "python",
   "nbconvert_exporter": "python",
   "pygments_lexer": "ipython3",
   "version": "3.7.1"
  }
 },
 "nbformat": 4,
 "nbformat_minor": 2
}
