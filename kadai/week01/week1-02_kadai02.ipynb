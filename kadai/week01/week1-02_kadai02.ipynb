{
 "cells": [
  {
   "cell_type": "markdown",
   "metadata": {},
   "source": [
    "## 2.何回折ったら富士山を超えるか問題\n",
    "\n",
    "「Pythonを使ってみよう」の問題では「1枚の紙を43回折り曲げた時の厚さを計算するプログラム」を作成し、43回折ることで月に届くことが確認できました。\n",
    "\n",
    "\n",
    "ここで「何回折ったらある厚さになるのか」という疑問が生まれます。こういったことを計算するプログラムを作成していきましょう。"
   ]
  },
  {
   "cell_type": "markdown",
   "metadata": {},
   "source": [
    "## 紙を折った時の厚さの数式\n",
    "授業前課題と同様ですが確認しておきます。\n",
    "\n",
    "\n",
    "n回折った紙の厚さは以下のように表せます。"
   ]
  },
  {
   "cell_type": "markdown",
   "metadata": {},
   "source": [
    "$$\n",
    "  t_n = t_0 * 2^n\n",
    "$$\n",
    "折る前の紙の厚さは0.00008mとします。一般的なコピー用紙の厚さです。"
   ]
  },
  {
   "cell_type": "markdown",
   "metadata": {},
   "source": [
    "## 【問題1】富士山を超える最小の折る回数\n",
    "厚さが「富士山(3776m)」を超えるのは何回紙を折った時か計算するプログラムを作成してください。"
   ]
  },
  {
   "cell_type": "code",
   "execution_count": 1,
   "metadata": {},
   "outputs": [
    {
     "name": "stdout",
     "output_type": "stream",
     "text": [
      "折り曲げ回数：26回\n"
     ]
    }
   ],
   "source": [
    "import math\n",
    "import numpy as np\n",
    "import sys\n",
    "\n",
    "THICKNESS = 0.00008  # 折る前の紙の厚さ(単位：m)\n",
    "MT_FUJI = 3776  # 富士山の高さ(単位：m)\n",
    "\n",
    "def calc_fold_count(height, thickness):  ## 入力(高さ(距離), 折る前の紙の厚さ)　出力(折った回数)\n",
    "    fold_thickness = thickness  # 折った後の紙の厚さ\n",
    "    count = 0  # 折った回数をカウント\n",
    "    \n",
    "    # パターン1（whileを使うタイプ）\n",
    "    while fold_thickness < height:\n",
    "        fold_thickness *= 2\n",
    "        count += 1   \n",
    "    return count  \n",
    "    \n",
    "#     # パターン2（forを使うタイプ）\n",
    "#     # ただし、最初に指定する繰り返し回数が不明のため、上限値=100で実行する。100を超える場合はエラーを出力する。\n",
    "#     LOOP = 100\n",
    "#     for i in range(LOOP):\n",
    "#         if fold_thickness > height:\n",
    "#             break\n",
    "#         else:\n",
    "#             fold_thickness *= 2\n",
    "#             count += 1\n",
    "#         if i == LOOP-1 and fold_thickness <= height:\n",
    "#             print(\"[FATAL]繰り返し上限の{}回を超えました。\".format(LOOP))\n",
    "#             sys.exit(1)\n",
    "#     return count\n",
    "\n",
    "    \n",
    "#     # パターン3（計算式だけで済ませるタイプ）\n",
    "#     count = np.ceil(np.log2(height / thickness)) \n",
    "#     return count\n",
    "    \n",
    "print(\"折り曲げ回数：{}回\".format(calc_fold_count(MT_FUJI, THICKNESS)))"
   ]
  },
  {
   "cell_type": "markdown",
   "metadata": {},
   "source": [
    "## 【問題2】任意の厚さに対応した関数を作成\n",
    "距離を入力すると、何回折った時に超えるかを出力する関数を作成してください。引数として、折る前の厚さ \n",
    "t\n",
    "0\n",
    " も設定できるようにしましょう。\n",
    "\n",
    "\n",
    "この関数を利用して、「最も近い太陽以外の恒星」に到達するには紙を何回折る必要があるか計算してください。「最も近い太陽以外の恒星」の距離は調査してください。"
   ]
  },
  {
   "cell_type": "markdown",
   "metadata": {},
   "source": [
    "## 「最も近い太陽以外の恒星」に関するデータの出所\n",
    "\n",
    "<a href=\"https://ja.wikipedia.org/wiki/%E6%9C%80%E3%82%82%E8%BF%91%E3%81%84%E3%83%BB%E9%81%A0%E3%81%84%E5%A4%A9%E4%BD%93%E3%81%AE%E4%B8%80%E8%A6%A7\" target=\"blank\" style=\"text-decoration: none\">最も近い・遠い天体の一覧\n",
    "出典: フリー百科事典『ウィキペディア（Wikipedia）』より</a>\n",
    "\n",
    "> 地球に最も近い太陽以外の恒星\tプロキシマ・ケンタウリ\t4.243光年\n",
    "\n",
    "<a href=\"https://ja.wikipedia.org/wiki/%E5%85%89%E5%B9%B4\" target=\"blank\" style=\"text-decoration: none\">光年 出典: フリー百科事典『ウィキペディア（Wikipedia）』より</a>\n",
    "> 光年の換算<br>\n",
    "1 光年<br>\n",
    "= 9 460 730 472 580 800 m<br>\n",
    "= 9 460 730 472 580.8 km<br>\n",
    "= 約 63 241.077 084 au（天文単位）<br>\n",
    "= 約 0.306 601 pc（パーセク）<br>\n",
    "\n",
    "上記より、1光年＝約9.461 * 10の12乗(km)"
   ]
  },
  {
   "cell_type": "code",
   "execution_count": 2,
   "metadata": {},
   "outputs": [
    {
     "name": "stdout",
     "output_type": "stream",
     "text": [
      "最も近い太陽以外の恒星に到達するための紙を折る回数：69回\n"
     ]
    }
   ],
   "source": [
    "# 問題1で既に関数化してしまっていたため、calc_num_of_folds()を再利用する\n",
    "\n",
    "LIGHT_YEAR = (9.461 * 10**12) * 1000 # 1光年の距離(m)\n",
    "STELLAR_DISTANCE = 4.243 * LIGHT_YEAR        # 恒星までの距離：プロキシマ・ケンタウリ 4.243光年\n",
    "THICKNESS = 0.00008  # 折る前の紙の厚さ(単位：m)\n",
    "\n",
    "print(\"最も近い太陽以外の恒星に到達するための紙を折る回数：{}回\".format(calc_fold_count(STELLAR_DISTANCE, THICKNESS)))\n"
   ]
  },
  {
   "cell_type": "markdown",
   "metadata": {},
   "source": [
    "## 【問題3】必要な紙の長さ\n",
    "実際のところ身近にある紙は43回はおろか10回も折れません。しかし、大きな紙ほどたくさん折ることができ、トイレットペーパーのような長い紙を一方向に折ることを考えた時の折れる回数を求める公式が存在します。\n",
    "\n",
    "\n",
    "厚さt_0 の紙をn回折るために必要な紙の長さLは以下の公式で求まります。\n",
    "\n",
    "$$\n",
    "  L = \\frac{\\pi t_0}{6} (2^n + 4)(2^n - 1)\n",
    "$$\n",
    "\n",
    "この公式を利用して、実際に紙を折り任意の厚さに到達するために必要な紙の長さを求める関数を作成してください。\n",
    "そしてこれを使って「月」「富士山」「最も近い太陽以外の恒星」に届くために必要な紙の長さを求めてください。"
   ]
  },
  {
   "cell_type": "code",
   "execution_count": 3,
   "metadata": {},
   "outputs": [],
   "source": [
    "# 計算式を関数化\n",
    "def calc_paper_length(fold_count, thickness):\n",
    "    paper_length = (np.pi*thickness/6) * (2**fold_count+4) * (2**fold_count-1)\n",
    "    return paper_length\n"
   ]
  },
  {
   "cell_type": "code",
   "execution_count": 4,
   "metadata": {},
   "outputs": [
    {
     "name": "stdout",
     "output_type": "stream",
     "text": [
      "「月」に届くために必要な紙の長さ：3.240919444170781e+21m\n",
      "「富士山」に届くために必要な紙の長さ：188,646,348,487.24017m\n",
      "「最も近い太陽以外の恒星」に届くために必要な紙の長さ：1.4595803601100348e+37m\n"
     ]
    }
   ],
   "source": [
    "# 「月」に届くために必要な紙の長さ\n",
    "MOON_DISTANCE = 384400 * 1000  # 月までの距離(単位：m)\n",
    "length_a = calc_paper_length(calc_fold_count(MOON_DISTANCE, THICKNESS), THICKNESS)\n",
    "print(\"「月」に届くために必要な紙の長さ：{:,}m\".format(length_a))\n",
    "\n",
    "# 「富士山」に届くために必要な紙の長さ\n",
    "length_b = calc_paper_length(calc_fold_count(MT_FUJI, THICKNESS), THICKNESS)\n",
    "print(\"「富士山」に届くために必要な紙の長さ：{:,}m\".format(length_b))\n",
    "\n",
    "# 「最も近い太陽以外の恒星」に届くために必要な紙の長さ\n",
    "length_c = calc_paper_length(calc_fold_count(STELLAR_DISTANCE, THICKNESS), THICKNESS)\n",
    "print(\"「最も近い太陽以外の恒星」に届くために必要な紙の長さ：{:,}m\".format(length_c))\n"
   ]
  }
 ],
 "metadata": {
  "kernelspec": {
   "display_name": "Python 3",
   "language": "python",
   "name": "python3"
  },
  "language_info": {
   "codemirror_mode": {
    "name": "ipython",
    "version": 3
   },
   "file_extension": ".py",
   "mimetype": "text/x-python",
   "name": "python",
   "nbconvert_exporter": "python",
   "pygments_lexer": "ipython3",
   "version": "3.7.1"
  }
 },
 "nbformat": 4,
 "nbformat_minor": 2
}
